{
 "cells": [
  {
   "cell_type": "markdown",
   "metadata": {},
   "source": [
    "# Capstone Project 2 - 주식 가격 가져오기"
   ]
  },
  {
   "cell_type": "code",
   "execution_count": 1,
   "metadata": {},
   "outputs": [],
   "source": [
    "import pandas as pd\n",
    "import numpy as np\n",
    "import matplotlib.pyplot as plt\n",
    "import pandas_datareader as data_reader"
   ]
  },
  {
   "cell_type": "markdown",
   "metadata": {},
   "source": [
    "## 삼성전자 주식 가격"
   ]
  },
  {
   "cell_type": "code",
   "execution_count": 2,
   "metadata": {},
   "outputs": [
    {
     "data": {
      "text/html": [
       "<div>\n",
       "<style scoped>\n",
       "    .dataframe tbody tr th:only-of-type {\n",
       "        vertical-align: middle;\n",
       "    }\n",
       "\n",
       "    .dataframe tbody tr th {\n",
       "        vertical-align: top;\n",
       "    }\n",
       "\n",
       "    .dataframe thead th {\n",
       "        text-align: right;\n",
       "    }\n",
       "</style>\n",
       "<table border=\"1\" class=\"dataframe\">\n",
       "  <thead>\n",
       "    <tr style=\"text-align: right;\">\n",
       "      <th></th>\n",
       "      <th>High</th>\n",
       "      <th>Low</th>\n",
       "      <th>Open</th>\n",
       "      <th>Close</th>\n",
       "      <th>Volume</th>\n",
       "      <th>Adj Close</th>\n",
       "    </tr>\n",
       "    <tr>\n",
       "      <th>Date</th>\n",
       "      <th></th>\n",
       "      <th></th>\n",
       "      <th></th>\n",
       "      <th></th>\n",
       "      <th></th>\n",
       "      <th></th>\n",
       "    </tr>\n",
       "  </thead>\n",
       "  <tbody>\n",
       "    <tr>\n",
       "      <th>2017-05-11</th>\n",
       "      <td>46180.0</td>\n",
       "      <td>45220.0</td>\n",
       "      <td>45420.0</td>\n",
       "      <td>45500.0</td>\n",
       "      <td>21277850.0</td>\n",
       "      <td>39413.785156</td>\n",
       "    </tr>\n",
       "    <tr>\n",
       "      <th>2017-05-12</th>\n",
       "      <td>46160.0</td>\n",
       "      <td>45660.0</td>\n",
       "      <td>45760.0</td>\n",
       "      <td>45820.0</td>\n",
       "      <td>9422900.0</td>\n",
       "      <td>39690.976562</td>\n",
       "    </tr>\n",
       "    <tr>\n",
       "      <th>2017-05-15</th>\n",
       "      <td>46280.0</td>\n",
       "      <td>45620.0</td>\n",
       "      <td>45620.0</td>\n",
       "      <td>46100.0</td>\n",
       "      <td>8001400.0</td>\n",
       "      <td>39933.539062</td>\n",
       "    </tr>\n",
       "    <tr>\n",
       "      <th>2017-05-16</th>\n",
       "      <td>46800.0</td>\n",
       "      <td>46100.0</td>\n",
       "      <td>46660.0</td>\n",
       "      <td>46380.0</td>\n",
       "      <td>8803750.0</td>\n",
       "      <td>40176.070312</td>\n",
       "    </tr>\n",
       "    <tr>\n",
       "      <th>2017-05-17</th>\n",
       "      <td>46640.0</td>\n",
       "      <td>46100.0</td>\n",
       "      <td>46120.0</td>\n",
       "      <td>46340.0</td>\n",
       "      <td>7424450.0</td>\n",
       "      <td>40141.433594</td>\n",
       "    </tr>\n",
       "  </tbody>\n",
       "</table>\n",
       "</div>"
      ],
      "text/plain": [
       "               High      Low     Open    Close      Volume     Adj Close\n",
       "Date                                                                    \n",
       "2017-05-11  46180.0  45220.0  45420.0  45500.0  21277850.0  39413.785156\n",
       "2017-05-12  46160.0  45660.0  45760.0  45820.0   9422900.0  39690.976562\n",
       "2017-05-15  46280.0  45620.0  45620.0  46100.0   8001400.0  39933.539062\n",
       "2017-05-16  46800.0  46100.0  46660.0  46380.0   8803750.0  40176.070312\n",
       "2017-05-17  46640.0  46100.0  46120.0  46340.0   7424450.0  40141.433594"
      ]
     },
     "execution_count": 2,
     "metadata": {},
     "output_type": "execute_result"
    }
   ],
   "source": [
    "SAMSUNG = data_reader.DataReader(\"005930.KS\", data_source=\"yahoo\")\n",
    "SAMSUNG.head()"
   ]
  },
  {
   "cell_type": "code",
   "execution_count": 3,
   "metadata": {},
   "outputs": [
    {
     "data": {
      "text/html": [
       "<div>\n",
       "<style scoped>\n",
       "    .dataframe tbody tr th:only-of-type {\n",
       "        vertical-align: middle;\n",
       "    }\n",
       "\n",
       "    .dataframe tbody tr th {\n",
       "        vertical-align: top;\n",
       "    }\n",
       "\n",
       "    .dataframe thead th {\n",
       "        text-align: right;\n",
       "    }\n",
       "</style>\n",
       "<table border=\"1\" class=\"dataframe\">\n",
       "  <thead>\n",
       "    <tr style=\"text-align: right;\">\n",
       "      <th></th>\n",
       "      <th>High</th>\n",
       "      <th>Low</th>\n",
       "      <th>Open</th>\n",
       "      <th>Close</th>\n",
       "      <th>Volume</th>\n",
       "      <th>Adj Close</th>\n",
       "    </tr>\n",
       "    <tr>\n",
       "      <th>Date</th>\n",
       "      <th></th>\n",
       "      <th></th>\n",
       "      <th></th>\n",
       "      <th></th>\n",
       "      <th></th>\n",
       "      <th></th>\n",
       "    </tr>\n",
       "  </thead>\n",
       "  <tbody>\n",
       "    <tr>\n",
       "      <th>2022-05-02</th>\n",
       "      <td>67600.0</td>\n",
       "      <td>66500.0</td>\n",
       "      <td>66600.0</td>\n",
       "      <td>67300.0</td>\n",
       "      <td>14106184.0</td>\n",
       "      <td>67300.0</td>\n",
       "    </tr>\n",
       "    <tr>\n",
       "      <th>2022-05-03</th>\n",
       "      <td>68400.0</td>\n",
       "      <td>67300.0</td>\n",
       "      <td>67400.0</td>\n",
       "      <td>67500.0</td>\n",
       "      <td>14168875.0</td>\n",
       "      <td>67500.0</td>\n",
       "    </tr>\n",
       "    <tr>\n",
       "      <th>2022-05-04</th>\n",
       "      <td>68400.0</td>\n",
       "      <td>67500.0</td>\n",
       "      <td>68000.0</td>\n",
       "      <td>67900.0</td>\n",
       "      <td>11505248.0</td>\n",
       "      <td>67900.0</td>\n",
       "    </tr>\n",
       "    <tr>\n",
       "      <th>2022-05-06</th>\n",
       "      <td>67100.0</td>\n",
       "      <td>66500.0</td>\n",
       "      <td>67000.0</td>\n",
       "      <td>66500.0</td>\n",
       "      <td>14356156.0</td>\n",
       "      <td>66500.0</td>\n",
       "    </tr>\n",
       "    <tr>\n",
       "      <th>2022-05-10</th>\n",
       "      <td>66300.0</td>\n",
       "      <td>65300.0</td>\n",
       "      <td>65900.0</td>\n",
       "      <td>65700.0</td>\n",
       "      <td>17152974.0</td>\n",
       "      <td>65700.0</td>\n",
       "    </tr>\n",
       "  </tbody>\n",
       "</table>\n",
       "</div>"
      ],
      "text/plain": [
       "               High      Low     Open    Close      Volume  Adj Close\n",
       "Date                                                                 \n",
       "2022-05-02  67600.0  66500.0  66600.0  67300.0  14106184.0    67300.0\n",
       "2022-05-03  68400.0  67300.0  67400.0  67500.0  14168875.0    67500.0\n",
       "2022-05-04  68400.0  67500.0  68000.0  67900.0  11505248.0    67900.0\n",
       "2022-05-06  67100.0  66500.0  67000.0  66500.0  14356156.0    66500.0\n",
       "2022-05-10  66300.0  65300.0  65900.0  65700.0  17152974.0    65700.0"
      ]
     },
     "execution_count": 3,
     "metadata": {},
     "output_type": "execute_result"
    }
   ],
   "source": [
    "SAMSUNG.tail()"
   ]
  },
  {
   "cell_type": "code",
   "execution_count": 4,
   "metadata": {},
   "outputs": [
    {
     "data": {
      "text/plain": [
       "<AxesSubplot:xlabel='Date'>"
      ]
     },
     "execution_count": 4,
     "metadata": {},
     "output_type": "execute_result"
    },
    {
     "data": {
      "image/png": "[encoded data removed]",
      "text/plain": [
       "<Figure size 432x288 with 1 Axes>"
      ]
     },
     "metadata": {
      "needs_background": "light"
     },
     "output_type": "display_data"
    }
   ],
   "source": [
    "SAMSUNG['Close'].plot()"
   ]
  },
  {
   "cell_type": "code",
   "execution_count": 5,
   "metadata": {},
   "outputs": [],
   "source": [
    "SAMSUNG.to_csv(\"SAMSUNG.csv\")"
   ]
  },
  {
   "cell_type": "markdown",
   "metadata": {},
   "source": [
    "## 일반 함수화"
   ]
  },
  {
   "cell_type": "code",
   "execution_count": 6,
   "metadata": {},
   "outputs": [],
   "source": [
    "def get_stock_price(country, ticker):\n",
    "    if country == \"KR\":\n",
    "        df = data_reader.DataReader(ticker + \".KS\", data_source=\"yahoo\")\n",
    "    elif country == \"US\":\n",
    "        df = data_reader.DataReader(ticker, data_source=\"yahoo\")\n",
    "    return df"
   ]
  },
  {
   "cell_type": "code",
   "execution_count": 7,
   "metadata": {},
   "outputs": [
    {
     "data": {
      "text/html": [
       "<div>\n",
       "<style scoped>\n",
       "    .dataframe tbody tr th:only-of-type {\n",
       "        vertical-align: middle;\n",
       "    }\n",
       "\n",
       "    .dataframe tbody tr th {\n",
       "        vertical-align: top;\n",
       "    }\n",
       "\n",
       "    .dataframe thead th {\n",
       "        text-align: right;\n",
       "    }\n",
       "</style>\n",
       "<table border=\"1\" class=\"dataframe\">\n",
       "  <thead>\n",
       "    <tr style=\"text-align: right;\">\n",
       "      <th></th>\n",
       "      <th>High</th>\n",
       "      <th>Low</th>\n",
       "      <th>Open</th>\n",
       "      <th>Close</th>\n",
       "      <th>Volume</th>\n",
       "      <th>Adj Close</th>\n",
       "    </tr>\n",
       "    <tr>\n",
       "      <th>Date</th>\n",
       "      <th></th>\n",
       "      <th></th>\n",
       "      <th></th>\n",
       "      <th></th>\n",
       "      <th></th>\n",
       "      <th></th>\n",
       "    </tr>\n",
       "  </thead>\n",
       "  <tbody>\n",
       "    <tr>\n",
       "      <th>2017-05-10</th>\n",
       "      <td>65.099998</td>\n",
       "      <td>63.624001</td>\n",
       "      <td>64.311996</td>\n",
       "      <td>65.043999</td>\n",
       "      <td>28708000.0</td>\n",
       "      <td>65.043999</td>\n",
       "    </tr>\n",
       "    <tr>\n",
       "      <th>2017-05-11</th>\n",
       "      <td>65.199997</td>\n",
       "      <td>63.919998</td>\n",
       "      <td>64.680000</td>\n",
       "      <td>64.620003</td>\n",
       "      <td>23769000.0</td>\n",
       "      <td>64.620003</td>\n",
       "    </tr>\n",
       "    <tr>\n",
       "      <th>2017-05-12</th>\n",
       "      <td>65.400002</td>\n",
       "      <td>64.306000</td>\n",
       "      <td>65.096001</td>\n",
       "      <td>64.961998</td>\n",
       "      <td>20608000.0</td>\n",
       "      <td>64.961998</td>\n",
       "    </tr>\n",
       "    <tr>\n",
       "      <th>2017-05-15</th>\n",
       "      <td>64.040001</td>\n",
       "      <td>62.506001</td>\n",
       "      <td>63.675999</td>\n",
       "      <td>63.175999</td>\n",
       "      <td>38110000.0</td>\n",
       "      <td>63.175999</td>\n",
       "    </tr>\n",
       "    <tr>\n",
       "      <th>2017-05-16</th>\n",
       "      <td>64.012001</td>\n",
       "      <td>63.028000</td>\n",
       "      <td>63.518002</td>\n",
       "      <td>63.402000</td>\n",
       "      <td>20762500.0</td>\n",
       "      <td>63.402000</td>\n",
       "    </tr>\n",
       "  </tbody>\n",
       "</table>\n",
       "</div>"
      ],
      "text/plain": [
       "                 High        Low       Open      Close      Volume  Adj Close\n",
       "Date                                                                         \n",
       "2017-05-10  65.099998  63.624001  64.311996  65.043999  28708000.0  65.043999\n",
       "2017-05-11  65.199997  63.919998  64.680000  64.620003  23769000.0  64.620003\n",
       "2017-05-12  65.400002  64.306000  65.096001  64.961998  20608000.0  64.961998\n",
       "2017-05-15  64.040001  62.506001  63.675999  63.175999  38110000.0  63.175999\n",
       "2017-05-16  64.012001  63.028000  63.518002  63.402000  20762500.0  63.402000"
      ]
     },
     "execution_count": 7,
     "metadata": {},
     "output_type": "execute_result"
    }
   ],
   "source": [
    "df = get_stock_price(\"US\", \"TSLA\")\n",
    "df.head()"
   ]
  },
  {
   "cell_type": "code",
   "execution_count": 8,
   "metadata": {},
   "outputs": [
    {
     "data": {
      "text/plain": [
       "<AxesSubplot:xlabel='Date'>"
      ]
     },
     "execution_count": 8,
     "metadata": {},
     "output_type": "execute_result"
    },
    {
     "data": {
      "image/png": "[encoded data removed]",
      "text/plain": [
       "<Figure size 432x288 with 1 Axes>"
      ]
     },
     "metadata": {
      "needs_background": "light"
     },
     "output_type": "display_data"
    }
   ],
   "source": [
    "df['Close'].plot()"
   ]
  },
  {
   "cell_type": "code",
   "execution_count": 9,
   "metadata": {},
   "outputs": [
    {
     "data": {
      "text/html": [
       "<div>\n",
       "<style scoped>\n",
       "    .dataframe tbody tr th:only-of-type {\n",
       "        vertical-align: middle;\n",
       "    }\n",
       "\n",
       "    .dataframe tbody tr th {\n",
       "        vertical-align: top;\n",
       "    }\n",
       "\n",
       "    .dataframe thead th {\n",
       "        text-align: right;\n",
       "    }\n",
       "</style>\n",
       "<table border=\"1\" class=\"dataframe\">\n",
       "  <thead>\n",
       "    <tr style=\"text-align: right;\">\n",
       "      <th></th>\n",
       "      <th>High</th>\n",
       "      <th>Low</th>\n",
       "      <th>Open</th>\n",
       "      <th>Close</th>\n",
       "      <th>Volume</th>\n",
       "      <th>Adj Close</th>\n",
       "    </tr>\n",
       "    <tr>\n",
       "      <th>Date</th>\n",
       "      <th></th>\n",
       "      <th></th>\n",
       "      <th></th>\n",
       "      <th></th>\n",
       "      <th></th>\n",
       "      <th></th>\n",
       "    </tr>\n",
       "  </thead>\n",
       "  <tbody>\n",
       "    <tr>\n",
       "      <th>2017-05-11</th>\n",
       "      <td>273500.0</td>\n",
       "      <td>269000.0</td>\n",
       "      <td>269000.0</td>\n",
       "      <td>270500.0</td>\n",
       "      <td>302914.0</td>\n",
       "      <td>224159.890625</td>\n",
       "    </tr>\n",
       "    <tr>\n",
       "      <th>2017-05-12</th>\n",
       "      <td>273500.0</td>\n",
       "      <td>270500.0</td>\n",
       "      <td>271500.0</td>\n",
       "      <td>272500.0</td>\n",
       "      <td>240894.0</td>\n",
       "      <td>225817.296875</td>\n",
       "    </tr>\n",
       "    <tr>\n",
       "      <th>2017-05-15</th>\n",
       "      <td>273000.0</td>\n",
       "      <td>268500.0</td>\n",
       "      <td>272500.0</td>\n",
       "      <td>271000.0</td>\n",
       "      <td>212739.0</td>\n",
       "      <td>224574.187500</td>\n",
       "    </tr>\n",
       "    <tr>\n",
       "      <th>2017-05-16</th>\n",
       "      <td>273500.0</td>\n",
       "      <td>269000.0</td>\n",
       "      <td>273000.0</td>\n",
       "      <td>273000.0</td>\n",
       "      <td>224169.0</td>\n",
       "      <td>226231.609375</td>\n",
       "    </tr>\n",
       "    <tr>\n",
       "      <th>2017-05-17</th>\n",
       "      <td>272500.0</td>\n",
       "      <td>268000.0</td>\n",
       "      <td>272000.0</td>\n",
       "      <td>270500.0</td>\n",
       "      <td>253721.0</td>\n",
       "      <td>224159.890625</td>\n",
       "    </tr>\n",
       "  </tbody>\n",
       "</table>\n",
       "</div>"
      ],
      "text/plain": [
       "                High       Low      Open     Close    Volume      Adj Close\n",
       "Date                                                                       \n",
       "2017-05-11  273500.0  269000.0  269000.0  270500.0  302914.0  224159.890625\n",
       "2017-05-12  273500.0  270500.0  271500.0  272500.0  240894.0  225817.296875\n",
       "2017-05-15  273000.0  268500.0  272500.0  271000.0  212739.0  224574.187500\n",
       "2017-05-16  273500.0  269000.0  273000.0  273000.0  224169.0  226231.609375\n",
       "2017-05-17  272500.0  268000.0  272000.0  270500.0  253721.0  224159.890625"
      ]
     },
     "execution_count": 9,
     "metadata": {},
     "output_type": "execute_result"
    }
   ],
   "source": [
    "df = get_stock_price(\"KR\", \"005490\") #포항제철\n",
    "df.head()"
   ]
  },
  {
   "cell_type": "markdown",
   "metadata": {},
   "source": [
    "## 여러 주식 종목의 가격 비교"
   ]
  },
  {
   "cell_type": "code",
   "execution_count": 10,
   "metadata": {},
   "outputs": [],
   "source": [
    "tesla = get_stock_price(\"US\", \"TSLA\")\n",
    "ford = get_stock_price(\"US\", \"FORD\")\n",
    "apple = get_stock_price(\"US\", \"AAPL\")\n",
    "google = get_stock_price(\"US\", \"GOOGL\")\n",
    "sec = get_stock_price(\"KR\", \"005930\")"
   ]
  },
  {
   "cell_type": "markdown",
   "metadata": {},
   "source": [
    "### Normalized Price\n",
    "\n",
    "- 시초가를 1 로 맞추어 놓고 변화된 상대 가격 비교"
   ]
  },
  {
   "cell_type": "code",
   "execution_count": 11,
   "metadata": {},
   "outputs": [],
   "source": [
    "tesla['normed Close'] = tesla['Close']/tesla['Close'][0]\n",
    "ford['normed Close'] = ford['Close']/ford['Close'][0]\n",
    "apple['normed Close'] = apple['Close']/apple['Close'][0]\n",
    "google['normed Close'] = google['Close']/google['Close'][0]\n",
    "sec['normed Close'] = sec['Close']/sec['Close'][0]"
   ]
  },
  {
   "cell_type": "code",
   "execution_count": 12,
   "metadata": {},
   "outputs": [
    {
     "data": {
      "text/plain": [
       "<matplotlib.legend.Legend at 0x26d950396d0>"
      ]
     },
     "execution_count": 12,
     "metadata": {},
     "output_type": "execute_result"
    },
    {
     "data": {
      "image/png": "[encoded data removed]",
      "text/plain": [
       "<Figure size 720x720 with 1 Axes>"
      ]
     },
     "metadata": {
      "needs_background": "light"
     },
     "output_type": "display_data"
    }
   ],
   "source": [
    "plt.figure(figsize=(10, 10))\n",
    "tesla['normed Close'].plot(label='TESLA')\n",
    "ford['normed Close'].plot(label='FORD')\n",
    "apple['normed Close'].plot(label='APPLE')\n",
    "google['normed Close'].plot(label='GOOGLE')\n",
    "sec['normed Close'].plot(label='SEC')\n",
    "plt.legend()"
   ]
  },
  {
   "cell_type": "code",
   "execution_count": null,
   "metadata": {},
   "outputs": [],
   "source": []
  }
 ],
 "metadata": {
  "kernelspec": {
   "display_name": "Python 3 (ipykernel)",
   "language": "python",
   "name": "python3"
  },
  "language_info": {
   "codemirror_mode": {
    "name": "ipython",
    "version": 3
   },
   "file_extension": ".py",
   "mimetype": "text/x-python",
   "name": "python",
   "nbconvert_exporter": "python",
   "pygments_lexer": "ipython3",
   "version": "3.8.12"
  }
 },
 "nbformat": 4,
 "nbformat_minor": 2
}
