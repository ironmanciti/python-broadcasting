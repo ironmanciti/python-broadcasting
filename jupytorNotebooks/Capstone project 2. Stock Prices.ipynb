{
 "cells": [
  {
   "cell_type": "markdown",
   "metadata": {},
   "source": [
    "# 주식 가격 가져오기"
   ]
  },
  {
   "cell_type": "code",
   "execution_count": 57,
   "metadata": {},
   "outputs": [],
   "source": [
    "import pandas as pd\n",
    "import numpy as np\n",
    "import matplotlib.pyplot as plt\n",
    "import pandas_datareader as data_reader"
   ]
  },
  {
   "cell_type": "markdown",
   "metadata": {},
   "source": [
    "## 삼성전자 주식 가격"
   ]
  },
  {
   "cell_type": "code",
   "execution_count": 27,
   "metadata": {},
   "outputs": [
    {
     "data": {
      "text/html": [
       "<div>\n",
       "<style scoped>\n",
       "    .dataframe tbody tr th:only-of-type {\n",
       "        vertical-align: middle;\n",
       "    }\n",
       "\n",
       "    .dataframe tbody tr th {\n",
       "        vertical-align: top;\n",
       "    }\n",
       "\n",
       "    .dataframe thead th {\n",
       "        text-align: right;\n",
       "    }\n",
       "</style>\n",
       "<table border=\"1\" class=\"dataframe\">\n",
       "  <thead>\n",
       "    <tr style=\"text-align: right;\">\n",
       "      <th></th>\n",
       "      <th>High</th>\n",
       "      <th>Low</th>\n",
       "      <th>Open</th>\n",
       "      <th>Close</th>\n",
       "      <th>Volume</th>\n",
       "      <th>Adj Close</th>\n",
       "    </tr>\n",
       "    <tr>\n",
       "      <th>Date</th>\n",
       "      <th></th>\n",
       "      <th></th>\n",
       "      <th></th>\n",
       "      <th></th>\n",
       "      <th></th>\n",
       "      <th></th>\n",
       "    </tr>\n",
       "  </thead>\n",
       "  <tbody>\n",
       "    <tr>\n",
       "      <th>2016-11-07</th>\n",
       "      <td>33000.0</td>\n",
       "      <td>32680.0</td>\n",
       "      <td>32940.0</td>\n",
       "      <td>32800.0</td>\n",
       "      <td>7661900.0</td>\n",
       "      <td>28155.212891</td>\n",
       "    </tr>\n",
       "    <tr>\n",
       "      <th>2016-11-08</th>\n",
       "      <td>32980.0</td>\n",
       "      <td>32700.0</td>\n",
       "      <td>32980.0</td>\n",
       "      <td>32880.0</td>\n",
       "      <td>5417450.0</td>\n",
       "      <td>28223.884766</td>\n",
       "    </tr>\n",
       "    <tr>\n",
       "      <th>2016-11-09</th>\n",
       "      <td>33140.0</td>\n",
       "      <td>31820.0</td>\n",
       "      <td>32920.0</td>\n",
       "      <td>31920.0</td>\n",
       "      <td>15683600.0</td>\n",
       "      <td>27399.830078</td>\n",
       "    </tr>\n",
       "    <tr>\n",
       "      <th>2016-11-10</th>\n",
       "      <td>33000.0</td>\n",
       "      <td>32360.0</td>\n",
       "      <td>32600.0</td>\n",
       "      <td>32980.0</td>\n",
       "      <td>11795350.0</td>\n",
       "      <td>28309.722656</td>\n",
       "    </tr>\n",
       "    <tr>\n",
       "      <th>2016-11-11</th>\n",
       "      <td>32360.0</td>\n",
       "      <td>31700.0</td>\n",
       "      <td>31700.0</td>\n",
       "      <td>31960.0</td>\n",
       "      <td>12836800.0</td>\n",
       "      <td>27434.169922</td>\n",
       "    </tr>\n",
       "  </tbody>\n",
       "</table>\n",
       "</div>"
      ],
      "text/plain": [
       "               High      Low     Open    Close      Volume     Adj Close\n",
       "Date                                                                    \n",
       "2016-11-07  33000.0  32680.0  32940.0  32800.0   7661900.0  28155.212891\n",
       "2016-11-08  32980.0  32700.0  32980.0  32880.0   5417450.0  28223.884766\n",
       "2016-11-09  33140.0  31820.0  32920.0  31920.0  15683600.0  27399.830078\n",
       "2016-11-10  33000.0  32360.0  32600.0  32980.0  11795350.0  28309.722656\n",
       "2016-11-11  32360.0  31700.0  31700.0  31960.0  12836800.0  27434.169922"
      ]
     },
     "execution_count": 27,
     "metadata": {},
     "output_type": "execute_result"
    }
   ],
   "source": [
    "SAMSUNG = data_reader.DataReader(\"005930.KS\", data_source=\"yahoo\")\n",
    "SAMSUNG.head()"
   ]
  },
  {
   "cell_type": "code",
   "execution_count": 28,
   "metadata": {},
   "outputs": [
    {
     "data": {
      "text/html": [
       "<div>\n",
       "<style scoped>\n",
       "    .dataframe tbody tr th:only-of-type {\n",
       "        vertical-align: middle;\n",
       "    }\n",
       "\n",
       "    .dataframe tbody tr th {\n",
       "        vertical-align: top;\n",
       "    }\n",
       "\n",
       "    .dataframe thead th {\n",
       "        text-align: right;\n",
       "    }\n",
       "</style>\n",
       "<table border=\"1\" class=\"dataframe\">\n",
       "  <thead>\n",
       "    <tr style=\"text-align: right;\">\n",
       "      <th></th>\n",
       "      <th>High</th>\n",
       "      <th>Low</th>\n",
       "      <th>Open</th>\n",
       "      <th>Close</th>\n",
       "      <th>Volume</th>\n",
       "      <th>Adj Close</th>\n",
       "    </tr>\n",
       "    <tr>\n",
       "      <th>Date</th>\n",
       "      <th></th>\n",
       "      <th></th>\n",
       "      <th></th>\n",
       "      <th></th>\n",
       "      <th></th>\n",
       "      <th></th>\n",
       "    </tr>\n",
       "  </thead>\n",
       "  <tbody>\n",
       "    <tr>\n",
       "      <th>2021-10-29</th>\n",
       "      <td>71600.0</td>\n",
       "      <td>69700.0</td>\n",
       "      <td>71200.0</td>\n",
       "      <td>69800.0</td>\n",
       "      <td>17016151.0</td>\n",
       "      <td>69800.0</td>\n",
       "    </tr>\n",
       "    <tr>\n",
       "      <th>2021-11-01</th>\n",
       "      <td>70600.0</td>\n",
       "      <td>69900.0</td>\n",
       "      <td>70200.0</td>\n",
       "      <td>69900.0</td>\n",
       "      <td>11503729.0</td>\n",
       "      <td>69900.0</td>\n",
       "    </tr>\n",
       "    <tr>\n",
       "      <th>2021-11-02</th>\n",
       "      <td>72200.0</td>\n",
       "      <td>70700.0</td>\n",
       "      <td>70800.0</td>\n",
       "      <td>71500.0</td>\n",
       "      <td>16812570.0</td>\n",
       "      <td>71500.0</td>\n",
       "    </tr>\n",
       "    <tr>\n",
       "      <th>2021-11-03</th>\n",
       "      <td>71700.0</td>\n",
       "      <td>70100.0</td>\n",
       "      <td>71700.0</td>\n",
       "      <td>70400.0</td>\n",
       "      <td>12770428.0</td>\n",
       "      <td>70400.0</td>\n",
       "    </tr>\n",
       "    <tr>\n",
       "      <th>2021-11-04</th>\n",
       "      <td>71600.0</td>\n",
       "      <td>70700.0</td>\n",
       "      <td>71200.0</td>\n",
       "      <td>70800.0</td>\n",
       "      <td>8467958.0</td>\n",
       "      <td>70800.0</td>\n",
       "    </tr>\n",
       "  </tbody>\n",
       "</table>\n",
       "</div>"
      ],
      "text/plain": [
       "               High      Low     Open    Close      Volume  Adj Close\n",
       "Date                                                                 \n",
       "2021-10-29  71600.0  69700.0  71200.0  69800.0  17016151.0    69800.0\n",
       "2021-11-01  70600.0  69900.0  70200.0  69900.0  11503729.0    69900.0\n",
       "2021-11-02  72200.0  70700.0  70800.0  71500.0  16812570.0    71500.0\n",
       "2021-11-03  71700.0  70100.0  71700.0  70400.0  12770428.0    70400.0\n",
       "2021-11-04  71600.0  70700.0  71200.0  70800.0   8467958.0    70800.0"
      ]
     },
     "execution_count": 28,
     "metadata": {},
     "output_type": "execute_result"
    }
   ],
   "source": [
    "SAMSUNG.tail()"
   ]
  },
  {
   "cell_type": "code",
   "execution_count": 29,
   "metadata": {},
   "outputs": [
    {
     "data": {
      "text/plain": [
       "<AxesSubplot:xlabel='Date'>"
      ]
     },
     "execution_count": 29,
     "metadata": {},
     "output_type": "execute_result"
    },
    {
     "data": {
      "image/png": "[encoded data removed]",
      "text/plain": [
       "<Figure size 432x288 with 1 Axes>"
      ]
     },
     "metadata": {
      "needs_background": "light"
     },
     "output_type": "display_data"
    }
   ],
   "source": [
    "SAMSUNG['Close'].plot()"
   ]
  },
  {
   "cell_type": "code",
   "execution_count": 30,
   "metadata": {},
   "outputs": [],
   "source": [
    "SAMSUNG.to_csv(\"SAMSUNG.csv\")"
   ]
  },
  {
   "cell_type": "markdown",
   "metadata": {},
   "source": [
    "## 일반 함수화"
   ]
  },
  {
   "cell_type": "code",
   "execution_count": 34,
   "metadata": {},
   "outputs": [],
   "source": [
    "def get_stock_price(country, ticker):\n",
    "    if country == \"KR\":\n",
    "        df = data_reader.DataReader(ticker + \".KS\", data_source=\"yahoo\")\n",
    "    elif country == \"US\":\n",
    "        df = data_reader.DataReader(ticker, data_source=\"yahoo\")\n",
    "    return df"
   ]
  },
  {
   "cell_type": "code",
   "execution_count": 40,
   "metadata": {},
   "outputs": [
    {
     "data": {
      "text/html": [
       "<div>\n",
       "<style scoped>\n",
       "    .dataframe tbody tr th:only-of-type {\n",
       "        vertical-align: middle;\n",
       "    }\n",
       "\n",
       "    .dataframe tbody tr th {\n",
       "        vertical-align: top;\n",
       "    }\n",
       "\n",
       "    .dataframe thead th {\n",
       "        text-align: right;\n",
       "    }\n",
       "</style>\n",
       "<table border=\"1\" class=\"dataframe\">\n",
       "  <thead>\n",
       "    <tr style=\"text-align: right;\">\n",
       "      <th></th>\n",
       "      <th>High</th>\n",
       "      <th>Low</th>\n",
       "      <th>Open</th>\n",
       "      <th>Close</th>\n",
       "      <th>Volume</th>\n",
       "      <th>Adj Close</th>\n",
       "    </tr>\n",
       "    <tr>\n",
       "      <th>Date</th>\n",
       "      <th></th>\n",
       "      <th></th>\n",
       "      <th></th>\n",
       "      <th></th>\n",
       "      <th></th>\n",
       "      <th></th>\n",
       "    </tr>\n",
       "  </thead>\n",
       "  <tbody>\n",
       "    <tr>\n",
       "      <th>2016-11-04</th>\n",
       "      <td>38.692001</td>\n",
       "      <td>37.192001</td>\n",
       "      <td>37.799999</td>\n",
       "      <td>38.112000</td>\n",
       "      <td>25730000.0</td>\n",
       "      <td>38.112000</td>\n",
       "    </tr>\n",
       "    <tr>\n",
       "      <th>2016-11-07</th>\n",
       "      <td>38.858002</td>\n",
       "      <td>38.009998</td>\n",
       "      <td>38.717999</td>\n",
       "      <td>38.641998</td>\n",
       "      <td>19350500.0</td>\n",
       "      <td>38.641998</td>\n",
       "    </tr>\n",
       "    <tr>\n",
       "      <th>2016-11-08</th>\n",
       "      <td>39.498001</td>\n",
       "      <td>38.251999</td>\n",
       "      <td>38.757999</td>\n",
       "      <td>38.987999</td>\n",
       "      <td>16338000.0</td>\n",
       "      <td>38.987999</td>\n",
       "    </tr>\n",
       "    <tr>\n",
       "      <th>2016-11-09</th>\n",
       "      <td>38.400002</td>\n",
       "      <td>36.790001</td>\n",
       "      <td>37.375999</td>\n",
       "      <td>38.012001</td>\n",
       "      <td>40865500.0</td>\n",
       "      <td>38.012001</td>\n",
       "    </tr>\n",
       "    <tr>\n",
       "      <th>2016-11-10</th>\n",
       "      <td>38.321999</td>\n",
       "      <td>36.084000</td>\n",
       "      <td>38.209999</td>\n",
       "      <td>37.070000</td>\n",
       "      <td>33751500.0</td>\n",
       "      <td>37.070000</td>\n",
       "    </tr>\n",
       "  </tbody>\n",
       "</table>\n",
       "</div>"
      ],
      "text/plain": [
       "                 High        Low       Open      Close      Volume  Adj Close\n",
       "Date                                                                         \n",
       "2016-11-04  38.692001  37.192001  37.799999  38.112000  25730000.0  38.112000\n",
       "2016-11-07  38.858002  38.009998  38.717999  38.641998  19350500.0  38.641998\n",
       "2016-11-08  39.498001  38.251999  38.757999  38.987999  16338000.0  38.987999\n",
       "2016-11-09  38.400002  36.790001  37.375999  38.012001  40865500.0  38.012001\n",
       "2016-11-10  38.321999  36.084000  38.209999  37.070000  33751500.0  37.070000"
      ]
     },
     "execution_count": 40,
     "metadata": {},
     "output_type": "execute_result"
    }
   ],
   "source": [
    "df = get_stock_price(\"US\", \"TSLA\")\n",
    "df.head()"
   ]
  },
  {
   "cell_type": "code",
   "execution_count": 41,
   "metadata": {},
   "outputs": [
    {
     "data": {
      "text/plain": [
       "<AxesSubplot:xlabel='Date'>"
      ]
     },
     "execution_count": 41,
     "metadata": {},
     "output_type": "execute_result"
    },
    {
     "data": {
      "image/png": "[encoded data removed]",
      "text/plain": [
       "<Figure size 432x288 with 1 Axes>"
      ]
     },
     "metadata": {
      "needs_background": "light"
     },
     "output_type": "display_data"
    }
   ],
   "source": [
    "df['Close'].plot()"
   ]
  },
  {
   "cell_type": "code",
   "execution_count": 38,
   "metadata": {},
   "outputs": [
    {
     "data": {
      "text/html": [
       "<div>\n",
       "<style scoped>\n",
       "    .dataframe tbody tr th:only-of-type {\n",
       "        vertical-align: middle;\n",
       "    }\n",
       "\n",
       "    .dataframe tbody tr th {\n",
       "        vertical-align: top;\n",
       "    }\n",
       "\n",
       "    .dataframe thead th {\n",
       "        text-align: right;\n",
       "    }\n",
       "</style>\n",
       "<table border=\"1\" class=\"dataframe\">\n",
       "  <thead>\n",
       "    <tr style=\"text-align: right;\">\n",
       "      <th></th>\n",
       "      <th>High</th>\n",
       "      <th>Low</th>\n",
       "      <th>Open</th>\n",
       "      <th>Close</th>\n",
       "      <th>Volume</th>\n",
       "      <th>Adj Close</th>\n",
       "    </tr>\n",
       "    <tr>\n",
       "      <th>Date</th>\n",
       "      <th></th>\n",
       "      <th></th>\n",
       "      <th></th>\n",
       "      <th></th>\n",
       "      <th></th>\n",
       "      <th></th>\n",
       "    </tr>\n",
       "  </thead>\n",
       "  <tbody>\n",
       "    <tr>\n",
       "      <th>2016-11-07</th>\n",
       "      <td>245000.0</td>\n",
       "      <td>240000.0</td>\n",
       "      <td>241000.0</td>\n",
       "      <td>244000.0</td>\n",
       "      <td>216560.0</td>\n",
       "      <td>203226.437500</td>\n",
       "    </tr>\n",
       "    <tr>\n",
       "      <th>2016-11-08</th>\n",
       "      <td>245500.0</td>\n",
       "      <td>242000.0</td>\n",
       "      <td>245500.0</td>\n",
       "      <td>242500.0</td>\n",
       "      <td>155334.0</td>\n",
       "      <td>201977.093750</td>\n",
       "    </tr>\n",
       "    <tr>\n",
       "      <th>2016-11-09</th>\n",
       "      <td>244000.0</td>\n",
       "      <td>226500.0</td>\n",
       "      <td>243500.0</td>\n",
       "      <td>231500.0</td>\n",
       "      <td>592440.0</td>\n",
       "      <td>192815.265625</td>\n",
       "    </tr>\n",
       "    <tr>\n",
       "      <th>2016-11-10</th>\n",
       "      <td>248500.0</td>\n",
       "      <td>236000.0</td>\n",
       "      <td>236500.0</td>\n",
       "      <td>247000.0</td>\n",
       "      <td>668966.0</td>\n",
       "      <td>205725.140625</td>\n",
       "    </tr>\n",
       "    <tr>\n",
       "      <th>2016-11-11</th>\n",
       "      <td>251000.0</td>\n",
       "      <td>241000.0</td>\n",
       "      <td>244500.0</td>\n",
       "      <td>249500.0</td>\n",
       "      <td>471654.0</td>\n",
       "      <td>207807.390625</td>\n",
       "    </tr>\n",
       "  </tbody>\n",
       "</table>\n",
       "</div>"
      ],
      "text/plain": [
       "                High       Low      Open     Close    Volume      Adj Close\n",
       "Date                                                                       \n",
       "2016-11-07  245000.0  240000.0  241000.0  244000.0  216560.0  203226.437500\n",
       "2016-11-08  245500.0  242000.0  245500.0  242500.0  155334.0  201977.093750\n",
       "2016-11-09  244000.0  226500.0  243500.0  231500.0  592440.0  192815.265625\n",
       "2016-11-10  248500.0  236000.0  236500.0  247000.0  668966.0  205725.140625\n",
       "2016-11-11  251000.0  241000.0  244500.0  249500.0  471654.0  207807.390625"
      ]
     },
     "execution_count": 38,
     "metadata": {},
     "output_type": "execute_result"
    }
   ],
   "source": [
    "df = get_stock_price(\"KR\", \"005490\") #포항제철\n",
    "df.head()"
   ]
  },
  {
   "cell_type": "markdown",
   "metadata": {},
   "source": [
    "## 여러 주식 종목의 가격 비교"
   ]
  },
  {
   "cell_type": "code",
   "execution_count": 58,
   "metadata": {},
   "outputs": [],
   "source": [
    "tesla = get_stock_price(\"US\", \"TSLA\")\n",
    "ford = get_stock_price(\"US\", \"FORD\")\n",
    "apple = get_stock_price(\"US\", \"AAPL\")\n",
    "google = get_stock_price(\"US\", \"GOOGL\")\n",
    "sec = get_stock_price(\"KR\", \"005930\")"
   ]
  },
  {
   "cell_type": "markdown",
   "metadata": {},
   "source": [
    "### Normalized Price\n",
    "\n",
    "- 시초가를 1 로 맞추어 놓고 변화된 상대 가격 비교"
   ]
  },
  {
   "cell_type": "code",
   "execution_count": 61,
   "metadata": {},
   "outputs": [],
   "source": [
    "tesla['normed Close'] = tesla['Close']/tesla['Close'][0]\n",
    "ford['normed Close'] = ford['Close']/ford['Close'][0]\n",
    "apple['normed Close'] = apple['Close']/apple['Close'][0]\n",
    "google['normed Close'] = google['Close']/google['Close'][0]\n",
    "sec['normed Close'] = sec['Close']/sec['Close'][0]"
   ]
  },
  {
   "cell_type": "code",
   "execution_count": 65,
   "metadata": {},
   "outputs": [
    {
     "data": {
      "text/plain": [
       "<matplotlib.legend.Legend at 0x7fbc027cfb90>"
      ]
     },
     "execution_count": 65,
     "metadata": {},
     "output_type": "execute_result"
    },
    {
     "data": {
      "image/png": "[encoded data removed]",
      "text/plain": [
       "<Figure size 720x720 with 1 Axes>"
      ]
     },
     "metadata": {
      "needs_background": "light"
     },
     "output_type": "display_data"
    }
   ],
   "source": [
    "plt.figure(figsize=(10, 10))\n",
    "tesla['normed Close'].plot(label='TESLA')\n",
    "ford['normed Close'].plot(label='FORD')\n",
    "apple['normed Close'].plot(label='APPLE')\n",
    "google['normed Close'].plot(label='GOOGLE')\n",
    "sec['normed Close'].plot(label='SEC')\n",
    "plt.legend()"
   ]
  },
  {
   "cell_type": "code",
   "execution_count": null,
   "metadata": {},
   "outputs": [],
   "source": []
  }
 ],
 "metadata": {
  "kernelspec": {
   "display_name": "Python 3",
   "language": "python",
   "name": "python3"
  },
  "language_info": {
   "codemirror_mode": {
    "name": "ipython",
    "version": 3
   },
   "file_extension": ".py",
   "mimetype": "text/x-python",
   "name": "python",
   "nbconvert_exporter": "python",
   "pygments_lexer": "ipython3",
   "version": "3.7.10"
  }
 },
 "nbformat": 4,
 "nbformat_minor": 2
}
