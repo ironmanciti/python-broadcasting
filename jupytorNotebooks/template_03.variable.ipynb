{
 "cells": [
  {
   "cell_type": "markdown",
   "metadata": {},
   "source": [
    "# 3. 파이썬의 변수 (variable)\n",
    "\n",
    "## 변수 (variable)\n",
    "\n",
    "- 사전에 정해진 type 이 없고 보관되는 data type 에 따라 dynamic 하게 정해진다.  \n",
    "\n",
    "\n",
    "-  변수의 이름은 문자와 숫자, \\_ (underscore) 로 구성되며, 문자 (a\\~z, A\\~Z) 혹은 \\_ (underscore) 로만 시작 가능하다.  \n",
    "\n",
    "\n",
    "-  = 를 이용하여 변수에 값을 할당 한다  \n",
    "\n",
    "\n",
    "-  Python 이 사용하는 33 개의 keyword 는 변수명으로 사용하면 안된다.\n",
    "```\n",
    "    False, None, True, and, as, assert, break, class, continue, def, del, elif, else, except,finally, for, from, global, if, import, in, is, \n",
    "    lambda, nonlocal, not, or, pass, raise, return, try, while, with, yield\n",
    "```"
   ]
  },
  {
   "cell_type": "markdown",
   "metadata": {},
   "source": [
    "### 변수명"
   ]
  },
  {
   "cell_type": "markdown",
   "metadata": {},
   "source": [
    "### type() 함수는 Python 의 자료형을 반환"
   ]
  },
  {
   "cell_type": "markdown",
   "metadata": {},
   "source": [
    "### 데이터 타입 변환 (Type Conversion)"
   ]
  }
 ],
 "metadata": {
  "kernelspec": {
   "display_name": "Python 3 (ipykernel)",
   "language": "python",
   "name": "python3"
  },
  "language_info": {
   "codemirror_mode": {
    "name": "ipython",
    "version": 3
   },
   "file_extension": ".py",
   "mimetype": "text/x-python",
   "name": "python",
   "nbconvert_exporter": "python",
   "pygments_lexer": "ipython3",
   "version": "3.8.12"
  }
 },
 "nbformat": 4,
 "nbformat_minor": 2
}
