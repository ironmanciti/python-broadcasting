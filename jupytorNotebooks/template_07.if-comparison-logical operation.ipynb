{
 "cells": [
  {
   "cell_type": "markdown",
   "metadata": {},
   "source": [
    "# 7. 조건문 \n",
    "\n",
    "\n",
    "### boolean 자료형 :  True, False, bool( )\n",
    "\n",
    "### 조건이 참(True) 인 경우만 명령 수행\n",
    "\n",
    "### 문법 :\n",
    "```    \n",
    "    if <test 문>:\n",
    "        <body1>\n",
    "    elif <test 문>:\n",
    "        <body2>\n",
    "    else:\n",
    "        <body3>\n",
    "```        \n",
    "### Python 의 False 와 True \n",
    "\n",
    "    False : empty string(\"\"), None, [], (), 0, False\n",
    "    True  : 그 외의 모든 value"
   ]
  },
  {
   "cell_type": "markdown",
   "metadata": {},
   "source": [
    "## 논리연산 (Logical Operation)"
   ]
  },
  {
   "cell_type": "markdown",
   "metadata": {},
   "source": [
    "## 연습문제"
   ]
  },
  {
   "cell_type": "markdown",
   "metadata": {},
   "source": [
    "1) 다음 list 에서 10 과 30 사이의 숫자 중 홀수만 골라 출력하라.\n",
    "\n",
    "    xlist = [-5, 5, 10, 12, 13, 14, 15, 25, 30, 40, 55, 100]\n",
    "    \n",
    "    (결과)  \n",
    "    13  15  25"
   ]
  },
  {
   "cell_type": "markdown",
   "metadata": {},
   "source": [
    "2) 다음의 주민번호 리스트에서 남, 녀 별로 90 년생 이후 출생자를 골라내라."
   ]
  }
 ],
 "metadata": {
  "kernelspec": {
   "display_name": "Python 3",
   "language": "python",
   "name": "python3"
  },
  "language_info": {
   "codemirror_mode": {
    "name": "ipython",
    "version": 3
   },
   "file_extension": ".py",
   "mimetype": "text/x-python",
   "name": "python",
   "nbconvert_exporter": "python",
   "pygments_lexer": "ipython3",
   "version": "3.7.10"
  }
 },
 "nbformat": 4,
 "nbformat_minor": 2
}
