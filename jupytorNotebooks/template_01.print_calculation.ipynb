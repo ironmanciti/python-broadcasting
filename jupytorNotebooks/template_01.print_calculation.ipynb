{
 "cells": [
  {
   "cell_type": "markdown",
   "metadata": {},
   "source": [
    "# 1. Hello Python (print, help, comment)\n",
    "\n",
    "### print(&nbsp;)   \n",
    "\n",
    "  \n",
    "### help(명령어) "
   ]
  },
  {
   "cell_type": "markdown",
   "metadata": {},
   "source": [
    "# 사칙 연산 \n",
    "\n",
    "### 파이썬의 사칙 연산 규칙은 일반 수학 연산 규칙과 동일\n",
    "\n",
    "$$30 - (10 + 20) * 3 + \\frac{100}{2^2}$$\n",
    "\n",
    "### 변수를 이용한 연산도 동일한 규칙을 따른다\n",
    "\n",
    "+, - : 더하기, 빼기\n",
    "\n",
    "/, // : 나누기 (소숫점 포함, 몫구하기)\n",
    "\n",
    "% : 나머지\n",
    "\n",
    "`*` : 곱하기\n",
    "\n",
    "`**` : 거듭제곱\n",
    "\n",
    "( ) 안의 계산을 먼저한다"
   ]
  },
  {
   "cell_type": "markdown",
   "metadata": {},
   "source": [
    "### 나눗셈\n",
    "\n",
    "**floor division**"
   ]
  },
  {
   "cell_type": "markdown",
   "metadata": {},
   "source": [
    "**modulo (나머지)**"
   ]
  }
 ],
 "metadata": {
  "kernelspec": {
   "display_name": "Python 3 (ipykernel)",
   "language": "python",
   "name": "python3"
  },
  "language_info": {
   "codemirror_mode": {
    "name": "ipython",
    "version": 3
   },
   "file_extension": ".py",
   "mimetype": "text/x-python",
   "name": "python",
   "nbconvert_exporter": "python",
   "pygments_lexer": "ipython3",
   "version": "3.8.12"
  }
 },
 "nbformat": 4,
 "nbformat_minor": 2
}
