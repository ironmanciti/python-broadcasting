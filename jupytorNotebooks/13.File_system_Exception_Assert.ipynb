{
 "cells": [
  {
   "cell_type": "markdown",
   "metadata": {},
   "source": [
    "# 13 Files 입출력\n",
    "\n",
    "### open(file 명) 을 호출하면 해당 file 을 open 하고 File Handle 객체를 반환한다.\n",
    "\n",
    "### f = open('file_name', 'r') : file read 를 위한 File Handle 객체를 변수 f 로 저장\n",
    "\n",
    "### f = open('file_name', 'w') : file write 를 위한 File Handle 객체를 변수 f 로 저장\n",
    "\n",
    "### f.close() : file close \n",
    "\n",
    "### 주요 methods\n",
    "\n",
    "- f.read()  \n",
    "- f.write()  "
   ]
  },
  {
   "cell_type": "markdown",
   "metadata": {},
   "source": [
    "### 새로운 file 생성"
   ]
  },
  {
   "cell_type": "code",
   "execution_count": 1,
   "metadata": {},
   "outputs": [],
   "source": [
    "f = open('test.txt', 'w')\n",
    "f.write('This is file write test\\n')\n",
    "f.write('This is 2nd line\\n')\n",
    "f.write('이것은 3번째 줄입니다.')\n",
    "f.close()"
   ]
  },
  {
   "cell_type": "markdown",
   "metadata": {},
   "source": [
    "## 이미 존재하는 file open"
   ]
  },
  {
   "cell_type": "code",
   "execution_count": 2,
   "metadata": {},
   "outputs": [
    {
     "name": "stdout",
     "output_type": "stream",
     "text": [
      "This is file write test\n",
      "This is 2nd line\n",
      "이것은 3번째 줄입니다.\n"
     ]
    }
   ],
   "source": [
    "f = open('test.txt', 'r')  # text mode\n",
    "\n",
    "text = f.read()\n",
    "\n",
    "print(text)"
   ]
  },
  {
   "cell_type": "markdown",
   "metadata": {},
   "source": [
    "## with open 문으로 file 읽기/쓰기\n",
    "\n",
    "#### with 문을 이용하면 with 블록을 벗어나는 순간 열린 파일 객체가 자동으로 close되어 편리함."
   ]
  },
  {
   "cell_type": "code",
   "execution_count": 3,
   "metadata": {},
   "outputs": [
    {
     "name": "stdout",
     "output_type": "stream",
     "text": [
      "This is file write test\n",
      "This is 2nd line\n",
      "이것은 3번째 줄입니다.\n"
     ]
    }
   ],
   "source": [
    "with open('test.txt', \"r\") as file2:\n",
    "    data = file2.read()\n",
    "\n",
    "print(data)"
   ]
  },
  {
   "cell_type": "markdown",
   "metadata": {},
   "source": [
    "### 연습문제"
   ]
  },
  {
   "cell_type": "markdown",
   "metadata": {},
   "source": [
    "다음 file 을 읽어서 가장 빈번하게 나타나는 top 10 단어들을 출력  \n",
    "\n",
    "    1. \"poet.txt\" file 을 open  \n",
    "    2. count dictionary 생성   \n",
    "    3. count.items() 를 이용하여 (key, value) list 생성  \n",
    "    4. value 의 reverse 순으로 정렬 -> sorted(list, reverse=True)"
   ]
  },
  {
   "cell_type": "code",
   "execution_count": null,
   "metadata": {},
   "outputs": [],
   "source": [
    "f = open('poet.txt')\n",
    "counts = dict()\n",
    "\n",
    "for line in f:\n",
    "    for word in line.split():\n",
    "        # Your code here\n",
    "\n",
    "count_lst = []\n",
    "for k, v in counts.items():\n",
    "    # Your code here"
   ]
  },
  {
   "cell_type": "code",
   "execution_count": 20,
   "metadata": {},
   "outputs": [
    {
     "name": "stdout",
     "output_type": "stream",
     "text": [
      "[(791, 'the'), (370, 'and'), (370, 'I'), (257, 'to'), (252, 'a'), (235, 'of'), (224, 'And'), (210, 'my'), (191, 'in'), (143, 'me')]\n"
     ]
    }
   ],
   "source": []
  }
 ],
 "metadata": {
  "kernelspec": {
   "display_name": "Python 3 (ipykernel)",
   "language": "python",
   "name": "python3"
  },
  "language_info": {
   "codemirror_mode": {
    "name": "ipython",
    "version": 3
   },
   "file_extension": ".py",
   "mimetype": "text/x-python",
   "name": "python",
   "nbconvert_exporter": "python",
   "pygments_lexer": "ipython3",
   "version": "3.8.12"
  }
 },
 "nbformat": 4,
 "nbformat_minor": 2
}
