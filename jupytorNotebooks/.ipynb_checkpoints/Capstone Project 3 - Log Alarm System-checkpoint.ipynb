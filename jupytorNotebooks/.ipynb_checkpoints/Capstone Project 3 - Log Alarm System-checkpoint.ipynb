{
 "cells": [
  {
   "cell_type": "markdown",
   "metadata": {},
   "source": [
    "# Capstone Project 3 - Email Log Alarm"
   ]
  },
  {
   "cell_type": "code",
   "execution_count": 1,
   "metadata": {},
   "outputs": [
    {
     "data": {
      "text/plain": [
       "('2022-05-10', 18, 12)"
      ]
     },
     "execution_count": 1,
     "metadata": {},
     "output_type": "execute_result"
    }
   ],
   "source": [
    "import datetime\n",
    "import re\n",
    "import pandas as pd\n",
    "import time\n",
    "\n",
    "now = datetime.datetime.now()\n",
    "now.strftime('%Y-%m-%d'), now.hour, now.minute"
   ]
  },
  {
   "cell_type": "code",
   "execution_count": 34,
   "metadata": {},
   "outputs": [],
   "source": [
    "def send_email(msg):\n",
    "    import smtplib, ssl\n",
    "    from email.mime.text import MIMEText\n",
    "\n",
    "    port = 465  # For SSL\n",
    "    smtp_server = \"smtp.gmail.com\"\n",
    "    sender_email = \"ironmanciti@gmail.com\"  # Enter your address\n",
    "    receiver_email = \"trimurti@naver.com\"  # Enter receiver address\n",
    "    with open(\"password.txt\", \"r\") as pswd:\n",
    "        password = pswd.read()\n",
    "\n",
    "\n",
    "    msg = MIMEText('로그에서 문제가 감지되었습니다 --> ' + msg)\n",
    "    msg['Subject'] = '문제 발생'\n",
    "    msg['From'] = receiver_email\n",
    "    msg['To'] = receiver_email\n",
    "\n",
    "    context = ssl.create_default_context()\n",
    "    with smtplib.SMTP_SSL(smtp_server, port, context=context) as server:\n",
    "        server.login(sender_email, password)\n",
    "        server.sendmail(sender_email, receiver_email, msg.as_string())   \n",
    "        server.quit()"
   ]
  },
  {
   "cell_type": "markdown",
   "metadata": {},
   "source": [
    "### 주기적 bitcoin price notice"
   ]
  },
  {
   "cell_type": "code",
   "execution_count": 2,
   "metadata": {},
   "outputs": [],
   "source": [
    "def bitcoin_price():   \n",
    "    from urllib.request import Request, urlopen\n",
    "    from bs4 import BeautifulSoup\n",
    "    URL = \"https://kr.investing.com/crypto/bitcoin/\"\n",
    "    hdr = {'User-Agent': 'Mozilla/5.0'}\n",
    "    #비트코인 site 접속\n",
    "    req = Request(URL, headers=hdr)\n",
    "    page = urlopen(req)\n",
    "    #웹페이지 파싱\n",
    "    html = BeautifulSoup(page, \"html.parser\")\n",
    "    found = html.find(class_=\"newInput inputTextBox alertValue\")\n",
    "    found = re.search(\"[0-9,.]+\", str(found))\n",
    "    price = found.group()\n",
    "    return price"
   ]
  },
  {
   "cell_type": "code",
   "execution_count": 3,
   "metadata": {},
   "outputs": [
    {
     "data": {
      "text/plain": [
       "'31,831.4'"
      ]
     },
     "execution_count": 3,
     "metadata": {},
     "output_type": "execute_result"
    }
   ],
   "source": [
    "bitcoin_price()"
   ]
  },
  {
   "cell_type": "code",
   "execution_count": 4,
   "metadata": {},
   "outputs": [
    {
     "name": "stdout",
     "output_type": "stream",
     "text": [
      "성공적으로 메일 발송\n"
     ]
    }
   ],
   "source": [
    "from email_sender import send_email\n",
    "\n",
    "subject = 'bitcoin 가격'\n",
    "body = f'현재 bitcoin 가격은 {bitcoin_price()} 입니다.'\n",
    "\n",
    "send_email(subject, body)"
   ]
  },
  {
   "cell_type": "code",
   "execution_count": 7,
   "metadata": {},
   "outputs": [],
   "source": [
    "def log_check(ymd, hour, minute):\n",
    "    f = open('emailbox-short.txt', 'r')\n",
    "\n",
    "    for line in f:\n",
    "        result = re.search('\\d \\d\\d:\\d\\d:\\d\\d \\d{4}|\\d+ \\w+ \\d{4} \\d\\d:\\d\\d:\\d\\d', line)\n",
    "        if result:\n",
    "            str_time = result.group()\n",
    "            log_time = pd.to_datetime(str_time)\n",
    "            if log_time.strftime('%Y-%m-%d') == ymd and \\\n",
    "               log_time.hour == hour and \\\n",
    "               log_time.minute == minute:\n",
    "                subject = \"침입 발견 warning !!\"\n",
    "                body = str(log_time) + \"\\n\" + \"해당 일자의 log 가 검출되었습니다.\"\n",
    "                print(\"email sent...\", subject)\n",
    "                send_email(subject, body)\n",
    "                break"
   ]
  },
  {
   "cell_type": "code",
   "execution_count": 8,
   "metadata": {},
   "outputs": [
    {
     "name": "stdout",
     "output_type": "stream",
     "text": [
      "log checked at  2008-01-04 11:11:03\n",
      "email sent... 침입 발견 warning !!\n",
      "성공적으로 메일 발송\n",
      "log checked at  2008-01-04 11:11:03\n",
      "email sent... 침입 발견 warning !!\n",
      "성공적으로 메일 발송\n",
      "log checked at  2008-01-04 11:11:03\n",
      "email sent... 침입 발견 warning !!\n",
      "성공적으로 메일 발송\n",
      "log checked at  2008-01-04 11:11:03\n",
      "email sent... 침입 발견 warning !!\n",
      "성공적으로 메일 발송\n"
     ]
    }
   ],
   "source": [
    "i = 1\n",
    "while True:\n",
    "    if i > 3:\n",
    "        break\n",
    "    now = pd.to_datetime(\"2008-01-04 11:11:03\")\n",
    "    ymd = now.strftime('%Y-%m-%d')\n",
    "    hour = now.hour\n",
    "    minute = now.minute\n",
    "    print(\"log checked at \", now)\n",
    "    log_check(ymd, hour, minute)\n",
    "    time.sleep(5)\n",
    "    i += 1"
   ]
  },
  {
   "cell_type": "code",
   "execution_count": null,
   "metadata": {},
   "outputs": [],
   "source": []
  }
 ],
 "metadata": {
  "kernelspec": {
   "display_name": "Python 3 (ipykernel)",
   "language": "python",
   "name": "python3"
  },
  "language_info": {
   "codemirror_mode": {
    "name": "ipython",
    "version": 3
   },
   "file_extension": ".py",
   "mimetype": "text/x-python",
   "name": "python",
   "nbconvert_exporter": "python",
   "pygments_lexer": "ipython3",
   "version": "3.8.12"
  }
 },
 "nbformat": 4,
 "nbformat_minor": 2
}
