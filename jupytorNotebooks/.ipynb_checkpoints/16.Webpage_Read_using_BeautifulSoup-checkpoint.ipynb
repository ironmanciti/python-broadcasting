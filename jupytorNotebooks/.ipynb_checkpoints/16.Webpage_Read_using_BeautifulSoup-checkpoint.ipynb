{
 "cells": [
  {
   "cell_type": "markdown",
   "metadata": {},
   "source": [
    "# 16. BeautifulSoup 으로 Webpage 읽어오기\n",
    "\n",
    "- 16_index.html file 을 webserver 에서 open   \n",
    "\n",
    "    VS Code --> LiveServer 확장 프로그램 설치 --> Open with Live Server"
   ]
  },
  {
   "cell_type": "markdown",
   "metadata": {},
   "source": [
    "## Web Scraping\n",
    "\n",
    "- program 이 browser 인 것 처럼 행동하여 web page 를 access 하고 정보 추출  \n",
    "\n",
    "\n",
    "    - hard way : regular expression 을 이용  \n",
    "    - easy way : beautifulsoup 사용\n",
    "    \n",
    "- ``pip install beautifulsoup4``"
   ]
  },
  {
   "cell_type": "code",
   "execution_count": 1,
   "metadata": {},
   "outputs": [],
   "source": [
    "from bs4 import BeautifulSoup\n",
    "import urllib.request as req"
   ]
  },
  {
   "cell_type": "markdown",
   "metadata": {},
   "source": [
    "### html file 읽기\n",
    "\n",
    "- local web server start"
   ]
  },
  {
   "cell_type": "code",
   "execution_count": 2,
   "metadata": {},
   "outputs": [],
   "source": [
    "url = \"http://127.0.0.1:8887/16_index.html\""
   ]
  },
  {
   "cell_type": "code",
   "execution_count": 3,
   "metadata": {},
   "outputs": [
    {
     "name": "stdout",
     "output_type": "stream",
     "text": [
      "<!DOCTYPE html>\r\n",
      "<html lang=\"en\">\r\n",
      "<head>\r\n",
      "    <meta charset=\"UTF-8\">\r\n",
      "    <meta name=\"viewport\" content=\"width=device-width, initial-scale=1.0\">\r\n",
      "    <title>방송기술교육원</title>\r\n",
      "</head>\r\n",
      "<body>\r\n",
      "    <h1>BeautifulSoup Web Crawling</h1>\r\n",
      "    <p>뷰티플숩을 이용한 웹 크롤링</p>\r\n",
      "    <div class=\"firstclass\" id=\"div1\">\r\n",
      "        <p>첫번째 div 안의 paragraph 입니다.</p>\r\n",
      "    </div>\r\n",
      "    <div class=\"secondclass\" id=\"div2\">\r\n",
      "        <p>두번째 div 안의 paragraph 입니다.</p>\r\n",
      "    </div>\r\n",
      "</body>\r\n",
      "</html>\n"
     ]
    }
   ],
   "source": [
    "res = req.urlopen(url)\n",
    "\n",
    "print(res.read().decode('utf-8'))"
   ]
  },
  {
   "cell_type": "markdown",
   "metadata": {},
   "source": [
    "## html 내의 tag 내용 읽기\n",
    "\n",
    "### hard way\n",
    "\n",
    "- regular expression을 이용하여 html 내의 tag 검색"
   ]
  },
  {
   "cell_type": "code",
   "execution_count": 4,
   "metadata": {},
   "outputs": [
    {
     "data": {
      "text/plain": [
       "'방송기술교육원'"
      ]
     },
     "execution_count": 4,
     "metadata": {},
     "output_type": "execute_result"
    }
   ],
   "source": [
    "import re\n",
    "\n",
    "res = req.urlopen(url)\n",
    "text = res.read().decode('utf-8')\n",
    "\n",
    "# web page 의 title 읽기\n",
    "p1 = re.search('<title>', text)\n",
    "p2 = re.search('</title>', text)\n",
    "\n",
    "text[p1.span()[1] : p2.span()[0]]"
   ]
  },
  {
   "cell_type": "markdown",
   "metadata": {},
   "source": [
    "### Easy way\n",
    "\n",
    "- Beautifulsoup 이용"
   ]
  },
  {
   "cell_type": "code",
   "execution_count": 5,
   "metadata": {},
   "outputs": [],
   "source": [
    "res = req.urlopen(url)\n",
    "\n",
    "soup = BeautifulSoup(res, 'html.parser')"
   ]
  },
  {
   "cell_type": "code",
   "execution_count": 6,
   "metadata": {},
   "outputs": [
    {
     "data": {
      "text/plain": [
       "<title>방송기술교육원</title>"
      ]
     },
     "execution_count": 6,
     "metadata": {},
     "output_type": "execute_result"
    }
   ],
   "source": [
    "soup.title"
   ]
  },
  {
   "cell_type": "code",
   "execution_count": 7,
   "metadata": {},
   "outputs": [
    {
     "name": "stdout",
     "output_type": "stream",
     "text": [
      "방송기술교육원\n",
      "방송기술교육원\n"
     ]
    }
   ],
   "source": [
    "print(soup.title.get_text())\n",
    "print(soup.title.text)"
   ]
  },
  {
   "cell_type": "markdown",
   "metadata": {},
   "source": [
    "- ``h1`` tag 내용 읽기"
   ]
  },
  {
   "cell_type": "code",
   "execution_count": 8,
   "metadata": {},
   "outputs": [
    {
     "name": "stdout",
     "output_type": "stream",
     "text": [
      "<h1>BeautifulSoup Web Crawling</h1>\n",
      "BeautifulSoup Web Crawling\n"
     ]
    }
   ],
   "source": [
    "print(soup.h1)\n",
    "print(soup.h1.text)"
   ]
  },
  {
   "cell_type": "markdown",
   "metadata": {},
   "source": [
    "- 같은 tag 가 중복된 경우(ex. `div`) 첫번째 tag display\n",
    "\n",
    "```\n",
    "<body>\n",
    "    <h1>BeautifulSoup Web Crawling</h1>\n",
    "    <p>뷰티플숩을 이용한 웹 크롤링</p>\n",
    "    <div class=\"firstclass\" id=\"div1\">\n",
    "        <p>첫번째 div 안의 paragraph 입니다.</p>\n",
    "    </div>\n",
    "    <div class=\"secondclass\" id=\"div2\">\n",
    "        <p>두번째 div 안의 paragraph 입니다.</p>\n",
    "    </div>\n",
    "</body>\n",
    "```"
   ]
  },
  {
   "cell_type": "code",
   "execution_count": 9,
   "metadata": {},
   "outputs": [
    {
     "data": {
      "text/plain": [
       "<div class=\"firstclass\" id=\"div1\">\n",
       "<p>첫번째 div 안의 paragraph 입니다.</p>\n",
       "</div>"
      ]
     },
     "execution_count": 9,
     "metadata": {},
     "output_type": "execute_result"
    }
   ],
   "source": [
    "soup.div"
   ]
  },
  {
   "cell_type": "markdown",
   "metadata": {},
   "source": [
    "- 중복된 tag 를 모두 find"
   ]
  },
  {
   "cell_type": "code",
   "execution_count": 10,
   "metadata": {},
   "outputs": [
    {
     "data": {
      "text/plain": [
       "[<div class=\"firstclass\" id=\"div1\">\n",
       " <p>첫번째 div 안의 paragraph 입니다.</p>\n",
       " </div>,\n",
       " <div class=\"secondclass\" id=\"div2\">\n",
       " <p>두번째 div 안의 paragraph 입니다.</p>\n",
       " </div>]"
      ]
     },
     "execution_count": 10,
     "metadata": {},
     "output_type": "execute_result"
    }
   ],
   "source": [
    "soup.find_all('div')"
   ]
  },
  {
   "cell_type": "markdown",
   "metadata": {},
   "source": [
    "- 특정 id 를 지정하여 find"
   ]
  },
  {
   "cell_type": "code",
   "execution_count": 11,
   "metadata": {},
   "outputs": [
    {
     "name": "stdout",
     "output_type": "stream",
     "text": [
      "[<div class=\"firstclass\" id=\"div1\">\n",
      "<p>첫번째 div 안의 paragraph 입니다.</p>\n",
      "</div>]\n",
      "\n",
      "첫번째 div 안의 paragraph 입니다.\n",
      "\n"
     ]
    }
   ],
   "source": [
    "print(soup.find_all(id=\"div1\"))\n",
    "print(soup.find_all(id=\"div1\")[0].text)"
   ]
  },
  {
   "cell_type": "markdown",
   "metadata": {},
   "source": [
    "- 특정 class 를 지정하여 find  \n",
    "- class 는 Python 의 keyword 이므로 class_ 로 표시"
   ]
  },
  {
   "cell_type": "code",
   "execution_count": 12,
   "metadata": {},
   "outputs": [
    {
     "data": {
      "text/plain": [
       "[<div class=\"secondclass\" id=\"div2\">\n",
       " <p>두번째 div 안의 paragraph 입니다.</p>\n",
       " </div>]"
      ]
     },
     "execution_count": 12,
     "metadata": {},
     "output_type": "execute_result"
    }
   ],
   "source": [
    "soup.find_all(class_=\"secondclass\")"
   ]
  },
  {
   "cell_type": "markdown",
   "metadata": {},
   "source": [
    "- tag 내의 속성 (attribute) 가져오기"
   ]
  },
  {
   "cell_type": "code",
   "execution_count": 13,
   "metadata": {},
   "outputs": [
    {
     "data": {
      "text/plain": [
       "['firstclass']"
      ]
     },
     "execution_count": 13,
     "metadata": {},
     "output_type": "execute_result"
    }
   ],
   "source": [
    "soup.find('div')['class']"
   ]
  },
  {
   "cell_type": "markdown",
   "metadata": {},
   "source": [
    "## 실전 연습\n",
    "\n",
    "### `방송기술 교육원 ` 게시판 제목 검색"
   ]
  },
  {
   "cell_type": "code",
   "execution_count": 20,
   "metadata": {},
   "outputs": [],
   "source": [
    "url = \"http://edu.kobeta.com/community/\"\n",
    "res = req.urlopen(url)\n",
    "\n",
    "# print(res.read().decode('utf-8'))\n",
    "\n",
    "soup = BeautifulSoup(res, 'html.parser')"
   ]
  },
  {
   "cell_type": "code",
   "execution_count": 21,
   "metadata": {},
   "outputs": [],
   "source": [
    "divs = soup.find_all(class_=\"notice-list-middle\")"
   ]
  },
  {
   "cell_type": "code",
   "execution_count": 22,
   "metadata": {},
   "outputs": [
    {
     "data": {
      "text/plain": [
       "[<div class=\"notice-list-middle\" onclick=\"location.href = '/community/index.php?bbs_data=aWR4PTEwNyZzdGFydFBhZ2U9MCZsaXN0Tm89NDkmdGFibGU9Y3NfYmJzX2RhdGEmY29kZT1ub3RpY2Umc2VhcmNoX2l0ZW09JnNlYXJjaF9vcmRlcj0=||&amp;bgu=view'\">\n",
       " <dl>\n",
       " <dd style=\"width:60px\"><img alt=\"\" src=\"../images/content/icon_notice.gif\"/></dd>\n",
       " <dd style=\"width:650px;color:#555\"><strong>위탁교육 홍보 및 안내</strong></dd>\n",
       " <dd style=\"width:200px\">2018-03-21</dd>\n",
       " <dd style=\"width:60px\">5995</dd>\n",
       " </dl>\n",
       " </div>,\n",
       " <div class=\"notice-list-middle\" onclick=\"location.href = '/community/index.php?bbs_data=aWR4PTUwJnN0YXJ0UGFnZT0wJmxpc3RObz00OSZ0YWJsZT1jc19iYnNfZGF0YSZjb2RlPW5vdGljZSZzZWFyY2hfaXRlbT0mc2VhcmNoX29yZGVyPQ==||&amp;bgu=view'\">\n",
       " <dl>\n",
       " <dd style=\"width:60px\"><img alt=\"\" src=\"../images/content/icon_notice.gif\"/></dd>\n",
       " <dd style=\"width:650px;color:#555\"><strong>지역 방송기술 세미나 희망 지역사 의견 접수</strong></dd>\n",
       " <dd style=\"width:200px\">2016-01-13</dd>\n",
       " <dd style=\"width:60px\">5232</dd>\n",
       " </dl>\n",
       " </div>,\n",
       " <div class=\"notice-list-middle\" onclick=\"location.href = '/community/index.php?bbs_data=aWR4PTE3MiZzdGFydFBhZ2U9MCZsaXN0Tm89NDkmdGFibGU9Y3NfYmJzX2RhdGEmY29kZT1ub3RpY2Umc2VhcmNoX2l0ZW09JnNlYXJjaF9vcmRlcj0=||&amp;bgu=view'\">\n",
       " <dl>\n",
       " <dd style=\"width:60px\">49</dd>\n",
       " <dd style=\"width:650px\">[외부행사 안내] 2022년 OTT 연계 방송영상콘텐츠 기획안 공모</dd>\n",
       " <dd style=\"width:200px\">2022-04-20</dd>\n",
       " <dd style=\"width:60px\">76</dd>\n",
       " </dl>\n",
       " </div>,\n",
       " <div class=\"notice-list-middle\" onclick=\"location.href = '/community/index.php?bbs_data=aWR4PTE3MSZzdGFydFBhZ2U9MCZsaXN0Tm89NDgmdGFibGU9Y3NfYmJzX2RhdGEmY29kZT1ub3RpY2Umc2VhcmNoX2l0ZW09JnNlYXJjaF9vcmRlcj0=||&amp;bgu=view'\">\n",
       " <dl>\n",
       " <dd style=\"width:60px\">48</dd>\n",
       " <dd style=\"width:650px\">2021 지상파 UHD 방송 세미나 개최</dd>\n",
       " <dd style=\"width:200px\">2021-12-14</dd>\n",
       " <dd style=\"width:60px\">845</dd>\n",
       " </dl>\n",
       " </div>,\n",
       " <div class=\"notice-list-middle\" onclick=\"location.href = '/community/index.php?bbs_data=aWR4PTE2OSZzdGFydFBhZ2U9MCZsaXN0Tm89NDcmdGFibGU9Y3NfYmJzX2RhdGEmY29kZT1ub3RpY2Umc2VhcmNoX2l0ZW09JnNlYXJjaF9vcmRlcj0=||&amp;bgu=view'\">\n",
       " <dl>\n",
       " <dd style=\"width:60px\">47</dd>\n",
       " <dd style=\"width:650px\">2021 콘텐츠 QC 세미나 개최</dd>\n",
       " <dd style=\"width:200px\">2021-10-19</dd>\n",
       " <dd style=\"width:60px\">1376</dd>\n",
       " </dl>\n",
       " </div>,\n",
       " <div class=\"notice-list-middle\" onclick=\"location.href = '/community/index.php?bbs_data=aWR4PTE2OCZzdGFydFBhZ2U9MCZsaXN0Tm89NDYmdGFibGU9Y3NfYmJzX2RhdGEmY29kZT1ub3RpY2Umc2VhcmNoX2l0ZW09JnNlYXJjaF9vcmRlcj0=||&amp;bgu=view'\">\n",
       " <dl>\n",
       " <dd style=\"width:60px\">46</dd>\n",
       " <dd style=\"width:650px\">2021년도 컬러 그레이딩 전문가 양성과정 선발 결과 안내</dd>\n",
       " <dd style=\"width:200px\">2021-09-29</dd>\n",
       " <dd style=\"width:60px\">1855</dd>\n",
       " </dl>\n",
       " </div>,\n",
       " <div class=\"notice-list-middle\" onclick=\"location.href = '/community/index.php?bbs_data=aWR4PTE2NyZzdGFydFBhZ2U9MCZsaXN0Tm89NDUmdGFibGU9Y3NfYmJzX2RhdGEmY29kZT1ub3RpY2Umc2VhcmNoX2l0ZW09JnNlYXJjaF9vcmRlcj0=||&amp;bgu=view'\">\n",
       " <dl>\n",
       " <dd style=\"width:60px\">45</dd>\n",
       " <dd style=\"width:650px\">방송 네트워크 파일기반 제작 시스템 교육 일정 연기 안내</dd>\n",
       " <dd style=\"width:200px\">2021-07-21</dd>\n",
       " <dd style=\"width:60px\">2102</dd>\n",
       " </dl>\n",
       " </div>,\n",
       " <div class=\"notice-list-middle\" onclick=\"location.href = '/community/index.php?bbs_data=aWR4PTE2MyZzdGFydFBhZ2U9MCZsaXN0Tm89NDQmdGFibGU9Y3NfYmJzX2RhdGEmY29kZT1ub3RpY2Umc2VhcmNoX2l0ZW09JnNlYXJjaF9vcmRlcj0=||&amp;bgu=view'\">\n",
       " <dl>\n",
       " <dd style=\"width:60px\">44</dd>\n",
       " <dd style=\"width:650px\">5G Broadcast World Forum</dd>\n",
       " <dd style=\"width:200px\">2021-05-11</dd>\n",
       " <dd style=\"width:60px\">2188</dd>\n",
       " </dl>\n",
       " </div>,\n",
       " <div class=\"notice-list-middle\" onclick=\"location.href = '/community/index.php?bbs_data=aWR4PTE2MiZzdGFydFBhZ2U9MCZsaXN0Tm89NDMmdGFibGU9Y3NfYmJzX2RhdGEmY29kZT1ub3RpY2Umc2VhcmNoX2l0ZW09JnNlYXJjaF9vcmRlcj0=||&amp;bgu=view'\">\n",
       " <dl>\n",
       " <dd style=\"width:60px\">43</dd>\n",
       " <dd style=\"width:650px\">[외부교육 안내] 2020 저널리즘아카데미 위드 코로나, 변화의 키워드 …</dd>\n",
       " <dd style=\"width:200px\">2020-10-21</dd>\n",
       " <dd style=\"width:60px\">2662</dd>\n",
       " </dl>\n",
       " </div>,\n",
       " <div class=\"notice-list-middle\" onclick=\"location.href = '/community/index.php?bbs_data=aWR4PTE1OSZzdGFydFBhZ2U9MCZsaXN0Tm89NDImdGFibGU9Y3NfYmJzX2RhdGEmY29kZT1ub3RpY2Umc2VhcmNoX2l0ZW09JnNlYXJjaF9vcmRlcj0=||&amp;bgu=view'\">\n",
       " <dl>\n",
       " <dd style=\"width:60px\">42</dd>\n",
       " <dd style=\"width:650px\">2020 Total Production Control System 전문가 양성과정 신청 안내</dd>\n",
       " <dd style=\"width:200px\">2020-10-07</dd>\n",
       " <dd style=\"width:60px\">2890</dd>\n",
       " </dl>\n",
       " </div>,\n",
       " <div class=\"notice-list-middle\" onclick=\"location.href = '/community/index.php?bbs_data=aWR4PTE0OSZzdGFydFBhZ2U9MCZsaXN0Tm89NDEmdGFibGU9Y3NfYmJzX2RhdGEmY29kZT1ub3RpY2Umc2VhcmNoX2l0ZW09JnNlYXJjaF9vcmRlcj0=||&amp;bgu=view'\">\n",
       " <dl>\n",
       " <dd style=\"width:60px\">41</dd>\n",
       " <dd style=\"width:650px\">2019 글로벌 IP Technical 전문가 양성과정 신청 안내</dd>\n",
       " <dd style=\"width:200px\">2019-10-07</dd>\n",
       " <dd style=\"width:60px\">9420</dd>\n",
       " </dl>\n",
       " </div>,\n",
       " <div class=\"notice-list-middle\" onclick=\"location.href = '/community/index.php?bbs_data=aWR4PTE0OCZzdGFydFBhZ2U9MCZsaXN0Tm89NDAmdGFibGU9Y3NfYmJzX2RhdGEmY29kZT1ub3RpY2Umc2VhcmNoX2l0ZW09JnNlYXJjaF9vcmRlcj0=||&amp;bgu=view'\">\n",
       " <dl>\n",
       " <dd style=\"width:60px\">40</dd>\n",
       " <dd style=\"width:650px\">2019 글로벌 IP Technical 전문가 양성과정 선발 결과 안내</dd>\n",
       " <dd style=\"width:200px\">2019-09-30</dd>\n",
       " <dd style=\"width:60px\">6734</dd>\n",
       " </dl>\n",
       " </div>]"
      ]
     },
     "execution_count": 22,
     "metadata": {},
     "output_type": "execute_result"
    }
   ],
   "source": [
    "divs"
   ]
  },
  {
   "cell_type": "code",
   "execution_count": 23,
   "metadata": {},
   "outputs": [
    {
     "name": "stdout",
     "output_type": "stream",
     "text": [
      "위탁교육 홍보 및 안내\n",
      "지역 방송기술 세미나 희망 지역사 의견 접수\n",
      "[외부행사 안내] 2022년 OTT 연계 방송영상콘텐츠 기획안 공모\n",
      "2021 지상파 UHD 방송 세미나 개최\n",
      "2021 콘텐츠 QC 세미나 개최\n",
      "2021년도 컬러 그레이딩 전문가 양성과정 선발 결과 안내\n",
      "방송 네트워크 파일기반 제작 시스템 교육 일정 연기 안내\n",
      "5G Broadcast World Forum\n",
      "[외부교육 안내] 2020 저널리즘아카데미 위드 코로나, 변화의 키워드 …\n",
      "2020 Total Production Control System 전문가 양성과정 신청 안내\n",
      "2019 글로벌 IP Technical 전문가 양성과정 신청 안내\n",
      "2019 글로벌 IP Technical 전문가 양성과정 선발 결과 안내\n"
     ]
    }
   ],
   "source": [
    "for div in divs:\n",
    "    for dd in div.find_all('dd'):\n",
    "        if re.search('[가-힣ㄱ-ㅎㅏ-ㅣa-zA-Z]', dd.text):\n",
    "            print(dd.text)"
   ]
  },
  {
   "cell_type": "markdown",
   "metadata": {},
   "source": [
    "- 2nd page"
   ]
  },
  {
   "cell_type": "code",
   "execution_count": 24,
   "metadata": {},
   "outputs": [],
   "source": [
    "url = \"http://edu.kobeta.com/community/index.php?bbs_data=c3RhcnRQYWdlPTEwJmNvZGU9bm90aWNlJnRhYmxlPWNzX2Jic19kYXRhJnNlYXJjaF9pdGVtPSZzZWFyY2hfb3JkZXI9||\""
   ]
  },
  {
   "cell_type": "code",
   "execution_count": 25,
   "metadata": {},
   "outputs": [
    {
     "name": "stdout",
     "output_type": "stream",
     "text": [
      "위탁교육 홍보 및 안내\n",
      "지역 방송기술 세미나 희망 지역사 의견 접수\n",
      "2019 글로벌 Broadcast ATSC 3.0 전문가 양성과정 선발 결과 안내\n",
      "2019 글로벌 Broadcast ATSC 3.0 전문가 양성과정 신청 안내\n",
      "KOC 2018 \"연결이 가치를 만들어낸다\" 개최 안내\n",
      "2018 글로벌 UHD 실감형 오디오 제작 전문가 양성과정 선발 결과 안내\n",
      "2018 글로벌 UHD 실감형 오디오 제작 전문가 양성과정 신청 안내\n",
      "2018 글로벌 HDR 컬러리스트 전문가 양성과정 선발 결과 안내\n",
      "2018 글로벌 HDR 컬러리스트 전문가 양성과정 신청 안내\n",
      "KOBA World Media Forum 2018 개최 안내\n",
      "2017 글로벌 방송제작기술 전문가 양성과정 선발 결과 안내\n",
      "2017 글로벌 방송제작기술 전문가 양성과정 신청 안내\n"
     ]
    }
   ],
   "source": [
    "res = req.urlopen(url)\n",
    "soup = BeautifulSoup(res, 'html.parser')\n",
    "divs = soup.find_all(class_=\"notice-list-middle\")\n",
    "for div in divs:\n",
    "    for dd in div.find_all('dd'):\n",
    "        if re.search('[가-힣ㄱ-ㅎㅏ-ㅣa-zA-Z]', dd.text):\n",
    "            print(dd.text)"
   ]
  },
  {
   "cell_type": "code",
   "execution_count": null,
   "metadata": {},
   "outputs": [],
   "source": []
  }
 ],
 "metadata": {
  "kernelspec": {
   "display_name": "Python 3 (ipykernel)",
   "language": "python",
   "name": "python3"
  },
  "language_info": {
   "codemirror_mode": {
    "name": "ipython",
    "version": 3
   },
   "file_extension": ".py",
   "mimetype": "text/x-python",
   "name": "python",
   "nbconvert_exporter": "python",
   "pygments_lexer": "ipython3",
   "version": "3.8.12"
  }
 },
 "nbformat": 4,
 "nbformat_minor": 2
}
