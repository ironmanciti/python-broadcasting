{
 "cells": [
  {
   "cell_type": "markdown",
   "metadata": {},
   "source": [
    "<h1><center> Python을 활용한\n",
    "자동화 프로그래밍 과정 </center></h1>"
   ]
  },
  {
   "cell_type": "markdown",
   "metadata": {},
   "source": [
    "\n",
    "## 목차\n",
    "\n",
    "### 1. print\n",
    "\n",
    "### 2. Data Type\n",
    "\n",
    "### 3. 파이썬의 변수 (variable)\n",
    "\n",
    "### 4. 함수 (Function) \n",
    "\n",
    "### 5. List 와 Tuple \n",
    "\n",
    "### 6. for-loop\n",
    "\n",
    "### 7. 조건문\n",
    "\n",
    "### 8. range() 함수\n",
    "\n",
    "### 9. Dictionary 자료형\n",
    "\n",
    "### 10. String (문자열)\n",
    "\n",
    "### 11. Module\n",
    "\n",
    "### 12. while 문\n",
    "\n",
    "### 13. File 입출력\n",
    "\n",
    "### 14. 정규식 (Regular Expression)  \n",
    "\n",
    "### 15. List Comprehension\n",
    "\n",
    "### 16. BeautifulSoup 으로 Webpage 읽어오기\n",
    "\n",
    "### 17. Pandas Crash\n",
    "\n",
    "### 18. SMTP Email send\n",
    "\n",
    "\n",
    "### Capstone Project - 1 : Pandas HTML Web Crawling\n",
    "### Capstone Project - 2 : Stock Price\n",
    "### Capstone Project - 3 : Log Alarm System"
   ]
  },
  {
   "cell_type": "code",
   "execution_count": null,
   "metadata": {},
   "outputs": [],
   "source": []
  }
 ],
 "metadata": {
  "kernelspec": {
   "display_name": "Python 3 (ipykernel)",
   "language": "python",
   "name": "python3"
  },
  "language_info": {
   "codemirror_mode": {
    "name": "ipython",
    "version": 3
   },
   "file_extension": ".py",
   "mimetype": "text/x-python",
   "name": "python",
   "nbconvert_exporter": "python",
   "pygments_lexer": "ipython3",
   "version": "3.8.12"
  }
 },
 "nbformat": 4,
 "nbformat_minor": 2
}
