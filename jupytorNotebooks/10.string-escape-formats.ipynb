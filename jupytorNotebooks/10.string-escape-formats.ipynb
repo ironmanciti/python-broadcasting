{
 "cells": [
  {
   "cell_type": "markdown",
   "metadata": {},
   "source": [
    "# 10. 스트링 (String) \n",
    "\n",
    "## 스트링 (String) 자료형과 string 함수\n",
    "\n",
    "### Python 의 string 자료형은 text 형태의 문자열을 말함.\n",
    "### 문자열은 \" \" , ' '  혹은 \"\"\" \"\"\" 로 둘러싸인 문자들의 집합임.\n",
    "    \"Life is short\"\n",
    "    'a'\n",
    "    \"123\"\n",
    "    \"\"\"String is Python's text type.\"\"\"\n",
    "### string 자료는 수정할 수 없음 (immutable)\n",
    "\n",
    "* 수정할 수 있는 자료형 (mutable)  \n",
    "    list\n",
    "    \n",
    "* 수정할 수 없는 자료형 (immutable)  \n",
    "    string, tuple\n",
    "    \n",
    "### string 간의 +, * 연산이 가능"
   ]
  },
  {
   "cell_type": "markdown",
   "metadata": {},
   "source": [
    "### string 과 list 비교"
   ]
  },
  {
   "cell_type": "code",
   "execution_count": 5,
   "metadata": {},
   "outputs": [
    {
     "name": "stdout",
     "output_type": "stream",
     "text": [
      "o\n",
      "d\n"
     ]
    }
   ],
   "source": [
    "xlist = ['g','o','o','d']\n",
    "print(xlist[1])\n",
    "print(xlist[-1])"
   ]
  },
  {
   "cell_type": "code",
   "execution_count": 6,
   "metadata": {},
   "outputs": [
    {
     "name": "stdout",
     "output_type": "stream",
     "text": [
      "o\n",
      "d\n"
     ]
    }
   ],
   "source": [
    "s1 = 'good'\n",
    "print(s1[1])\n",
    "print(s1[-1])"
   ]
  },
  {
   "cell_type": "markdown",
   "metadata": {},
   "source": [
    "### string operation"
   ]
  },
  {
   "cell_type": "code",
   "execution_count": 7,
   "metadata": {},
   "outputs": [
    {
     "name": "stdout",
     "output_type": "stream",
     "text": [
      "Good morning\n"
     ]
    }
   ],
   "source": [
    "s2 = \"Good\" + \" morning\"\n",
    "print(s2)"
   ]
  },
  {
   "cell_type": "code",
   "execution_count": 8,
   "metadata": {},
   "outputs": [
    {
     "name": "stdout",
     "output_type": "stream",
     "text": [
      "goodgoodgood\n"
     ]
    }
   ],
   "source": [
    "s3 = \"good\" * 3\n",
    "print(s3)"
   ]
  },
  {
   "cell_type": "code",
   "execution_count": 9,
   "metadata": {},
   "outputs": [
    {
     "data": {
      "text/plain": [
       "'Number3'"
      ]
     },
     "execution_count": 9,
     "metadata": {},
     "output_type": "execute_result"
    }
   ],
   "source": [
    "s4 = \"Number\" + str(3)\n",
    "s4"
   ]
  },
  {
   "cell_type": "markdown",
   "metadata": {},
   "source": [
    "### slicing"
   ]
  },
  {
   "cell_type": "code",
   "execution_count": 16,
   "metadata": {},
   "outputs": [
    {
     "data": {
      "text/plain": [
       "18"
      ]
     },
     "execution_count": 16,
     "metadata": {},
     "output_type": "execute_result"
    }
   ],
   "source": [
    "s5 = \"Python is powerful\"\n",
    "len(s5)"
   ]
  },
  {
   "cell_type": "code",
   "execution_count": 14,
   "metadata": {},
   "outputs": [
    {
     "data": {
      "text/plain": [
       "'Pyth'"
      ]
     },
     "execution_count": 14,
     "metadata": {},
     "output_type": "execute_result"
    }
   ],
   "source": [
    "s5[:4]"
   ]
  },
  {
   "cell_type": "code",
   "execution_count": 15,
   "metadata": {},
   "outputs": [
    {
     "data": {
      "text/plain": [
       "'lufrewop si nohtyP'"
      ]
     },
     "execution_count": 15,
     "metadata": {},
     "output_type": "execute_result"
    }
   ],
   "source": [
    "s5[::-1]"
   ]
  },
  {
   "cell_type": "markdown",
   "metadata": {},
   "source": [
    "### string and for-loop"
   ]
  },
  {
   "cell_type": "code",
   "execution_count": 18,
   "metadata": {},
   "outputs": [
    {
     "name": "stdout",
     "output_type": "stream",
     "text": [
      "P,y,t,h,o,n, ,i,s, ,p,o,w,e,r,f,u,l,"
     ]
    }
   ],
   "source": [
    "for ch in s5:\n",
    "    print(ch, end=\",\")"
   ]
  },
  {
   "cell_type": "markdown",
   "metadata": {},
   "source": [
    "### 대, 소문자 변환\n",
    "    lower( ), upper( )"
   ]
  },
  {
   "cell_type": "code",
   "execution_count": 24,
   "metadata": {},
   "outputs": [],
   "source": [
    "s = \"good morning\""
   ]
  },
  {
   "cell_type": "code",
   "execution_count": 25,
   "metadata": {},
   "outputs": [
    {
     "name": "stdout",
     "output_type": "stream",
     "text": [
      "GOOD MORNING\n"
     ]
    }
   ],
   "source": [
    "S = s.upper()\n",
    "print(S)"
   ]
  },
  {
   "cell_type": "code",
   "execution_count": 26,
   "metadata": {},
   "outputs": [
    {
     "data": {
      "text/plain": [
       "'good morning'"
      ]
     },
     "execution_count": 26,
     "metadata": {},
     "output_type": "execute_result"
    }
   ],
   "source": [
    "S.lower()"
   ]
  },
  {
   "cell_type": "markdown",
   "metadata": {
    "collapsed": true
   },
   "source": [
    "## 12-2. 문자열 포매팅 (String Formatting)\n",
    "\n",
    "- 문자열 포매팅이란 문자열 내에 어떤 값을 삽입하는 것\n",
    "\n",
    "\n",
    "-  { } 로 위치를 표시하고 format( ) method 로 mapping 시킨다.\n",
    "\n",
    "\n",
    "-  `{[순서]:[표시형식]}` 지정 가능\n",
    "\n",
    "\n",
    "-  format( ) method 대신 % 를 이용할 수도 있다. $\\rightarrow$ Python 2.7 방식"
   ]
  },
  {
   "cell_type": "code",
   "execution_count": 25,
   "metadata": {},
   "outputs": [
    {
     "data": {
      "text/plain": [
       "'Python is powerful'"
      ]
     },
     "execution_count": 25,
     "metadata": {},
     "output_type": "execute_result"
    }
   ],
   "source": [
    "\"Python is {}\".format(\"powerful\")"
   ]
  },
  {
   "cell_type": "code",
   "execution_count": 26,
   "metadata": {},
   "outputs": [
    {
     "data": {
      "text/plain": [
       "'Python is easy and powerful'"
      ]
     },
     "execution_count": 26,
     "metadata": {},
     "output_type": "execute_result"
    }
   ],
   "source": [
    "\"Python is {} and {}\".format(\"easy\", \"powerful\")"
   ]
  },
  {
   "cell_type": "code",
   "execution_count": 27,
   "metadata": {},
   "outputs": [
    {
     "data": {
      "text/plain": [
       "\"Float : 1.5, List: ['a', 'b', 'c']\""
      ]
     },
     "execution_count": 27,
     "metadata": {},
     "output_type": "execute_result"
    }
   ],
   "source": [
    "\"Float : {}, List: {}\".format(1.5, ['a','b','c'])"
   ]
  },
  {
   "cell_type": "code",
   "execution_count": 28,
   "metadata": {},
   "outputs": [
    {
     "name": "stdout",
     "output_type": "stream",
     "text": [
      "많이 팔리는 순서는 사과, 바나나, 망고 이고 바나나 는 품절입니다.\n"
     ]
    }
   ],
   "source": [
    "print(\"많이 팔리는 순서는 {0}, {1}, {2} 이고 {1} 는 품절입니다.\"\n",
    "          . format(\"사과\",\"바나나\",\"망고\"))"
   ]
  },
  {
   "cell_type": "code",
   "execution_count": 29,
   "metadata": {},
   "outputs": [
    {
     "name": "stdout",
     "output_type": "stream",
     "text": [
      "Friends are Sean, John and Bill.\n"
     ]
    }
   ],
   "source": [
    "print(\"Friends are {s}, {b} and {j}.\".\n",
    "      format(j=\"Bill\", b=\"John\", s=\"Sean\"))"
   ]
  },
  {
   "cell_type": "code",
   "execution_count": 30,
   "metadata": {},
   "outputs": [
    {
     "data": {
      "text/plain": [
       "'5-10-15'"
      ]
     },
     "execution_count": 30,
     "metadata": {},
     "output_type": "execute_result"
    }
   ],
   "source": [
    "\"{}-{}-{}\".format(5, 10, 15)"
   ]
  },
  {
   "cell_type": "code",
   "execution_count": 31,
   "metadata": {},
   "outputs": [
    {
     "data": {
      "text/plain": [
       "'    5-   10-   15'"
      ]
     },
     "execution_count": 31,
     "metadata": {},
     "output_type": "execute_result"
    }
   ],
   "source": [
    "\"{0:5}-{1:5}-{2:5}\".format(5, 10, 15)"
   ]
  },
  {
   "cell_type": "code",
   "execution_count": 32,
   "metadata": {},
   "outputs": [
    {
     "data": {
      "text/plain": [
       "'LEFT       left justify'"
      ]
     },
     "execution_count": 32,
     "metadata": {},
     "output_type": "execute_result"
    }
   ],
   "source": [
    "\"{0:<10} left justify\".format(\"LEFT\")"
   ]
  },
  {
   "cell_type": "code",
   "execution_count": 33,
   "metadata": {},
   "outputs": [
    {
     "data": {
      "text/plain": [
       "'     RIGHT right justify'"
      ]
     },
     "execution_count": 33,
     "metadata": {},
     "output_type": "execute_result"
    }
   ],
   "source": [
    "\"{:>10} right justify\".format(\"RIGHT\")"
   ]
  },
  {
   "cell_type": "code",
   "execution_count": 34,
   "metadata": {},
   "outputs": [
    {
     "data": {
      "text/plain": [
       "'  CENTER   center justify'"
      ]
     },
     "execution_count": 34,
     "metadata": {},
     "output_type": "execute_result"
    }
   ],
   "source": [
    "\"{:^10} center justify\".format(\"CENTER\")"
   ]
  },
  {
   "cell_type": "code",
   "execution_count": 35,
   "metadata": {},
   "outputs": [
    {
     "data": {
      "text/plain": [
       "'**CENTER** filling with *'"
      ]
     },
     "execution_count": 35,
     "metadata": {},
     "output_type": "execute_result"
    }
   ],
   "source": [
    "\"{:*^10} filling with *\".format(\"CENTER\")"
   ]
  },
  {
   "cell_type": "code",
   "execution_count": 36,
   "metadata": {},
   "outputs": [
    {
     "data": {
      "text/plain": [
       "'Pi is 3.1416'"
      ]
     },
     "execution_count": 36,
     "metadata": {},
     "output_type": "execute_result"
    }
   ],
   "source": [
    "y = 3.141592\n",
    "\"{0} is {1:0.4f}\".format(\"Pi\", y)"
   ]
  },
  {
   "cell_type": "code",
   "execution_count": 37,
   "metadata": {},
   "outputs": [
    {
     "name": "stdout",
     "output_type": "stream",
     "text": [
      "square root 2 is 1.4142\n"
     ]
    }
   ],
   "source": [
    "import math\n",
    "r2 = math.sqrt(2)\n",
    "print(\"square root 2 is {:.4f}\".format(r2))"
   ]
  },
  {
   "cell_type": "code",
   "execution_count": 38,
   "metadata": {},
   "outputs": [
    {
     "name": "stdout",
     "output_type": "stream",
     "text": [
      "square root 2 is     1.4142\n"
     ]
    }
   ],
   "source": [
    "print(\"square root 2 is {:10.4f}\".format(r2))"
   ]
  },
  {
   "cell_type": "code",
   "execution_count": 39,
   "metadata": {},
   "outputs": [
    {
     "name": "stdout",
     "output_type": "stream",
     "text": [
      "square root 2 is [    1.4142]\n"
     ]
    }
   ],
   "source": [
    "print(\"square root 2 is [{:10.4f}]\".format(r2))"
   ]
  },
  {
   "cell_type": "code",
   "execution_count": 40,
   "metadata": {},
   "outputs": [
    {
     "name": "stdout",
     "output_type": "stream",
     "text": [
      "square root 2 is {    1.4142}\n"
     ]
    }
   ],
   "source": [
    "print(\"square root 2 is {{{:10.4f}}}\".format(r2))"
   ]
  },
  {
   "cell_type": "markdown",
   "metadata": {},
   "source": [
    "## 12-3. 포맷문자열 리터럴 (f-문자열)\n",
    "\n",
    "-  f+string 내에 {expression}  사용"
   ]
  },
  {
   "cell_type": "code",
   "execution_count": 41,
   "metadata": {},
   "outputs": [
    {
     "name": "stdout",
     "output_type": "stream",
     "text": [
      "The value of pi is approximately 3.142.\n"
     ]
    }
   ],
   "source": [
    "import math\n",
    "print(f'The value of pi is approximately {math.pi:.3f}.')"
   ]
  },
  {
   "cell_type": "code",
   "execution_count": 42,
   "metadata": {},
   "outputs": [
    {
     "name": "stdout",
     "output_type": "stream",
     "text": [
      "Sjoerd ==> 4127\n",
      "Sjoerd     ==>       4127\n",
      "Jack ==> 4098\n",
      "Jack       ==>       4098\n",
      "Dcab ==> 7678\n",
      "Dcab       ==>       7678\n"
     ]
    }
   ],
   "source": [
    "table = {'Sjoerd': 4127, 'Jack': 4098, 'Dcab': 7678}\n",
    "\n",
    "for name, phone in table.items():\n",
    "    print(name, '==> {}'.format(phone))\n",
    "    print(f'{name:10} ==> {phone:10d}')"
   ]
  },
  {
   "cell_type": "markdown",
   "metadata": {},
   "source": [
    "### 연습문제"
   ]
  },
  {
   "cell_type": "markdown",
   "metadata": {},
   "source": [
    "1) parameter 로 받은 string 의 양 끝단 2 글자를 붙여서 반환하는 함수 작성\n",
    "- string 의 slicing 및 concatenation 이용\n",
    "```Python\n",
    "    def both_ends(s):\n",
    "        if len(s) < 2:\n",
    "            return ''\n",
    "        first2 = s[:?]\n",
    "        last2 = s[?:]\n",
    "        return first2 + last2\n",
    "\n",
    "    print(both_ends('spring'))  #spng \n",
    "    print(both_ends('Hello'))    #Helo\n",
    "```  "
   ]
  },
  {
   "cell_type": "markdown",
   "metadata": {},
   "source": [
    "2) 두개의 문자열을 parameter 로 받아 서로의 첫번째 두 글자를 교환한 후 중간에 한칸 띄우고 반환하는 함수 작성\n",
    "\n",
    "```python\n",
    "    def mix_up(a, b):\n",
    "        a_swapped = b[:?] + a[?:]\n",
    "        b_swapped = a[:?] + b[?:]\n",
    "        return ? + ' ' + ?\n",
    "\n",
    "    print(mix_up('frog', 'dinner'))   # diog frnner\n",
    "```"
   ]
  },
  {
   "cell_type": "markdown",
   "metadata": {},
   "source": [
    "3) 두개의 parameter 를 받아서 두개의 시작이 같으면 SAME 다르면 Different 를 반환하는 함수 작성\n",
    "```python\n",
    "    test('a', 'a')     # SAME\n",
    "    test('aba', 'cba')   # Different\n",
    "```"
   ]
  }
 ],
 "metadata": {
  "kernelspec": {
   "display_name": "Python 3",
   "language": "python",
   "name": "python3"
  },
  "language_info": {
   "codemirror_mode": {
    "name": "ipython",
    "version": 3
   },
   "file_extension": ".py",
   "mimetype": "text/x-python",
   "name": "python",
   "nbconvert_exporter": "python",
   "pygments_lexer": "ipython3",
   "version": "3.7.3"
  }
 },
 "nbformat": 4,
 "nbformat_minor": 2
}
