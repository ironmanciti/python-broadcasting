{
 "cells": [
  {
   "cell_type": "code",
   "execution_count": 1,
   "id": "pressing-prize",
   "metadata": {},
   "outputs": [],
   "source": [
    "import nbformat as nbf\n",
    "import os\n",
    "\n",
    "notebooks = [file for file in os.listdir(os.getcwd()) \n",
    "            if file.endswith('.ipynb') and \n",
    "            file not in ['Merging_Notebooks.ipynb', \n",
    "                         'empty_page.ipynb', 'Untitled.ipynb', \n",
    "                         'Template_Creation.ipynb'] and\n",
    "                        file.startswith('combine') != True]\n",
    "for note in notebooks:\n",
    "    ntbk = nbf.read(note, nbf.NO_CONVERT)\n",
    "    new_ntbk = ntbk\n",
    "    new_ntbk.cells = [cell for cell in ntbk.cells if cell.cell_type == \"markdown\"]\n",
    "    nbf.write(new_ntbk, \"template_\" + note, version=nbf.NO_CONVERT)"
   ]
  }
 ],
 "metadata": {
  "kernelspec": {
   "display_name": "Python 3",
   "language": "python",
   "name": "python3"
  },
  "language_info": {
   "codemirror_mode": {
    "name": "ipython",
    "version": 3
   },
   "file_extension": ".py",
   "mimetype": "text/x-python",
   "name": "python",
   "nbconvert_exporter": "python",
   "pygments_lexer": "ipython3",
   "version": "3.7.10"
  }
 },
 "nbformat": 4,
 "nbformat_minor": 5
}
