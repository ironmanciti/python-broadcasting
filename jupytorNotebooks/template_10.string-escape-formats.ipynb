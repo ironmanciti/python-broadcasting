{
 "cells": [
  {
   "cell_type": "markdown",
   "metadata": {},
   "source": [
    "# 10. 스트링 (String) \n",
    "\n",
    "## 스트링 (String) 자료형과 string 함수\n",
    "\n",
    "### Python 의 string 자료형은 text 형태의 문자열을 말함.\n",
    "### 문자열은 \" \" , ' '  혹은 \"\"\" \"\"\" 로 둘러싸인 문자들의 집합임.\n",
    "    \"Life is short\"\n",
    "    'a'\n",
    "    \"123\"\n",
    "    \"\"\"String is Python's text type.\"\"\"\n",
    "### string 자료는 수정할 수 없음 (immutable)\n",
    "\n",
    "* 수정할 수 있는 자료형 (mutable)  \n",
    "    list\n",
    "    \n",
    "* 수정할 수 없는 자료형 (immutable)  \n",
    "    string, tuple\n",
    "    \n",
    "### string 간의 +, * 연산이 가능"
   ]
  },
  {
   "cell_type": "markdown",
   "metadata": {},
   "source": [
    "### string 과 list 비교"
   ]
  },
  {
   "cell_type": "markdown",
   "metadata": {},
   "source": [
    "### string operation"
   ]
  },
  {
   "cell_type": "markdown",
   "metadata": {},
   "source": [
    "### slicing"
   ]
  },
  {
   "cell_type": "markdown",
   "metadata": {},
   "source": [
    "### string and for-loop"
   ]
  },
  {
   "cell_type": "markdown",
   "metadata": {},
   "source": [
    "### 대, 소문자 변환\n",
    "    lower( ), upper( )"
   ]
  },
  {
   "cell_type": "markdown",
   "metadata": {},
   "source": [
    "### 연습문제"
   ]
  },
  {
   "cell_type": "markdown",
   "metadata": {},
   "source": [
    "1) parameter 로 받은 string 의 양 끝단 2 글자를 붙여서 반환하는 함수 작성\n",
    "- string 의 slicing 및 concatenation 이용\n",
    "```Python\n",
    "    def both_ends(s):\n",
    "        if len(s) < 2:\n",
    "            return ''\n",
    "        first2 = s[:?]\n",
    "        last2 = s[?:]\n",
    "        return first2 + last2\n",
    "\n",
    "    print(both_ends('spring'))  #spng \n",
    "    print(both_ends('Hello'))    #Helo\n",
    "```  "
   ]
  },
  {
   "cell_type": "markdown",
   "metadata": {},
   "source": [
    "2) 두개의 문자열을 parameter 로 받아 서로의 첫번째 두 글자를 교환한 후 중간에 한칸 띄우고 반환하는 함수 작성\n",
    "\n",
    "```python\n",
    "    def mix_up(a, b):\n",
    "        a_swapped = b[:?] + a[?:]\n",
    "        b_swapped = a[:?] + b[?:]\n",
    "        return ? + ' ' + ?\n",
    "\n",
    "    print(mix_up('frog', 'dinner'))   # diog frnner\n",
    "```"
   ]
  },
  {
   "cell_type": "markdown",
   "metadata": {},
   "source": [
    "3) 두개의 parameter 를 받아서 두개의 시작이 같으면 SAME 다르면 Different 를 반환하는 함수 작성\n",
    "```python\n",
    "    test('a', 'a')     # SAME\n",
    "    test('aba', 'cba')   # Different\n",
    "```"
   ]
  }
 ],
 "metadata": {
  "kernelspec": {
   "display_name": "Python 3",
   "language": "python",
   "name": "python3"
  },
  "language_info": {
   "codemirror_mode": {
    "name": "ipython",
    "version": 3
   },
   "file_extension": ".py",
   "mimetype": "text/x-python",
   "name": "python",
   "nbconvert_exporter": "python",
   "pygments_lexer": "ipython3",
   "version": "3.7.10"
  }
 },
 "nbformat": 4,
 "nbformat_minor": 2
}
