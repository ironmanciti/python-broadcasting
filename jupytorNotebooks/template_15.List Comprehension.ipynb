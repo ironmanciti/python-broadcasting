{
 "cells": [
  {
   "cell_type": "markdown",
   "metadata": {},
   "source": [
    "# 15. List Comprehension (리스트 컴프리헨션)\n",
    "\n",
    "- ``list_variable = [x for x in iterable]`` 과 같이 ``list`` 내에  ``for loop`` 표현식을 사용하여 쉽게 새로운 ``list`` 를 생성할 수 있다. \n",
    "\n",
    "\n",
    "- ``list comprehension`` 을 사용하면 ``for loop`` 과 ``map``, ``filter`` 함수를 대체할 수 있다.\n",
    "\n",
    "\n",
    "- ``list comprehension`` 내에서 ``if ~ else ~`` 를 사용할 수 있다."
   ]
  },
  {
   "cell_type": "markdown",
   "metadata": {},
   "source": [
    "### list comprehension 은 빠르다"
   ]
  },
  {
   "cell_type": "markdown",
   "metadata": {},
   "source": [
    "### map, filter 함수를 대체하는 list comprehension"
   ]
  },
  {
   "cell_type": "markdown",
   "metadata": {},
   "source": [
    "### list comprehension 내의 if\\~else\\~"
   ]
  },
  {
   "cell_type": "markdown",
   "metadata": {},
   "source": [
    "### Dictionary Comprehension\n",
    "\n",
    "- ``list comprehension`` 을 ``dictionary`` 에 적용 \n",
    "\n",
    "\n",
    "- 텍스트를 인코딩하고 각 문자를 정수로 매핑하거나 그 반대로 매핑  --> 자연어 처리에 많이 활용\n",
    "\n",
    "\n",
    "- 두개의 ``dictionary`` 생성  \n",
    "\n",
    "    1. ``char2int`` - character 를 integer 로 mapping\n",
    "    2. ``int2char`` - integer 를 character 로  mapping\n",
    "    "
   ]
  }
 ],
 "metadata": {
  "kernelspec": {
   "display_name": "Python 3",
   "language": "python",
   "name": "python3"
  },
  "language_info": {
   "codemirror_mode": {
    "name": "ipython",
    "version": 3
   },
   "file_extension": ".py",
   "mimetype": "text/x-python",
   "name": "python",
   "nbconvert_exporter": "python",
   "pygments_lexer": "ipython3",
   "version": "3.7.10"
  }
 },
 "nbformat": 4,
 "nbformat_minor": 2
}
