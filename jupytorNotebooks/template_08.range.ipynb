{
 "cells": [
  {
   "cell_type": "markdown",
   "metadata": {},
   "source": [
    "# 8. range( ) 함수\n",
    "\n",
    "### Python 은 range( ) 함수를 built-in 으로 제공한다.\n",
    "### range( ) 함수는 파라미터 (parameter) 로 받은 숫자 범위의 연속된 정수를 반환함.\n",
    "### 문법:\n",
    "    range([start,] stop [,increment]) \n",
    "### list( ) 함수는 range( ) 함수의 반환값을 list 로 변환해 줌.\n",
    "### for-loop 문에서 range( ) 함수는 list 를 반환한다."
   ]
  },
  {
   "cell_type": "markdown",
   "metadata": {},
   "source": [
    "### tuple 과 for-loop\n"
   ]
  },
  {
   "cell_type": "markdown",
   "metadata": {},
   "source": [
    "## 연습문제\n",
    "\n",
    "    피보나치 수열(Fibonacci Sequence)을 계산하는 프로그램도 파이썬으로 간단히 작성할 수 있다. \n",
    "\n",
    "    피보나치 수열은 0 과 1 로 시작하고 다음의 숫자는 이전 숫자 두개를 더한 숫자들로 이루어 진다.\n",
    "    0, 1, 1, 2, 3, 5, 8, 13 ......\n",
    "    \n",
    "$$ F_n = \\begin{cases} 0 \\quad \\quad \\quad \\quad \\quad \\text {n = 0} \\\\ 1 \\quad \\quad \\quad \\quad \\quad \\text {n = 1} \\\\ F_{n-1} + F_{n-2}\\quad \\text {n > 1}\\end{cases} $$\n",
    "\n",
    "    n 개의 숫자로 이루어진 피보나치 수열을 출력하는 함수를 작성하라.\n",
    "    \n",
    "    (결과) fib(10) => [0, 1, 1, 2, 3, 5, 8, 13, 21, 34]\n",
    "    \n",
    "**(알고리즘)**\n",
    "- old, new 두개의 변수 이용 -> 초기값 : old = 0, new = 1  \n",
    "- loop n times:\n",
    "    - next 숫자는 old + new  \n",
    "    - new 값이 old 가 되고 next 숫자가 new 값이 된다.\n",
    "- loop 후 마지막 new 값이 n 번째 피보나치 수이다."
   ]
  }
 ],
 "metadata": {
  "kernelspec": {
   "display_name": "Python 3",
   "language": "python",
   "name": "python3"
  },
  "language_info": {
   "codemirror_mode": {
    "name": "ipython",
    "version": 3
   },
   "file_extension": ".py",
   "mimetype": "text/x-python",
   "name": "python",
   "nbconvert_exporter": "python",
   "pygments_lexer": "ipython3",
   "version": "3.7.10"
  }
 },
 "nbformat": 4,
 "nbformat_minor": 2
}
