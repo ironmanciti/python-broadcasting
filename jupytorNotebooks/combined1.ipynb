{
 "cells": [
  {
   "cell_type": "markdown",
   "metadata": {},
   "source": [
    "<h1><center> Python을 활용한\n",
    "자동화 프로그래밍 과정 </center></h1>"
   ]
  },
  {
   "cell_type": "markdown",
   "metadata": {},
   "source": [
    "\n",
    "## 목차\n",
    "\n",
    "### 1. print\n",
    "\n",
    "### 2. Data Type\n",
    "\n",
    "### 3. 파이썬의 변수 (variable)\n",
    "\n",
    "### 4. 함수 (Function) \n",
    "\n",
    "### 5. List 와 Tuple \n",
    "\n",
    "### 6. for-loop\n",
    "\n",
    "### 7. 조건문\n",
    "\n",
    "### 8. range() 함수\n",
    "\n",
    "### 9. Dictionary 자료형\n",
    "\n",
    "### 10. String (문자열)\n",
    "\n",
    "### 11. Module\n",
    "\n",
    "### 12. while 문\n",
    "\n",
    "### 13. File 입출력\n",
    "\n",
    "### 14. 정규식 (Regular Expression)  \n",
    "\n",
    "### 15. List Comprehension\n",
    "\n",
    "### 16. BeautifulSoup 으로 Webpage 읽어오기\n",
    "\n",
    "### 17. Pandas Crash\n",
    "\n",
    "### 18. SMTP Email send\n",
    "\n",
    "\n",
    "### Capstone Project - 1 : Pandas HTML Web Crawling\n",
    "### Capstone Project - 2 : Stock Price\n",
    "### Capstone Project - 3 : Log Alarm System"
   ]
  },
  {
   "cell_type": "markdown",
   "metadata": {},
   "source": [
    "<div>\n",
    "\n",
    "\n",
    "\n",
    "\n",
    "\n",
    "\n",
    "\n",
    "\n",
    "\n",
    "\n",
    "\n",
    "</div>"
   ]
  },
  {
   "cell_type": "markdown",
   "metadata": {},
   "source": [
    "&nbsp;<br>\n",
    "&nbsp;<br>\n",
    "&nbsp;<br>\n",
    "&nbsp;<br>\n",
    "&nbsp;<br>\n",
    "&nbsp;<br>\n",
    "&nbsp;<br>\n",
    "&nbsp;<br>\n",
    "&nbsp;<br>\n",
    "&nbsp;<br>\n",
    "&nbsp;<br>"
   ]
  },
  {
   "cell_type": "markdown",
   "metadata": {},
   "source": [
    "# 1. Hello Python (print, help, comment)\n",
    "\n",
    "### print(&nbsp;)   \n",
    "\n",
    "  \n",
    "### help(명령어) "
   ]
  },
  {
   "cell_type": "code",
   "execution_count": 1,
   "metadata": {},
   "outputs": [
    {
     "name": "stdout",
     "output_type": "stream",
     "text": [
      "파이썬의 세계에 오신 것을 환영합니다.\n"
     ]
    }
   ],
   "source": [
    "print(\"파이썬의 세계에 오신 것을 환영합니다.\")"
   ]
  },
  {
   "cell_type": "code",
   "execution_count": 2,
   "metadata": {},
   "outputs": [
    {
     "name": "stdout",
     "output_type": "stream",
     "text": [
      "문장 가운데 \n",
      " 이 들어 있으면 줄바꿈이 일어납니다.\n"
     ]
    }
   ],
   "source": [
    "print(\"문장 가운데 \\n 이 들어 있으면 줄바꿈이 일어납니다.\")"
   ]
  },
  {
   "cell_type": "code",
   "execution_count": 3,
   "metadata": {},
   "outputs": [
    {
     "name": "stdout",
     "output_type": "stream",
     "text": [
      "Help on built-in function print in module builtins:\n",
      "\n",
      "print(...)\n",
      "    print(value, ..., sep=' ', end='\\n', file=sys.stdout, flush=False)\n",
      "    \n",
      "    Prints the values to a stream, or to sys.stdout by default.\n",
      "    Optional keyword arguments:\n",
      "    file:  a file-like object (stream); defaults to the current sys.stdout.\n",
      "    sep:   string inserted between values, default a space.\n",
      "    end:   string appended after the last value, default a newline.\n",
      "    flush: whether to forcibly flush the stream.\n",
      "\n"
     ]
    }
   ],
   "source": [
    "help(print)"
   ]
  },
  {
   "cell_type": "markdown",
   "metadata": {},
   "source": [
    "# 사칙 연산 \n",
    "\n",
    "### 파이썬의 사칙 연산 규칙은 일반 수학 연산 규칙과 동일\n",
    "\n",
    "$$30 - (10 + 20) * 3 + \\frac{100}{2^2}$$\n",
    "\n",
    "### 변수를 이용한 연산도 동일한 규칙을 따른다\n",
    "\n",
    "+, - : 더하기, 빼기\n",
    "\n",
    "/, // : 나누기 (소숫점 포함, 몫구하기)\n",
    "\n",
    "% : 나머지\n",
    "\n",
    "`*` : 곱하기\n",
    "\n",
    "`**` : 거듭제곱\n",
    "\n",
    "( ) 안의 계산을 먼저한다"
   ]
  },
  {
   "cell_type": "code",
   "execution_count": 4,
   "metadata": {},
   "outputs": [
    {
     "data": {
      "text/plain": [
       "-35.0"
      ]
     },
     "execution_count": 4,
     "metadata": {},
     "output_type": "execute_result"
    }
   ],
   "source": [
    "30 - (10 + 20) * 3 + 100 / 2 ** 2"
   ]
  },
  {
   "cell_type": "code",
   "execution_count": 5,
   "metadata": {},
   "outputs": [
    {
     "data": {
      "text/plain": [
       "2417851639229258349412352"
      ]
     },
     "execution_count": 5,
     "metadata": {},
     "output_type": "execute_result"
    }
   ],
   "source": [
    "2 ** 3 ** 4"
   ]
  },
  {
   "cell_type": "code",
   "execution_count": 6,
   "metadata": {},
   "outputs": [
    {
     "data": {
      "text/plain": [
       "4096"
      ]
     },
     "execution_count": 6,
     "metadata": {},
     "output_type": "execute_result"
    }
   ],
   "source": [
    "(2 ** 3) ** 4"
   ]
  },
  {
   "cell_type": "code",
   "execution_count": 7,
   "metadata": {},
   "outputs": [
    {
     "data": {
      "text/plain": [
       "70550791086553325712464271575934796216507949612787315762871223209262085551582934156579298529447134158154952334825355911866929793071824566694145084454535257027960285323760313192443283334088001"
      ]
     },
     "execution_count": 7,
     "metadata": {},
     "output_type": "execute_result"
    }
   ],
   "source": [
    "3 ** 400"
   ]
  },
  {
   "cell_type": "code",
   "execution_count": 8,
   "metadata": {},
   "outputs": [
    {
     "data": {
      "text/plain": [
       "7.055079108655333e+190"
      ]
     },
     "execution_count": 8,
     "metadata": {},
     "output_type": "execute_result"
    }
   ],
   "source": [
    "3.0 ** 400"
   ]
  },
  {
   "cell_type": "markdown",
   "metadata": {},
   "source": [
    "### 나눗셈\n",
    "\n",
    "**floor division**"
   ]
  },
  {
   "cell_type": "code",
   "execution_count": 9,
   "metadata": {},
   "outputs": [
    {
     "data": {
      "text/plain": [
       "15"
      ]
     },
     "execution_count": 9,
     "metadata": {},
     "output_type": "execute_result"
    }
   ],
   "source": [
    "365 // 24"
   ]
  },
  {
   "cell_type": "markdown",
   "metadata": {},
   "source": [
    "**modulo (나머지)**"
   ]
  },
  {
   "cell_type": "code",
   "execution_count": 10,
   "metadata": {},
   "outputs": [
    {
     "data": {
      "text/plain": [
       "6"
      ]
     },
     "execution_count": 10,
     "metadata": {},
     "output_type": "execute_result"
    }
   ],
   "source": [
    "30 % 24"
   ]
  },
  {
   "cell_type": "markdown",
   "metadata": {},
   "source": [
    "<div>\n",
    "\n",
    "\n",
    "\n",
    "\n",
    "\n",
    "\n",
    "\n",
    "\n",
    "\n",
    "\n",
    "\n",
    "</div>"
   ]
  },
  {
   "cell_type": "markdown",
   "metadata": {},
   "source": [
    "&nbsp;<br>\n",
    "&nbsp;<br>\n",
    "&nbsp;<br>\n",
    "&nbsp;<br>\n",
    "&nbsp;<br>\n",
    "&nbsp;<br>\n",
    "&nbsp;<br>\n",
    "&nbsp;<br>\n",
    "&nbsp;<br>\n",
    "&nbsp;<br>\n",
    "&nbsp;<br>"
   ]
  },
  {
   "cell_type": "markdown",
   "metadata": {},
   "source": [
    "# 2. 파이썬의 기본 데이터 타입 (Data Types)\n",
    "\n",
    "### 1. integer (정수)\n",
    "\n",
    "### 2. float (부동소숫점)\n",
    "\n",
    "### 3. string (문자)\n",
    "\n",
    "### 4. bool (불린)\n",
    "\n",
    "\n",
    "### * 데이터 타입은 type(&nbsp;) 함수를 이용하여 알 수 있다."
   ]
  },
  {
   "cell_type": "code",
   "execution_count": 1,
   "metadata": {},
   "outputs": [
    {
     "data": {
      "text/plain": [
       "7"
      ]
     },
     "execution_count": 1,
     "metadata": {},
     "output_type": "execute_result"
    }
   ],
   "source": [
    "7"
   ]
  },
  {
   "cell_type": "code",
   "execution_count": 2,
   "metadata": {},
   "outputs": [
    {
     "data": {
      "text/plain": [
       "int"
      ]
     },
     "execution_count": 2,
     "metadata": {},
     "output_type": "execute_result"
    }
   ],
   "source": [
    "type(7)"
   ]
  },
  {
   "cell_type": "code",
   "execution_count": 3,
   "metadata": {},
   "outputs": [
    {
     "data": {
      "text/plain": [
       "3.14"
      ]
     },
     "execution_count": 3,
     "metadata": {},
     "output_type": "execute_result"
    }
   ],
   "source": [
    "3.14"
   ]
  },
  {
   "cell_type": "code",
   "execution_count": 4,
   "metadata": {},
   "outputs": [
    {
     "data": {
      "text/plain": [
       "float"
      ]
     },
     "execution_count": 4,
     "metadata": {},
     "output_type": "execute_result"
    }
   ],
   "source": [
    "type(3.14)"
   ]
  },
  {
   "cell_type": "code",
   "execution_count": 5,
   "metadata": {},
   "outputs": [
    {
     "data": {
      "text/plain": [
       "int"
      ]
     },
     "execution_count": 5,
     "metadata": {},
     "output_type": "execute_result"
    }
   ],
   "source": [
    "type(2)"
   ]
  },
  {
   "cell_type": "markdown",
   "metadata": {},
   "source": [
    "$1.23 x 10^3$"
   ]
  },
  {
   "cell_type": "code",
   "execution_count": 6,
   "metadata": {},
   "outputs": [
    {
     "data": {
      "text/plain": [
       "1230.0"
      ]
     },
     "execution_count": 6,
     "metadata": {},
     "output_type": "execute_result"
    }
   ],
   "source": [
    "1.23e3"
   ]
  },
  {
   "cell_type": "code",
   "execution_count": 7,
   "metadata": {},
   "outputs": [
    {
     "data": {
      "text/plain": [
       "float"
      ]
     },
     "execution_count": 7,
     "metadata": {},
     "output_type": "execute_result"
    }
   ],
   "source": [
    "type(1.23e3)"
   ]
  },
  {
   "cell_type": "markdown",
   "metadata": {},
   "source": [
    "$1.0 \\times 10^0$"
   ]
  },
  {
   "cell_type": "code",
   "execution_count": 8,
   "metadata": {},
   "outputs": [
    {
     "data": {
      "text/plain": [
       "1.0"
      ]
     },
     "execution_count": 8,
     "metadata": {},
     "output_type": "execute_result"
    }
   ],
   "source": [
    "1e0"
   ]
  },
  {
   "cell_type": "code",
   "execution_count": 9,
   "metadata": {},
   "outputs": [
    {
     "data": {
      "text/plain": [
       "float"
      ]
     },
     "execution_count": 9,
     "metadata": {},
     "output_type": "execute_result"
    }
   ],
   "source": [
    "type(1e0)"
   ]
  },
  {
   "cell_type": "code",
   "execution_count": 10,
   "metadata": {},
   "outputs": [
    {
     "data": {
      "text/plain": [
       "str"
      ]
     },
     "execution_count": 10,
     "metadata": {},
     "output_type": "execute_result"
    }
   ],
   "source": [
    "type('A')"
   ]
  },
  {
   "cell_type": "code",
   "execution_count": 11,
   "metadata": {},
   "outputs": [
    {
     "data": {
      "text/plain": [
       "str"
      ]
     },
     "execution_count": 11,
     "metadata": {},
     "output_type": "execute_result"
    }
   ],
   "source": [
    "type('1.23')"
   ]
  },
  {
   "cell_type": "markdown",
   "metadata": {},
   "source": [
    "### print 함수 내의 number 는 string 으로 변환 후 출력"
   ]
  },
  {
   "cell_type": "code",
   "execution_count": 12,
   "metadata": {},
   "outputs": [
    {
     "name": "stdout",
     "output_type": "stream",
     "text": [
      "1.23 3.14\n"
     ]
    }
   ],
   "source": [
    "print(1.23, \"3.14\")"
   ]
  },
  {
   "cell_type": "code",
   "execution_count": 13,
   "metadata": {},
   "outputs": [
    {
     "data": {
      "text/plain": [
       "bool"
      ]
     },
     "execution_count": 13,
     "metadata": {},
     "output_type": "execute_result"
    }
   ],
   "source": [
    "type(True)"
   ]
  },
  {
   "cell_type": "code",
   "execution_count": 14,
   "metadata": {},
   "outputs": [
    {
     "data": {
      "text/plain": [
       "bool"
      ]
     },
     "execution_count": 14,
     "metadata": {},
     "output_type": "execute_result"
    }
   ],
   "source": [
    "type(False)"
   ]
  },
  {
   "cell_type": "code",
   "execution_count": 15,
   "metadata": {},
   "outputs": [
    {
     "data": {
      "text/plain": [
       "True"
      ]
     },
     "execution_count": 15,
     "metadata": {},
     "output_type": "execute_result"
    }
   ],
   "source": [
    "2 == 2"
   ]
  },
  {
   "cell_type": "code",
   "execution_count": 16,
   "metadata": {},
   "outputs": [
    {
     "data": {
      "text/plain": [
       "False"
      ]
     },
     "execution_count": 16,
     "metadata": {},
     "output_type": "execute_result"
    }
   ],
   "source": [
    "2 == 3"
   ]
  },
  {
   "cell_type": "markdown",
   "metadata": {},
   "source": [
    "<div>\n",
    "\n",
    "\n",
    "\n",
    "\n",
    "\n",
    "\n",
    "\n",
    "\n",
    "\n",
    "\n",
    "\n",
    "</div>"
   ]
  },
  {
   "cell_type": "markdown",
   "metadata": {},
   "source": [
    "&nbsp;<br>\n",
    "&nbsp;<br>\n",
    "&nbsp;<br>\n",
    "&nbsp;<br>\n",
    "&nbsp;<br>\n",
    "&nbsp;<br>\n",
    "&nbsp;<br>\n",
    "&nbsp;<br>\n",
    "&nbsp;<br>\n",
    "&nbsp;<br>\n",
    "&nbsp;<br>"
   ]
  },
  {
   "cell_type": "markdown",
   "metadata": {},
   "source": [
    "# 3. 파이썬의 변수 (variable)\n",
    "\n",
    "## 변수 (variable)\n",
    "\n",
    "- 사전에 정해진 type 이 없고 보관되는 data type 에 따라 dynamic 하게 정해진다.  \n",
    "\n",
    "\n",
    "-  변수의 이름은 문자와 숫자, \\_ (underscore) 로 구성되며, 문자 (a\\~z, A\\~Z) 혹은 \\_ (underscore) 로만 시작 가능하다.  \n",
    "\n",
    "\n",
    "-  = 를 이용하여 변수에 값을 할당 한다  \n",
    "\n",
    "\n",
    "-  Python 이 사용하는 33 개의 keyword 는 변수명으로 사용하면 안된다.\n",
    "```\n",
    "    False, None, True, and, as, assert, break, class, continue, def, del, elif, else, except,finally, for, from, global, if, import, in, is, \n",
    "    lambda, nonlocal, not, or, pass, raise, return, try, while, with, yield\n",
    "```"
   ]
  },
  {
   "cell_type": "code",
   "execution_count": 1,
   "metadata": {},
   "outputs": [
    {
     "name": "stdout",
     "output_type": "stream",
     "text": [
      "5\n"
     ]
    }
   ],
   "source": [
    "n = 5\n",
    "print(n)"
   ]
  },
  {
   "cell_type": "code",
   "execution_count": 2,
   "metadata": {},
   "outputs": [
    {
     "name": "stdout",
     "output_type": "stream",
     "text": [
      "3.14\n"
     ]
    }
   ],
   "source": [
    "x = 3.14\n",
    "print(x)"
   ]
  },
  {
   "cell_type": "code",
   "execution_count": 3,
   "metadata": {},
   "outputs": [
    {
     "name": "stdout",
     "output_type": "stream",
     "text": [
      "Python's data type is powerful and easy.\n"
     ]
    }
   ],
   "source": [
    "a = \"Python's data type is powerful and easy.\"\n",
    "print(a)"
   ]
  },
  {
   "cell_type": "markdown",
   "metadata": {},
   "source": [
    "### 변수명"
   ]
  },
  {
   "cell_type": "code",
   "execution_count": 4,
   "metadata": {},
   "outputs": [],
   "source": [
    "_one2three = 123"
   ]
  },
  {
   "cell_type": "code",
   "execution_count": 5,
   "metadata": {},
   "outputs": [],
   "source": [
    "one_2_three = 123"
   ]
  },
  {
   "cell_type": "code",
   "execution_count": 6,
   "metadata": {},
   "outputs": [
    {
     "ename": "SyntaxError",
     "evalue": "invalid syntax (Temp/ipykernel_51724/1473849026.py, line 1)",
     "output_type": "error",
     "traceback": [
      "\u001b[1;36m  File \u001b[1;32m\"C:\\Users\\trimu\\AppData\\Local\\Temp/ipykernel_51724/1473849026.py\"\u001b[1;36m, line \u001b[1;32m1\u001b[0m\n\u001b[1;33m    one.2.three = 123\u001b[0m\n\u001b[1;37m       ^\u001b[0m\n\u001b[1;31mSyntaxError\u001b[0m\u001b[1;31m:\u001b[0m invalid syntax\n"
     ]
    }
   ],
   "source": [
    "one.2.three = 123"
   ]
  },
  {
   "cell_type": "code",
   "execution_count": 7,
   "metadata": {},
   "outputs": [
    {
     "ename": "SyntaxError",
     "evalue": "invalid decimal literal (Temp/ipykernel_51724/324618240.py, line 1)",
     "output_type": "error",
     "traceback": [
      "\u001b[1;36m  File \u001b[1;32m\"C:\\Users\\trimu\\AppData\\Local\\Temp/ipykernel_51724/324618240.py\"\u001b[1;36m, line \u001b[1;32m1\u001b[0m\n\u001b[1;33m    1_two_three = 123\u001b[0m\n\u001b[1;37m     ^\u001b[0m\n\u001b[1;31mSyntaxError\u001b[0m\u001b[1;31m:\u001b[0m invalid decimal literal\n"
     ]
    }
   ],
   "source": [
    "1_two_three = 123"
   ]
  },
  {
   "cell_type": "markdown",
   "metadata": {},
   "source": [
    "### type() 함수는 Python 의 자료형을 반환"
   ]
  },
  {
   "cell_type": "code",
   "execution_count": 8,
   "metadata": {},
   "outputs": [
    {
     "name": "stdout",
     "output_type": "stream",
     "text": [
      "50 <class 'int'>\n"
     ]
    }
   ],
   "source": [
    "my_integer = 50\n",
    "print(my_integer, type(my_integer))"
   ]
  },
  {
   "cell_type": "code",
   "execution_count": 9,
   "metadata": {},
   "outputs": [
    {
     "name": "stdout",
     "output_type": "stream",
     "text": [
      "50.0 <class 'float'>\n"
     ]
    }
   ],
   "source": [
    "my_float = 50.0\n",
    "print(my_float, type(my_float))"
   ]
  },
  {
   "cell_type": "code",
   "execution_count": 10,
   "metadata": {},
   "outputs": [
    {
     "name": "stdout",
     "output_type": "stream",
     "text": [
      "True <class 'bool'>\n"
     ]
    }
   ],
   "source": [
    "my_bool = True\n",
    "print(my_bool, type(my_bool))"
   ]
  },
  {
   "cell_type": "markdown",
   "metadata": {},
   "source": [
    "### 데이터 타입 변환 (Type Conversion)"
   ]
  },
  {
   "cell_type": "code",
   "execution_count": 11,
   "metadata": {},
   "outputs": [
    {
     "data": {
      "text/plain": [
       "123"
      ]
     },
     "execution_count": 11,
     "metadata": {},
     "output_type": "execute_result"
    }
   ],
   "source": [
    "int(\"123\")"
   ]
  },
  {
   "cell_type": "code",
   "execution_count": 12,
   "metadata": {},
   "outputs": [
    {
     "data": {
      "text/plain": [
       "23.5"
      ]
     },
     "execution_count": 12,
     "metadata": {},
     "output_type": "execute_result"
    }
   ],
   "source": [
    "float(\"23.5\")"
   ]
  },
  {
   "cell_type": "code",
   "execution_count": 13,
   "metadata": {},
   "outputs": [
    {
     "data": {
      "text/plain": [
       "'123'"
      ]
     },
     "execution_count": 13,
     "metadata": {},
     "output_type": "execute_result"
    }
   ],
   "source": [
    "str(123)"
   ]
  },
  {
   "cell_type": "markdown",
   "metadata": {},
   "source": [
    "<div>\n",
    "\n",
    "\n",
    "\n",
    "\n",
    "\n",
    "\n",
    "\n",
    "\n",
    "\n",
    "\n",
    "\n",
    "</div>"
   ]
  },
  {
   "cell_type": "markdown",
   "metadata": {},
   "source": [
    "&nbsp;<br>\n",
    "&nbsp;<br>\n",
    "&nbsp;<br>\n",
    "&nbsp;<br>\n",
    "&nbsp;<br>\n",
    "&nbsp;<br>\n",
    "&nbsp;<br>\n",
    "&nbsp;<br>\n",
    "&nbsp;<br>\n",
    "&nbsp;<br>\n",
    "&nbsp;<br>"
   ]
  },
  {
   "cell_type": "markdown",
   "metadata": {},
   "source": [
    "# 4. 함수(function)\n",
    "\n",
    "## 함수의 정의 및 호출\n",
    "\n",
    "**함수는 프로그램의 기능을 작은 task 단위로 나누어 재사용 가능한 독립적 형태로 나눈 것**\n",
    "\n",
    "**함수는 결과값(return value)을 반환하는 함수와 결과값을 반환하지 않는 함수로 구분된다.**\n",
    "\n",
    "    - 결과값을 반환하지 않는 파이썬 함수의 예 : print(&nbsp;)\n",
    "    - 결과값을 반환하는 파이썬 함수의 예 : type(&nbsp;)\n",
    "\n",
    "### 함수의 작성 방법:\n",
    "\n",
    "**1. def keyword 로 시작한다.**\n",
    "\n",
    "\n",
    "**2. 함수의 이름은 변수의 이름과 작성 규칙이 동일하다.**\n",
    "\n",
    "        문자와 숫자, _ (underscore) 로 구성되며, 문자 (a~z, A~Z) 혹은 _ (underscore) 로만 시작 가능.  \n",
    "        \n",
    "**3. 함수 이름 다음에 ( ) 로 둘러싸여진 인수 (parameter, argument) 전달 가능**\n",
    "\n",
    "**4. 들여쓰기 (indentation) 에 의해 함수의 body 임을 표시한다.**\n",
    " \n",
    "**5. Python 이 기본적으로 제공하는 함수를 내장함수 (built-in function) 이라고 한다.**\n",
    "\n",
    "    print(), sum(), abs(), help(), str(), round(), type() 등 약 70 가지"
   ]
  },
  {
   "cell_type": "code",
   "execution_count": 1,
   "metadata": {},
   "outputs": [
    {
     "name": "stdout",
     "output_type": "stream",
     "text": [
      "hello world\n"
     ]
    }
   ],
   "source": [
    "def hello_world():\n",
    "    print(\"hello world\")\n",
    "    \n",
    "hello_world()"
   ]
  },
  {
   "cell_type": "code",
   "execution_count": 2,
   "metadata": {},
   "outputs": [
    {
     "name": "stdout",
     "output_type": "stream",
     "text": [
      "30\n"
     ]
    }
   ],
   "source": [
    "def return_result():\n",
    "    a = 10\n",
    "    b = 20\n",
    "    result = a + b\n",
    "    return result\n",
    "\n",
    "x = return_result()\n",
    "print(x)"
   ]
  },
  {
   "cell_type": "code",
   "execution_count": 3,
   "metadata": {},
   "outputs": [
    {
     "name": "stdout",
     "output_type": "stream",
     "text": [
      "0.5\n"
     ]
    }
   ],
   "source": [
    "def param_func(x, y):\n",
    "    result = x / y\n",
    "    return result\n",
    "\n",
    "a = 10\n",
    "b = 20\n",
    "x = param_func(a, b)\n",
    "print(x)"
   ]
  },
  {
   "cell_type": "markdown",
   "metadata": {},
   "source": [
    "## Scope of Variable (변수 영역)\n",
    "\n",
    "#### variable 에는 global variable (전역변수) 과 local variable (지역변수) 의 두가지 종류가 있음\n",
    "\n",
    "#### global variable - 함수의 바깥에 정의하고 프로그램 전체에서 접근 가능\n",
    "#### local variable - 함수의 안쪽에 정의하고 함수 내에서만 접근 가능\n",
    "#### gobal variable 과 local variable 이 같은 이름을 가질 경우는 local variable 이 우선함\n",
    "\n",
    "#### 함수의 영역(Scope of Function) 도 변수의 영역과 동일함."
   ]
  },
  {
   "cell_type": "code",
   "execution_count": 4,
   "metadata": {},
   "outputs": [],
   "source": [
    "a = 1\n",
    "b = 2\n",
    "\n",
    "def func():\n",
    "    c = 3\n",
    "    d = 4\n",
    "    print(\"global variable :\", a, b)\n",
    "    print(\"local  variable :\", c, d)"
   ]
  },
  {
   "cell_type": "code",
   "execution_count": 5,
   "metadata": {},
   "outputs": [
    {
     "name": "stdout",
     "output_type": "stream",
     "text": [
      "global variable : 1 2\n",
      "local  variable : 3 4\n"
     ]
    }
   ],
   "source": [
    "func()"
   ]
  },
  {
   "cell_type": "code",
   "execution_count": 6,
   "metadata": {},
   "outputs": [
    {
     "ename": "NameError",
     "evalue": "name 'c' is not defined",
     "output_type": "error",
     "traceback": [
      "\u001b[1;31m---------------------------------------------------------------------------\u001b[0m",
      "\u001b[1;31mNameError\u001b[0m                                 Traceback (most recent call last)",
      "\u001b[1;32m~\\AppData\\Local\\Temp/ipykernel_36788/2743823995.py\u001b[0m in \u001b[0;36m<module>\u001b[1;34m\u001b[0m\n\u001b[1;32m----> 1\u001b[1;33m \u001b[0mprint\u001b[0m\u001b[1;33m(\u001b[0m\u001b[0mc\u001b[0m\u001b[1;33m)\u001b[0m\u001b[1;33m\u001b[0m\u001b[1;33m\u001b[0m\u001b[0m\n\u001b[0m",
      "\u001b[1;31mNameError\u001b[0m: name 'c' is not defined"
     ]
    }
   ],
   "source": [
    "print(c)"
   ]
  },
  {
   "cell_type": "markdown",
   "metadata": {},
   "source": [
    "### 전역변수를 함수 내에서 update\n",
    "\n",
    "- not recommendable  \n",
    "- global keyword 사용"
   ]
  },
  {
   "cell_type": "code",
   "execution_count": 7,
   "metadata": {},
   "outputs": [
    {
     "name": "stdout",
     "output_type": "stream",
     "text": [
      "20\n"
     ]
    }
   ],
   "source": [
    "a = 15\n",
    "  \n",
    "# global value 변경\n",
    "def change(): \n",
    "  \n",
    "    global a\n",
    "    \n",
    "    a = a + 5 \n",
    "    print(a) \n",
    "\n",
    "change() "
   ]
  },
  {
   "cell_type": "code",
   "execution_count": 8,
   "metadata": {},
   "outputs": [
    {
     "data": {
      "text/plain": [
       "20"
      ]
     },
     "execution_count": 8,
     "metadata": {},
     "output_type": "execute_result"
    }
   ],
   "source": [
    "def outer(x):\n",
    "    def inner(y):\n",
    "        return y ** 2 + 2\n",
    "    return inner(x) + 2\n",
    "\n",
    "outer(4)"
   ]
  },
  {
   "cell_type": "markdown",
   "metadata": {},
   "source": [
    "## Python 의 익명 함수 lambda\n",
    "\n",
    "- Python 의 함수 생성 방법은 def 와 lambda 두 가지가 있다.\n",
    "- lambda 는 익명 (anonymous) 함수 이다.\n",
    "- 한번 사용할 간단한 함수인 경우 사용"
   ]
  },
  {
   "cell_type": "code",
   "execution_count": 9,
   "metadata": {},
   "outputs": [],
   "source": [
    "def sum(x, y):\n",
    "    return x + y"
   ]
  },
  {
   "cell_type": "code",
   "execution_count": 10,
   "metadata": {},
   "outputs": [
    {
     "data": {
      "text/plain": [
       "3"
      ]
     },
     "execution_count": 10,
     "metadata": {},
     "output_type": "execute_result"
    }
   ],
   "source": [
    "sum(1, 2)"
   ]
  },
  {
   "cell_type": "code",
   "execution_count": 11,
   "metadata": {},
   "outputs": [
    {
     "data": {
      "text/plain": [
       "3"
      ]
     },
     "execution_count": 11,
     "metadata": {},
     "output_type": "execute_result"
    }
   ],
   "source": [
    "(lambda x, y: x+y)(1,2)"
   ]
  },
  {
   "cell_type": "markdown",
   "metadata": {},
   "source": [
    "### lambda 를 변수에 assign"
   ]
  },
  {
   "cell_type": "code",
   "execution_count": 12,
   "metadata": {},
   "outputs": [
    {
     "name": "stdout",
     "output_type": "stream",
     "text": [
      "64\n"
     ]
    }
   ],
   "source": [
    "g = lambda x: x**2\n",
    "\n",
    "print(g(8))"
   ]
  },
  {
   "cell_type": "code",
   "execution_count": 13,
   "metadata": {},
   "outputs": [
    {
     "name": "stdout",
     "output_type": "stream",
     "text": [
      "9\n"
     ]
    }
   ],
   "source": [
    "f = lambda x, y: x + y\n",
    "\n",
    "print(f(4, 5))"
   ]
  },
  {
   "cell_type": "markdown",
   "metadata": {},
   "source": [
    "## 연습문제"
   ]
  },
  {
   "cell_type": "markdown",
   "metadata": {},
   "source": [
    "다음 함수가 수행된 후 print 되는 값은 ?\n",
    "\n",
    "    def f(x):\n",
    "        return x + 1, x * x\n",
    "\n",
    "    x, y = f(3)\n",
    "    print(x, y)"
   ]
  },
  {
   "cell_type": "markdown",
   "metadata": {},
   "source": [
    "<div>\n",
    "\n",
    "\n",
    "\n",
    "\n",
    "\n",
    "\n",
    "\n",
    "\n",
    "\n",
    "\n",
    "\n",
    "</div>"
   ]
  },
  {
   "cell_type": "markdown",
   "metadata": {},
   "source": [
    "&nbsp;<br>\n",
    "&nbsp;<br>\n",
    "&nbsp;<br>\n",
    "&nbsp;<br>\n",
    "&nbsp;<br>\n",
    "&nbsp;<br>\n",
    "&nbsp;<br>\n",
    "&nbsp;<br>\n",
    "&nbsp;<br>\n",
    "&nbsp;<br>\n",
    "&nbsp;<br>"
   ]
  },
  {
   "cell_type": "markdown",
   "metadata": {},
   "source": [
    "# 5. 리스트(List) 와 Tuple\n",
    "\n",
    "## 5.1 List 구조\n",
    "\n",
    "- 일상생활에서 흔히 볼 수 있는 자료구조 (Data Structure)\n",
    "\n",
    "        예) 할일 목록 (to-do list), 식료품 구입 리스트, 초대장 리스트, 소원목록 (wish list), 국가 목록 등.\n",
    "\n",
    "-  List 는 top-10 list 처럼 순서가 있을 수도 있고, 친구 목록처럼 순서가 없을 수도 있음.\n",
    "\n",
    "\n",
    "- List 의 항목들을 요소 (element) 라고 한다.\n",
    "\n",
    "\n",
    "-  Python 문법에서 list 는 대괄호 (bracket) 로 표시하고 element 는 콤마(,) 로 구분하여 대괄호안에 위치함.\n",
    "\n",
    "\n",
    "-  List 의 element 는 지금까지 배운 Python 의 모든 자료형과 함수가 사용될 수 있음."
   ]
  },
  {
   "cell_type": "code",
   "execution_count": 1,
   "metadata": {},
   "outputs": [],
   "source": [
    "x = [\"apple\", 'orange', \"옥수수\", '밀']"
   ]
  },
  {
   "cell_type": "code",
   "execution_count": 2,
   "metadata": {},
   "outputs": [
    {
     "name": "stdout",
     "output_type": "stream",
     "text": [
      "['apple', 'orange', '옥수수', '밀']\n"
     ]
    }
   ],
   "source": [
    "print(x)"
   ]
  },
  {
   "cell_type": "code",
   "execution_count": 3,
   "metadata": {},
   "outputs": [],
   "source": [
    "y = [1, 'two', 6/2]"
   ]
  },
  {
   "cell_type": "code",
   "execution_count": 4,
   "metadata": {},
   "outputs": [
    {
     "name": "stdout",
     "output_type": "stream",
     "text": [
      "[1, 'two', 3.0]\n"
     ]
    }
   ],
   "source": [
    "print(y)"
   ]
  },
  {
   "cell_type": "code",
   "execution_count": 5,
   "metadata": {},
   "outputs": [],
   "source": [
    "a = 5\n",
    "b = 3.5\n",
    "x = [a, a+b, a-b]"
   ]
  },
  {
   "cell_type": "code",
   "execution_count": 6,
   "metadata": {},
   "outputs": [
    {
     "name": "stdout",
     "output_type": "stream",
     "text": [
      "[5, 8.5, 1.5]\n"
     ]
    }
   ],
   "source": [
    "print(x)"
   ]
  },
  {
   "cell_type": "markdown",
   "metadata": {},
   "source": [
    "### list 의 주요 method\n",
    "\n",
    "- len( ) : list 의 길이\n",
    "- sort( ) : list sort\n",
    "- reverse( ) : list 를 역순으로 sort\n",
    "- append( ) : list 끝에 new item 추가\n",
    "- extend( )  : 다른 list 추가"
   ]
  },
  {
   "cell_type": "markdown",
   "metadata": {},
   "source": [
    "### 여러개의 list 를 결합"
   ]
  },
  {
   "cell_type": "code",
   "execution_count": 7,
   "metadata": {},
   "outputs": [
    {
     "data": {
      "text/plain": [
       "['z', 'y', 'w', 'a', 'c', 'b']"
      ]
     },
     "execution_count": 7,
     "metadata": {},
     "output_type": "execute_result"
    }
   ],
   "source": [
    "c = ['z', 'y', 'w'] + ['a', 'c', 'b']\n",
    "c"
   ]
  },
  {
   "cell_type": "markdown",
   "metadata": {},
   "source": [
    "### list 의 원소(element) 갯수"
   ]
  },
  {
   "cell_type": "code",
   "execution_count": 8,
   "metadata": {},
   "outputs": [
    {
     "data": {
      "text/plain": [
       "6"
      ]
     },
     "execution_count": 8,
     "metadata": {},
     "output_type": "execute_result"
    }
   ],
   "source": [
    "len(c)"
   ]
  },
  {
   "cell_type": "markdown",
   "metadata": {},
   "source": [
    "### list 원소(element) 추가 / 확장"
   ]
  },
  {
   "cell_type": "code",
   "execution_count": 9,
   "metadata": {},
   "outputs": [],
   "source": [
    "d = []"
   ]
  },
  {
   "cell_type": "code",
   "execution_count": 10,
   "metadata": {},
   "outputs": [
    {
     "data": {
      "text/plain": [
       "0"
      ]
     },
     "execution_count": 10,
     "metadata": {},
     "output_type": "execute_result"
    }
   ],
   "source": [
    "len(d)"
   ]
  },
  {
   "cell_type": "code",
   "execution_count": 11,
   "metadata": {},
   "outputs": [],
   "source": [
    "d.append('first')"
   ]
  },
  {
   "cell_type": "code",
   "execution_count": 12,
   "metadata": {},
   "outputs": [
    {
     "data": {
      "text/plain": [
       "['first']"
      ]
     },
     "execution_count": 12,
     "metadata": {},
     "output_type": "execute_result"
    }
   ],
   "source": [
    "d"
   ]
  },
  {
   "cell_type": "code",
   "execution_count": 13,
   "metadata": {},
   "outputs": [],
   "source": [
    "d.extend(c)"
   ]
  },
  {
   "cell_type": "code",
   "execution_count": 14,
   "metadata": {},
   "outputs": [
    {
     "data": {
      "text/plain": [
       "['first', 'z', 'y', 'w', 'a', 'c', 'b']"
      ]
     },
     "execution_count": 14,
     "metadata": {},
     "output_type": "execute_result"
    }
   ],
   "source": [
    "d"
   ]
  },
  {
   "cell_type": "code",
   "execution_count": 15,
   "metadata": {},
   "outputs": [
    {
     "name": "stdout",
     "output_type": "stream",
     "text": [
      "['first', 'z', 'y', 'w', 'a', 'c', 'b', 'z', 'y', 'w', 'a', 'c', 'b']\n"
     ]
    }
   ],
   "source": [
    "e = d + c\n",
    "print(e)"
   ]
  },
  {
   "cell_type": "code",
   "execution_count": 16,
   "metadata": {},
   "outputs": [
    {
     "data": {
      "text/plain": [
       "['first', 'z', 'y', 'w', 'a', 'c', 'b', ['second, third']]"
      ]
     },
     "execution_count": 16,
     "metadata": {},
     "output_type": "execute_result"
    }
   ],
   "source": [
    "d.append(['second, third'])\n",
    "d"
   ]
  },
  {
   "cell_type": "markdown",
   "metadata": {},
   "source": [
    "### list element 의 변수 assign"
   ]
  },
  {
   "cell_type": "code",
   "execution_count": 17,
   "metadata": {},
   "outputs": [
    {
     "name": "stdout",
     "output_type": "stream",
     "text": [
      "1 2 3\n"
     ]
    }
   ],
   "source": [
    "[x, y, z] = 1, 2, 3\n",
    "print(x, y, z)"
   ]
  },
  {
   "cell_type": "code",
   "execution_count": 18,
   "metadata": {},
   "outputs": [
    {
     "name": "stdout",
     "output_type": "stream",
     "text": [
      "1 2 3\n"
     ]
    }
   ],
   "source": [
    "r, s, t = [1, 2, 3]\n",
    "print(r, s, t)"
   ]
  },
  {
   "cell_type": "code",
   "execution_count": 19,
   "metadata": {},
   "outputs": [
    {
     "name": "stdout",
     "output_type": "stream",
     "text": [
      "1 2 3\n"
     ]
    }
   ],
   "source": [
    "u = [1, 2, 3]\n",
    "j, k, l = u\n",
    "print(j, k, l)"
   ]
  },
  {
   "cell_type": "markdown",
   "metadata": {},
   "source": [
    "### list methods"
   ]
  },
  {
   "cell_type": "code",
   "execution_count": 20,
   "metadata": {},
   "outputs": [
    {
     "name": "stdout",
     "output_type": "stream",
     "text": [
      "['z', 'y', 'w', 'a', 'c', 'b']\n"
     ]
    }
   ],
   "source": [
    "print(c)"
   ]
  },
  {
   "cell_type": "code",
   "execution_count": 21,
   "metadata": {},
   "outputs": [],
   "source": [
    "c.sort()"
   ]
  },
  {
   "cell_type": "code",
   "execution_count": 22,
   "metadata": {},
   "outputs": [
    {
     "name": "stdout",
     "output_type": "stream",
     "text": [
      "['a', 'b', 'c', 'w', 'y', 'z']\n"
     ]
    }
   ],
   "source": [
    "print(c)"
   ]
  },
  {
   "cell_type": "code",
   "execution_count": 23,
   "metadata": {},
   "outputs": [
    {
     "data": {
      "text/plain": [
       "['z', 'y', 'w', 'c', 'b', 'a']"
      ]
     },
     "execution_count": 23,
     "metadata": {},
     "output_type": "execute_result"
    }
   ],
   "source": [
    "c.sort(reverse=True)\n",
    "c"
   ]
  },
  {
   "cell_type": "code",
   "execution_count": 24,
   "metadata": {},
   "outputs": [],
   "source": [
    "xlist = [1, 2, 3, 4, 5]"
   ]
  },
  {
   "cell_type": "code",
   "execution_count": 25,
   "metadata": {},
   "outputs": [
    {
     "data": {
      "text/plain": [
       "15"
      ]
     },
     "execution_count": 25,
     "metadata": {},
     "output_type": "execute_result"
    }
   ],
   "source": [
    "sum(xlist)"
   ]
  },
  {
   "cell_type": "code",
   "execution_count": 26,
   "metadata": {},
   "outputs": [
    {
     "data": {
      "text/plain": [
       "5"
      ]
     },
     "execution_count": 26,
     "metadata": {},
     "output_type": "execute_result"
    }
   ],
   "source": [
    "max(xlist)"
   ]
  },
  {
   "cell_type": "code",
   "execution_count": 27,
   "metadata": {},
   "outputs": [
    {
     "data": {
      "text/plain": [
       "1"
      ]
     },
     "execution_count": 27,
     "metadata": {},
     "output_type": "execute_result"
    }
   ],
   "source": [
    "min(xlist)"
   ]
  },
  {
   "cell_type": "markdown",
   "metadata": {},
   "source": [
    "## 5-2. List 의 indexing\n",
    "\n",
    "### list 를 구성하는 element 들은 위치에 따라 index 로 접근할 수 있다.\n",
    "### index 는 대괄호(bracket)안에 정수(integer) 로 표시\n",
    "### Python 의 index 는 0 부터 시작하는 양수 혹은 -1 부터 시작하는 음수로 표시할 수 있다.\n",
    "        0   1     2     3     4    5 \n",
    "    +---+---+---+---+---+---+\n",
    "    |  H |  e  |  l  |   l |  o |  ! |\n",
    "    +---+---+---+---+---+---+\n",
    "      -6    -5    -4   -3   -2   -1"
   ]
  },
  {
   "cell_type": "code",
   "execution_count": 28,
   "metadata": {},
   "outputs": [
    {
     "name": "stdout",
     "output_type": "stream",
     "text": [
      "6\n"
     ]
    }
   ],
   "source": [
    "hello = ['H', 'e', 'l', 'l', 'o', '!']\n",
    "print(len(hello))"
   ]
  },
  {
   "cell_type": "code",
   "execution_count": 29,
   "metadata": {},
   "outputs": [
    {
     "name": "stdout",
     "output_type": "stream",
     "text": [
      "['H', 'e', 'l', 'l', 'o', '!']\n"
     ]
    }
   ],
   "source": [
    "print(hello)"
   ]
  },
  {
   "cell_type": "code",
   "execution_count": 30,
   "metadata": {},
   "outputs": [
    {
     "data": {
      "text/plain": [
       "'H'"
      ]
     },
     "execution_count": 30,
     "metadata": {},
     "output_type": "execute_result"
    }
   ],
   "source": [
    "hello[0]"
   ]
  },
  {
   "cell_type": "code",
   "execution_count": 31,
   "metadata": {},
   "outputs": [
    {
     "data": {
      "text/plain": [
       "'!'"
      ]
     },
     "execution_count": 31,
     "metadata": {},
     "output_type": "execute_result"
    }
   ],
   "source": [
    "hello[5]"
   ]
  },
  {
   "cell_type": "code",
   "execution_count": 32,
   "metadata": {},
   "outputs": [
    {
     "data": {
      "text/plain": [
       "['first', 'e', 'l', 'l', 'o', 'last']"
      ]
     },
     "execution_count": 32,
     "metadata": {},
     "output_type": "execute_result"
    }
   ],
   "source": [
    "hello[0] = 'first'\n",
    "hello[-1] = 'last'\n",
    "hello"
   ]
  },
  {
   "cell_type": "code",
   "execution_count": 33,
   "metadata": {},
   "outputs": [
    {
     "data": {
      "text/plain": [
       "'o'"
      ]
     },
     "execution_count": 33,
     "metadata": {},
     "output_type": "execute_result"
    }
   ],
   "source": [
    "hello[-2]"
   ]
  },
  {
   "cell_type": "code",
   "execution_count": 34,
   "metadata": {},
   "outputs": [],
   "source": [
    "animals = [['dog', 'Ruby', 7], \n",
    "           ['cat', 'Nero', 3], \n",
    "           ['dog', 'John', 5], \n",
    "           ['bird', 'Seagal', 2]]"
   ]
  },
  {
   "cell_type": "code",
   "execution_count": 35,
   "metadata": {},
   "outputs": [
    {
     "data": {
      "text/plain": [
       "['dog', 'John', 5]"
      ]
     },
     "execution_count": 35,
     "metadata": {},
     "output_type": "execute_result"
    }
   ],
   "source": [
    "animals[2]"
   ]
  },
  {
   "cell_type": "code",
   "execution_count": 36,
   "metadata": {},
   "outputs": [
    {
     "data": {
      "text/plain": [
       "5"
      ]
     },
     "execution_count": 36,
     "metadata": {},
     "output_type": "execute_result"
    }
   ],
   "source": [
    "animals[2][2]"
   ]
  },
  {
   "cell_type": "code",
   "execution_count": 37,
   "metadata": {},
   "outputs": [],
   "source": [
    "kind, name, age = animals[-1]"
   ]
  },
  {
   "cell_type": "code",
   "execution_count": 38,
   "metadata": {},
   "outputs": [
    {
     "name": "stdout",
     "output_type": "stream",
     "text": [
      "bird Seagal 2\n"
     ]
    }
   ],
   "source": [
    "print(kind, name, age)"
   ]
  },
  {
   "cell_type": "markdown",
   "metadata": {},
   "source": [
    "## 5-3. 인덱스 (Index) 를 이용한 list 의 element 자르기 (slicing)\n",
    "\n",
    "\n",
    "### list 의 일부분을 범위 지정할 수 있다.\n",
    "    list[start : end]   => start ~ end-1\n",
    "    list[start:]      => start ~ 끝까지\n",
    "    list[:end]        => 처음 ~ end-1\n",
    "    list[:]           => list 전체\n",
    "    \n",
    "### 증가분 (increment) 를 지정하면 더욱 다양한 slicing 이 가능하다.\n",
    "    list[start : end : increment]\n",
    "    \n",
    "### increment 가 음수 (-) 이면 뒤에서부터 거꾸로 처리한다."
   ]
  },
  {
   "cell_type": "code",
   "execution_count": 39,
   "metadata": {},
   "outputs": [],
   "source": [
    "x = [1, 2, 3, 4, 5, 6]"
   ]
  },
  {
   "cell_type": "code",
   "execution_count": 40,
   "metadata": {},
   "outputs": [
    {
     "name": "stdout",
     "output_type": "stream",
     "text": [
      "[1, 2]\n"
     ]
    }
   ],
   "source": [
    "y = x[0:2]\n",
    "print(y)"
   ]
  },
  {
   "cell_type": "code",
   "execution_count": 41,
   "metadata": {},
   "outputs": [
    {
     "data": {
      "text/plain": [
       "[3, 4]"
      ]
     },
     "execution_count": 41,
     "metadata": {},
     "output_type": "execute_result"
    }
   ],
   "source": [
    "x[2:4]"
   ]
  },
  {
   "cell_type": "code",
   "execution_count": 42,
   "metadata": {},
   "outputs": [
    {
     "data": {
      "text/plain": [
       "[3, 4, 5, 6]"
      ]
     },
     "execution_count": 42,
     "metadata": {},
     "output_type": "execute_result"
    }
   ],
   "source": [
    "x[2:]"
   ]
  },
  {
   "cell_type": "code",
   "execution_count": 43,
   "metadata": {},
   "outputs": [
    {
     "data": {
      "text/plain": [
       "[1, 2, 3, 4, 5, 6]"
      ]
     },
     "execution_count": 43,
     "metadata": {},
     "output_type": "execute_result"
    }
   ],
   "source": [
    "x[:6]"
   ]
  },
  {
   "cell_type": "code",
   "execution_count": 44,
   "metadata": {},
   "outputs": [
    {
     "data": {
      "text/plain": [
       "[1, 2, 3, 4, 5, 6]"
      ]
     },
     "execution_count": 44,
     "metadata": {},
     "output_type": "execute_result"
    }
   ],
   "source": [
    "x[:]"
   ]
  },
  {
   "cell_type": "code",
   "execution_count": 45,
   "metadata": {},
   "outputs": [
    {
     "data": {
      "text/plain": [
       "[4, 5, 6]"
      ]
     },
     "execution_count": 45,
     "metadata": {},
     "output_type": "execute_result"
    }
   ],
   "source": [
    "x[-3:]"
   ]
  },
  {
   "cell_type": "code",
   "execution_count": 46,
   "metadata": {},
   "outputs": [
    {
     "data": {
      "text/plain": [
       "[3, 4, 5]"
      ]
     },
     "execution_count": 46,
     "metadata": {},
     "output_type": "execute_result"
    }
   ],
   "source": [
    "x[2:-1]"
   ]
  },
  {
   "cell_type": "code",
   "execution_count": 47,
   "metadata": {},
   "outputs": [
    {
     "data": {
      "text/plain": [
       "[1, 2, 3]"
      ]
     },
     "execution_count": 47,
     "metadata": {},
     "output_type": "execute_result"
    }
   ],
   "source": [
    "x[-6:3]"
   ]
  },
  {
   "cell_type": "code",
   "execution_count": 48,
   "metadata": {},
   "outputs": [],
   "source": [
    "s = [1,2,3,4,5,6,7,8,9,10]\n",
    "python = ['p','y','t','h','o','n']"
   ]
  },
  {
   "cell_type": "code",
   "execution_count": 49,
   "metadata": {},
   "outputs": [
    {
     "data": {
      "text/plain": [
       "[1, 3, 5, 7, 9]"
      ]
     },
     "execution_count": 49,
     "metadata": {},
     "output_type": "execute_result"
    }
   ],
   "source": [
    "s[:: 2]"
   ]
  },
  {
   "cell_type": "code",
   "execution_count": 50,
   "metadata": {},
   "outputs": [
    {
     "data": {
      "text/plain": [
       "['p', 't', 'o']"
      ]
     },
     "execution_count": 50,
     "metadata": {},
     "output_type": "execute_result"
    }
   ],
   "source": [
    "python[::2]"
   ]
  },
  {
   "cell_type": "code",
   "execution_count": 51,
   "metadata": {},
   "outputs": [
    {
     "data": {
      "text/plain": [
       "[6, 8, 10]"
      ]
     },
     "execution_count": 51,
     "metadata": {},
     "output_type": "execute_result"
    }
   ],
   "source": [
    "s[5::2]"
   ]
  },
  {
   "cell_type": "code",
   "execution_count": 52,
   "metadata": {},
   "outputs": [
    {
     "data": {
      "text/plain": [
       "['n']"
      ]
     },
     "execution_count": 52,
     "metadata": {},
     "output_type": "execute_result"
    }
   ],
   "source": [
    "python[5::2]"
   ]
  },
  {
   "cell_type": "code",
   "execution_count": 53,
   "metadata": {},
   "outputs": [
    {
     "data": {
      "text/plain": [
       "[6, 8]"
      ]
     },
     "execution_count": 53,
     "metadata": {},
     "output_type": "execute_result"
    }
   ],
   "source": [
    "s[5:-1:2]"
   ]
  },
  {
   "cell_type": "code",
   "execution_count": 54,
   "metadata": {},
   "outputs": [
    {
     "data": {
      "text/plain": [
       "[10, 9, 8, 7, 6, 5, 4, 3, 2, 1]"
      ]
     },
     "execution_count": 54,
     "metadata": {},
     "output_type": "execute_result"
    }
   ],
   "source": [
    "s[::-1]"
   ]
  },
  {
   "cell_type": "markdown",
   "metadata": {},
   "source": [
    "## 5-4. 튜플 (Tuple) \n",
    "\n",
    "### 튜플은 element 값을 변경할 수 없는 list 이다.\n",
    "\n",
    "- Mutable : 값을 변경 가능 (list, variable)\n",
    "\n",
    "- Immutable : 값을 변경 불가능 (tuple)  \n",
    "\n",
    "\n",
    "- **변경할 수 없으므로 list 보다 memory 사용이 효율적**\n",
    "\n",
    "### Tuple 은 괄호 (  ) 로 element 들을 감싸준다.\n",
    "\n",
    "### element 를 변경할 수 없는 것 이외의 operation 은 list 와 거의 유사함."
   ]
  },
  {
   "cell_type": "markdown",
   "metadata": {},
   "source": [
    "### Tuple 과 List 비교"
   ]
  },
  {
   "cell_type": "code",
   "execution_count": 55,
   "metadata": {},
   "outputs": [],
   "source": [
    "xlist = [1, 2, 3, 4]\n",
    "ytuple = (1, 2, 3, 4)"
   ]
  },
  {
   "cell_type": "code",
   "execution_count": 56,
   "metadata": {},
   "outputs": [
    {
     "data": {
      "text/plain": [
       "[2, 3, 4]"
      ]
     },
     "execution_count": 56,
     "metadata": {},
     "output_type": "execute_result"
    }
   ],
   "source": [
    "xlist[1:4]"
   ]
  },
  {
   "cell_type": "code",
   "execution_count": 57,
   "metadata": {},
   "outputs": [
    {
     "data": {
      "text/plain": [
       "(2, 3, 4)"
      ]
     },
     "execution_count": 57,
     "metadata": {},
     "output_type": "execute_result"
    }
   ],
   "source": [
    "ytuple[1:4]"
   ]
  },
  {
   "cell_type": "code",
   "execution_count": 58,
   "metadata": {},
   "outputs": [
    {
     "data": {
      "text/plain": [
       "4"
      ]
     },
     "execution_count": 58,
     "metadata": {},
     "output_type": "execute_result"
    }
   ],
   "source": [
    "ytuple[-1]"
   ]
  },
  {
   "cell_type": "code",
   "execution_count": 59,
   "metadata": {},
   "outputs": [
    {
     "data": {
      "text/plain": [
       "[1, 2, 3, 4, 5, 6]"
      ]
     },
     "execution_count": 59,
     "metadata": {},
     "output_type": "execute_result"
    }
   ],
   "source": [
    "xlist.append(6)\n",
    "x"
   ]
  },
  {
   "cell_type": "code",
   "execution_count": 60,
   "metadata": {},
   "outputs": [
    {
     "ename": "AttributeError",
     "evalue": "'tuple' object has no attribute 'append'",
     "output_type": "error",
     "traceback": [
      "\u001b[1;31m---------------------------------------------------------------------------\u001b[0m",
      "\u001b[1;31mAttributeError\u001b[0m                            Traceback (most recent call last)",
      "\u001b[1;32m~\\AppData\\Local\\Temp/ipykernel_47240/3752835755.py\u001b[0m in \u001b[0;36m<module>\u001b[1;34m\u001b[0m\n\u001b[1;32m----> 1\u001b[1;33m \u001b[0mytuple\u001b[0m\u001b[1;33m.\u001b[0m\u001b[0mappend\u001b[0m\u001b[1;33m(\u001b[0m\u001b[1;36m6\u001b[0m\u001b[1;33m)\u001b[0m\u001b[1;33m\u001b[0m\u001b[1;33m\u001b[0m\u001b[0m\n\u001b[0m",
      "\u001b[1;31mAttributeError\u001b[0m: 'tuple' object has no attribute 'append'"
     ]
    }
   ],
   "source": [
    "ytuple.append(6)"
   ]
  },
  {
   "cell_type": "code",
   "execution_count": null,
   "metadata": {},
   "outputs": [],
   "source": [
    "xlist[3] = '4th'\n",
    "xlist"
   ]
  },
  {
   "cell_type": "code",
   "execution_count": null,
   "metadata": {},
   "outputs": [],
   "source": [
    "ytuple[3] = '4th'"
   ]
  },
  {
   "cell_type": "code",
   "execution_count": null,
   "metadata": {},
   "outputs": [],
   "source": [
    "(x, y) = (1, 'two')\n",
    "\n",
    "print(x, y)"
   ]
  },
  {
   "cell_type": "code",
   "execution_count": null,
   "metadata": {},
   "outputs": [],
   "source": [
    "(x, y) = [1, 'two']\n",
    "\n",
    "print(x, y)"
   ]
  },
  {
   "cell_type": "markdown",
   "metadata": {},
   "source": [
    "### 원소가 한개 (single element) 인 Tuple\n",
    "- comma(,) 로 tuple 임을 표시"
   ]
  },
  {
   "cell_type": "code",
   "execution_count": null,
   "metadata": {},
   "outputs": [],
   "source": [
    "t1 = ('a',)\n",
    "type(t1)"
   ]
  },
  {
   "cell_type": "markdown",
   "metadata": {},
   "source": [
    "## List / Tuple 연습문제"
   ]
  },
  {
   "cell_type": "markdown",
   "metadata": {},
   "source": [
    "다음 프로그램의 결과값은 ?\n",
    "\n",
    "    xlist = []\n",
    "    xlist.append('Good')\n",
    "    xlist.append('Morning')\n",
    "    print(xlist)\n",
    "    \n",
    "    xlist.append([3, 4])\n",
    "    print(xlist)"
   ]
  },
  {
   "cell_type": "markdown",
   "metadata": {},
   "source": [
    "<div>\n",
    "\n",
    "\n",
    "\n",
    "\n",
    "\n",
    "\n",
    "\n",
    "\n",
    "\n",
    "\n",
    "\n",
    "</div>"
   ]
  },
  {
   "cell_type": "markdown",
   "metadata": {},
   "source": [
    "&nbsp;<br>\n",
    "&nbsp;<br>\n",
    "&nbsp;<br>\n",
    "&nbsp;<br>\n",
    "&nbsp;<br>\n",
    "&nbsp;<br>\n",
    "&nbsp;<br>\n",
    "&nbsp;<br>\n",
    "&nbsp;<br>\n",
    "&nbsp;<br>\n",
    "&nbsp;<br>"
   ]
  },
  {
   "cell_type": "markdown",
   "metadata": {},
   "source": [
    "# 6. for-loop (반복문)\n",
    "\n",
    "#### for 문을 이용하여 반복 처리를 할 수 있다.\n",
    "\n",
    "#### Python 에서는 for-loop 을 이용하여 list 내의 element 들을 순차적으로 처리할 수 있다.\n",
    "#### list 와 같이 한번에 한개씩의 element 를 반환하는 자료형태를 iterable (반복형태) 이라고 부른다.\n",
    "#### Python 의 iterable 은 list, tuple, dictionary 이다.\n",
    "#### Python 의  for loop 의 문법은 다음과 같다.\n",
    "```\n",
    "for 변수 in 리스트(또는 튜플, 문자열):  \n",
    "    수행할 문장1  \n",
    "    수행할 문장2\n",
    "```"
   ]
  },
  {
   "cell_type": "markdown",
   "metadata": {},
   "source": [
    "### list 와 for-loop"
   ]
  },
  {
   "cell_type": "code",
   "execution_count": 1,
   "metadata": {},
   "outputs": [],
   "source": [
    "fruits = [\"apple\", \"orange\", \"banana\", \"mango\", \"pear\"]"
   ]
  },
  {
   "cell_type": "code",
   "execution_count": 2,
   "metadata": {},
   "outputs": [
    {
     "name": "stdout",
     "output_type": "stream",
     "text": [
      "I love apple\n",
      "I love orange\n",
      "I love banana\n",
      "I love mango\n",
      "I love pear\n"
     ]
    }
   ],
   "source": [
    "for fruit in fruits:\n",
    "    print(\"I love\", fruit)"
   ]
  },
  {
   "cell_type": "code",
   "execution_count": 3,
   "metadata": {},
   "outputs": [
    {
     "name": "stdout",
     "output_type": "stream",
     "text": [
      "5\n"
     ]
    }
   ],
   "source": [
    "count = 0\n",
    "for _ in fruits:\n",
    "    count += 1\n",
    "print(count)"
   ]
  },
  {
   "cell_type": "code",
   "execution_count": 4,
   "metadata": {},
   "outputs": [
    {
     "name": "stdout",
     "output_type": "stream",
     "text": [
      "1\n",
      "2\n",
      "3\n",
      "4\n",
      "5\n",
      "6\n",
      "7\n",
      "8\n",
      "9\n",
      "10\n",
      "55\n"
     ]
    }
   ],
   "source": [
    "x = [1, 2, 3, 4, 5, 6, 7, 8, 9, 10]\n",
    "sum = 0\n",
    "for i in x:\n",
    "    print(i)\n",
    "    sum = sum + i\n",
    "print(sum)"
   ]
  },
  {
   "cell_type": "code",
   "execution_count": 5,
   "metadata": {},
   "outputs": [
    {
     "name": "stdout",
     "output_type": "stream",
     "text": [
      "1 2 3 4 5 6 7 8 9 10 "
     ]
    }
   ],
   "source": [
    "for i in x:\n",
    "    print(i, end=\" \")"
   ]
  },
  {
   "cell_type": "code",
   "execution_count": 6,
   "metadata": {},
   "outputs": [
    {
     "name": "stdout",
     "output_type": "stream",
     "text": [
      "12345678910"
     ]
    }
   ],
   "source": [
    "for i in x:\n",
    "    print(i, end=\"\")"
   ]
  },
  {
   "cell_type": "code",
   "execution_count": 7,
   "metadata": {},
   "outputs": [
    {
     "name": "stdout",
     "output_type": "stream",
     "text": [
      "1st\n",
      "2nd\n",
      "3rd\n",
      "4th\n",
      "5th\n",
      "6th\n"
     ]
    }
   ],
   "source": [
    "list_items = ['1st', '2nd', '3rd', '4th', '5th', '6th']\n",
    "index = [0,1,2,3,4,5]\n",
    "for i in index:\n",
    "    print(list_items[i])"
   ]
  },
  {
   "cell_type": "markdown",
   "metadata": {},
   "source": [
    "## For-Loop 연습문제"
   ]
  },
  {
   "cell_type": "markdown",
   "metadata": {},
   "source": [
    "1) 다음 문장 수행 후의 output 은 ? \n",
    "\n",
    "    xlist = [1, [1, 2], [1, 2, 3]]\n",
    "    print(xlist[1][1] + 1)"
   ]
  },
  {
   "cell_type": "markdown",
   "metadata": {},
   "source": [
    "2) xlist = [1, 2, 3, 4] 를 for 문을 이용하여 한줄에 출력하고 각 element 의 사이는 '/' 로 구분하라."
   ]
  },
  {
   "cell_type": "markdown",
   "metadata": {},
   "source": [
    "<div>\n",
    "\n",
    "\n",
    "\n",
    "\n",
    "\n",
    "\n",
    "\n",
    "\n",
    "\n",
    "\n",
    "\n",
    "</div>"
   ]
  },
  {
   "cell_type": "markdown",
   "metadata": {},
   "source": [
    "&nbsp;<br>\n",
    "&nbsp;<br>\n",
    "&nbsp;<br>\n",
    "&nbsp;<br>\n",
    "&nbsp;<br>\n",
    "&nbsp;<br>\n",
    "&nbsp;<br>\n",
    "&nbsp;<br>\n",
    "&nbsp;<br>\n",
    "&nbsp;<br>\n",
    "&nbsp;<br>"
   ]
  },
  {
   "cell_type": "markdown",
   "metadata": {},
   "source": [
    "# 7. 조건문 \n",
    "\n",
    "\n",
    "### boolean 자료형 :  True, False, bool( )\n",
    "\n",
    "### 조건이 참(True) 인 경우만 명령 수행\n",
    "\n",
    "### 문법 :\n",
    "```    \n",
    "    if <test 문>:\n",
    "        <body1>\n",
    "    elif <test 문>:\n",
    "        <body2>\n",
    "    else:\n",
    "        <body3>\n",
    "```        \n",
    "### Python 의 False 와 True \n",
    "\n",
    "    False : empty string(\"\"), None, [], (), 0, False\n",
    "    True  : 그 외의 모든 value"
   ]
  },
  {
   "cell_type": "code",
   "execution_count": 1,
   "metadata": {},
   "outputs": [
    {
     "name": "stdout",
     "output_type": "stream",
     "text": [
      "i = 3\n"
     ]
    }
   ],
   "source": [
    "i = 3\n",
    "if i == 1:\n",
    "    print('i = 1')\n",
    "elif i == 2:\n",
    "    print('i = 2')\n",
    "elif i == 3:\n",
    "    print('i = 3')\n",
    "else:\n",
    "    print('i > 3')"
   ]
  },
  {
   "cell_type": "code",
   "execution_count": 2,
   "metadata": {},
   "outputs": [
    {
     "name": "stdout",
     "output_type": "stream",
     "text": [
      "i 는 2 와 5 의 배수\n"
     ]
    }
   ],
   "source": [
    "i = 10\n",
    "if i % 2 == 0:\n",
    "    if i % 3 == 0:\n",
    "        print('i 는 2 와 3 의 배수')\n",
    "    if i % 5 == 0:\n",
    "        print('i 는 2 와 5 의 배수')\n",
    "    else:\n",
    "        print('i 는 2 의 배수이지만 3 이나 5 의 배수는 아님')\n",
    "else:\n",
    "    print('i 는 홀수임')"
   ]
  },
  {
   "cell_type": "code",
   "execution_count": 3,
   "metadata": {},
   "outputs": [
    {
     "data": {
      "text/plain": [
       "bool"
      ]
     },
     "execution_count": 3,
     "metadata": {},
     "output_type": "execute_result"
    }
   ],
   "source": [
    "bb = True\n",
    "type(bb)"
   ]
  },
  {
   "cell_type": "code",
   "execution_count": 4,
   "metadata": {},
   "outputs": [
    {
     "name": "stdout",
     "output_type": "stream",
     "text": [
      "True\n"
     ]
    }
   ],
   "source": [
    "if bb:\n",
    "    print(\"True\")"
   ]
  },
  {
   "cell_type": "code",
   "execution_count": 13,
   "metadata": {},
   "outputs": [
    {
     "name": "stdout",
     "output_type": "stream",
     "text": [
      "trues  = [' ', [''], 1.5, (0, 0)]\n",
      "falses = ['', None, [], 0, False, ()]\n"
     ]
    }
   ],
   "source": [
    "items = [\"\", None, [], 0, False, \" \", [\"\"], (), 1.5, (0, 0)]\n",
    "trues  = [] \n",
    "falses = []\n",
    "for item in items:\n",
    "    if item:\n",
    "        trues.append(item)\n",
    "    else:\n",
    "        falses.append(item)\n",
    "        \n",
    "print(\"trues  =\", trues)\n",
    "print(\"falses =\", falses)"
   ]
  },
  {
   "cell_type": "markdown",
   "metadata": {},
   "source": [
    "## 논리연산 (Logical Operation)"
   ]
  },
  {
   "cell_type": "code",
   "execution_count": 6,
   "metadata": {},
   "outputs": [
    {
     "data": {
      "text/plain": [
       "True"
      ]
     },
     "execution_count": 6,
     "metadata": {},
     "output_type": "execute_result"
    }
   ],
   "source": [
    "True and True"
   ]
  },
  {
   "cell_type": "code",
   "execution_count": 7,
   "metadata": {},
   "outputs": [
    {
     "data": {
      "text/plain": [
       "True"
      ]
     },
     "execution_count": 7,
     "metadata": {},
     "output_type": "execute_result"
    }
   ],
   "source": [
    "not False"
   ]
  },
  {
   "cell_type": "code",
   "execution_count": 8,
   "metadata": {},
   "outputs": [
    {
     "data": {
      "text/plain": [
       "False"
      ]
     },
     "execution_count": 8,
     "metadata": {},
     "output_type": "execute_result"
    }
   ],
   "source": [
    "not True"
   ]
  },
  {
   "cell_type": "code",
   "execution_count": 9,
   "metadata": {},
   "outputs": [
    {
     "name": "stdout",
     "output_type": "stream",
     "text": [
      "False\n"
     ]
    }
   ],
   "source": [
    "x = 20\n",
    "if x > 0 and x < 10:\n",
    "    print(x > 0 and x < 10)\n",
    "else:\n",
    "    print(x > 0 and x < 10)"
   ]
  },
  {
   "cell_type": "code",
   "execution_count": 10,
   "metadata": {},
   "outputs": [
    {
     "data": {
      "text/plain": [
       "True"
      ]
     },
     "execution_count": 10,
     "metadata": {},
     "output_type": "execute_result"
    }
   ],
   "source": [
    "(((2 < 3) and (3 > 0)) or ((5 > 6) and not(4 < 2)))"
   ]
  },
  {
   "cell_type": "markdown",
   "metadata": {},
   "source": [
    "## 연습문제"
   ]
  },
  {
   "cell_type": "markdown",
   "metadata": {},
   "source": [
    "1) 다음 list 에서 10 과 30 사이의 숫자 중 홀수만 골라 출력하라.\n",
    "\n",
    "    xlist = [-5, 5, 10, 12, 13, 14, 15, 25, 30, 40, 55, 100]\n",
    "    \n",
    "    (결과)  \n",
    "    13  15  25"
   ]
  },
  {
   "cell_type": "markdown",
   "metadata": {},
   "source": [
    "2) 다음의 주민번호 리스트에서 남, 녀 별로 90 년생 이후 출생자를 골라내라."
   ]
  },
  {
   "cell_type": "code",
   "execution_count": null,
   "metadata": {},
   "outputs": [],
   "source": [
    "id_list = ['920801-1041798', '800902-2048746', \n",
    "            '971010-1023987', '871203-2014987',\n",
    "            '820801-1041798', '900902-2048746', \n",
    "            '941010-1023987', '971203-2014987']\n",
    "\n",
    "man = []\n",
    "lady = []\n",
    "\n",
    "for id in id_list:\n",
    "    if id[:2] >= '90' and id[7] == '1':\n",
    "        \n",
    "        #--- YOUR CODE HERE--------\n",
    "\n",
    "print('남성 =', man)\n",
    "print('여성 =', lady)"
   ]
  },
  {
   "cell_type": "markdown",
   "metadata": {},
   "source": [
    "<div>\n",
    "\n",
    "\n",
    "\n",
    "\n",
    "\n",
    "\n",
    "\n",
    "\n",
    "\n",
    "\n",
    "\n",
    "</div>"
   ]
  },
  {
   "cell_type": "markdown",
   "metadata": {},
   "source": [
    "&nbsp;<br>\n",
    "&nbsp;<br>\n",
    "&nbsp;<br>\n",
    "&nbsp;<br>\n",
    "&nbsp;<br>\n",
    "&nbsp;<br>\n",
    "&nbsp;<br>\n",
    "&nbsp;<br>\n",
    "&nbsp;<br>\n",
    "&nbsp;<br>\n",
    "&nbsp;<br>"
   ]
  },
  {
   "cell_type": "markdown",
   "metadata": {},
   "source": [
    "# 8. range( ) 함수\n",
    "\n",
    "### Python 은 range( ) 함수를 built-in 으로 제공한다.\n",
    "### range( ) 함수는 파라미터 (parameter) 로 받은 숫자 범위의 연속된 정수를 반환함.\n",
    "### 문법:\n",
    "    range([start,] stop [,increment]) \n",
    "### list( ) 함수는 range( ) 함수의 반환값을 list 로 변환해 줌.\n",
    "### for-loop 문에서 range( ) 함수는 list 를 반환한다."
   ]
  },
  {
   "cell_type": "code",
   "execution_count": 1,
   "metadata": {},
   "outputs": [
    {
     "name": "stdout",
     "output_type": "stream",
     "text": [
      "0\n",
      "1\n",
      "2\n",
      "3\n",
      "4\n"
     ]
    }
   ],
   "source": [
    "for i in range(5):\n",
    "    print(i)"
   ]
  },
  {
   "cell_type": "code",
   "execution_count": 2,
   "metadata": {},
   "outputs": [
    {
     "name": "stdout",
     "output_type": "stream",
     "text": [
      "0 1st\n",
      "1 2nd\n",
      "2 3rd\n",
      "3 4th\n",
      "4 5th\n"
     ]
    }
   ],
   "source": [
    "order = ['1st', '2nd', '3rd', '4th', '5th']\n",
    "for i in range(len(order)):\n",
    "    print(i, order[i])"
   ]
  },
  {
   "cell_type": "code",
   "execution_count": 3,
   "metadata": {},
   "outputs": [
    {
     "name": "stdout",
     "output_type": "stream",
     "text": [
      "0 1st\n",
      "1 2nd\n",
      "2 3rd\n",
      "3 4th\n",
      "4 5th\n"
     ]
    }
   ],
   "source": [
    "for i, ord in enumerate(order):\n",
    "    print(i, ord)"
   ]
  },
  {
   "cell_type": "code",
   "execution_count": 4,
   "metadata": {},
   "outputs": [
    {
     "name": "stdout",
     "output_type": "stream",
     "text": [
      "55\n"
     ]
    }
   ],
   "source": [
    "sum = 0\n",
    "for i in range(1, 11):\n",
    "    sum = sum + i\n",
    "print(sum)"
   ]
  },
  {
   "cell_type": "markdown",
   "metadata": {},
   "source": [
    "### tuple 과 for-loop\n"
   ]
  },
  {
   "cell_type": "code",
   "execution_count": 5,
   "metadata": {},
   "outputs": [],
   "source": [
    "xtuple = (1, 'two', 2)"
   ]
  },
  {
   "cell_type": "code",
   "execution_count": 6,
   "metadata": {},
   "outputs": [
    {
     "name": "stdout",
     "output_type": "stream",
     "text": [
      "1\n",
      "two\n",
      "2\n"
     ]
    }
   ],
   "source": [
    "for e in xtuple:\n",
    "    print(e)"
   ]
  },
  {
   "cell_type": "markdown",
   "metadata": {},
   "source": [
    "## 연습문제\n",
    "\n",
    "    피보나치 수열(Fibonacci Sequence)을 계산하는 프로그램도 파이썬으로 간단히 작성할 수 있다. \n",
    "\n",
    "    피보나치 수열은 0 과 1 로 시작하고 다음의 숫자는 이전 숫자 두개를 더한 숫자들로 이루어 진다.\n",
    "    0, 1, 1, 2, 3, 5, 8, 13 ......\n",
    "    \n",
    "$$ F_n = \\begin{cases} 0 \\quad \\quad \\quad \\quad \\quad \\text {n = 0} \\\\ 1 \\quad \\quad \\quad \\quad \\quad \\text {n = 1} \\\\ F_{n-1} + F_{n-2}\\quad \\text {n > 1}\\end{cases} $$\n",
    "\n",
    "    n 개의 숫자로 이루어진 피보나치 수열을 출력하는 함수를 작성하라.\n",
    "    \n",
    "    (결과) fib(10) => [0, 1, 1, 2, 3, 5, 8, 13, 21, 34]\n",
    "    \n",
    "**(알고리즘)**\n",
    "- old, new 두개의 변수 이용 -> 초기값 : old = 0, new = 1  \n",
    "- loop n times:\n",
    "    - next 숫자는 old + new  \n",
    "    - new 값이 old 가 되고 next 숫자가 new 값이 된다.\n",
    "- loop 후 마지막 new 값이 n 번째 피보나치 수이다."
   ]
  },
  {
   "cell_type": "code",
   "execution_count": null,
   "metadata": {},
   "outputs": [],
   "source": [
    "def fib(n):\n",
    "    if n == 0:\n",
    "        return 0\n",
    "    if n == 1:\n",
    "        return 1\n",
    "    \n",
    "    old, new = 0, 1\n",
    "    for _ in range(n):\n",
    "        # your code here \n",
    "    return old\n",
    "\n",
    "lst = []\n",
    "for i in range(10):\n",
    "    # your code here\n",
    "\n",
    "print(lst)"
   ]
  },
  {
   "cell_type": "markdown",
   "metadata": {},
   "source": [
    "<div>\n",
    "\n",
    "\n",
    "\n",
    "\n",
    "\n",
    "\n",
    "\n",
    "\n",
    "\n",
    "\n",
    "\n",
    "</div>"
   ]
  },
  {
   "cell_type": "markdown",
   "metadata": {},
   "source": [
    "&nbsp;<br>\n",
    "&nbsp;<br>\n",
    "&nbsp;<br>\n",
    "&nbsp;<br>\n",
    "&nbsp;<br>\n",
    "&nbsp;<br>\n",
    "&nbsp;<br>\n",
    "&nbsp;<br>\n",
    "&nbsp;<br>\n",
    "&nbsp;<br>\n",
    "&nbsp;<br>"
   ]
  },
  {
   "cell_type": "markdown",
   "metadata": {},
   "source": [
    "# 9. 딕셔너리 (Dictionary) 자료형\n",
    "\n",
    "### dictionary 는 key-value 쌍으로 이루어진 data type 이다.\n",
    "\n",
    "### dictionary 는 { } 내에 key: value 로 표시한다.\n",
    "\n",
    "### list, tuple 의 elemtent 들은 indexing 에 의해 접근하지만 , dictionary 는 key 값으로 접근한다.\n",
    "\n",
    "    dictionary = {key: value, key: value...}\n",
    "    \n",
    "<img src=\"./images/dict1.png\" width=\"500\">"
   ]
  },
  {
   "cell_type": "markdown",
   "metadata": {},
   "source": [
    "## Dictionary basics"
   ]
  },
  {
   "cell_type": "markdown",
   "metadata": {},
   "source": [
    "### dictionary 생성"
   ]
  },
  {
   "cell_type": "code",
   "execution_count": 27,
   "metadata": {},
   "outputs": [],
   "source": [
    "d = {'a': 1, 'b': 2, 'c': 3}"
   ]
  },
  {
   "cell_type": "code",
   "execution_count": 28,
   "metadata": {},
   "outputs": [
    {
     "data": {
      "text/plain": [
       "dict"
      ]
     },
     "execution_count": 28,
     "metadata": {},
     "output_type": "execute_result"
    }
   ],
   "source": [
    "type(d)"
   ]
  },
  {
   "cell_type": "markdown",
   "metadata": {},
   "source": [
    "### dictionary 값(value) 접근"
   ]
  },
  {
   "cell_type": "code",
   "execution_count": 29,
   "metadata": {},
   "outputs": [
    {
     "data": {
      "text/plain": [
       "5"
      ]
     },
     "execution_count": 29,
     "metadata": {},
     "output_type": "execute_result"
    }
   ],
   "source": [
    "d['b'] + d['c']"
   ]
  },
  {
   "cell_type": "code",
   "execution_count": 30,
   "metadata": {},
   "outputs": [
    {
     "name": "stdout",
     "output_type": "stream",
     "text": [
      "My name is Kim and I live in Seoul.\n"
     ]
    }
   ],
   "source": [
    "my_info = {'name': 'Kim', 'age': 25, 'height': 175, 'home': 'Seoul'}\n",
    "\n",
    "if my_info['age'] < 30 and my_info['height'] > 170:\n",
    "    print(\"My name is \" + my_info['name'] +\n",
    "            ' and I live in ' + my_info['home'] + '.')"
   ]
  },
  {
   "cell_type": "markdown",
   "metadata": {},
   "source": [
    "### Dictionary 값 update"
   ]
  },
  {
   "cell_type": "code",
   "execution_count": 31,
   "metadata": {},
   "outputs": [],
   "source": [
    "my_info['name'] = 'Jane'\n",
    "my_info['home'] = 'New York'"
   ]
  },
  {
   "cell_type": "code",
   "execution_count": 32,
   "metadata": {},
   "outputs": [
    {
     "name": "stdout",
     "output_type": "stream",
     "text": [
      "My name is Jane and I live in New York.\n"
     ]
    }
   ],
   "source": [
    "if my_info['age'] < 30 and my_info['height'] > 170:\n",
    "    print(\"My name is \" + my_info['name'] + \n",
    "            ' and I live in ' + my_info['home'] + '.')"
   ]
  },
  {
   "cell_type": "markdown",
   "metadata": {},
   "source": [
    "### dictionary 와 for-loop"
   ]
  },
  {
   "cell_type": "code",
   "execution_count": 33,
   "metadata": {},
   "outputs": [],
   "source": [
    "age_info = {'Kim': 50, 'Lee': 20, 'Park': 15, 'Choi': 45}"
   ]
  },
  {
   "cell_type": "code",
   "execution_count": 34,
   "metadata": {},
   "outputs": [
    {
     "name": "stdout",
     "output_type": "stream",
     "text": [
      "Kim 50\n"
     ]
    }
   ],
   "source": [
    "for key in age_info:\n",
    "    if key == 'Kim':\n",
    "        print(key, age_info[key])"
   ]
  },
  {
   "cell_type": "code",
   "execution_count": 35,
   "metadata": {},
   "outputs": [
    {
     "name": "stdout",
     "output_type": "stream",
     "text": [
      "Kim\n",
      "Lee\n",
      "Park\n",
      "Choi\n"
     ]
    }
   ],
   "source": [
    "for key in age_info.keys():\n",
    "    print(key)"
   ]
  },
  {
   "cell_type": "code",
   "execution_count": 36,
   "metadata": {},
   "outputs": [
    {
     "name": "stdout",
     "output_type": "stream",
     "text": [
      "50\n",
      "20\n",
      "15\n",
      "45\n"
     ]
    }
   ],
   "source": [
    "for value in age_info.values():\n",
    "    print(value)"
   ]
  },
  {
   "cell_type": "code",
   "execution_count": 37,
   "metadata": {},
   "outputs": [
    {
     "name": "stdout",
     "output_type": "stream",
     "text": [
      "Kim 50\n",
      "Lee 20\n",
      "Park 15\n",
      "Choi 45\n"
     ]
    }
   ],
   "source": [
    "for key, value in age_info.items():\n",
    "    print(key, value)"
   ]
  },
  {
   "cell_type": "code",
   "execution_count": 38,
   "metadata": {},
   "outputs": [
    {
     "name": "stdout",
     "output_type": "stream",
     "text": [
      "50\n",
      "20\n",
      "15\n",
      "45\n"
     ]
    }
   ],
   "source": [
    "for key in age_info.keys():\n",
    "    print(age_info[key])"
   ]
  },
  {
   "cell_type": "markdown",
   "metadata": {},
   "source": [
    "### dictionary 정렬\n",
    "\n",
    "- key 순으로 정렬"
   ]
  },
  {
   "cell_type": "code",
   "execution_count": 39,
   "metadata": {},
   "outputs": [
    {
     "data": {
      "text/plain": [
       "['a', 'b', 'c']"
      ]
     },
     "execution_count": 39,
     "metadata": {},
     "output_type": "execute_result"
    }
   ],
   "source": [
    "d = {'c': 1, 'a': 2, 'b': 3}\n",
    "sorted(d)"
   ]
  },
  {
   "cell_type": "markdown",
   "metadata": {},
   "source": [
    "- value 순으로 정렬\n",
    "    - sorted 내장함수 이용"
   ]
  },
  {
   "cell_type": "code",
   "execution_count": 40,
   "metadata": {},
   "outputs": [
    {
     "data": {
      "text/plain": [
       "[('c', 1), ('a', 2), ('b', 3)]"
      ]
     },
     "execution_count": 40,
     "metadata": {},
     "output_type": "execute_result"
    }
   ],
   "source": [
    "sorted(d.items(), key=lambda kv: kv[1])"
   ]
  },
  {
   "cell_type": "markdown",
   "metadata": {},
   "source": [
    "### dictionary 에 key 존재 유무 check"
   ]
  },
  {
   "cell_type": "code",
   "execution_count": 41,
   "metadata": {},
   "outputs": [
    {
     "data": {
      "text/plain": [
       "True"
      ]
     },
     "execution_count": 41,
     "metadata": {},
     "output_type": "execute_result"
    }
   ],
   "source": [
    "d = {'a': 1, 'b': 2, 'c': 3}\n",
    "'a' in d"
   ]
  },
  {
   "cell_type": "code",
   "execution_count": 42,
   "metadata": {},
   "outputs": [
    {
     "data": {
      "text/plain": [
       "False"
      ]
     },
     "execution_count": 42,
     "metadata": {},
     "output_type": "execute_result"
    }
   ],
   "source": [
    "'d' in d"
   ]
  },
  {
   "cell_type": "markdown",
   "metadata": {},
   "source": [
    "### dictionary 를 이용한 list 의 중복 element count"
   ]
  },
  {
   "cell_type": "code",
   "execution_count": 43,
   "metadata": {},
   "outputs": [],
   "source": [
    "def word_count_dict(word_list):\n",
    "    word_count = {}\n",
    "    for word in word_list:\n",
    "        word = word.lower()\n",
    "        if not word in word_count:\n",
    "            word_count[word] = 1\n",
    "        else:\n",
    "            word_count[word] += 1\n",
    "    return word_count"
   ]
  },
  {
   "cell_type": "code",
   "execution_count": 44,
   "metadata": {},
   "outputs": [],
   "source": [
    "word_list = ['test', 'Test', 'apple', 'Apple', 'orange', 'dog', 'caT', 'CAT']\n",
    "\n",
    "words_cnt = word_count_dict(word_list)"
   ]
  },
  {
   "cell_type": "code",
   "execution_count": 45,
   "metadata": {},
   "outputs": [
    {
     "data": {
      "text/plain": [
       "{'test': 2, 'apple': 2, 'orange': 1, 'dog': 1, 'cat': 2}"
      ]
     },
     "execution_count": 45,
     "metadata": {},
     "output_type": "execute_result"
    }
   ],
   "source": [
    "words_cnt"
   ]
  },
  {
   "cell_type": "code",
   "execution_count": 46,
   "metadata": {},
   "outputs": [
    {
     "name": "stdout",
     "output_type": "stream",
     "text": [
      "test 2\n",
      "apple 2\n",
      "orange 1\n",
      "dog 1\n",
      "cat 2\n"
     ]
    }
   ],
   "source": [
    "for k, v in words_cnt.items():\n",
    "    print(k, v)"
   ]
  },
  {
   "cell_type": "markdown",
   "metadata": {},
   "source": [
    "### 계층적 자료구조 구성"
   ]
  },
  {
   "cell_type": "code",
   "execution_count": 47,
   "metadata": {},
   "outputs": [],
   "source": [
    "stock = {\n",
    "    'name': '삼성전자',\n",
    "    'market': 'KOSPI',\n",
    "    'close': [\n",
    "        ('2010-08-01', 45000),\n",
    "        ('2010-08-02', 47000),\n",
    "        ('2010-08-03', 42000),\n",
    "    ],\n",
    "    'market-cap': 2919097,\n",
    "    'PER': 15.17\n",
    "}\n",
    "\n",
    "stocks = {\n",
    "    'sec': {\n",
    "        'name': '삼성전자',\n",
    "        'market': 'KOSPI',\n",
    "        'close': [\n",
    "            ('2010-08-01', 45000),\n",
    "            ('2010-08-02', 47000),\n",
    "            ('2010-08-03', 42000),\n",
    "        ],\n",
    "        'market-cap': 2919097,\n",
    "        'PER': 15.17\n",
    "    },\n",
    "    'lg' : {\n",
    "        'name': 'LG',\n",
    "        'market': 'KOSPI',\n",
    "        'close': [\n",
    "            ('2010-08-01', 45000),\n",
    "            ('2010-08-02', 47000),\n",
    "            ('2010-08-03', 42000),\n",
    "        ],\n",
    "        'market-cap': 2919097,\n",
    "        'PER': 15.17\n",
    "    },\n",
    "    'TESLA' : {\n",
    "        'name': 'TESLA',\n",
    "        'market': 'KOSPI',\n",
    "        'close': [\n",
    "            ('2010-08-01', 45000),\n",
    "            ('2010-08-02', 47000),\n",
    "            ('2010-08-03', 42000),\n",
    "        ],\n",
    "        'market-cap': 2919097,\n",
    "        'PER': 15.17\n",
    "    }\n",
    "}"
   ]
  },
  {
   "cell_type": "code",
   "execution_count": 48,
   "metadata": {},
   "outputs": [
    {
     "data": {
      "text/plain": [
       "dict_keys(['name', 'market', 'close', 'market-cap', 'PER'])"
      ]
     },
     "execution_count": 48,
     "metadata": {},
     "output_type": "execute_result"
    }
   ],
   "source": [
    "stock.keys()"
   ]
  },
  {
   "cell_type": "code",
   "execution_count": 49,
   "metadata": {},
   "outputs": [
    {
     "data": {
      "text/plain": [
       "dict_keys(['sec', 'lg', 'TESLA'])"
      ]
     },
     "execution_count": 49,
     "metadata": {},
     "output_type": "execute_result"
    }
   ],
   "source": [
    "stocks.keys()"
   ]
  },
  {
   "cell_type": "code",
   "execution_count": 50,
   "metadata": {},
   "outputs": [
    {
     "data": {
      "text/plain": [
       "{'name': 'LG',\n",
       " 'market': 'KOSPI',\n",
       " 'close': [('2010-08-01', 45000),\n",
       "  ('2010-08-02', 47000),\n",
       "  ('2010-08-03', 42000)],\n",
       " 'market-cap': 2919097,\n",
       " 'PER': 15.17}"
      ]
     },
     "execution_count": 50,
     "metadata": {},
     "output_type": "execute_result"
    }
   ],
   "source": [
    "stocks['lg']"
   ]
  },
  {
   "cell_type": "code",
   "execution_count": 51,
   "metadata": {},
   "outputs": [
    {
     "name": "stdout",
     "output_type": "stream",
     "text": [
      "2010-08-01 45000\n",
      "2010-08-02 47000\n",
      "2010-08-03 42000\n"
     ]
    }
   ],
   "source": [
    "for c in stock['close']:\n",
    "    print(c[0], c[1])"
   ]
  },
  {
   "cell_type": "markdown",
   "metadata": {},
   "source": [
    "### 연습문제\n",
    "\n",
    "1) 다음의 출력 결과는 ?\n",
    "\n",
    "    d = {'a': 2, 'b': 4, 'c': 9}\n",
    "    for x in sorted(d):\n",
    "        print(d[x], end=\"\")"
   ]
  },
  {
   "cell_type": "markdown",
   "metadata": {},
   "source": [
    "2) 다음의 출력 결과는 ?\n",
    "\n",
    "    d = {'a': 2, 'b': 4, 'c': 9}\n",
    "    for x in sorted(d.values()):\n",
    "        print(x, end=\"\")"
   ]
  },
  {
   "cell_type": "markdown",
   "metadata": {},
   "source": [
    "3) 다음의 출력 결과는 ?\n",
    "\n",
    "    d = {'a': 21, 'b': 4, 'c': 9}\n",
    "    for x in sorted(d.items()):\n",
    "        print(x, end=\"\")"
   ]
  },
  {
   "cell_type": "markdown",
   "metadata": {},
   "source": [
    "4) 두개의 주사위를 던져서 두 주사위의 합이 같은 것끼리 출력하라.\n",
    "\n",
    "- pseudo-code\n",
    "\n",
    "```\n",
    "    d = {}\n",
    "    \n",
    "    Loop with 주사위1 from 1 to 6\n",
    "        Loop with 주사위2 from 1 to 6\n",
    "            newTuple = (주사위1, 주사위2)\n",
    "            added = 주사위1 + 주사위2\n",
    "            if added 가 d 에 없으면 empty list 를 d 에 추가\n",
    "            d 의 기존 list 에 append\n",
    "```"
   ]
  },
  {
   "cell_type": "code",
   "execution_count": null,
   "metadata": {},
   "outputs": [],
   "source": [
    "d = {}\n",
    "\n",
    "for dice1 in range(1, 7):\n",
    "    for dice2 in range(1, 7):\n",
    "        # Your code here\n",
    "\n",
    "d"
   ]
  },
  {
   "cell_type": "markdown",
   "metadata": {},
   "source": [
    "<div>\n",
    "\n",
    "\n",
    "\n",
    "\n",
    "\n",
    "\n",
    "\n",
    "\n",
    "\n",
    "\n",
    "\n",
    "</div>"
   ]
  },
  {
   "cell_type": "markdown",
   "metadata": {},
   "source": [
    "&nbsp;<br>\n",
    "&nbsp;<br>\n",
    "&nbsp;<br>\n",
    "&nbsp;<br>\n",
    "&nbsp;<br>\n",
    "&nbsp;<br>\n",
    "&nbsp;<br>\n",
    "&nbsp;<br>\n",
    "&nbsp;<br>\n",
    "&nbsp;<br>\n",
    "&nbsp;<br>"
   ]
  },
  {
   "cell_type": "markdown",
   "metadata": {},
   "source": [
    "# 10. 스트링 (String) \n",
    "\n",
    "## 스트링 (String) 자료형과 string 함수\n",
    "\n",
    "### Python 의 string 자료형은 text 형태의 문자열을 말함.\n",
    "### 문자열은 \" \" , ' '  혹은 \"\"\" \"\"\" 로 둘러싸인 문자들의 집합임.\n",
    "    \"Life is short\"\n",
    "    'a'\n",
    "    \"123\"\n",
    "    \"\"\"String is Python's text type.\"\"\"\n",
    "### string 자료는 수정할 수 없음 (immutable)\n",
    "\n",
    "* 수정할 수 있는 자료형 (mutable)  \n",
    "    list\n",
    "    \n",
    "* 수정할 수 없는 자료형 (immutable)  \n",
    "    string, tuple\n",
    "    \n",
    "### string 간의 +, * 연산이 가능"
   ]
  },
  {
   "cell_type": "markdown",
   "metadata": {},
   "source": [
    "### string 과 list 비교"
   ]
  },
  {
   "cell_type": "code",
   "execution_count": 1,
   "metadata": {},
   "outputs": [
    {
     "name": "stdout",
     "output_type": "stream",
     "text": [
      "o\n",
      "d\n"
     ]
    }
   ],
   "source": [
    "xlist = ['g','o','o','d']\n",
    "print(xlist[1])\n",
    "print(xlist[-1])"
   ]
  },
  {
   "cell_type": "code",
   "execution_count": 2,
   "metadata": {},
   "outputs": [
    {
     "name": "stdout",
     "output_type": "stream",
     "text": [
      "o\n",
      "d\n"
     ]
    }
   ],
   "source": [
    "s1 = 'good'\n",
    "print(s1[1])\n",
    "print(s1[-1])"
   ]
  },
  {
   "cell_type": "markdown",
   "metadata": {},
   "source": [
    "### string operation"
   ]
  },
  {
   "cell_type": "code",
   "execution_count": 3,
   "metadata": {},
   "outputs": [
    {
     "name": "stdout",
     "output_type": "stream",
     "text": [
      "Good morning\n"
     ]
    }
   ],
   "source": [
    "s2 = \"Good\" + \" morning\"\n",
    "print(s2)"
   ]
  },
  {
   "cell_type": "code",
   "execution_count": 4,
   "metadata": {},
   "outputs": [
    {
     "name": "stdout",
     "output_type": "stream",
     "text": [
      "goodgoodgood\n"
     ]
    }
   ],
   "source": [
    "s3 = \"good\" * 3\n",
    "print(s3)"
   ]
  },
  {
   "cell_type": "code",
   "execution_count": 5,
   "metadata": {},
   "outputs": [
    {
     "data": {
      "text/plain": [
       "'Number3'"
      ]
     },
     "execution_count": 5,
     "metadata": {},
     "output_type": "execute_result"
    }
   ],
   "source": [
    "s4 = \"Number\" + str(3)\n",
    "s4"
   ]
  },
  {
   "cell_type": "markdown",
   "metadata": {},
   "source": [
    "### slicing"
   ]
  },
  {
   "cell_type": "code",
   "execution_count": 6,
   "metadata": {},
   "outputs": [
    {
     "data": {
      "text/plain": [
       "18"
      ]
     },
     "execution_count": 6,
     "metadata": {},
     "output_type": "execute_result"
    }
   ],
   "source": [
    "s5 = \"Python is powerful\"\n",
    "len(s5)"
   ]
  },
  {
   "cell_type": "code",
   "execution_count": 7,
   "metadata": {},
   "outputs": [
    {
     "data": {
      "text/plain": [
       "'Pyth'"
      ]
     },
     "execution_count": 7,
     "metadata": {},
     "output_type": "execute_result"
    }
   ],
   "source": [
    "s5[:4]"
   ]
  },
  {
   "cell_type": "code",
   "execution_count": 8,
   "metadata": {},
   "outputs": [
    {
     "data": {
      "text/plain": [
       "'lufrewop si nohtyP'"
      ]
     },
     "execution_count": 8,
     "metadata": {},
     "output_type": "execute_result"
    }
   ],
   "source": [
    "s5[::-1]"
   ]
  },
  {
   "cell_type": "markdown",
   "metadata": {},
   "source": [
    "### string and for-loop"
   ]
  },
  {
   "cell_type": "code",
   "execution_count": 9,
   "metadata": {},
   "outputs": [
    {
     "name": "stdout",
     "output_type": "stream",
     "text": [
      "P,y,t,h,o,n, ,i,s, ,p,o,w,e,r,f,u,l,"
     ]
    }
   ],
   "source": [
    "for ch in s5:\n",
    "    print(ch, end=\",\")"
   ]
  },
  {
   "cell_type": "markdown",
   "metadata": {},
   "source": [
    "### 대, 소문자 변환\n",
    "    lower( ), upper( )"
   ]
  },
  {
   "cell_type": "code",
   "execution_count": 10,
   "metadata": {},
   "outputs": [],
   "source": [
    "s = \"good morning\""
   ]
  },
  {
   "cell_type": "code",
   "execution_count": 11,
   "metadata": {},
   "outputs": [
    {
     "name": "stdout",
     "output_type": "stream",
     "text": [
      "GOOD MORNING\n"
     ]
    }
   ],
   "source": [
    "S = s.upper()\n",
    "print(S)"
   ]
  },
  {
   "cell_type": "code",
   "execution_count": 12,
   "metadata": {},
   "outputs": [
    {
     "data": {
      "text/plain": [
       "'good morning'"
      ]
     },
     "execution_count": 12,
     "metadata": {},
     "output_type": "execute_result"
    }
   ],
   "source": [
    "S.lower()"
   ]
  },
  {
   "cell_type": "markdown",
   "metadata": {
    "collapsed": true
   },
   "source": [
    "## 10-1. 문자열 포매팅 (String Formatting)\n",
    "\n",
    "- 문자열 포매팅이란 문자열 내에 어떤 값을 삽입하는 것\n",
    "\n",
    "\n",
    "-  { } 로 위치를 표시하고 format( ) method 로 mapping 시킨다.\n",
    "\n",
    "\n",
    "-  `{[순서]:[표시형식]}` 지정 가능\n",
    "\n",
    "\n",
    "-  format( ) method 대신 % 를 이용할 수도 있다. $\\rightarrow$ Python 2.7 방식"
   ]
  },
  {
   "cell_type": "code",
   "execution_count": 13,
   "metadata": {},
   "outputs": [
    {
     "data": {
      "text/plain": [
       "'Python is powerful'"
      ]
     },
     "execution_count": 13,
     "metadata": {},
     "output_type": "execute_result"
    }
   ],
   "source": [
    "\"Python is {}\".format(\"powerful\")"
   ]
  },
  {
   "cell_type": "code",
   "execution_count": 14,
   "metadata": {},
   "outputs": [
    {
     "data": {
      "text/plain": [
       "'Python is easy and powerful'"
      ]
     },
     "execution_count": 14,
     "metadata": {},
     "output_type": "execute_result"
    }
   ],
   "source": [
    "\"Python is {} and {}\".format(\"easy\", \"powerful\")"
   ]
  },
  {
   "cell_type": "code",
   "execution_count": 15,
   "metadata": {},
   "outputs": [
    {
     "data": {
      "text/plain": [
       "\"Float : 1.5, List: ['a', 'b', 'c']\""
      ]
     },
     "execution_count": 15,
     "metadata": {},
     "output_type": "execute_result"
    }
   ],
   "source": [
    "\"Float : {}, List: {}\".format(1.5, ['a','b','c'])"
   ]
  },
  {
   "cell_type": "code",
   "execution_count": 16,
   "metadata": {},
   "outputs": [
    {
     "name": "stdout",
     "output_type": "stream",
     "text": [
      "많이 팔리는 순서는 사과, 바나나, 망고 이고 바나나 는 품절입니다.\n"
     ]
    }
   ],
   "source": [
    "print(\"많이 팔리는 순서는 {0}, {1}, {2} 이고 {1} 는 품절입니다.\"\n",
    "          . format(\"사과\",\"바나나\",\"망고\"))"
   ]
  },
  {
   "cell_type": "code",
   "execution_count": 17,
   "metadata": {},
   "outputs": [
    {
     "name": "stdout",
     "output_type": "stream",
     "text": [
      "Friends are Sean, John and Bill.\n"
     ]
    }
   ],
   "source": [
    "print(\"Friends are {s}, {b} and {j}.\".\n",
    "      format(j=\"Bill\", b=\"John\", s=\"Sean\"))"
   ]
  },
  {
   "cell_type": "code",
   "execution_count": 18,
   "metadata": {},
   "outputs": [
    {
     "data": {
      "text/plain": [
       "'5-10-15'"
      ]
     },
     "execution_count": 18,
     "metadata": {},
     "output_type": "execute_result"
    }
   ],
   "source": [
    "\"{}-{}-{}\".format(5, 10, 15)"
   ]
  },
  {
   "cell_type": "code",
   "execution_count": 19,
   "metadata": {},
   "outputs": [
    {
     "data": {
      "text/plain": [
       "'    5-   10-   15'"
      ]
     },
     "execution_count": 19,
     "metadata": {},
     "output_type": "execute_result"
    }
   ],
   "source": [
    "\"{0:5}-{1:5}-{2:5}\".format(5, 10, 15)"
   ]
  },
  {
   "cell_type": "code",
   "execution_count": 20,
   "metadata": {},
   "outputs": [
    {
     "data": {
      "text/plain": [
       "'LEFT       left justify'"
      ]
     },
     "execution_count": 20,
     "metadata": {},
     "output_type": "execute_result"
    }
   ],
   "source": [
    "\"{0:<10} left justify\".format(\"LEFT\")"
   ]
  },
  {
   "cell_type": "code",
   "execution_count": 21,
   "metadata": {},
   "outputs": [
    {
     "data": {
      "text/plain": [
       "'     RIGHT right justify'"
      ]
     },
     "execution_count": 21,
     "metadata": {},
     "output_type": "execute_result"
    }
   ],
   "source": [
    "\"{:>10} right justify\".format(\"RIGHT\")"
   ]
  },
  {
   "cell_type": "code",
   "execution_count": 22,
   "metadata": {},
   "outputs": [
    {
     "data": {
      "text/plain": [
       "'  CENTER   center justify'"
      ]
     },
     "execution_count": 22,
     "metadata": {},
     "output_type": "execute_result"
    }
   ],
   "source": [
    "\"{:^10} center justify\".format(\"CENTER\")"
   ]
  },
  {
   "cell_type": "code",
   "execution_count": 23,
   "metadata": {},
   "outputs": [
    {
     "data": {
      "text/plain": [
       "'**CENTER** filling with *'"
      ]
     },
     "execution_count": 23,
     "metadata": {},
     "output_type": "execute_result"
    }
   ],
   "source": [
    "\"{:*^10} filling with *\".format(\"CENTER\")"
   ]
  },
  {
   "cell_type": "code",
   "execution_count": 24,
   "metadata": {},
   "outputs": [
    {
     "data": {
      "text/plain": [
       "'Pi is 3.1416'"
      ]
     },
     "execution_count": 24,
     "metadata": {},
     "output_type": "execute_result"
    }
   ],
   "source": [
    "y = 3.141592\n",
    "\"{0} is {1:0.4f}\".format(\"Pi\", y)"
   ]
  },
  {
   "cell_type": "code",
   "execution_count": 25,
   "metadata": {},
   "outputs": [
    {
     "name": "stdout",
     "output_type": "stream",
     "text": [
      "square root 2 is 1.4142\n"
     ]
    }
   ],
   "source": [
    "import math\n",
    "r2 = math.sqrt(2)\n",
    "print(\"square root 2 is {:.4f}\".format(r2))"
   ]
  },
  {
   "cell_type": "code",
   "execution_count": 26,
   "metadata": {},
   "outputs": [
    {
     "name": "stdout",
     "output_type": "stream",
     "text": [
      "square root 2 is     1.4142\n"
     ]
    }
   ],
   "source": [
    "print(\"square root 2 is {:10.4f}\".format(r2))"
   ]
  },
  {
   "cell_type": "code",
   "execution_count": 27,
   "metadata": {},
   "outputs": [
    {
     "name": "stdout",
     "output_type": "stream",
     "text": [
      "square root 2 is [    1.4142]\n"
     ]
    }
   ],
   "source": [
    "print(\"square root 2 is [{:10.4f}]\".format(r2))"
   ]
  },
  {
   "cell_type": "code",
   "execution_count": 28,
   "metadata": {},
   "outputs": [
    {
     "name": "stdout",
     "output_type": "stream",
     "text": [
      "square root 2 is {    1.4142}\n"
     ]
    }
   ],
   "source": [
    "print(\"square root 2 is {{{:10.4f}}}\".format(r2))"
   ]
  },
  {
   "cell_type": "markdown",
   "metadata": {},
   "source": [
    "## 10-2. 포맷문자열 리터럴 (f-문자열)\n",
    "\n",
    "-  f+string 내에 {expression}  사용"
   ]
  },
  {
   "cell_type": "code",
   "execution_count": 29,
   "metadata": {},
   "outputs": [
    {
     "name": "stdout",
     "output_type": "stream",
     "text": [
      "The value of pi is approximately 3.142.\n"
     ]
    }
   ],
   "source": [
    "import math\n",
    "print(f'The value of pi is approximately {math.pi:.3f}.')"
   ]
  },
  {
   "cell_type": "code",
   "execution_count": 30,
   "metadata": {},
   "outputs": [
    {
     "name": "stdout",
     "output_type": "stream",
     "text": [
      "Sjoerd ==> 4127\n",
      "Sjoerd     ==>       4127\n",
      "Jack ==> 4098\n",
      "Jack       ==>       4098\n",
      "Dcab ==> 7678\n",
      "Dcab       ==>       7678\n"
     ]
    }
   ],
   "source": [
    "table = {'Sjoerd': 4127, 'Jack': 4098, 'Dcab': 7678}\n",
    "\n",
    "for name, phone in table.items():\n",
    "    print(name, '==> {}'.format(phone))\n",
    "    print(f'{name:10} ==> {phone:10d}')"
   ]
  },
  {
   "cell_type": "markdown",
   "metadata": {},
   "source": [
    "### 연습문제"
   ]
  },
  {
   "cell_type": "markdown",
   "metadata": {},
   "source": [
    "1) parameter 로 받은 string 의 양 끝단 2 글자를 붙여서 반환하는 함수 작성\n",
    "- string 의 slicing 및 concatenation 이용\n",
    "```Python\n",
    "    def both_ends(s):\n",
    "        if len(s) < 2:\n",
    "            return ''\n",
    "        first2 = s[:?]\n",
    "        last2 = s[?:]\n",
    "        return first2 + last2\n",
    "\n",
    "    print(both_ends('spring'))  #spng \n",
    "    print(both_ends('Hello'))    #Helo\n",
    "```  "
   ]
  },
  {
   "cell_type": "markdown",
   "metadata": {},
   "source": [
    "2) 두개의 문자열을 parameter 로 받아 서로의 첫번째 두 글자를 교환한 후 중간에 한칸 띄우고 반환하는 함수 작성\n",
    "\n",
    "```python\n",
    "    def mix_up(a, b):\n",
    "        a_swapped = b[:?] + a[?:]\n",
    "        b_swapped = a[:?] + b[?:]\n",
    "        return ? + ' ' + ?\n",
    "\n",
    "    print(mix_up('frog', 'dinner'))   # diog frnner\n",
    "```"
   ]
  },
  {
   "cell_type": "markdown",
   "metadata": {},
   "source": [
    "3) 두개의 parameter 를 받아서 두개의 시작이 같으면 SAME 다르면 Different 를 반환하는 함수 작성\n",
    "```python\n",
    "    test('a', 'a')     # SAME\n",
    "    test('aba', 'cba')   # Different\n",
    "```"
   ]
  },
  {
   "cell_type": "markdown",
   "metadata": {},
   "source": [
    "<div>\n",
    "\n",
    "\n",
    "\n",
    "\n",
    "\n",
    "\n",
    "\n",
    "\n",
    "\n",
    "\n",
    "\n",
    "</div>"
   ]
  },
  {
   "cell_type": "markdown",
   "metadata": {},
   "source": [
    "&nbsp;<br>\n",
    "&nbsp;<br>\n",
    "&nbsp;<br>\n",
    "&nbsp;<br>\n",
    "&nbsp;<br>\n",
    "&nbsp;<br>\n",
    "&nbsp;<br>\n",
    "&nbsp;<br>\n",
    "&nbsp;<br>\n",
    "&nbsp;<br>\n",
    "&nbsp;<br>"
   ]
  },
  {
   "cell_type": "markdown",
   "metadata": {},
   "source": [
    "# 11. Module\n",
    "\n",
    "#### 미리 만들어 놓은 Python 프로그램들을 모듈(Module) 혹은 package 라고 한다.\n",
    "\n",
    "#### module 은 python 함수를 모아 놓은 것이다.\n",
    "\n",
    "#### module 은 import 명령어로 불러온다.\n",
    "\n",
    "#### 관련된 기능의 module  여러개를 한 덩어리로 묶은 것을 package 라고 부른다. package 는 기본 Python 3.7 에 포함되어 있지 않고 필요할 때 추가로 설치해야 한다.\n",
    "\n",
    "#### 별도 설치가 필요 없는 Python 모듈을 built-in module (내장모듈) 이라고 부른다.\n",
    "\n",
    "#### 내장 module 의 예:\n",
    "    math, random\n",
    "    \n",
    "#### import 문 문법:\n",
    "    import <모듈명>\n",
    "    from <모듈명> import <함수명, *>\n",
    "    from <모듈명> import <함수명, *> as <별명>"
   ]
  },
  {
   "cell_type": "markdown",
   "metadata": {},
   "source": [
    "## 11-1. 전체 module 불러오기"
   ]
  },
  {
   "cell_type": "code",
   "execution_count": 1,
   "metadata": {},
   "outputs": [],
   "source": [
    "import math"
   ]
  },
  {
   "cell_type": "code",
   "execution_count": 2,
   "metadata": {},
   "outputs": [
    {
     "data": {
      "text/plain": [
       "module"
      ]
     },
     "execution_count": 2,
     "metadata": {},
     "output_type": "execute_result"
    }
   ],
   "source": [
    "type(math)"
   ]
  },
  {
   "cell_type": "markdown",
   "metadata": {},
   "source": [
    "### module 내에 포함된 함수들"
   ]
  },
  {
   "cell_type": "code",
   "execution_count": 3,
   "metadata": {},
   "outputs": [
    {
     "data": {
      "text/plain": [
       "['__doc__',\n",
       " '__loader__',\n",
       " '__name__',\n",
       " '__package__',\n",
       " '__spec__',\n",
       " 'acos',\n",
       " 'acosh',\n",
       " 'asin',\n",
       " 'asinh',\n",
       " 'atan',\n",
       " 'atan2',\n",
       " 'atanh',\n",
       " 'ceil',\n",
       " 'comb',\n",
       " 'copysign',\n",
       " 'cos',\n",
       " 'cosh',\n",
       " 'degrees',\n",
       " 'dist',\n",
       " 'e',\n",
       " 'erf',\n",
       " 'erfc',\n",
       " 'exp',\n",
       " 'expm1',\n",
       " 'fabs',\n",
       " 'factorial',\n",
       " 'floor',\n",
       " 'fmod',\n",
       " 'frexp',\n",
       " 'fsum',\n",
       " 'gamma',\n",
       " 'gcd',\n",
       " 'hypot',\n",
       " 'inf',\n",
       " 'isclose',\n",
       " 'isfinite',\n",
       " 'isinf',\n",
       " 'isnan',\n",
       " 'isqrt',\n",
       " 'ldexp',\n",
       " 'lgamma',\n",
       " 'log',\n",
       " 'log10',\n",
       " 'log1p',\n",
       " 'log2',\n",
       " 'modf',\n",
       " 'nan',\n",
       " 'perm',\n",
       " 'pi',\n",
       " 'pow',\n",
       " 'prod',\n",
       " 'radians',\n",
       " 'remainder',\n",
       " 'sin',\n",
       " 'sinh',\n",
       " 'sqrt',\n",
       " 'tan',\n",
       " 'tanh',\n",
       " 'tau',\n",
       " 'trunc']"
      ]
     },
     "execution_count": 3,
     "metadata": {},
     "output_type": "execute_result"
    }
   ],
   "source": [
    "dir(math)"
   ]
  },
  {
   "cell_type": "code",
   "execution_count": 4,
   "metadata": {},
   "outputs": [
    {
     "name": "stdout",
     "output_type": "stream",
     "text": [
      "Help on built-in function sin in module math:\n",
      "\n",
      "sin(x, /)\n",
      "    Return the sine of x (measured in radians).\n",
      "\n"
     ]
    }
   ],
   "source": [
    "help(math.sin)"
   ]
  },
  {
   "cell_type": "code",
   "execution_count": 5,
   "metadata": {},
   "outputs": [
    {
     "data": {
      "text/plain": [
       "7.38905609893065"
      ]
     },
     "execution_count": 5,
     "metadata": {},
     "output_type": "execute_result"
    }
   ],
   "source": [
    "math.exp(2)"
   ]
  },
  {
   "cell_type": "code",
   "execution_count": 6,
   "metadata": {},
   "outputs": [
    {
     "name": "stdout",
     "output_type": "stream",
     "text": [
      "Help on built-in function exp in module math:\n",
      "\n",
      "exp(x, /)\n",
      "    Return e raised to the power of x.\n",
      "\n"
     ]
    }
   ],
   "source": [
    "help(math.exp)"
   ]
  },
  {
   "cell_type": "code",
   "execution_count": 7,
   "metadata": {},
   "outputs": [
    {
     "name": "stdout",
     "output_type": "stream",
     "text": [
      "Help on built-in function log in module math:\n",
      "\n",
      "log(...)\n",
      "    log(x, [base=math.e])\n",
      "    Return the logarithm of x to the given base.\n",
      "    \n",
      "    If the base not specified, returns the natural logarithm (base e) of x.\n",
      "\n"
     ]
    }
   ],
   "source": [
    "help(math.log)"
   ]
  },
  {
   "cell_type": "code",
   "execution_count": 8,
   "metadata": {},
   "outputs": [
    {
     "data": {
      "text/plain": [
       "0.6931471805599453"
      ]
     },
     "execution_count": 8,
     "metadata": {},
     "output_type": "execute_result"
    }
   ],
   "source": [
    "math.log(2)"
   ]
  },
  {
   "cell_type": "code",
   "execution_count": 9,
   "metadata": {},
   "outputs": [
    {
     "data": {
      "text/plain": [
       "3"
      ]
     },
     "execution_count": 9,
     "metadata": {},
     "output_type": "execute_result"
    }
   ],
   "source": [
    "math.floor(3.14)"
   ]
  },
  {
   "cell_type": "code",
   "execution_count": 10,
   "metadata": {},
   "outputs": [
    {
     "data": {
      "text/plain": [
       "4"
      ]
     },
     "execution_count": 10,
     "metadata": {},
     "output_type": "execute_result"
    }
   ],
   "source": [
    "math.ceil(3.14)"
   ]
  },
  {
   "cell_type": "markdown",
   "metadata": {},
   "source": [
    "### 전체 module * 로 불러오기"
   ]
  },
  {
   "cell_type": "code",
   "execution_count": 11,
   "metadata": {},
   "outputs": [],
   "source": [
    "from math import *"
   ]
  },
  {
   "cell_type": "code",
   "execution_count": 12,
   "metadata": {},
   "outputs": [
    {
     "name": "stdout",
     "output_type": "stream",
     "text": [
      "Help on built-in function sin in module math:\n",
      "\n",
      "sin(x, /)\n",
      "    Return the sine of x (measured in radians).\n",
      "\n"
     ]
    }
   ],
   "source": [
    "help(sin)"
   ]
  },
  {
   "cell_type": "code",
   "execution_count": 13,
   "metadata": {},
   "outputs": [
    {
     "name": "stdout",
     "output_type": "stream",
     "text": [
      "Help on built-in function radians in module math:\n",
      "\n",
      "radians(x, /)\n",
      "    Convert angle x from degrees to radians.\n",
      "\n"
     ]
    }
   ],
   "source": [
    "help(radians)"
   ]
  },
  {
   "cell_type": "code",
   "execution_count": 14,
   "metadata": {},
   "outputs": [
    {
     "data": {
      "text/plain": [
       "0.0"
      ]
     },
     "execution_count": 14,
     "metadata": {},
     "output_type": "execute_result"
    }
   ],
   "source": [
    "radians(0)"
   ]
  },
  {
   "cell_type": "code",
   "execution_count": 15,
   "metadata": {},
   "outputs": [
    {
     "data": {
      "text/plain": [
       "1.5707963267948966"
      ]
     },
     "execution_count": 15,
     "metadata": {},
     "output_type": "execute_result"
    }
   ],
   "source": [
    "radians(90)"
   ]
  },
  {
   "cell_type": "code",
   "execution_count": 16,
   "metadata": {},
   "outputs": [
    {
     "data": {
      "text/plain": [
       "0.0"
      ]
     },
     "execution_count": 16,
     "metadata": {},
     "output_type": "execute_result"
    }
   ],
   "source": [
    "math.sin(radians(0))"
   ]
  },
  {
   "cell_type": "code",
   "execution_count": 17,
   "metadata": {},
   "outputs": [
    {
     "data": {
      "text/plain": [
       "1.0"
      ]
     },
     "execution_count": 17,
     "metadata": {},
     "output_type": "execute_result"
    }
   ],
   "source": [
    "math.sin(radians(90))"
   ]
  },
  {
   "cell_type": "markdown",
   "metadata": {},
   "source": [
    "### 개별 함수 불러오기"
   ]
  },
  {
   "cell_type": "code",
   "execution_count": 18,
   "metadata": {},
   "outputs": [],
   "source": [
    "from math import sqrt, pi"
   ]
  },
  {
   "cell_type": "code",
   "execution_count": 19,
   "metadata": {},
   "outputs": [
    {
     "data": {
      "text/plain": [
       "2.0"
      ]
     },
     "execution_count": 19,
     "metadata": {},
     "output_type": "execute_result"
    }
   ],
   "source": [
    "sqrt(4)"
   ]
  },
  {
   "cell_type": "code",
   "execution_count": 20,
   "metadata": {},
   "outputs": [
    {
     "name": "stdout",
     "output_type": "stream",
     "text": [
      "3.141592653589793\n"
     ]
    }
   ],
   "source": [
    "print(pi)"
   ]
  },
  {
   "cell_type": "code",
   "execution_count": 21,
   "metadata": {},
   "outputs": [],
   "source": [
    "from math import sin as sine"
   ]
  },
  {
   "cell_type": "code",
   "execution_count": 22,
   "metadata": {},
   "outputs": [
    {
     "data": {
      "text/plain": [
       "0.0"
      ]
     },
     "execution_count": 22,
     "metadata": {},
     "output_type": "execute_result"
    }
   ],
   "source": [
    "sine(radians(0))"
   ]
  },
  {
   "cell_type": "code",
   "execution_count": 23,
   "metadata": {},
   "outputs": [
    {
     "data": {
      "text/plain": [
       "1.0"
      ]
     },
     "execution_count": 23,
     "metadata": {},
     "output_type": "execute_result"
    }
   ],
   "source": [
    "sine(radians(90))"
   ]
  },
  {
   "cell_type": "code",
   "execution_count": 24,
   "metadata": {},
   "outputs": [
    {
     "data": {
      "text/plain": [
       "Counter({'cat': 3, 'dog': 2, 'monkey': 1})"
      ]
     },
     "execution_count": 24,
     "metadata": {},
     "output_type": "execute_result"
    }
   ],
   "source": [
    "from collections import Counter\n",
    "\n",
    "lst = ['cat', 'dog', 'monkey', 'cat', 'dog', 'cat']\n",
    "\n",
    "counts = Counter(lst)\n",
    "counts"
   ]
  },
  {
   "cell_type": "code",
   "execution_count": 25,
   "metadata": {},
   "outputs": [
    {
     "data": {
      "text/plain": [
       "3"
      ]
     },
     "execution_count": 25,
     "metadata": {},
     "output_type": "execute_result"
    }
   ],
   "source": [
    "counts['cat']"
   ]
  },
  {
   "cell_type": "code",
   "execution_count": 26,
   "metadata": {},
   "outputs": [
    {
     "data": {
      "text/plain": [
       "3"
      ]
     },
     "execution_count": 26,
     "metadata": {},
     "output_type": "execute_result"
    }
   ],
   "source": [
    "counts.get('cat')"
   ]
  },
  {
   "cell_type": "markdown",
   "metadata": {
    "collapsed": true
   },
   "source": [
    "### 사용자가 작성한 module 불러오기\n",
    "\n",
    "- module_test.py file 내의 circle 함수 call\n",
    "\n",
    "```\n",
    "    def circle(pi, radius):\n",
    "        print(\"pi = \", pi)\n",
    "        print(\"반지름 = \", radius)\n",
    "        return pi * radius ** 2\n",
    "\n",
    "    def calculate_volume(length, width, depth):\n",
    "        return length * width * depth\n",
    "```"
   ]
  },
  {
   "cell_type": "code",
   "execution_count": 27,
   "metadata": {},
   "outputs": [],
   "source": [
    "from module_test import circle"
   ]
  },
  {
   "cell_type": "code",
   "execution_count": 28,
   "metadata": {},
   "outputs": [
    {
     "name": "stdout",
     "output_type": "stream",
     "text": [
      "pi =  3.14\n",
      "반지름 =  10\n"
     ]
    },
    {
     "data": {
      "text/plain": [
       "314.0"
      ]
     },
     "execution_count": 28,
     "metadata": {},
     "output_type": "execute_result"
    }
   ],
   "source": [
    "circle(3.14, 10)"
   ]
  },
  {
   "cell_type": "markdown",
   "metadata": {},
   "source": [
    "### 상위 folder 의 module 불러오기\n",
    "\n",
    "- 상위 folder 의 boilerplate.py 파일\n",
    "\n",
    "```\n",
    "import sys\n",
    "\n",
    "def hello():\n",
    "    print('Hello Python')\n",
    "\n",
    "if __name__ == '__main__':\n",
    "    hello()\n",
    "    print(sys.argv)\n",
    "    print(sys.argv[0])\n",
    "    print(sys.argv[1])\n",
    "```"
   ]
  },
  {
   "cell_type": "code",
   "execution_count": 29,
   "metadata": {},
   "outputs": [],
   "source": [
    "import sys\n",
    "sys.path.append('../')"
   ]
  },
  {
   "cell_type": "code",
   "execution_count": 30,
   "metadata": {},
   "outputs": [],
   "source": [
    "import boilerplate"
   ]
  },
  {
   "cell_type": "code",
   "execution_count": 31,
   "metadata": {},
   "outputs": [
    {
     "name": "stdout",
     "output_type": "stream",
     "text": [
      "Hello Python\n"
     ]
    }
   ],
   "source": [
    "boilerplate.hello()"
   ]
  },
  {
   "cell_type": "markdown",
   "metadata": {},
   "source": [
    "##  연습문제"
   ]
  },
  {
   "cell_type": "markdown",
   "metadata": {},
   "source": [
    "### boilerplate.py 프로그램을 terminal 에서 실행\n",
    "\n",
    "- sys.argv 파라미터를 출력하여 내용 이해"
   ]
  },
  {
   "cell_type": "markdown",
   "metadata": {},
   "source": [
    "<div>\n",
    "\n",
    "\n",
    "\n",
    "\n",
    "\n",
    "\n",
    "\n",
    "\n",
    "\n",
    "\n",
    "\n",
    "</div>"
   ]
  },
  {
   "cell_type": "markdown",
   "metadata": {},
   "source": [
    "&nbsp;<br>\n",
    "&nbsp;<br>\n",
    "&nbsp;<br>\n",
    "&nbsp;<br>\n",
    "&nbsp;<br>\n",
    "&nbsp;<br>\n",
    "&nbsp;<br>\n",
    "&nbsp;<br>\n",
    "&nbsp;<br>\n",
    "&nbsp;<br>\n",
    "&nbsp;<br>"
   ]
  },
  {
   "cell_type": "markdown",
   "metadata": {},
   "source": [
    "# 12. while 문을 이용한 무한 반복 (indefinite loop)\n",
    "\n",
    "#### while 문은 주어진 조건이 만족되는 동안 (True 인 동안) 무한히 반복 처리를 함.\n",
    "    while <test 문>:\n",
    "        <body>\n",
    "\n",
    "#### break 문을 이용하여 반복 처리를 끝낼 수 있음. continue 문은 끝내지 않고 계속 진행.\n",
    "    while True:\n",
    "        if <조건 check>:\n",
    "            continue\n",
    "        else:\n",
    "            break\n",
    "\n",
    "#### 대부분의 while-loop 은 for-loop 으로 해결 가능하므로 while-loop 은 꼭 필요한 경우에만 사용"
   ]
  },
  {
   "cell_type": "code",
   "execution_count": 1,
   "metadata": {},
   "outputs": [
    {
     "name": "stdout",
     "output_type": "stream",
     "text": [
      "1 2 3 4 5 6 7 8 9 10 "
     ]
    }
   ],
   "source": [
    "x = 0\n",
    "while x < 10:\n",
    "    x += 1\n",
    "    print(x, end=\" \")"
   ]
  },
  {
   "cell_type": "code",
   "execution_count": 2,
   "metadata": {},
   "outputs": [
    {
     "name": "stdout",
     "output_type": "stream",
     "text": [
      "1 2 3 4 5 6 7 8 9 10 "
     ]
    }
   ],
   "source": [
    "x = 0\n",
    "for i in range(10):\n",
    "    x += 1\n",
    "    print(x, end=\" \")"
   ]
  },
  {
   "cell_type": "markdown",
   "metadata": {},
   "source": [
    "## while 문 연습문제 (유클리드 호제법)"
   ]
  },
  {
   "cell_type": "markdown",
   "metadata": {},
   "source": [
    "- 2개의 자연수 또는 정식의 최대공약수를 구하는 알고리즘\n",
    "- 두 수가 서로 상대방 수를 나누어서 결국 원하는 수를 얻는 알고리즘\n",
    "- 명시적으로 기술된 가장 오래된 알고리즘 (기원전 300 년)\n",
    "- 원리\n",
    "    - 2개의 자연수 a, b에 대해서 a 를 b 로 나눈 나머지를 r 이라 하면(단, a>b)\n",
    "    - a 와 b의 최대공약수는 b 와 r 의 최대공약수와 같다. \n",
    "    - 이 성질에 따라, b 를 r 로 나눈 나머지 r’ 를 구하고, 다시 r 을 r’ 로 나눈 나머지를 구하는 과정을 반복\n",
    "    - 나머지가 0 이 되었을 때 나누는 수가 a와 b의 최대공약수"
   ]
  },
  {
   "cell_type": "markdown",
   "metadata": {},
   "source": [
    "Example 1) 1071과 1029의 최대공약수\n",
    "\n",
    "- 1071 > 1029 이므로 1071 / 1029 $\\rightarrow$ 나머지 42  \n",
    "- 1029 / 42 $\\rightarrow$ 나머지 21  \n",
    "- 42 / 21 $\\rightarrow$ 나머지 0 $\\rightarrow$ 21 이 최대공약수\n",
    "\n",
    "Example 2) 78696과 19332의 최대공약수\n",
    "\n",
    "- 78696 / 19332 $\\rightarrow$ 1368  \n",
    "- 19332 / 1368 $\\rightarrow$ 180  \n",
    "- 1368 / 180 $\\rightarrow$ 108  \n",
    "- 180 / 108 $\\rightarrow$ 72  \n",
    "- 108 / 72 $\\rightarrow$ 36  \n",
    "- 72 / 36 $\\rightarrow$ 0  $\\rightarrow$ 36 이 최대공약수"
   ]
  },
  {
   "cell_type": "markdown",
   "metadata": {
    "collapsed": true
   },
   "source": [
    "두개의 정수 m 과 n 이 있을 경우 m % n = 0 이면 n 이 GCD (Greatest Common Divisor, 최대 공약수) 이다.\n",
    "\n",
    "<table>\n",
    "    <tr>\n",
    "        <td>m</td>\n",
    "        <td>n</td>   \n",
    "    </tr>\n",
    "    <tr>\n",
    "        <td>44</td>\n",
    "        <td>12</td>    \n",
    "    </tr>\n",
    "    <tr>\n",
    "        <td>36</td>\n",
    "        <td></td>    \n",
    "    </tr>\n",
    "    <tr>\n",
    "        <td>8</td>\n",
    "        <td>12</td>    \n",
    "    </tr>\n",
    "    <tr>\n",
    "        <td></td>\n",
    "        <td>8</td>    \n",
    "    </tr>\n",
    "    <tr>\n",
    "        <td>8</td>\n",
    "        <td>4</td>    \n",
    "    </tr>\n",
    "    <tr>\n",
    "        <td>0</td>\n",
    "        <td>4</td>\n",
    "        <td>GCD</td>\n",
    "    </tr>\n",
    "</table>\n",
    "\n",
    "- 원리 : m % n = 0 가 될 때까지 작은 수(나머지)로 큰 수를 계속 나누어준다. 나머지가 0 이 될 때 나누어준 수가 GCD 이다."
   ]
  },
  {
   "cell_type": "code",
   "execution_count": null,
   "metadata": {},
   "outputs": [],
   "source": [
    "def gcd(m, n):\n",
    "    if m < n:\n",
    "        print('큰수를 먼저 입력해 주세요')\n",
    "        return\n",
    "    while m % n != 0:\n",
    "    \n",
    "    # CODE HERE\n",
    "\n",
    "gcd(44, 12)"
   ]
  },
  {
   "cell_type": "markdown",
   "metadata": {},
   "source": [
    "<div>\n",
    "\n",
    "\n",
    "\n",
    "\n",
    "\n",
    "\n",
    "\n",
    "\n",
    "\n",
    "\n",
    "\n",
    "</div>"
   ]
  },
  {
   "cell_type": "markdown",
   "metadata": {},
   "source": [
    "&nbsp;<br>\n",
    "&nbsp;<br>\n",
    "&nbsp;<br>\n",
    "&nbsp;<br>\n",
    "&nbsp;<br>\n",
    "&nbsp;<br>\n",
    "&nbsp;<br>\n",
    "&nbsp;<br>\n",
    "&nbsp;<br>\n",
    "&nbsp;<br>\n",
    "&nbsp;<br>"
   ]
  },
  {
   "cell_type": "markdown",
   "metadata": {},
   "source": [
    "# 13 Files 입출력\n",
    "\n",
    "### open(file 명) 을 호출하면 해당 file 을 open 하고 File Handle 객체를 반환한다.\n",
    "\n",
    "### f = open('file_name', 'r') : file read 를 위한 File Handle 객체를 변수 f 로 저장\n",
    "\n",
    "### f = open('file_name', 'w') : file write 를 위한 File Handle 객체를 변수 f 로 저장\n",
    "\n",
    "### f.close() : file close \n",
    "\n",
    "### 주요 methods\n",
    "\n",
    "- f.read()  \n",
    "- f.write()  "
   ]
  },
  {
   "cell_type": "markdown",
   "metadata": {},
   "source": [
    "### 새로운 file 생성"
   ]
  },
  {
   "cell_type": "code",
   "execution_count": 1,
   "metadata": {},
   "outputs": [],
   "source": [
    "f = open('test.txt', 'w')\n",
    "f.write('This is file write test\\n')\n",
    "f.write('This is 2nd line\\n')\n",
    "f.write('이것은 3번째 줄입니다.')\n",
    "f.close()"
   ]
  },
  {
   "cell_type": "markdown",
   "metadata": {},
   "source": [
    "## 이미 존재하는 file open"
   ]
  },
  {
   "cell_type": "code",
   "execution_count": 2,
   "metadata": {},
   "outputs": [
    {
     "name": "stdout",
     "output_type": "stream",
     "text": [
      "This is file write test\n",
      "This is 2nd line\n",
      "이것은 3번째 줄입니다.\n"
     ]
    }
   ],
   "source": [
    "f = open('test.txt', 'r')  # text mode\n",
    "\n",
    "text = f.read()\n",
    "\n",
    "print(text)"
   ]
  },
  {
   "cell_type": "markdown",
   "metadata": {},
   "source": [
    "## with open 문으로 file 읽기/쓰기\n",
    "\n",
    "#### with 문을 이용하면 with 블록을 벗어나는 순간 열린 파일 객체가 자동으로 close되어 편리함."
   ]
  },
  {
   "cell_type": "code",
   "execution_count": 3,
   "metadata": {},
   "outputs": [
    {
     "name": "stdout",
     "output_type": "stream",
     "text": [
      "This is file write test\n",
      "This is 2nd line\n",
      "이것은 3번째 줄입니다.\n"
     ]
    }
   ],
   "source": [
    "with open('test.txt', \"r\") as file2:\n",
    "    data = file2.read()\n",
    "\n",
    "print(data)"
   ]
  },
  {
   "cell_type": "markdown",
   "metadata": {},
   "source": [
    "### 연습문제"
   ]
  },
  {
   "cell_type": "markdown",
   "metadata": {},
   "source": [
    "다음 file 을 읽어서 가장 빈번하게 나타나는 top 10 단어들을 출력  \n",
    "\n",
    "    1. \"poet.txt\" file 을 open  \n",
    "    2. count dictionary 생성   \n",
    "    3. count.items() 를 이용하여 (key, value) list 생성  \n",
    "    4. value 의 reverse 순으로 정렬 -> sorted(list, reverse=True)"
   ]
  },
  {
   "cell_type": "code",
   "execution_count": null,
   "metadata": {},
   "outputs": [],
   "source": [
    "f = open('poet.txt')\n",
    "counts = dict()\n",
    "\n",
    "for line in f:\n",
    "    for word in line.split():\n",
    "        # Your code here\n",
    "\n",
    "count_lst = []\n",
    "for k, v in counts.items():\n",
    "    # Your code here"
   ]
  },
  {
   "cell_type": "code",
   "execution_count": 20,
   "metadata": {},
   "outputs": [
    {
     "name": "stdout",
     "output_type": "stream",
     "text": [
      "[(791, 'the'), (370, 'and'), (370, 'I'), (257, 'to'), (252, 'a'), (235, 'of'), (224, 'And'), (210, 'my'), (191, 'in'), (143, 'me')]\n"
     ]
    }
   ],
   "source": []
  },
  {
   "cell_type": "markdown",
   "metadata": {},
   "source": [
    "<div>\n",
    "\n",
    "\n",
    "\n",
    "\n",
    "\n",
    "\n",
    "\n",
    "\n",
    "\n",
    "\n",
    "\n",
    "</div>"
   ]
  },
  {
   "cell_type": "markdown",
   "metadata": {},
   "source": [
    "&nbsp;<br>\n",
    "&nbsp;<br>\n",
    "&nbsp;<br>\n",
    "&nbsp;<br>\n",
    "&nbsp;<br>\n",
    "&nbsp;<br>\n",
    "&nbsp;<br>\n",
    "&nbsp;<br>\n",
    "&nbsp;<br>\n",
    "&nbsp;<br>\n",
    "&nbsp;<br>"
   ]
  },
  {
   "cell_type": "markdown",
   "metadata": {},
   "source": [
    "# 14. 정규식(Regular Expression)\n",
    "\n",
    "#### 정규식 혹은 정규표현식은 특정한 규칙을 가진 문자열의 집단을 표현하는 방식이다.\n",
    "\n",
    "- 특정한 규칙을 가진 문자열의 집합을 표현하는 데 사용하는 형식 언어"
   ]
  },
  {
   "cell_type": "markdown",
   "metadata": {},
   "source": [
    "## 정규식의 기본 pattern \n",
    "\n",
    "- 패턴(pattern) - 특정 목적을 위해 필요한 문자열 집합을 지정하기 위해 쓰이는 식\n",
    "\n",
    "### meta 문자\n",
    "\n",
    "- meta 문자는 특수한 의미를 가지므로 위와 같이 자기 자체로 match 시키지 않는다.   \n",
    "       . ^ $ * + ? { } [ ] \\ | ( )\n",
    "       \n",
    "- special character 는 ``\\``를 앞에 두면 된다. $\\text{ex) \\., \\\\\\, \\@, etc}$\n",
    "\n",
    "### single character match\n",
    "\n",
    "- ``a-z, A-Z, 0-9`` $\\leftarrow$ 영문 대/소문자, 숫자는 자기 자체로 match 시킨다.\n",
    "\n",
    "        ex) re.search(r'12g', 'p12g')  --> match='12g'\n",
    "\n",
    "- ``.`` (period) 는 아무 문자(any character) 와도 match. (단, \\n (new line) 제외)  \n",
    "\n",
    "\n",
    "- ``\\w`` 는 word character (a-z, A-Z, 0-9) 와 match. (single character)  \n",
    "\n",
    "- ``\\W`` - NOT ``\\w``\n",
    "\n",
    "\n",
    "- ``\\b`` 는 word (``\\w``) 와 non-word (``\\W``) 의 boundary (position)\n",
    "\n",
    "\n",
    "- ``\\s`` 는 white space (space, new line, return, tab) 와 match. (single white space)\n",
    "- ``\\S`` 는 non-white space \n",
    "\n",
    "\n",
    "- ``\\d`` 는 decimal digit (0-9) 와 match.\n",
    "- ``\\D`` - NOT ``\\d``\n",
    "\n",
    "### quantifier (나타나는 횟수)\n",
    "\n",
    "- ``\\*`` : 바로 앞 문자가 0 회 이상 나타남  \n",
    "\n",
    "- ``\\+`` : 바로 앞 문자가 1 회 이상 나타남  \n",
    "\n",
    "- ``\\?`` : 바로 앞 문자가 0 회 혹은 1 회 나타남 (optional)\n",
    "\n",
    "\n",
    "### position\n",
    "\n",
    "\n",
    "- ``^`` : string 의 처음을 의미, \n",
    "\n",
    "- ``$`` : string 의 끝을 의미한다.\n",
    "\n",
    "- \\[ \\] 내의 ``^`` 는 NOT 의미, ex) [^A-Z] : A-Z 을 제외한 문자\n",
    "\n",
    "\n",
    "### grouping\n",
    "- `( )`"
   ]
  },
  {
   "cell_type": "markdown",
   "metadata": {},
   "source": [
    "# Python 의 Regular Expression 문법\n",
    "- Python 은 정규식을 지원하는 re module 을 제공"
   ]
  },
  {
   "cell_type": "markdown",
   "metadata": {},
   "source": [
    "## 사용 method\n",
    "\n",
    "- re.search(pattern, string) :\tstring에서 pattern과 매치하는 텍스트를 탐색한다 (처음 한개 매치)\n",
    "\n",
    "\n",
    "- re.findall( ) : string 에서 pattern 과 match 되는 것을 전부 list 로 반환\n",
    "\n",
    "\n",
    "- re.sub(pattern, repl, string) : string에서 pattern과 매치하는 텍스트를 repl로 치환한다  "
   ]
  },
  {
   "cell_type": "markdown",
   "metadata": {},
   "source": [
    "## re.search( )  \n",
    "\n",
    "- 문자열 전체를 검색하여 정규식과 match 되는지 조사  (문자열의 아무곳이나 match)    \n",
    "\n",
    "```\n",
    "    match = re.search(pattern, str)  \n",
    "```\n",
    "\n",
    "- 검색하여 match 되는 문자열이 있으면 match object 를 반환하고, 없으면 None 이 반환된다.\n",
    "\n",
    "- match 다음에 즉시 if 문으로 match 성공 여부를 check.\n",
    "\n",
    "- match 에는 match 결과가 저장되고 match.group() method 를 통해 matching text 를 가져온다."
   ]
  },
  {
   "cell_type": "code",
   "execution_count": 20,
   "metadata": {},
   "outputs": [
    {
     "name": "stdout",
     "output_type": "stream",
     "text": [
      "032\n",
      "232-3245\n",
      "032-232-3245\n"
     ]
    }
   ],
   "source": [
    "import re\n",
    " \n",
    "text = \"문의사항이 있으면 032-232-3245 으로 연락주시기 바랍니다.\"\n",
    "\n",
    "# 위와 동일한 표현\n",
    "matchobj = re.search('(\\d{3})-(\\d{3}-\\d{4})', text)\n",
    "\n",
    "areaCode = matchobj.group(1)\n",
    "num = matchobj.group(2)\n",
    "\n",
    "fullNum = matchobj.group()\n",
    "\n",
    "print(areaCode)\n",
    "print(num)\n",
    "print(fullNum)"
   ]
  },
  {
   "cell_type": "markdown",
   "metadata": {},
   "source": [
    "- 첫번째 match 되는 string 검색"
   ]
  },
  {
   "cell_type": "code",
   "execution_count": 21,
   "metadata": {},
   "outputs": [
    {
     "data": {
      "text/plain": [
       "<re.Match object; span=(1, 4), match='12g'>"
      ]
     },
     "execution_count": 21,
     "metadata": {},
     "output_type": "execute_result"
    }
   ],
   "source": [
    "re.search('12g', 'p12gabc12g')"
   ]
  },
  {
   "cell_type": "code",
   "execution_count": 22,
   "metadata": {},
   "outputs": [
    {
     "data": {
      "text/plain": [
       "'123'"
      ]
     },
     "execution_count": 22,
     "metadata": {},
     "output_type": "execute_result"
    }
   ],
   "source": [
    "match = re.search('\\d\\d\\d', 'p123g')\n",
    "\n",
    "match.group()"
   ]
  },
  {
   "cell_type": "code",
   "execution_count": 23,
   "metadata": {},
   "outputs": [
    {
     "data": {
      "text/plain": [
       "'abc'"
      ]
     },
     "execution_count": 23,
     "metadata": {},
     "output_type": "execute_result"
    }
   ],
   "source": [
    "match = re.search('\\w\\w\\w', '@@abcd!!')        \n",
    "match.group()"
   ]
  },
  {
   "cell_type": "code",
   "execution_count": 24,
   "metadata": {},
   "outputs": [],
   "source": [
    "match = re.search('^bo', 'rebok')\n",
    "match"
   ]
  },
  {
   "cell_type": "code",
   "execution_count": 25,
   "metadata": {},
   "outputs": [
    {
     "data": {
      "text/plain": [
       "<re.Match object; span=(3, 4), match='k'>"
      ]
     },
     "execution_count": 25,
     "metadata": {},
     "output_type": "execute_result"
    }
   ],
   "source": [
    "match = re.search('k$', 'book')\n",
    "\n",
    "match"
   ]
  },
  {
   "cell_type": "markdown",
   "metadata": {},
   "source": [
    "### match 되는 pattern 의 반복 (Repetition)\n",
    "\n",
    "- \\+ $\\rightarrow$ 1개 혹은 그 이상의 해당 pattern 이 왼쪽에 있음\n",
    "\n",
    "\n",
    "- \\* $\\rightarrow$ 0 혹은 그 이상의 해당 pattern 이 왼쪽에 있음\n",
    "\n",
    "\n",
    "- \\? $\\rightarrow$ 0 혹은 1 개의 해당 pattern 이 왼쪽에 있음"
   ]
  },
  {
   "cell_type": "code",
   "execution_count": 26,
   "metadata": {},
   "outputs": [
    {
     "data": {
      "text/plain": [
       "'p'"
      ]
     },
     "execution_count": 26,
     "metadata": {},
     "output_type": "execute_result"
    }
   ],
   "source": [
    "import re\n",
    "\n",
    "match = re.search('pi*', 'pg')    \n",
    "\n",
    "match.group()"
   ]
  },
  {
   "cell_type": "code",
   "execution_count": 27,
   "metadata": {},
   "outputs": [
    {
     "data": {
      "text/plain": [
       "'ii'"
      ]
     },
     "execution_count": 27,
     "metadata": {},
     "output_type": "execute_result"
    }
   ],
   "source": [
    "match = re.search('i+', 'piigiiig')\n",
    "\n",
    "match.group()"
   ]
  },
  {
   "cell_type": "markdown",
   "metadata": {},
   "source": [
    "### 대괄호 ([  ])\n",
    "\n",
    "- character set 을 표시한다. 예를 들어 ``[abc]`` 는 a, b, c 와 match 된다. 단, ``[ ]`` 내의 ``.`` 는 메타 문자가 아니라 실제 ``.`` 표시이다.   \n",
    "\n",
    "\n",
    "- ``[]`` 는 character set 중의 한 개 글자를 의미 \n",
    "\n",
    "    ```[0-9]``` : ``0~9`` 중 single digit  \n",
    "    ```[0-9]+``` : ``0~9`` 중 한개 이상의 digit"
   ]
  },
  {
   "cell_type": "code",
   "execution_count": 37,
   "metadata": {},
   "outputs": [
    {
     "data": {
      "text/plain": [
       "'young-jea.oh@citi.com'"
      ]
     },
     "execution_count": 37,
     "metadata": {},
     "output_type": "execute_result"
    }
   ],
   "source": [
    "txt = 'Please send me email to young-jea.oh@citi.com \\\n",
    "        with your return address'\n",
    "match = re.search('[\\w.-]+@[\\w.-]+', txt)       #영수자로 시작하는 any 문자열 (-포함)\n",
    "\n",
    "match.group()"
   ]
  },
  {
   "cell_type": "markdown",
   "metadata": {},
   "source": [
    "### Group 구분\n",
    "\n",
    "matching text 를 여러 부분으로 구분할 때 사용"
   ]
  },
  {
   "cell_type": "code",
   "execution_count": 38,
   "metadata": {},
   "outputs": [],
   "source": [
    "match = re.search('([\\w.-]+)@([\\w.-]+)', txt)"
   ]
  },
  {
   "cell_type": "code",
   "execution_count": 39,
   "metadata": {},
   "outputs": [
    {
     "name": "stdout",
     "output_type": "stream",
     "text": [
      "young-jea.oh@citi.com\n",
      "young-jea.oh\n",
      "citi.com\n"
     ]
    }
   ],
   "source": [
    "print(match.group())\n",
    "print(match.group(1))\n",
    "print(match.group(2))"
   ]
  },
  {
   "cell_type": "markdown",
   "metadata": {},
   "source": [
    "## re.findall\n",
    "- re.search() 는 첫번째 match 하나만 return\n",
    "\n",
    "- re.findall() 은 string 에서 match 되는 것 전부 list 로 return"
   ]
  },
  {
   "cell_type": "code",
   "execution_count": 40,
   "metadata": {},
   "outputs": [
    {
     "data": {
      "text/plain": [
       "'메인 이멜 주소는 young-jea.oh@citi.com 이고보조 이멜 주소는 yjohhhhh@naver.com 입니다. 문의는 faq@gmail.net 으로 보내세요.'"
      ]
     },
     "execution_count": 40,
     "metadata": {},
     "output_type": "execute_result"
    }
   ],
   "source": [
    "txt = '메인 이멜 주소는 young-jea.oh@citi.com 이고' +\\\n",
    "        '보조 이멜 주소는 yjohhhhh@naver.com 입니다. ' +\\\n",
    "        '문의는 faq@gmail.net 으로 보내세요.'\n",
    "txt"
   ]
  },
  {
   "cell_type": "code",
   "execution_count": 42,
   "metadata": {},
   "outputs": [
    {
     "data": {
      "text/plain": [
       "['young-jea.oh@citi.com', 'yjohhhhh@naver.com', 'faq@gmail.net']"
      ]
     },
     "execution_count": 42,
     "metadata": {},
     "output_type": "execute_result"
    }
   ],
   "source": [
    "match = re.findall('[\\w.-]+@[\\w.-]+', txt)\n",
    "match"
   ]
  },
  {
   "cell_type": "code",
   "execution_count": 43,
   "metadata": {},
   "outputs": [
    {
     "data": {
      "text/plain": [
       "[('young-jea.oh', 'citi.com'), ('yjohhhhh', 'naver.com'), ('faq', 'gmail.net')]"
      ]
     },
     "execution_count": 43,
     "metadata": {},
     "output_type": "execute_result"
    }
   ],
   "source": [
    "match = re.findall('([\\w.-]+)@([\\w.-]+)', txt)\n",
    "match"
   ]
  },
  {
   "cell_type": "code",
   "execution_count": 44,
   "metadata": {},
   "outputs": [
    {
     "name": "stdout",
     "output_type": "stream",
     "text": [
      "young-jea.oh\n",
      "citi.com\n"
     ]
    }
   ],
   "source": [
    "match = re.search('([\\w.-]+)@([\\w.-]+)', txt)\n",
    "\n",
    "print(match.group(1))\n",
    "print(match.group(2))"
   ]
  },
  {
   "cell_type": "markdown",
   "metadata": {},
   "source": [
    "- ```emailbox-short.txt``` 파일에서 email 주소만 모두 추출"
   ]
  },
  {
   "cell_type": "code",
   "execution_count": 45,
   "metadata": {},
   "outputs": [
    {
     "data": {
      "text/plain": [
       "['stephen.marquard@uct.ac.za',\n",
       " 'postmaster@collab.sakaiproject.org',\n",
       " '200801051412.m05ECIaH010327@nakamura.uits.iupui.edu',\n",
       " 'source@collab.sakaiproject.org',\n",
       " 'source@collab.sakaiproject.org',\n",
       " 'source@collab.sakaiproject.org',\n",
       " 'apache@localhost',\n",
       " 'source@collab.sakaiproject.org',\n",
       " 'stephen.marquard@uct.ac.za',\n",
       " 'source@collab.sakaiproject.org']"
      ]
     },
     "execution_count": 45,
     "metadata": {},
     "output_type": "execute_result"
    }
   ],
   "source": [
    "f = open('emailbox-short.txt', 'r')\n",
    "text = f.read()\n",
    "\n",
    "lst = re.findall('[\\w.-]+@[\\w.-]+', text)\n",
    "lst[:10]"
   ]
  },
  {
   "cell_type": "markdown",
   "metadata": {},
   "source": [
    "## 한글 처리"
   ]
  },
  {
   "cell_type": "code",
   "execution_count": 46,
   "metadata": {},
   "outputs": [
    {
     "data": {
      "text/plain": [
       "['한글', '의', '범위는', '가', '힣까지', '입니다', 'ㅏ', 'ㅣ', 'ㄱ', 'ㅎ']"
      ]
     },
     "execution_count": 46,
     "metadata": {},
     "output_type": "execute_result"
    }
   ],
   "source": [
    "match = re.findall('[ㄱ-ㅎㅏ-ㅣ가-힣]+',\n",
    "                \"한글 regex 의 범위는 가-힣까지 입니다. From ㅏ TO ㅣ AND ㄱ ~ ㅎ\")\n",
    "match"
   ]
  },
  {
   "cell_type": "markdown",
   "metadata": {},
   "source": [
    "### 연습문제"
   ]
  },
  {
   "cell_type": "markdown",
   "metadata": {},
   "source": [
    "### HTML 에서 BABY 이름 찾기 (https://developers.google.com/edu/python/exercises/baby-names)\n",
    "\n",
    "- baby1998.html 에서 <tr align=\"right\"><td>1</td><td>Michael</td><td>Jessica</td> 에\n",
    "match 되는 정규표현식을 이용하여 (rank, boy-name, girl-name) tuples 추출하여 print\n",
    "\n",
    "```\n",
    "import sys\n",
    "import re\n",
    "\n",
    "def extract_name(filename):\n",
    "    names = []\n",
    "    f = open(filename, 'r')\n",
    "    text = f.read()\n",
    "    groups = re.findall('<td> #YOUR CODE HERE# </td>', text)\n",
    "    for tup in groups:\n",
    "        print(tup[0], tup[1], tup[2])\n",
    "\n",
    "if __name__ == '__main__':\n",
    "    args = sys.argv[1:]\n",
    "    if not args:\n",
    "        print(\"file 명을 parameter 로 입력 바랍니다.\")\n",
    "        sys.exit(1)\n",
    "\n",
    "    filename = './babynames/' + args[0]\n",
    "    extract_name(filename)\n",
    "```"
   ]
  },
  {
   "cell_type": "markdown",
   "metadata": {},
   "source": [
    "<div>\n",
    "\n",
    "\n",
    "\n",
    "\n",
    "\n",
    "\n",
    "\n",
    "\n",
    "\n",
    "\n",
    "\n",
    "</div>"
   ]
  },
  {
   "cell_type": "markdown",
   "metadata": {},
   "source": [
    "&nbsp;<br>\n",
    "&nbsp;<br>\n",
    "&nbsp;<br>\n",
    "&nbsp;<br>\n",
    "&nbsp;<br>\n",
    "&nbsp;<br>\n",
    "&nbsp;<br>\n",
    "&nbsp;<br>\n",
    "&nbsp;<br>\n",
    "&nbsp;<br>\n",
    "&nbsp;<br>"
   ]
  },
  {
   "cell_type": "markdown",
   "metadata": {},
   "source": [
    "# 15. List Comprehension (리스트 컴프리헨션)\n",
    "\n",
    "- ``list_variable = [x for x in iterable]`` 과 같이 ``list`` 내에  ``for loop`` 표현식을 사용하여 쉽게 새로운 ``list`` 를 생성할 수 있다. \n",
    "\n",
    "\n",
    "- ``list comprehension`` 을 사용하면 ``for loop`` 과 ``map``, ``filter`` 함수를 대체할 수 있다.\n",
    "\n",
    "\n",
    "- ``list comprehension`` 내에서 ``if ~ else ~`` 를 사용할 수 있다."
   ]
  },
  {
   "cell_type": "code",
   "execution_count": 1,
   "metadata": {},
   "outputs": [
    {
     "name": "stdout",
     "output_type": "stream",
     "text": [
      "[1, 4, 9, 16]\n"
     ]
    }
   ],
   "source": [
    "nums = [1, 2, 3, 4]\n",
    "\n",
    "squares = [n **2 for n in nums]\n",
    "\n",
    "print(squares)"
   ]
  },
  {
   "cell_type": "code",
   "execution_count": 2,
   "metadata": {},
   "outputs": [
    {
     "name": "stdout",
     "output_type": "stream",
     "text": [
      "['HELLO!!!', 'AND!!!', 'GOODBYE!!!']\n"
     ]
    }
   ],
   "source": [
    "strs = ['hello', 'and', 'goodbye']\n",
    "\n",
    "shouting = [s.upper() + '!!!' for s in strs]\n",
    "\n",
    "print(shouting)"
   ]
  },
  {
   "cell_type": "code",
   "execution_count": 3,
   "metadata": {},
   "outputs": [
    {
     "data": {
      "text/plain": [
       "[2, 1]"
      ]
     },
     "execution_count": 3,
     "metadata": {},
     "output_type": "execute_result"
    }
   ],
   "source": [
    "nums = [2, 8, 1, 6]\n",
    "\n",
    "small = [n for n in nums if n <= 2]\n",
    "\n",
    "small"
   ]
  },
  {
   "cell_type": "code",
   "execution_count": 4,
   "metadata": {},
   "outputs": [
    {
     "data": {
      "text/plain": [
       "['APPLE', 'BANANA']"
      ]
     },
     "execution_count": 4,
     "metadata": {},
     "output_type": "execute_result"
    }
   ],
   "source": [
    "# a 가 포함된 과일명을 대문자로 바꾸기\n",
    "fruits = ['apple', 'banana', 'cherry', 'lemon']\n",
    "\n",
    "[fruit.upper() for fruit in fruits if 'a' in fruit]"
   ]
  },
  {
   "cell_type": "code",
   "execution_count": 5,
   "metadata": {},
   "outputs": [
    {
     "name": "stdout",
     "output_type": "stream",
     "text": [
      "[1, 3, 5, 7, 9, 11, 13, 15, 17, 19, 21, 23, 25, 27, 29, 31, 33, 35, 37, 39, 41, 43, 45, 47, 49]\n"
     ]
    }
   ],
   "source": [
    "# 1-50 까지의 홀수 list 작성 \n",
    "# for loop 과 조건문 사용\n",
    "result = []\n",
    "for i in range(1, 51):\n",
    "    if i % 2 == 1:\n",
    "        result.append(i)\n",
    "print(result)"
   ]
  },
  {
   "cell_type": "code",
   "execution_count": 6,
   "metadata": {},
   "outputs": [
    {
     "name": "stdout",
     "output_type": "stream",
     "text": [
      "[1, 3, 5, 7, 9, 11, 13, 15, 17, 19, 21, 23, 25, 27, 29, 31, 33, 35, 37, 39, 41, 43, 45, 47, 49]\n"
     ]
    }
   ],
   "source": [
    "# list comprehension 사용\n",
    "a = [x for x in range(1, 51) if x % 2 == 1]\n",
    "print(a)"
   ]
  },
  {
   "cell_type": "markdown",
   "metadata": {},
   "source": [
    "### list comprehension 은 빠르다"
   ]
  },
  {
   "cell_type": "code",
   "execution_count": 7,
   "metadata": {},
   "outputs": [
    {
     "name": "stdout",
     "output_type": "stream",
     "text": [
      "2.07 µs ± 140 ns per loop (mean ± std. dev. of 7 runs, 100000 loops each)\n"
     ]
    }
   ],
   "source": [
    "%timeit [x for x in range(1, 51) if x % 2 == 1]"
   ]
  },
  {
   "cell_type": "code",
   "execution_count": 8,
   "metadata": {},
   "outputs": [
    {
     "name": "stdout",
     "output_type": "stream",
     "text": [
      "2.59 µs ± 179 ns per loop (mean ± std. dev. of 7 runs, 100000 loops each)\n"
     ]
    }
   ],
   "source": [
    "%%timeit\n",
    "result = []\n",
    "for i in range(1, 51):\n",
    "    if i % 2 == 1:\n",
    "        result.append(i)"
   ]
  },
  {
   "cell_type": "markdown",
   "metadata": {},
   "source": [
    "### map, filter 함수를 대체하는 list comprehension"
   ]
  },
  {
   "cell_type": "code",
   "execution_count": 9,
   "metadata": {},
   "outputs": [
    {
     "data": {
      "text/plain": [
       "[1, 4, 9, 16, 25]"
      ]
     },
     "execution_count": 9,
     "metadata": {},
     "output_type": "execute_result"
    }
   ],
   "source": [
    "# map + lambda\n",
    "\n",
    "list(map(lambda x: x*x, [1,2,3,4,5]))"
   ]
  },
  {
   "cell_type": "code",
   "execution_count": 10,
   "metadata": {},
   "outputs": [
    {
     "data": {
      "text/plain": [
       "[1, 4, 9, 16, 25]"
      ]
     },
     "execution_count": 10,
     "metadata": {},
     "output_type": "execute_result"
    }
   ],
   "source": [
    "[x*x for x in [1,2,3,4,5]]"
   ]
  },
  {
   "cell_type": "code",
   "execution_count": 11,
   "metadata": {},
   "outputs": [
    {
     "data": {
      "text/plain": [
       "[6, 7, 8, 9]"
      ]
     },
     "execution_count": 11,
     "metadata": {},
     "output_type": "execute_result"
    }
   ],
   "source": [
    "# filter + lambda\n",
    "\n",
    "list(filter(lambda x: x > 5 , [1,2,3,4,5,6,7,8,9]))"
   ]
  },
  {
   "cell_type": "code",
   "execution_count": 12,
   "metadata": {},
   "outputs": [
    {
     "data": {
      "text/plain": [
       "[6, 7, 8, 9]"
      ]
     },
     "execution_count": 12,
     "metadata": {},
     "output_type": "execute_result"
    }
   ],
   "source": [
    "[x for x in [1,2,3,4,5,6,7,8,9] if x > 5]"
   ]
  },
  {
   "cell_type": "markdown",
   "metadata": {},
   "source": [
    "### list comprehension 내의 if\\~else\\~"
   ]
  },
  {
   "cell_type": "code",
   "execution_count": 13,
   "metadata": {},
   "outputs": [
    {
     "data": {
      "text/plain": [
       "[2, 4, 6, 8, 10, 6, 7, 8, 9]"
      ]
     },
     "execution_count": 13,
     "metadata": {},
     "output_type": "execute_result"
    }
   ],
   "source": [
    "[x if x > 5  else x * 2 for x in [1,2,3,4,5,6,7,8,9]]"
   ]
  },
  {
   "cell_type": "markdown",
   "metadata": {},
   "source": [
    "### Dictionary Comprehension\n",
    "\n",
    "- ``list comprehension`` 을 ``dictionary`` 에 적용 \n",
    "\n",
    "\n",
    "- 텍스트를 인코딩하고 각 문자를 정수로 매핑하거나 그 반대로 매핑  --> 자연어 처리에 많이 활용\n",
    "\n",
    "\n",
    "- 두개의 ``dictionary`` 생성  \n",
    "\n",
    "    1. ``char2int`` - character 를 integer 로 mapping\n",
    "    2. ``int2char`` - integer 를 character 로  mapping\n",
    "    "
   ]
  },
  {
   "cell_type": "code",
   "execution_count": 14,
   "metadata": {},
   "outputs": [],
   "source": [
    "# open text file and read in data as `text`\n",
    "with open('AliceWonderLand.txt', 'r') as f:\n",
    "    text = f.read()"
   ]
  },
  {
   "cell_type": "code",
   "execution_count": 15,
   "metadata": {},
   "outputs": [
    {
     "data": {
      "text/plain": [
       "\"Alice's Adventures in Wonderland (commonly shortened to Alice in Wonderland) is an 1865 novel writte\""
      ]
     },
     "execution_count": 15,
     "metadata": {},
     "output_type": "execute_result"
    }
   ],
   "source": [
    "text[:100]"
   ]
  },
  {
   "cell_type": "code",
   "execution_count": 16,
   "metadata": {},
   "outputs": [],
   "source": [
    "chars = tuple(set(text))\n",
    "int2char = dict(enumerate(chars))\n",
    "char2int = {ch: ii for ii, ch in int2char.items()}"
   ]
  },
  {
   "cell_type": "code",
   "execution_count": 17,
   "metadata": {},
   "outputs": [
    {
     "name": "stdout",
     "output_type": "stream",
     "text": [
      "[25, 32, 30, 36, 2, 0, 13, 31, 25, 28, 16, 2, 38, 42, 20, 29, 2, 13, 31, 30, 38, 31, 1, 23, 38, 28, 2, 29, 32, 10, 38, 28, 31, 9, 36, 23, 39, 39, 23, 38, 32, 5, 31, 13, 24, 23, 29, 42, 2, 38, 2, 28, 31, 42, 23, 31, 25, 32, 30, 36, 2, 31, 30, 38, 31, 1, 23, 38, 28, 2, 29, 32, 10, 38, 28, 7, 31, 30, 13, 31, 10, 38, 31, 19, 26, 12, 14, 31, 38, 23, 16, 2, 32, 31, 41, 29, 30, 42, 42, 2]\n"
     ]
    }
   ],
   "source": [
    "# encode the text\n",
    "encoded = [char2int[ch] for ch in text]\n",
    "print(encoded[:100])"
   ]
  },
  {
   "cell_type": "code",
   "execution_count": 18,
   "metadata": {},
   "outputs": [
    {
     "name": "stdout",
     "output_type": "stream",
     "text": [
      "['A', 'l', 'i', 'c', 'e', \"'\", 's', ' ', 'A', 'd', 'v', 'e', 'n', 't', 'u', 'r', 'e', 's', ' ', 'i', 'n', ' ', 'W', 'o', 'n', 'd', 'e', 'r', 'l', 'a', 'n', 'd', ' ', '(', 'c', 'o', 'm', 'm', 'o', 'n', 'l', 'y', ' ', 's', 'h', 'o', 'r', 't', 'e', 'n', 'e', 'd', ' ', 't', 'o', ' ', 'A', 'l', 'i', 'c', 'e', ' ', 'i', 'n', ' ', 'W', 'o', 'n', 'd', 'e', 'r', 'l', 'a', 'n', 'd', ')', ' ', 'i', 's', ' ', 'a', 'n', ' ', '1', '8', '6', '5', ' ', 'n', 'o', 'v', 'e', 'l', ' ', 'w', 'r', 'i', 't', 't', 'e']\n"
     ]
    }
   ],
   "source": [
    "# decode the integers\n",
    "decoded = [int2char[ii] for ii in encoded]\n",
    "print(decoded[:100])"
   ]
  },
  {
   "cell_type": "markdown",
   "metadata": {},
   "source": [
    "<div>\n",
    "\n",
    "\n",
    "\n",
    "\n",
    "\n",
    "\n",
    "\n",
    "\n",
    "\n",
    "\n",
    "\n",
    "</div>"
   ]
  },
  {
   "cell_type": "markdown",
   "metadata": {},
   "source": [
    "&nbsp;<br>\n",
    "&nbsp;<br>\n",
    "&nbsp;<br>\n",
    "&nbsp;<br>\n",
    "&nbsp;<br>\n",
    "&nbsp;<br>\n",
    "&nbsp;<br>\n",
    "&nbsp;<br>\n",
    "&nbsp;<br>\n",
    "&nbsp;<br>\n",
    "&nbsp;<br>"
   ]
  },
  {
   "cell_type": "markdown",
   "metadata": {},
   "source": [
    "# 16. BeautifulSoup 으로 Webpage 읽어오기\n",
    "\n",
    "- 16_index.html file 을 webserver 에서 open   \n",
    "\n",
    "    VS Code --> LiveServer 확장 프로그램 설치 --> Open with Live Server"
   ]
  },
  {
   "cell_type": "markdown",
   "metadata": {},
   "source": [
    "## Web Scraping\n",
    "\n",
    "- program 이 browser 인 것 처럼 행동하여 web page 를 access 하고 정보 추출  \n",
    "\n",
    "\n",
    "    - hard way : regular expression 을 이용  \n",
    "    - easy way : beautifulsoup 사용\n",
    "    \n",
    "- ``pip install beautifulsoup4``"
   ]
  },
  {
   "cell_type": "code",
   "execution_count": 1,
   "metadata": {},
   "outputs": [],
   "source": [
    "from bs4 import BeautifulSoup\n",
    "import urllib.request as req"
   ]
  },
  {
   "cell_type": "markdown",
   "metadata": {},
   "source": [
    "### html file 읽기\n",
    "\n",
    "- local web server start"
   ]
  },
  {
   "cell_type": "code",
   "execution_count": 2,
   "metadata": {},
   "outputs": [],
   "source": [
    "url = \"http://127.0.0.1:8887/16_index.html\""
   ]
  },
  {
   "cell_type": "code",
   "execution_count": 3,
   "metadata": {},
   "outputs": [
    {
     "name": "stdout",
     "output_type": "stream",
     "text": [
      "<!DOCTYPE html>\r\n",
      "<html lang=\"en\">\r\n",
      "<head>\r\n",
      "    <meta charset=\"UTF-8\">\r\n",
      "    <meta name=\"viewport\" content=\"width=device-width, initial-scale=1.0\">\r\n",
      "    <title>방송기술교육원</title>\r\n",
      "</head>\r\n",
      "<body>\r\n",
      "    <h1>BeautifulSoup Web Crawling</h1>\r\n",
      "    <p>뷰티플숩을 이용한 웹 크롤링</p>\r\n",
      "    <div class=\"firstclass\" id=\"div1\">\r\n",
      "        <p>첫번째 div 안의 paragraph 입니다.</p>\r\n",
      "    </div>\r\n",
      "    <div class=\"secondclass\" id=\"div2\">\r\n",
      "        <p>두번째 div 안의 paragraph 입니다.</p>\r\n",
      "    </div>\r\n",
      "</body>\r\n",
      "</html>\n"
     ]
    }
   ],
   "source": [
    "res = req.urlopen(url)\n",
    "\n",
    "print(res.read().decode('utf-8'))"
   ]
  },
  {
   "cell_type": "markdown",
   "metadata": {},
   "source": [
    "## html 내의 tag 내용 읽기\n",
    "\n",
    "### hard way\n",
    "\n",
    "- regular expression을 이용하여 html 내의 tag 검색"
   ]
  },
  {
   "cell_type": "code",
   "execution_count": 4,
   "metadata": {},
   "outputs": [
    {
     "data": {
      "text/plain": [
       "'방송기술교육원'"
      ]
     },
     "execution_count": 4,
     "metadata": {},
     "output_type": "execute_result"
    }
   ],
   "source": [
    "import re\n",
    "\n",
    "res = req.urlopen(url)\n",
    "text = res.read().decode('utf-8')\n",
    "\n",
    "# web page 의 title 읽기\n",
    "p1 = re.search('<title>', text)\n",
    "p2 = re.search('</title>', text)\n",
    "\n",
    "text[p1.span()[1] : p2.span()[0]]"
   ]
  },
  {
   "cell_type": "markdown",
   "metadata": {},
   "source": [
    "### Easy way\n",
    "\n",
    "- Beautifulsoup 이용"
   ]
  },
  {
   "cell_type": "code",
   "execution_count": 5,
   "metadata": {},
   "outputs": [],
   "source": [
    "res = req.urlopen(url)\n",
    "\n",
    "soup = BeautifulSoup(res, 'html.parser')"
   ]
  },
  {
   "cell_type": "code",
   "execution_count": 6,
   "metadata": {},
   "outputs": [
    {
     "data": {
      "text/plain": [
       "<title>방송기술교육원</title>"
      ]
     },
     "execution_count": 6,
     "metadata": {},
     "output_type": "execute_result"
    }
   ],
   "source": [
    "soup.title"
   ]
  },
  {
   "cell_type": "code",
   "execution_count": 7,
   "metadata": {},
   "outputs": [
    {
     "name": "stdout",
     "output_type": "stream",
     "text": [
      "방송기술교육원\n",
      "방송기술교육원\n"
     ]
    }
   ],
   "source": [
    "print(soup.title.get_text())\n",
    "print(soup.title.text)"
   ]
  },
  {
   "cell_type": "markdown",
   "metadata": {},
   "source": [
    "- ``h1`` tag 내용 읽기"
   ]
  },
  {
   "cell_type": "code",
   "execution_count": 8,
   "metadata": {},
   "outputs": [
    {
     "name": "stdout",
     "output_type": "stream",
     "text": [
      "<h1>BeautifulSoup Web Crawling</h1>\n",
      "BeautifulSoup Web Crawling\n"
     ]
    }
   ],
   "source": [
    "print(soup.h1)\n",
    "print(soup.h1.text)"
   ]
  },
  {
   "cell_type": "markdown",
   "metadata": {},
   "source": [
    "- 같은 tag 가 중복된 경우(ex. `div`) 첫번째 tag display\n",
    "\n",
    "```\n",
    "<body>\n",
    "    <h1>BeautifulSoup Web Crawling</h1>\n",
    "    <p>뷰티플숩을 이용한 웹 크롤링</p>\n",
    "    <div class=\"firstclass\" id=\"div1\">\n",
    "        <p>첫번째 div 안의 paragraph 입니다.</p>\n",
    "    </div>\n",
    "    <div class=\"secondclass\" id=\"div2\">\n",
    "        <p>두번째 div 안의 paragraph 입니다.</p>\n",
    "    </div>\n",
    "</body>\n",
    "```"
   ]
  },
  {
   "cell_type": "code",
   "execution_count": 9,
   "metadata": {},
   "outputs": [
    {
     "data": {
      "text/plain": [
       "<div class=\"firstclass\" id=\"div1\">\n",
       "<p>첫번째 div 안의 paragraph 입니다.</p>\n",
       "</div>"
      ]
     },
     "execution_count": 9,
     "metadata": {},
     "output_type": "execute_result"
    }
   ],
   "source": [
    "soup.div"
   ]
  },
  {
   "cell_type": "markdown",
   "metadata": {},
   "source": [
    "- 중복된 tag 를 모두 find"
   ]
  },
  {
   "cell_type": "code",
   "execution_count": 10,
   "metadata": {},
   "outputs": [
    {
     "data": {
      "text/plain": [
       "[<div class=\"firstclass\" id=\"div1\">\n",
       " <p>첫번째 div 안의 paragraph 입니다.</p>\n",
       " </div>,\n",
       " <div class=\"secondclass\" id=\"div2\">\n",
       " <p>두번째 div 안의 paragraph 입니다.</p>\n",
       " </div>]"
      ]
     },
     "execution_count": 10,
     "metadata": {},
     "output_type": "execute_result"
    }
   ],
   "source": [
    "soup.find_all('div')"
   ]
  },
  {
   "cell_type": "markdown",
   "metadata": {},
   "source": [
    "- 특정 id 를 지정하여 find"
   ]
  },
  {
   "cell_type": "code",
   "execution_count": 11,
   "metadata": {},
   "outputs": [
    {
     "name": "stdout",
     "output_type": "stream",
     "text": [
      "[<div class=\"firstclass\" id=\"div1\">\n",
      "<p>첫번째 div 안의 paragraph 입니다.</p>\n",
      "</div>]\n",
      "\n",
      "첫번째 div 안의 paragraph 입니다.\n",
      "\n"
     ]
    }
   ],
   "source": [
    "print(soup.find_all(id=\"div1\"))\n",
    "print(soup.find_all(id=\"div1\")[0].text)"
   ]
  },
  {
   "cell_type": "markdown",
   "metadata": {},
   "source": [
    "- 특정 class 를 지정하여 find  \n",
    "- class 는 Python 의 keyword 이므로 class_ 로 표시"
   ]
  },
  {
   "cell_type": "code",
   "execution_count": 12,
   "metadata": {},
   "outputs": [
    {
     "data": {
      "text/plain": [
       "[<div class=\"secondclass\" id=\"div2\">\n",
       " <p>두번째 div 안의 paragraph 입니다.</p>\n",
       " </div>]"
      ]
     },
     "execution_count": 12,
     "metadata": {},
     "output_type": "execute_result"
    }
   ],
   "source": [
    "soup.find_all(class_=\"secondclass\")"
   ]
  },
  {
   "cell_type": "markdown",
   "metadata": {},
   "source": [
    "- tag 내의 속성 (attribute) 가져오기"
   ]
  },
  {
   "cell_type": "code",
   "execution_count": 13,
   "metadata": {},
   "outputs": [
    {
     "data": {
      "text/plain": [
       "['firstclass']"
      ]
     },
     "execution_count": 13,
     "metadata": {},
     "output_type": "execute_result"
    }
   ],
   "source": [
    "soup.find('div')['class']"
   ]
  },
  {
   "cell_type": "markdown",
   "metadata": {},
   "source": [
    "## 실전 연습\n",
    "\n",
    "### `방송기술 교육원 ` 게시판 제목 검색"
   ]
  },
  {
   "cell_type": "code",
   "execution_count": 20,
   "metadata": {},
   "outputs": [],
   "source": [
    "url = \"http://edu.kobeta.com/community/\"\n",
    "res = req.urlopen(url)\n",
    "\n",
    "# print(res.read().decode('utf-8'))\n",
    "\n",
    "soup = BeautifulSoup(res, 'html.parser')"
   ]
  },
  {
   "cell_type": "code",
   "execution_count": 21,
   "metadata": {},
   "outputs": [],
   "source": [
    "divs = soup.find_all(class_=\"notice-list-middle\")"
   ]
  },
  {
   "cell_type": "code",
   "execution_count": null,
   "metadata": {},
   "outputs": [],
   "source": [
    "divs"
   ]
  },
  {
   "cell_type": "code",
   "execution_count": 23,
   "metadata": {},
   "outputs": [
    {
     "name": "stdout",
     "output_type": "stream",
     "text": [
      "위탁교육 홍보 및 안내\n",
      "지역 방송기술 세미나 희망 지역사 의견 접수\n",
      "[외부행사 안내] 2022년 OTT 연계 방송영상콘텐츠 기획안 공모\n",
      "2021 지상파 UHD 방송 세미나 개최\n",
      "2021 콘텐츠 QC 세미나 개최\n",
      "2021년도 컬러 그레이딩 전문가 양성과정 선발 결과 안내\n",
      "방송 네트워크 파일기반 제작 시스템 교육 일정 연기 안내\n",
      "5G Broadcast World Forum\n",
      "[외부교육 안내] 2020 저널리즘아카데미 위드 코로나, 변화의 키워드 …\n",
      "2020 Total Production Control System 전문가 양성과정 신청 안내\n",
      "2019 글로벌 IP Technical 전문가 양성과정 신청 안내\n",
      "2019 글로벌 IP Technical 전문가 양성과정 선발 결과 안내\n"
     ]
    }
   ],
   "source": [
    "for div in divs:\n",
    "    for dd in div.find_all('dd'):\n",
    "        if re.search('[가-힣ㄱ-ㅎㅏ-ㅣa-zA-Z]', dd.text):\n",
    "            print(dd.text)"
   ]
  },
  {
   "cell_type": "markdown",
   "metadata": {},
   "source": [
    "- 2nd page"
   ]
  },
  {
   "cell_type": "code",
   "execution_count": 24,
   "metadata": {},
   "outputs": [],
   "source": [
    "url = \"http://edu.kobeta.com/community/index.php?bbs_data=c3RhcnRQYWdlPTEwJmNvZGU9bm90aWNlJnRhYmxlPWNzX2Jic19kYXRhJnNlYXJjaF9pdGVtPSZzZWFyY2hfb3JkZXI9||\""
   ]
  },
  {
   "cell_type": "code",
   "execution_count": 25,
   "metadata": {},
   "outputs": [
    {
     "name": "stdout",
     "output_type": "stream",
     "text": [
      "위탁교육 홍보 및 안내\n",
      "지역 방송기술 세미나 희망 지역사 의견 접수\n",
      "2019 글로벌 Broadcast ATSC 3.0 전문가 양성과정 선발 결과 안내\n",
      "2019 글로벌 Broadcast ATSC 3.0 전문가 양성과정 신청 안내\n",
      "KOC 2018 \"연결이 가치를 만들어낸다\" 개최 안내\n",
      "2018 글로벌 UHD 실감형 오디오 제작 전문가 양성과정 선발 결과 안내\n",
      "2018 글로벌 UHD 실감형 오디오 제작 전문가 양성과정 신청 안내\n",
      "2018 글로벌 HDR 컬러리스트 전문가 양성과정 선발 결과 안내\n",
      "2018 글로벌 HDR 컬러리스트 전문가 양성과정 신청 안내\n",
      "KOBA World Media Forum 2018 개최 안내\n",
      "2017 글로벌 방송제작기술 전문가 양성과정 선발 결과 안내\n",
      "2017 글로벌 방송제작기술 전문가 양성과정 신청 안내\n"
     ]
    }
   ],
   "source": [
    "res = req.urlopen(url)\n",
    "soup = BeautifulSoup(res, 'html.parser')\n",
    "divs = soup.find_all(class_=\"notice-list-middle\")\n",
    "for div in divs:\n",
    "    for dd in div.find_all('dd'):\n",
    "        if re.search('[가-힣ㄱ-ㅎㅏ-ㅣa-zA-Z]', dd.text):\n",
    "            print(dd.text)"
   ]
  },
  {
   "cell_type": "markdown",
   "metadata": {},
   "source": [
    "<div>\n",
    "\n",
    "\n",
    "\n",
    "\n",
    "\n",
    "\n",
    "\n",
    "\n",
    "\n",
    "\n",
    "\n",
    "</div>"
   ]
  },
  {
   "cell_type": "markdown",
   "metadata": {},
   "source": [
    "&nbsp;<br>\n",
    "&nbsp;<br>\n",
    "&nbsp;<br>\n",
    "&nbsp;<br>\n",
    "&nbsp;<br>\n",
    "&nbsp;<br>\n",
    "&nbsp;<br>\n",
    "&nbsp;<br>\n",
    "&nbsp;<br>\n",
    "&nbsp;<br>\n",
    "&nbsp;<br>"
   ]
  },
  {
   "cell_type": "markdown",
   "metadata": {
    "slideshow": {
     "slide_type": "slide"
    }
   },
   "source": [
    "# 17. Pandas Crash - Basic Pandas"
   ]
  },
  {
   "cell_type": "markdown",
   "metadata": {
    "slideshow": {
     "slide_type": "subslide"
    }
   },
   "source": [
    "## Pandas 는 Series data type 과 DataFrame data type 으로 구성된다."
   ]
  },
  {
   "cell_type": "markdown",
   "metadata": {
    "slideshow": {
     "slide_type": "slide"
    }
   },
   "source": [
    "### Series (1 차원) : numpy array 와 유사. \n",
    "- 차이점 - numpy 와 달리 Series 는 axis (행, 열)에 label 을 부여할 수 있다. 즉, numpy 와 같이 숫자로만 indexing 하는 것이 아니라 label 명으로 indexing 을 할 수 있다. 또한 숫자 뿐 아니라 임의의 Python object 를 모두 element 로 가질 수 있다.\n"
   ]
  },
  {
   "cell_type": "markdown",
   "metadata": {
    "slideshow": {
     "slide_type": "subslide"
    }
   },
   "source": [
    "### DataFrame (2차원, table)\n",
    "- Python program 안의 Excel\n",
    "\n",
    "### Series vs DataFrame\n",
    "<img src=\"series-and-dataframe.width-1200.png\" width=\"600\">\n"
   ]
  },
  {
   "cell_type": "markdown",
   "metadata": {
    "slideshow": {
     "slide_type": "subslide"
    }
   },
   "source": [
    "<img src=\"base_01_pandas_5_0.png\" width=\"600\">"
   ]
  },
  {
   "cell_type": "code",
   "execution_count": 1,
   "metadata": {
    "slideshow": {
     "slide_type": "slide"
    }
   },
   "outputs": [],
   "source": [
    "import numpy as np\n",
    "import pandas as pd"
   ]
  },
  {
   "cell_type": "markdown",
   "metadata": {
    "slideshow": {
     "slide_type": "slide"
    }
   },
   "source": [
    "### DataFrame \n",
    "\n",
    "DataFrame 은 여러개의 Series 를 같은 index 기준으로 모아 Table 을 만든 것이다."
   ]
  },
  {
   "cell_type": "code",
   "execution_count": 2,
   "metadata": {
    "slideshow": {
     "slide_type": "fragment"
    }
   },
   "outputs": [],
   "source": [
    "import pandas as pd\n",
    "import numpy as np"
   ]
  },
  {
   "cell_type": "code",
   "execution_count": 3,
   "metadata": {
    "slideshow": {
     "slide_type": "fragment"
    }
   },
   "outputs": [],
   "source": [
    "np.random.seed(101)\n",
    "data = np.random.randn(5, 4)"
   ]
  },
  {
   "cell_type": "code",
   "execution_count": 4,
   "metadata": {},
   "outputs": [
    {
     "data": {
      "text/html": [
       "<div>\n",
       "<style scoped>\n",
       "    .dataframe tbody tr th:only-of-type {\n",
       "        vertical-align: middle;\n",
       "    }\n",
       "\n",
       "    .dataframe tbody tr th {\n",
       "        vertical-align: top;\n",
       "    }\n",
       "\n",
       "    .dataframe thead th {\n",
       "        text-align: right;\n",
       "    }\n",
       "</style>\n",
       "<table border=\"1\" class=\"dataframe\">\n",
       "  <thead>\n",
       "    <tr style=\"text-align: right;\">\n",
       "      <th></th>\n",
       "      <th>W</th>\n",
       "      <th>X</th>\n",
       "      <th>Y</th>\n",
       "      <th>Z</th>\n",
       "    </tr>\n",
       "  </thead>\n",
       "  <tbody>\n",
       "    <tr>\n",
       "      <th>0</th>\n",
       "      <td>2.706850</td>\n",
       "      <td>0.628133</td>\n",
       "      <td>0.907969</td>\n",
       "      <td>0.503826</td>\n",
       "    </tr>\n",
       "    <tr>\n",
       "      <th>1</th>\n",
       "      <td>0.651118</td>\n",
       "      <td>-0.319318</td>\n",
       "      <td>-0.848077</td>\n",
       "      <td>0.605965</td>\n",
       "    </tr>\n",
       "    <tr>\n",
       "      <th>2</th>\n",
       "      <td>-2.018168</td>\n",
       "      <td>0.740122</td>\n",
       "      <td>0.528813</td>\n",
       "      <td>-0.589001</td>\n",
       "    </tr>\n",
       "    <tr>\n",
       "      <th>3</th>\n",
       "      <td>0.188695</td>\n",
       "      <td>-0.758872</td>\n",
       "      <td>-0.933237</td>\n",
       "      <td>0.955057</td>\n",
       "    </tr>\n",
       "    <tr>\n",
       "      <th>4</th>\n",
       "      <td>0.190794</td>\n",
       "      <td>1.978757</td>\n",
       "      <td>2.605967</td>\n",
       "      <td>0.683509</td>\n",
       "    </tr>\n",
       "  </tbody>\n",
       "</table>\n",
       "</div>"
      ],
      "text/plain": [
       "          W         X         Y         Z\n",
       "0  2.706850  0.628133  0.907969  0.503826\n",
       "1  0.651118 -0.319318 -0.848077  0.605965\n",
       "2 -2.018168  0.740122  0.528813 -0.589001\n",
       "3  0.188695 -0.758872 -0.933237  0.955057\n",
       "4  0.190794  1.978757  2.605967  0.683509"
      ]
     },
     "execution_count": 4,
     "metadata": {},
     "output_type": "execute_result"
    }
   ],
   "source": [
    "df = pd.DataFrame(data, columns=['W', 'X', 'Y', 'Z'])\n",
    "df"
   ]
  },
  {
   "cell_type": "markdown",
   "metadata": {
    "slideshow": {
     "slide_type": "slide"
    }
   },
   "source": [
    "### dataframe 의 column 명"
   ]
  },
  {
   "cell_type": "code",
   "execution_count": 5,
   "metadata": {
    "slideshow": {
     "slide_type": "fragment"
    }
   },
   "outputs": [
    {
     "data": {
      "text/plain": [
       "Index(['W', 'X', 'Y', 'Z'], dtype='object')"
      ]
     },
     "execution_count": 5,
     "metadata": {},
     "output_type": "execute_result"
    }
   ],
   "source": [
    "df.columns"
   ]
  },
  {
   "cell_type": "code",
   "execution_count": 6,
   "metadata": {
    "slideshow": {
     "slide_type": "subslide"
    }
   },
   "outputs": [
    {
     "name": "stdout",
     "output_type": "stream",
     "text": [
      "<class 'pandas.core.frame.DataFrame'>\n",
      "RangeIndex: 5 entries, 0 to 4\n",
      "Data columns (total 4 columns):\n",
      " #   Column  Non-Null Count  Dtype  \n",
      "---  ------  --------------  -----  \n",
      " 0   W       5 non-null      float64\n",
      " 1   X       5 non-null      float64\n",
      " 2   Y       5 non-null      float64\n",
      " 3   Z       5 non-null      float64\n",
      "dtypes: float64(4)\n",
      "memory usage: 288.0 bytes\n"
     ]
    }
   ],
   "source": [
    "df.info()"
   ]
  },
  {
   "cell_type": "code",
   "execution_count": 7,
   "metadata": {
    "slideshow": {
     "slide_type": "subslide"
    }
   },
   "outputs": [
    {
     "data": {
      "text/html": [
       "<div>\n",
       "<style scoped>\n",
       "    .dataframe tbody tr th:only-of-type {\n",
       "        vertical-align: middle;\n",
       "    }\n",
       "\n",
       "    .dataframe tbody tr th {\n",
       "        vertical-align: top;\n",
       "    }\n",
       "\n",
       "    .dataframe thead th {\n",
       "        text-align: right;\n",
       "    }\n",
       "</style>\n",
       "<table border=\"1\" class=\"dataframe\">\n",
       "  <thead>\n",
       "    <tr style=\"text-align: right;\">\n",
       "      <th></th>\n",
       "      <th>W</th>\n",
       "      <th>X</th>\n",
       "      <th>Y</th>\n",
       "      <th>Z</th>\n",
       "    </tr>\n",
       "  </thead>\n",
       "  <tbody>\n",
       "    <tr>\n",
       "      <th>count</th>\n",
       "      <td>5.000000</td>\n",
       "      <td>5.000000</td>\n",
       "      <td>5.000000</td>\n",
       "      <td>5.000000</td>\n",
       "    </tr>\n",
       "    <tr>\n",
       "      <th>mean</th>\n",
       "      <td>0.343858</td>\n",
       "      <td>0.453764</td>\n",
       "      <td>0.452287</td>\n",
       "      <td>0.431871</td>\n",
       "    </tr>\n",
       "    <tr>\n",
       "      <th>std</th>\n",
       "      <td>1.681131</td>\n",
       "      <td>1.061385</td>\n",
       "      <td>1.454516</td>\n",
       "      <td>0.594708</td>\n",
       "    </tr>\n",
       "    <tr>\n",
       "      <th>min</th>\n",
       "      <td>-2.018168</td>\n",
       "      <td>-0.758872</td>\n",
       "      <td>-0.933237</td>\n",
       "      <td>-0.589001</td>\n",
       "    </tr>\n",
       "    <tr>\n",
       "      <th>25%</th>\n",
       "      <td>0.188695</td>\n",
       "      <td>-0.319318</td>\n",
       "      <td>-0.848077</td>\n",
       "      <td>0.503826</td>\n",
       "    </tr>\n",
       "    <tr>\n",
       "      <th>50%</th>\n",
       "      <td>0.190794</td>\n",
       "      <td>0.628133</td>\n",
       "      <td>0.528813</td>\n",
       "      <td>0.605965</td>\n",
       "    </tr>\n",
       "    <tr>\n",
       "      <th>75%</th>\n",
       "      <td>0.651118</td>\n",
       "      <td>0.740122</td>\n",
       "      <td>0.907969</td>\n",
       "      <td>0.683509</td>\n",
       "    </tr>\n",
       "    <tr>\n",
       "      <th>max</th>\n",
       "      <td>2.706850</td>\n",
       "      <td>1.978757</td>\n",
       "      <td>2.605967</td>\n",
       "      <td>0.955057</td>\n",
       "    </tr>\n",
       "  </tbody>\n",
       "</table>\n",
       "</div>"
      ],
      "text/plain": [
       "              W         X         Y         Z\n",
       "count  5.000000  5.000000  5.000000  5.000000\n",
       "mean   0.343858  0.453764  0.452287  0.431871\n",
       "std    1.681131  1.061385  1.454516  0.594708\n",
       "min   -2.018168 -0.758872 -0.933237 -0.589001\n",
       "25%    0.188695 -0.319318 -0.848077  0.503826\n",
       "50%    0.190794  0.628133  0.528813  0.605965\n",
       "75%    0.651118  0.740122  0.907969  0.683509\n",
       "max    2.706850  1.978757  2.605967  0.955057"
      ]
     },
     "execution_count": 7,
     "metadata": {},
     "output_type": "execute_result"
    }
   ],
   "source": [
    "df.describe()"
   ]
  },
  {
   "cell_type": "markdown",
   "metadata": {
    "slideshow": {
     "slide_type": "slide"
    }
   },
   "source": [
    "### DataFrame indexing"
   ]
  },
  {
   "cell_type": "code",
   "execution_count": 8,
   "metadata": {
    "slideshow": {
     "slide_type": "fragment"
    }
   },
   "outputs": [
    {
     "data": {
      "text/plain": [
       "0    2.706850\n",
       "1    0.651118\n",
       "2   -2.018168\n",
       "3    0.188695\n",
       "4    0.190794\n",
       "Name: W, dtype: float64"
      ]
     },
     "execution_count": 8,
     "metadata": {},
     "output_type": "execute_result"
    }
   ],
   "source": [
    "df['W']"
   ]
  },
  {
   "cell_type": "code",
   "execution_count": 9,
   "metadata": {
    "slideshow": {
     "slide_type": "fragment"
    }
   },
   "outputs": [
    {
     "data": {
      "text/plain": [
       "pandas.core.series.Series"
      ]
     },
     "execution_count": 9,
     "metadata": {},
     "output_type": "execute_result"
    }
   ],
   "source": [
    "type(df['W'])"
   ]
  },
  {
   "cell_type": "code",
   "execution_count": 10,
   "metadata": {
    "slideshow": {
     "slide_type": "subslide"
    }
   },
   "outputs": [
    {
     "data": {
      "text/html": [
       "<div>\n",
       "<style scoped>\n",
       "    .dataframe tbody tr th:only-of-type {\n",
       "        vertical-align: middle;\n",
       "    }\n",
       "\n",
       "    .dataframe tbody tr th {\n",
       "        vertical-align: top;\n",
       "    }\n",
       "\n",
       "    .dataframe thead th {\n",
       "        text-align: right;\n",
       "    }\n",
       "</style>\n",
       "<table border=\"1\" class=\"dataframe\">\n",
       "  <thead>\n",
       "    <tr style=\"text-align: right;\">\n",
       "      <th></th>\n",
       "      <th>W</th>\n",
       "      <th>Z</th>\n",
       "    </tr>\n",
       "  </thead>\n",
       "  <tbody>\n",
       "    <tr>\n",
       "      <th>0</th>\n",
       "      <td>2.706850</td>\n",
       "      <td>0.503826</td>\n",
       "    </tr>\n",
       "    <tr>\n",
       "      <th>1</th>\n",
       "      <td>0.651118</td>\n",
       "      <td>0.605965</td>\n",
       "    </tr>\n",
       "    <tr>\n",
       "      <th>2</th>\n",
       "      <td>-2.018168</td>\n",
       "      <td>-0.589001</td>\n",
       "    </tr>\n",
       "    <tr>\n",
       "      <th>3</th>\n",
       "      <td>0.188695</td>\n",
       "      <td>0.955057</td>\n",
       "    </tr>\n",
       "    <tr>\n",
       "      <th>4</th>\n",
       "      <td>0.190794</td>\n",
       "      <td>0.683509</td>\n",
       "    </tr>\n",
       "  </tbody>\n",
       "</table>\n",
       "</div>"
      ],
      "text/plain": [
       "          W         Z\n",
       "0  2.706850  0.503826\n",
       "1  0.651118  0.605965\n",
       "2 -2.018168 -0.589001\n",
       "3  0.188695  0.955057\n",
       "4  0.190794  0.683509"
      ]
     },
     "execution_count": 10,
     "metadata": {},
     "output_type": "execute_result"
    }
   ],
   "source": [
    "df[['W', 'Z']]"
   ]
  },
  {
   "cell_type": "code",
   "execution_count": 11,
   "metadata": {
    "slideshow": {
     "slide_type": "fragment"
    }
   },
   "outputs": [
    {
     "data": {
      "text/plain": [
       "0    2.706850\n",
       "1    0.651118\n",
       "2   -2.018168\n",
       "3    0.188695\n",
       "4    0.190794\n",
       "Name: W, dtype: float64"
      ]
     },
     "execution_count": 11,
     "metadata": {},
     "output_type": "execute_result"
    }
   ],
   "source": [
    "df.W"
   ]
  },
  {
   "cell_type": "markdown",
   "metadata": {
    "slideshow": {
     "slide_type": "slide"
    }
   },
   "source": [
    "### new column 추가/삭제"
   ]
  },
  {
   "cell_type": "code",
   "execution_count": 12,
   "metadata": {
    "slideshow": {
     "slide_type": "fragment"
    }
   },
   "outputs": [
    {
     "data": {
      "text/html": [
       "<div>\n",
       "<style scoped>\n",
       "    .dataframe tbody tr th:only-of-type {\n",
       "        vertical-align: middle;\n",
       "    }\n",
       "\n",
       "    .dataframe tbody tr th {\n",
       "        vertical-align: top;\n",
       "    }\n",
       "\n",
       "    .dataframe thead th {\n",
       "        text-align: right;\n",
       "    }\n",
       "</style>\n",
       "<table border=\"1\" class=\"dataframe\">\n",
       "  <thead>\n",
       "    <tr style=\"text-align: right;\">\n",
       "      <th></th>\n",
       "      <th>W</th>\n",
       "      <th>X</th>\n",
       "      <th>Y</th>\n",
       "      <th>Z</th>\n",
       "      <th>new</th>\n",
       "    </tr>\n",
       "  </thead>\n",
       "  <tbody>\n",
       "    <tr>\n",
       "      <th>0</th>\n",
       "      <td>2.706850</td>\n",
       "      <td>0.628133</td>\n",
       "      <td>0.907969</td>\n",
       "      <td>0.503826</td>\n",
       "      <td>3.334983</td>\n",
       "    </tr>\n",
       "    <tr>\n",
       "      <th>1</th>\n",
       "      <td>0.651118</td>\n",
       "      <td>-0.319318</td>\n",
       "      <td>-0.848077</td>\n",
       "      <td>0.605965</td>\n",
       "      <td>0.331800</td>\n",
       "    </tr>\n",
       "    <tr>\n",
       "      <th>2</th>\n",
       "      <td>-2.018168</td>\n",
       "      <td>0.740122</td>\n",
       "      <td>0.528813</td>\n",
       "      <td>-0.589001</td>\n",
       "      <td>-1.278046</td>\n",
       "    </tr>\n",
       "    <tr>\n",
       "      <th>3</th>\n",
       "      <td>0.188695</td>\n",
       "      <td>-0.758872</td>\n",
       "      <td>-0.933237</td>\n",
       "      <td>0.955057</td>\n",
       "      <td>-0.570177</td>\n",
       "    </tr>\n",
       "    <tr>\n",
       "      <th>4</th>\n",
       "      <td>0.190794</td>\n",
       "      <td>1.978757</td>\n",
       "      <td>2.605967</td>\n",
       "      <td>0.683509</td>\n",
       "      <td>2.169552</td>\n",
       "    </tr>\n",
       "  </tbody>\n",
       "</table>\n",
       "</div>"
      ],
      "text/plain": [
       "          W         X         Y         Z       new\n",
       "0  2.706850  0.628133  0.907969  0.503826  3.334983\n",
       "1  0.651118 -0.319318 -0.848077  0.605965  0.331800\n",
       "2 -2.018168  0.740122  0.528813 -0.589001 -1.278046\n",
       "3  0.188695 -0.758872 -0.933237  0.955057 -0.570177\n",
       "4  0.190794  1.978757  2.605967  0.683509  2.169552"
      ]
     },
     "execution_count": 12,
     "metadata": {},
     "output_type": "execute_result"
    }
   ],
   "source": [
    "df['new'] = df['W'] + df['X']\n",
    "df"
   ]
  },
  {
   "cell_type": "code",
   "execution_count": 13,
   "metadata": {
    "slideshow": {
     "slide_type": "subslide"
    }
   },
   "outputs": [
    {
     "data": {
      "text/html": [
       "<div>\n",
       "<style scoped>\n",
       "    .dataframe tbody tr th:only-of-type {\n",
       "        vertical-align: middle;\n",
       "    }\n",
       "\n",
       "    .dataframe tbody tr th {\n",
       "        vertical-align: top;\n",
       "    }\n",
       "\n",
       "    .dataframe thead th {\n",
       "        text-align: right;\n",
       "    }\n",
       "</style>\n",
       "<table border=\"1\" class=\"dataframe\">\n",
       "  <thead>\n",
       "    <tr style=\"text-align: right;\">\n",
       "      <th></th>\n",
       "      <th>W</th>\n",
       "      <th>X</th>\n",
       "      <th>Y</th>\n",
       "      <th>Z</th>\n",
       "    </tr>\n",
       "  </thead>\n",
       "  <tbody>\n",
       "    <tr>\n",
       "      <th>0</th>\n",
       "      <td>2.706850</td>\n",
       "      <td>0.628133</td>\n",
       "      <td>0.907969</td>\n",
       "      <td>0.503826</td>\n",
       "    </tr>\n",
       "    <tr>\n",
       "      <th>1</th>\n",
       "      <td>0.651118</td>\n",
       "      <td>-0.319318</td>\n",
       "      <td>-0.848077</td>\n",
       "      <td>0.605965</td>\n",
       "    </tr>\n",
       "    <tr>\n",
       "      <th>2</th>\n",
       "      <td>-2.018168</td>\n",
       "      <td>0.740122</td>\n",
       "      <td>0.528813</td>\n",
       "      <td>-0.589001</td>\n",
       "    </tr>\n",
       "    <tr>\n",
       "      <th>3</th>\n",
       "      <td>0.188695</td>\n",
       "      <td>-0.758872</td>\n",
       "      <td>-0.933237</td>\n",
       "      <td>0.955057</td>\n",
       "    </tr>\n",
       "    <tr>\n",
       "      <th>4</th>\n",
       "      <td>0.190794</td>\n",
       "      <td>1.978757</td>\n",
       "      <td>2.605967</td>\n",
       "      <td>0.683509</td>\n",
       "    </tr>\n",
       "  </tbody>\n",
       "</table>\n",
       "</div>"
      ],
      "text/plain": [
       "          W         X         Y         Z\n",
       "0  2.706850  0.628133  0.907969  0.503826\n",
       "1  0.651118 -0.319318 -0.848077  0.605965\n",
       "2 -2.018168  0.740122  0.528813 -0.589001\n",
       "3  0.188695 -0.758872 -0.933237  0.955057\n",
       "4  0.190794  1.978757  2.605967  0.683509"
      ]
     },
     "execution_count": 13,
     "metadata": {},
     "output_type": "execute_result"
    }
   ],
   "source": [
    "df.drop('new', axis=1)"
   ]
  },
  {
   "cell_type": "code",
   "execution_count": 14,
   "metadata": {},
   "outputs": [
    {
     "data": {
      "text/html": [
       "<div>\n",
       "<style scoped>\n",
       "    .dataframe tbody tr th:only-of-type {\n",
       "        vertical-align: middle;\n",
       "    }\n",
       "\n",
       "    .dataframe tbody tr th {\n",
       "        vertical-align: top;\n",
       "    }\n",
       "\n",
       "    .dataframe thead th {\n",
       "        text-align: right;\n",
       "    }\n",
       "</style>\n",
       "<table border=\"1\" class=\"dataframe\">\n",
       "  <thead>\n",
       "    <tr style=\"text-align: right;\">\n",
       "      <th></th>\n",
       "      <th>W</th>\n",
       "      <th>X</th>\n",
       "      <th>Y</th>\n",
       "      <th>Z</th>\n",
       "      <th>new</th>\n",
       "    </tr>\n",
       "  </thead>\n",
       "  <tbody>\n",
       "    <tr>\n",
       "      <th>0</th>\n",
       "      <td>2.706850</td>\n",
       "      <td>0.628133</td>\n",
       "      <td>0.907969</td>\n",
       "      <td>0.503826</td>\n",
       "      <td>3.334983</td>\n",
       "    </tr>\n",
       "    <tr>\n",
       "      <th>1</th>\n",
       "      <td>0.651118</td>\n",
       "      <td>-0.319318</td>\n",
       "      <td>-0.848077</td>\n",
       "      <td>0.605965</td>\n",
       "      <td>0.331800</td>\n",
       "    </tr>\n",
       "    <tr>\n",
       "      <th>2</th>\n",
       "      <td>-2.018168</td>\n",
       "      <td>0.740122</td>\n",
       "      <td>0.528813</td>\n",
       "      <td>-0.589001</td>\n",
       "      <td>-1.278046</td>\n",
       "    </tr>\n",
       "    <tr>\n",
       "      <th>3</th>\n",
       "      <td>0.188695</td>\n",
       "      <td>-0.758872</td>\n",
       "      <td>-0.933237</td>\n",
       "      <td>0.955057</td>\n",
       "      <td>-0.570177</td>\n",
       "    </tr>\n",
       "    <tr>\n",
       "      <th>4</th>\n",
       "      <td>0.190794</td>\n",
       "      <td>1.978757</td>\n",
       "      <td>2.605967</td>\n",
       "      <td>0.683509</td>\n",
       "      <td>2.169552</td>\n",
       "    </tr>\n",
       "  </tbody>\n",
       "</table>\n",
       "</div>"
      ],
      "text/plain": [
       "          W         X         Y         Z       new\n",
       "0  2.706850  0.628133  0.907969  0.503826  3.334983\n",
       "1  0.651118 -0.319318 -0.848077  0.605965  0.331800\n",
       "2 -2.018168  0.740122  0.528813 -0.589001 -1.278046\n",
       "3  0.188695 -0.758872 -0.933237  0.955057 -0.570177\n",
       "4  0.190794  1.978757  2.605967  0.683509  2.169552"
      ]
     },
     "execution_count": 14,
     "metadata": {},
     "output_type": "execute_result"
    }
   ],
   "source": [
    "df"
   ]
  },
  {
   "cell_type": "code",
   "execution_count": 15,
   "metadata": {},
   "outputs": [
    {
     "data": {
      "text/html": [
       "<div>\n",
       "<style scoped>\n",
       "    .dataframe tbody tr th:only-of-type {\n",
       "        vertical-align: middle;\n",
       "    }\n",
       "\n",
       "    .dataframe tbody tr th {\n",
       "        vertical-align: top;\n",
       "    }\n",
       "\n",
       "    .dataframe thead th {\n",
       "        text-align: right;\n",
       "    }\n",
       "</style>\n",
       "<table border=\"1\" class=\"dataframe\">\n",
       "  <thead>\n",
       "    <tr style=\"text-align: right;\">\n",
       "      <th></th>\n",
       "      <th>W</th>\n",
       "      <th>X</th>\n",
       "      <th>Y</th>\n",
       "      <th>Z</th>\n",
       "    </tr>\n",
       "  </thead>\n",
       "  <tbody>\n",
       "    <tr>\n",
       "      <th>0</th>\n",
       "      <td>2.706850</td>\n",
       "      <td>0.628133</td>\n",
       "      <td>0.907969</td>\n",
       "      <td>0.503826</td>\n",
       "    </tr>\n",
       "    <tr>\n",
       "      <th>1</th>\n",
       "      <td>0.651118</td>\n",
       "      <td>-0.319318</td>\n",
       "      <td>-0.848077</td>\n",
       "      <td>0.605965</td>\n",
       "    </tr>\n",
       "    <tr>\n",
       "      <th>2</th>\n",
       "      <td>-2.018168</td>\n",
       "      <td>0.740122</td>\n",
       "      <td>0.528813</td>\n",
       "      <td>-0.589001</td>\n",
       "    </tr>\n",
       "    <tr>\n",
       "      <th>3</th>\n",
       "      <td>0.188695</td>\n",
       "      <td>-0.758872</td>\n",
       "      <td>-0.933237</td>\n",
       "      <td>0.955057</td>\n",
       "    </tr>\n",
       "    <tr>\n",
       "      <th>4</th>\n",
       "      <td>0.190794</td>\n",
       "      <td>1.978757</td>\n",
       "      <td>2.605967</td>\n",
       "      <td>0.683509</td>\n",
       "    </tr>\n",
       "  </tbody>\n",
       "</table>\n",
       "</div>"
      ],
      "text/plain": [
       "          W         X         Y         Z\n",
       "0  2.706850  0.628133  0.907969  0.503826\n",
       "1  0.651118 -0.319318 -0.848077  0.605965\n",
       "2 -2.018168  0.740122  0.528813 -0.589001\n",
       "3  0.188695 -0.758872 -0.933237  0.955057\n",
       "4  0.190794  1.978757  2.605967  0.683509"
      ]
     },
     "execution_count": 15,
     "metadata": {},
     "output_type": "execute_result"
    }
   ],
   "source": [
    "df.drop('new', axis=1, inplace=True)\n",
    "df"
   ]
  },
  {
   "cell_type": "code",
   "execution_count": 16,
   "metadata": {
    "slideshow": {
     "slide_type": "fragment"
    }
   },
   "outputs": [
    {
     "data": {
      "text/plain": [
       "(5, 4)"
      ]
     },
     "execution_count": 16,
     "metadata": {},
     "output_type": "execute_result"
    }
   ],
   "source": [
    "df.shape"
   ]
  },
  {
   "cell_type": "markdown",
   "metadata": {
    "slideshow": {
     "slide_type": "slide"
    }
   },
   "source": [
    "### Missing Data 처리\n",
    "\n",
    "- missing data 가 있는 row 혹은 columns 을 완전히 삭제 : dropna()\n",
    "- 임의의 data 로 대체 : fillna()"
   ]
  },
  {
   "cell_type": "code",
   "execution_count": 17,
   "metadata": {
    "slideshow": {
     "slide_type": "subslide"
    }
   },
   "outputs": [],
   "source": [
    "import pandas as pd\n",
    "import numpy as np"
   ]
  },
  {
   "cell_type": "code",
   "execution_count": 18,
   "metadata": {
    "slideshow": {
     "slide_type": "fragment"
    }
   },
   "outputs": [],
   "source": [
    "df = pd.DataFrame({'A': [1, 2, np.nan],\n",
    "                               'B': [5, np.nan, np.nan],\n",
    "                               'C': [1, 2, 3]})"
   ]
  },
  {
   "cell_type": "code",
   "execution_count": 19,
   "metadata": {
    "slideshow": {
     "slide_type": "fragment"
    }
   },
   "outputs": [
    {
     "data": {
      "text/html": [
       "<div>\n",
       "<style scoped>\n",
       "    .dataframe tbody tr th:only-of-type {\n",
       "        vertical-align: middle;\n",
       "    }\n",
       "\n",
       "    .dataframe tbody tr th {\n",
       "        vertical-align: top;\n",
       "    }\n",
       "\n",
       "    .dataframe thead th {\n",
       "        text-align: right;\n",
       "    }\n",
       "</style>\n",
       "<table border=\"1\" class=\"dataframe\">\n",
       "  <thead>\n",
       "    <tr style=\"text-align: right;\">\n",
       "      <th></th>\n",
       "      <th>A</th>\n",
       "      <th>B</th>\n",
       "      <th>C</th>\n",
       "    </tr>\n",
       "  </thead>\n",
       "  <tbody>\n",
       "    <tr>\n",
       "      <th>0</th>\n",
       "      <td>1.0</td>\n",
       "      <td>5.0</td>\n",
       "      <td>1</td>\n",
       "    </tr>\n",
       "    <tr>\n",
       "      <th>1</th>\n",
       "      <td>2.0</td>\n",
       "      <td>NaN</td>\n",
       "      <td>2</td>\n",
       "    </tr>\n",
       "    <tr>\n",
       "      <th>2</th>\n",
       "      <td>NaN</td>\n",
       "      <td>NaN</td>\n",
       "      <td>3</td>\n",
       "    </tr>\n",
       "  </tbody>\n",
       "</table>\n",
       "</div>"
      ],
      "text/plain": [
       "     A    B  C\n",
       "0  1.0  5.0  1\n",
       "1  2.0  NaN  2\n",
       "2  NaN  NaN  3"
      ]
     },
     "execution_count": 19,
     "metadata": {},
     "output_type": "execute_result"
    }
   ],
   "source": [
    "df"
   ]
  },
  {
   "cell_type": "markdown",
   "metadata": {
    "slideshow": {
     "slide_type": "subslide"
    }
   },
   "source": [
    "### missing value 를 포함하고 있는 모든 row 삭제 - default"
   ]
  },
  {
   "cell_type": "code",
   "execution_count": 20,
   "metadata": {
    "slideshow": {
     "slide_type": "fragment"
    }
   },
   "outputs": [
    {
     "data": {
      "text/html": [
       "<div>\n",
       "<style scoped>\n",
       "    .dataframe tbody tr th:only-of-type {\n",
       "        vertical-align: middle;\n",
       "    }\n",
       "\n",
       "    .dataframe tbody tr th {\n",
       "        vertical-align: top;\n",
       "    }\n",
       "\n",
       "    .dataframe thead th {\n",
       "        text-align: right;\n",
       "    }\n",
       "</style>\n",
       "<table border=\"1\" class=\"dataframe\">\n",
       "  <thead>\n",
       "    <tr style=\"text-align: right;\">\n",
       "      <th></th>\n",
       "      <th>A</th>\n",
       "      <th>B</th>\n",
       "      <th>C</th>\n",
       "    </tr>\n",
       "  </thead>\n",
       "  <tbody>\n",
       "    <tr>\n",
       "      <th>0</th>\n",
       "      <td>1.0</td>\n",
       "      <td>5.0</td>\n",
       "      <td>1</td>\n",
       "    </tr>\n",
       "  </tbody>\n",
       "</table>\n",
       "</div>"
      ],
      "text/plain": [
       "     A    B  C\n",
       "0  1.0  5.0  1"
      ]
     },
     "execution_count": 20,
     "metadata": {},
     "output_type": "execute_result"
    }
   ],
   "source": [
    "df.dropna()"
   ]
  },
  {
   "cell_type": "markdown",
   "metadata": {
    "slideshow": {
     "slide_type": "subslide"
    }
   },
   "source": [
    "### missing value 를 포함하고 있는 모든 column 삭제"
   ]
  },
  {
   "cell_type": "code",
   "execution_count": 21,
   "metadata": {
    "slideshow": {
     "slide_type": "fragment"
    }
   },
   "outputs": [
    {
     "data": {
      "text/html": [
       "<div>\n",
       "<style scoped>\n",
       "    .dataframe tbody tr th:only-of-type {\n",
       "        vertical-align: middle;\n",
       "    }\n",
       "\n",
       "    .dataframe tbody tr th {\n",
       "        vertical-align: top;\n",
       "    }\n",
       "\n",
       "    .dataframe thead th {\n",
       "        text-align: right;\n",
       "    }\n",
       "</style>\n",
       "<table border=\"1\" class=\"dataframe\">\n",
       "  <thead>\n",
       "    <tr style=\"text-align: right;\">\n",
       "      <th></th>\n",
       "      <th>C</th>\n",
       "    </tr>\n",
       "  </thead>\n",
       "  <tbody>\n",
       "    <tr>\n",
       "      <th>0</th>\n",
       "      <td>1</td>\n",
       "    </tr>\n",
       "    <tr>\n",
       "      <th>1</th>\n",
       "      <td>2</td>\n",
       "    </tr>\n",
       "    <tr>\n",
       "      <th>2</th>\n",
       "      <td>3</td>\n",
       "    </tr>\n",
       "  </tbody>\n",
       "</table>\n",
       "</div>"
      ],
      "text/plain": [
       "   C\n",
       "0  1\n",
       "1  2\n",
       "2  3"
      ]
     },
     "execution_count": 21,
     "metadata": {},
     "output_type": "execute_result"
    }
   ],
   "source": [
    "df.dropna(axis=1)"
   ]
  },
  {
   "cell_type": "markdown",
   "metadata": {
    "slideshow": {
     "slide_type": "subslide"
    }
   },
   "source": [
    "### missing value 대체"
   ]
  },
  {
   "cell_type": "code",
   "execution_count": 22,
   "metadata": {
    "slideshow": {
     "slide_type": "fragment"
    }
   },
   "outputs": [
    {
     "data": {
      "text/html": [
       "<div>\n",
       "<style scoped>\n",
       "    .dataframe tbody tr th:only-of-type {\n",
       "        vertical-align: middle;\n",
       "    }\n",
       "\n",
       "    .dataframe tbody tr th {\n",
       "        vertical-align: top;\n",
       "    }\n",
       "\n",
       "    .dataframe thead th {\n",
       "        text-align: right;\n",
       "    }\n",
       "</style>\n",
       "<table border=\"1\" class=\"dataframe\">\n",
       "  <thead>\n",
       "    <tr style=\"text-align: right;\">\n",
       "      <th></th>\n",
       "      <th>A</th>\n",
       "      <th>B</th>\n",
       "      <th>C</th>\n",
       "    </tr>\n",
       "  </thead>\n",
       "  <tbody>\n",
       "    <tr>\n",
       "      <th>0</th>\n",
       "      <td>1.0</td>\n",
       "      <td>5.0</td>\n",
       "      <td>1</td>\n",
       "    </tr>\n",
       "    <tr>\n",
       "      <th>1</th>\n",
       "      <td>2.0</td>\n",
       "      <td>0.0</td>\n",
       "      <td>2</td>\n",
       "    </tr>\n",
       "    <tr>\n",
       "      <th>2</th>\n",
       "      <td>0.0</td>\n",
       "      <td>0.0</td>\n",
       "      <td>3</td>\n",
       "    </tr>\n",
       "  </tbody>\n",
       "</table>\n",
       "</div>"
      ],
      "text/plain": [
       "     A    B  C\n",
       "0  1.0  5.0  1\n",
       "1  2.0  0.0  2\n",
       "2  0.0  0.0  3"
      ]
     },
     "execution_count": 22,
     "metadata": {},
     "output_type": "execute_result"
    }
   ],
   "source": [
    "df.fillna(value=0)"
   ]
  },
  {
   "cell_type": "code",
   "execution_count": 23,
   "metadata": {
    "slideshow": {
     "slide_type": "fragment"
    }
   },
   "outputs": [
    {
     "data": {
      "text/plain": [
       "0    1.0\n",
       "1    2.0\n",
       "2    1.5\n",
       "Name: A, dtype: float64"
      ]
     },
     "execution_count": 23,
     "metadata": {},
     "output_type": "execute_result"
    }
   ],
   "source": [
    "df['A'].fillna(value=df['A'].mean())"
   ]
  },
  {
   "cell_type": "markdown",
   "metadata": {},
   "source": [
    "### excel file handling"
   ]
  },
  {
   "cell_type": "code",
   "execution_count": 24,
   "metadata": {},
   "outputs": [
    {
     "data": {
      "text/html": [
       "<div>\n",
       "<style scoped>\n",
       "    .dataframe tbody tr th:only-of-type {\n",
       "        vertical-align: middle;\n",
       "    }\n",
       "\n",
       "    .dataframe tbody tr th {\n",
       "        vertical-align: top;\n",
       "    }\n",
       "\n",
       "    .dataframe thead th {\n",
       "        text-align: right;\n",
       "    }\n",
       "</style>\n",
       "<table border=\"1\" class=\"dataframe\">\n",
       "  <thead>\n",
       "    <tr style=\"text-align: right;\">\n",
       "      <th></th>\n",
       "      <th>fixed acidity</th>\n",
       "      <th>volatile acidity</th>\n",
       "      <th>citric acid</th>\n",
       "      <th>residual sugar</th>\n",
       "      <th>chlorides</th>\n",
       "      <th>free sulfur dioxide</th>\n",
       "      <th>total sulfur dioxide</th>\n",
       "      <th>density</th>\n",
       "      <th>pH</th>\n",
       "      <th>sulphates</th>\n",
       "      <th>alcohol</th>\n",
       "      <th>quality</th>\n",
       "    </tr>\n",
       "  </thead>\n",
       "  <tbody>\n",
       "    <tr>\n",
       "      <th>0</th>\n",
       "      <td>7.4</td>\n",
       "      <td>0.70</td>\n",
       "      <td>0.00</td>\n",
       "      <td>1.9</td>\n",
       "      <td>0.076</td>\n",
       "      <td>11.0</td>\n",
       "      <td>34.0</td>\n",
       "      <td>0.9978</td>\n",
       "      <td>3.51</td>\n",
       "      <td>0.56</td>\n",
       "      <td>9.4</td>\n",
       "      <td>5</td>\n",
       "    </tr>\n",
       "    <tr>\n",
       "      <th>1</th>\n",
       "      <td>7.8</td>\n",
       "      <td>0.88</td>\n",
       "      <td>0.00</td>\n",
       "      <td>2.6</td>\n",
       "      <td>0.098</td>\n",
       "      <td>25.0</td>\n",
       "      <td>67.0</td>\n",
       "      <td>0.9968</td>\n",
       "      <td>3.20</td>\n",
       "      <td>0.68</td>\n",
       "      <td>9.8</td>\n",
       "      <td>5</td>\n",
       "    </tr>\n",
       "    <tr>\n",
       "      <th>2</th>\n",
       "      <td>7.8</td>\n",
       "      <td>0.76</td>\n",
       "      <td>0.04</td>\n",
       "      <td>2.3</td>\n",
       "      <td>0.092</td>\n",
       "      <td>15.0</td>\n",
       "      <td>54.0</td>\n",
       "      <td>0.9970</td>\n",
       "      <td>3.26</td>\n",
       "      <td>0.65</td>\n",
       "      <td>9.8</td>\n",
       "      <td>5</td>\n",
       "    </tr>\n",
       "    <tr>\n",
       "      <th>3</th>\n",
       "      <td>11.2</td>\n",
       "      <td>0.28</td>\n",
       "      <td>0.56</td>\n",
       "      <td>1.9</td>\n",
       "      <td>0.075</td>\n",
       "      <td>17.0</td>\n",
       "      <td>60.0</td>\n",
       "      <td>0.9980</td>\n",
       "      <td>3.16</td>\n",
       "      <td>0.58</td>\n",
       "      <td>9.8</td>\n",
       "      <td>6</td>\n",
       "    </tr>\n",
       "    <tr>\n",
       "      <th>4</th>\n",
       "      <td>7.4</td>\n",
       "      <td>0.70</td>\n",
       "      <td>0.00</td>\n",
       "      <td>1.9</td>\n",
       "      <td>0.076</td>\n",
       "      <td>11.0</td>\n",
       "      <td>34.0</td>\n",
       "      <td>0.9978</td>\n",
       "      <td>3.51</td>\n",
       "      <td>0.56</td>\n",
       "      <td>9.4</td>\n",
       "      <td>5</td>\n",
       "    </tr>\n",
       "  </tbody>\n",
       "</table>\n",
       "</div>"
      ],
      "text/plain": [
       "   fixed acidity  volatile acidity  citric acid  residual sugar  chlorides  \\\n",
       "0            7.4              0.70         0.00             1.9      0.076   \n",
       "1            7.8              0.88         0.00             2.6      0.098   \n",
       "2            7.8              0.76         0.04             2.3      0.092   \n",
       "3           11.2              0.28         0.56             1.9      0.075   \n",
       "4            7.4              0.70         0.00             1.9      0.076   \n",
       "\n",
       "   free sulfur dioxide  total sulfur dioxide  density    pH  sulphates  \\\n",
       "0                 11.0                  34.0   0.9978  3.51       0.56   \n",
       "1                 25.0                  67.0   0.9968  3.20       0.68   \n",
       "2                 15.0                  54.0   0.9970  3.26       0.65   \n",
       "3                 17.0                  60.0   0.9980  3.16       0.58   \n",
       "4                 11.0                  34.0   0.9978  3.51       0.56   \n",
       "\n",
       "   alcohol  quality  \n",
       "0      9.4        5  \n",
       "1      9.8        5  \n",
       "2      9.8        5  \n",
       "3      9.8        6  \n",
       "4      9.4        5  "
      ]
     },
     "execution_count": 24,
     "metadata": {},
     "output_type": "execute_result"
    }
   ],
   "source": [
    "df = pd.read_csv(\"winequality-red.csv\", sep=\";\")\n",
    "df.head()"
   ]
  },
  {
   "cell_type": "code",
   "execution_count": 25,
   "metadata": {},
   "outputs": [
    {
     "name": "stdout",
     "output_type": "stream",
     "text": [
      "<class 'pandas.core.frame.DataFrame'>\n",
      "RangeIndex: 1599 entries, 0 to 1598\n",
      "Data columns (total 12 columns):\n",
      " #   Column                Non-Null Count  Dtype  \n",
      "---  ------                --------------  -----  \n",
      " 0   fixed acidity         1599 non-null   float64\n",
      " 1   volatile acidity      1599 non-null   float64\n",
      " 2   citric acid           1599 non-null   float64\n",
      " 3   residual sugar        1599 non-null   float64\n",
      " 4   chlorides             1599 non-null   float64\n",
      " 5   free sulfur dioxide   1599 non-null   float64\n",
      " 6   total sulfur dioxide  1599 non-null   float64\n",
      " 7   density               1599 non-null   float64\n",
      " 8   pH                    1599 non-null   float64\n",
      " 9   sulphates             1599 non-null   float64\n",
      " 10  alcohol               1599 non-null   float64\n",
      " 11  quality               1599 non-null   int64  \n",
      "dtypes: float64(11), int64(1)\n",
      "memory usage: 150.0 KB\n"
     ]
    }
   ],
   "source": [
    "df.info()"
   ]
  },
  {
   "cell_type": "code",
   "execution_count": 26,
   "metadata": {},
   "outputs": [
    {
     "data": {
      "text/html": [
       "<div>\n",
       "<style scoped>\n",
       "    .dataframe tbody tr th:only-of-type {\n",
       "        vertical-align: middle;\n",
       "    }\n",
       "\n",
       "    .dataframe tbody tr th {\n",
       "        vertical-align: top;\n",
       "    }\n",
       "\n",
       "    .dataframe thead th {\n",
       "        text-align: right;\n",
       "    }\n",
       "</style>\n",
       "<table border=\"1\" class=\"dataframe\">\n",
       "  <thead>\n",
       "    <tr style=\"text-align: right;\">\n",
       "      <th></th>\n",
       "      <th>fixed acidity</th>\n",
       "      <th>volatile acidity</th>\n",
       "      <th>citric acid</th>\n",
       "      <th>residual sugar</th>\n",
       "      <th>chlorides</th>\n",
       "      <th>free sulfur dioxide</th>\n",
       "      <th>total sulfur dioxide</th>\n",
       "      <th>density</th>\n",
       "      <th>pH</th>\n",
       "      <th>sulphates</th>\n",
       "      <th>alcohol</th>\n",
       "      <th>quality</th>\n",
       "    </tr>\n",
       "  </thead>\n",
       "  <tbody>\n",
       "    <tr>\n",
       "      <th>count</th>\n",
       "      <td>1599.000000</td>\n",
       "      <td>1599.000000</td>\n",
       "      <td>1599.000000</td>\n",
       "      <td>1599.000000</td>\n",
       "      <td>1599.000000</td>\n",
       "      <td>1599.000000</td>\n",
       "      <td>1599.000000</td>\n",
       "      <td>1599.000000</td>\n",
       "      <td>1599.000000</td>\n",
       "      <td>1599.000000</td>\n",
       "      <td>1599.000000</td>\n",
       "      <td>1599.000000</td>\n",
       "    </tr>\n",
       "    <tr>\n",
       "      <th>mean</th>\n",
       "      <td>8.319637</td>\n",
       "      <td>0.527821</td>\n",
       "      <td>0.270976</td>\n",
       "      <td>2.538806</td>\n",
       "      <td>0.087467</td>\n",
       "      <td>15.874922</td>\n",
       "      <td>46.467792</td>\n",
       "      <td>0.996747</td>\n",
       "      <td>3.311113</td>\n",
       "      <td>0.658149</td>\n",
       "      <td>10.422983</td>\n",
       "      <td>5.636023</td>\n",
       "    </tr>\n",
       "    <tr>\n",
       "      <th>std</th>\n",
       "      <td>1.741096</td>\n",
       "      <td>0.179060</td>\n",
       "      <td>0.194801</td>\n",
       "      <td>1.409928</td>\n",
       "      <td>0.047065</td>\n",
       "      <td>10.460157</td>\n",
       "      <td>32.895324</td>\n",
       "      <td>0.001887</td>\n",
       "      <td>0.154386</td>\n",
       "      <td>0.169507</td>\n",
       "      <td>1.065668</td>\n",
       "      <td>0.807569</td>\n",
       "    </tr>\n",
       "    <tr>\n",
       "      <th>min</th>\n",
       "      <td>4.600000</td>\n",
       "      <td>0.120000</td>\n",
       "      <td>0.000000</td>\n",
       "      <td>0.900000</td>\n",
       "      <td>0.012000</td>\n",
       "      <td>1.000000</td>\n",
       "      <td>6.000000</td>\n",
       "      <td>0.990070</td>\n",
       "      <td>2.740000</td>\n",
       "      <td>0.330000</td>\n",
       "      <td>8.400000</td>\n",
       "      <td>3.000000</td>\n",
       "    </tr>\n",
       "    <tr>\n",
       "      <th>25%</th>\n",
       "      <td>7.100000</td>\n",
       "      <td>0.390000</td>\n",
       "      <td>0.090000</td>\n",
       "      <td>1.900000</td>\n",
       "      <td>0.070000</td>\n",
       "      <td>7.000000</td>\n",
       "      <td>22.000000</td>\n",
       "      <td>0.995600</td>\n",
       "      <td>3.210000</td>\n",
       "      <td>0.550000</td>\n",
       "      <td>9.500000</td>\n",
       "      <td>5.000000</td>\n",
       "    </tr>\n",
       "    <tr>\n",
       "      <th>50%</th>\n",
       "      <td>7.900000</td>\n",
       "      <td>0.520000</td>\n",
       "      <td>0.260000</td>\n",
       "      <td>2.200000</td>\n",
       "      <td>0.079000</td>\n",
       "      <td>14.000000</td>\n",
       "      <td>38.000000</td>\n",
       "      <td>0.996750</td>\n",
       "      <td>3.310000</td>\n",
       "      <td>0.620000</td>\n",
       "      <td>10.200000</td>\n",
       "      <td>6.000000</td>\n",
       "    </tr>\n",
       "    <tr>\n",
       "      <th>75%</th>\n",
       "      <td>9.200000</td>\n",
       "      <td>0.640000</td>\n",
       "      <td>0.420000</td>\n",
       "      <td>2.600000</td>\n",
       "      <td>0.090000</td>\n",
       "      <td>21.000000</td>\n",
       "      <td>62.000000</td>\n",
       "      <td>0.997835</td>\n",
       "      <td>3.400000</td>\n",
       "      <td>0.730000</td>\n",
       "      <td>11.100000</td>\n",
       "      <td>6.000000</td>\n",
       "    </tr>\n",
       "    <tr>\n",
       "      <th>max</th>\n",
       "      <td>15.900000</td>\n",
       "      <td>1.580000</td>\n",
       "      <td>1.000000</td>\n",
       "      <td>15.500000</td>\n",
       "      <td>0.611000</td>\n",
       "      <td>72.000000</td>\n",
       "      <td>289.000000</td>\n",
       "      <td>1.003690</td>\n",
       "      <td>4.010000</td>\n",
       "      <td>2.000000</td>\n",
       "      <td>14.900000</td>\n",
       "      <td>8.000000</td>\n",
       "    </tr>\n",
       "  </tbody>\n",
       "</table>\n",
       "</div>"
      ],
      "text/plain": [
       "       fixed acidity  volatile acidity  citric acid  residual sugar  \\\n",
       "count    1599.000000       1599.000000  1599.000000     1599.000000   \n",
       "mean        8.319637          0.527821     0.270976        2.538806   \n",
       "std         1.741096          0.179060     0.194801        1.409928   \n",
       "min         4.600000          0.120000     0.000000        0.900000   \n",
       "25%         7.100000          0.390000     0.090000        1.900000   \n",
       "50%         7.900000          0.520000     0.260000        2.200000   \n",
       "75%         9.200000          0.640000     0.420000        2.600000   \n",
       "max        15.900000          1.580000     1.000000       15.500000   \n",
       "\n",
       "         chlorides  free sulfur dioxide  total sulfur dioxide      density  \\\n",
       "count  1599.000000          1599.000000           1599.000000  1599.000000   \n",
       "mean      0.087467            15.874922             46.467792     0.996747   \n",
       "std       0.047065            10.460157             32.895324     0.001887   \n",
       "min       0.012000             1.000000              6.000000     0.990070   \n",
       "25%       0.070000             7.000000             22.000000     0.995600   \n",
       "50%       0.079000            14.000000             38.000000     0.996750   \n",
       "75%       0.090000            21.000000             62.000000     0.997835   \n",
       "max       0.611000            72.000000            289.000000     1.003690   \n",
       "\n",
       "                pH    sulphates      alcohol      quality  \n",
       "count  1599.000000  1599.000000  1599.000000  1599.000000  \n",
       "mean      3.311113     0.658149    10.422983     5.636023  \n",
       "std       0.154386     0.169507     1.065668     0.807569  \n",
       "min       2.740000     0.330000     8.400000     3.000000  \n",
       "25%       3.210000     0.550000     9.500000     5.000000  \n",
       "50%       3.310000     0.620000    10.200000     6.000000  \n",
       "75%       3.400000     0.730000    11.100000     6.000000  \n",
       "max       4.010000     2.000000    14.900000     8.000000  "
      ]
     },
     "execution_count": 26,
     "metadata": {},
     "output_type": "execute_result"
    }
   ],
   "source": [
    "df.describe()"
   ]
  },
  {
   "cell_type": "markdown",
   "metadata": {},
   "source": [
    "<div>\n",
    "\n",
    "\n",
    "\n",
    "\n",
    "\n",
    "\n",
    "\n",
    "\n",
    "\n",
    "\n",
    "\n",
    "</div>"
   ]
  },
  {
   "cell_type": "markdown",
   "metadata": {},
   "source": [
    "&nbsp;<br>\n",
    "&nbsp;<br>\n",
    "&nbsp;<br>\n",
    "&nbsp;<br>\n",
    "&nbsp;<br>\n",
    "&nbsp;<br>\n",
    "&nbsp;<br>\n",
    "&nbsp;<br>\n",
    "&nbsp;<br>\n",
    "&nbsp;<br>\n",
    "&nbsp;<br>"
   ]
  },
  {
   "cell_type": "markdown",
   "metadata": {},
   "source": [
    "# 18. mtplib - 파일 첨부하여 이메일 보내기\n",
    "\n",
    "- smtplib 모듈은 이메일을 송신할때 사용하는 모듈이다.  \n",
    "\n",
    "- 다음과 같은 정보를 기준으로 코드를 작성.\n",
    "```\n",
    "SMTP 메일서버 주소 : \"smtp.gmail.com\" (gmail의 SMTP 서버주소)\n",
    "보내는 메일 계정 : \"ironmanciti@gmail.com\" (본인의 메일계정으로 사용할 것)\n",
    "보내는 메일 계정의 비밀번호 : xxxxxxx (본인의 비밀번호로 사용할 것)\n",
    "받는 사람의 메일 계정 : \"trimurti@naver.com\" (발송한 메일을 확인할 수 있는 메일계정)\n",
    "메일의 제목 : 파일첨부 메일송신 테스트\n",
    "메일의 내용 : 첨부된 파일 2개를 확인해 주세요.\n",
    "보내는 파일 2개의 위치 (jpg, pdf 등)\n",
    "```\n",
    "\n",
    "- email 모듈을 이용하여 발송할 메시지를 작성한다. 메시지는 파일을 첨부해야 하기 때문에 MIMEMultipart 클래스를 사용해야 한다."
   ]
  },
  {
   "cell_type": "code",
   "execution_count": 1,
   "metadata": {},
   "outputs": [],
   "source": [
    "import datetime\n",
    "import re\n",
    "import pandas as pd\n",
    "import smtplib, ssl\n",
    "\n",
    "from email.utils import formatdate\n",
    "from email.mime.multipart import MIMEMultipart\n",
    "from email.header import Header\n",
    "# 메일 제목과 내용을 설정하는 모듈\n",
    "from email.mime.text import MIMEText\n",
    "import os\n",
    "from email.mime.base import MIMEBase\n",
    "from email.encoders import encode_base64"
   ]
  },
  {
   "cell_type": "code",
   "execution_count": 2,
   "metadata": {},
   "outputs": [],
   "source": [
    "msg = MIMEMultipart()"
   ]
  },
  {
   "cell_type": "markdown",
   "metadata": {},
   "source": [
    "생성한 메시지 객체에 보내는 사람과 받는 사람을 설정  \n",
    "\n",
    "만약 수신인이 한 명이 아닌 여러명일 경우 다음과 같이 콤마+스페이스로 구분하여 여러명을 추가.\n",
    "```\n",
    "msg['To'] = 'pahkey@gmail.com, admin@wikidocs.net'\n",
    "```"
   ]
  },
  {
   "cell_type": "code",
   "execution_count": 3,
   "metadata": {},
   "outputs": [
    {
     "data": {
      "text/plain": [
       "'Tue, 10 May 2022 18:01:26 +0900'"
      ]
     },
     "execution_count": 3,
     "metadata": {},
     "output_type": "execute_result"
    }
   ],
   "source": [
    "# 날짜 설정\n",
    "formatdate(localtime=True)"
   ]
  },
  {
   "cell_type": "code",
   "execution_count": 4,
   "metadata": {},
   "outputs": [],
   "source": [
    "port = 465  # For SSL\n",
    "smtp_server = \"smtp.gmail.com\"\n",
    "sender_email = \"ironmanciti@gmail.com\"  # 보내는 사람 주소\n",
    "receiver_email = \"trimurti@naver.com\"  # 받는 사람 주소\n",
    "with open(\"password.txt\", \"r\") as pswd:  # 앱 비밀번호\n",
    "    password = pswd.read()"
   ]
  },
  {
   "cell_type": "markdown",
   "metadata": {},
   "source": [
    "message 구성"
   ]
  },
  {
   "cell_type": "code",
   "execution_count": 5,
   "metadata": {},
   "outputs": [],
   "source": [
    "msg['From'] = sender_email \n",
    "msg['To'] = receiver_email \n",
    "msg['Date'] = formatdate(localtime=True)"
   ]
  },
  {
   "cell_type": "markdown",
   "metadata": {},
   "source": [
    "제목은 같이 Header 클래스를 사용하여 설정한다. Header 클래스를 사용해야 한글이 깨지는 인코딩 문제가 발생하지 않는다. "
   ]
  },
  {
   "cell_type": "code",
   "execution_count": 6,
   "metadata": {},
   "outputs": [],
   "source": [
    "msg['Subject'] = Header(s='파일첨부 메일송신 테스트', charset='utf-8')"
   ]
  },
  {
   "cell_type": "markdown",
   "metadata": {},
   "source": [
    "메시지의 본문 내용은 MIMEText를 사용하여 작성.\n",
    "\n",
    "print 하여 MIMEText가 이메일 규약에 맞는 메시지 본문을 만들었음을 확인"
   ]
  },
  {
   "cell_type": "code",
   "execution_count": 7,
   "metadata": {},
   "outputs": [
    {
     "name": "stdout",
     "output_type": "stream",
     "text": [
      "Content-Type: text/plain; charset=\"utf-8\"\n",
      "MIME-Version: 1.0\n",
      "Content-Transfer-Encoding: base64\n",
      "\n",
      "7LKo67aA65CcIO2MjOydvCAy6rCc66W8IO2ZleyduO2VtCDso7zshLjsmpQu\n",
      "\n"
     ]
    }
   ],
   "source": [
    "body = MIMEText('첨부된 파일 2개를 확인해 주세요.', _charset='utf-8')\n",
    "print(body)"
   ]
  },
  {
   "cell_type": "markdown",
   "metadata": {},
   "source": [
    "만들어진 body를 메시지(MIMEMultipart)에 추가"
   ]
  },
  {
   "cell_type": "code",
   "execution_count": 8,
   "metadata": {},
   "outputs": [],
   "source": [
    "msg.attach(body)"
   ]
  },
  {
   "cell_type": "markdown",
   "metadata": {},
   "source": [
    "메일에 첨부할 파일 리스트를 작성"
   ]
  },
  {
   "cell_type": "code",
   "execution_count": 9,
   "metadata": {},
   "outputs": [],
   "source": [
    "files = list()\n",
    "files.append('winequality-red.csv')\n",
    "files.append('innerJoin.png')"
   ]
  },
  {
   "cell_type": "markdown",
   "metadata": {},
   "source": [
    "MIMEBase 클래스를 이용하여 생성한 파일내용을 메시지에 추가  \n",
    "encode_base64 함수는 추가한 파일을 base64로 인코딩하는 역할을 한다."
   ]
  },
  {
   "cell_type": "code",
   "execution_count": 10,
   "metadata": {},
   "outputs": [],
   "source": [
    "for f in files:\n",
    "    part = MIMEBase('application', \"octet-stream\")\n",
    "    part.set_payload(open(f,\"rb\").read())\n",
    "    encode_base64(part)\n",
    "    part.add_header('Content-Disposition', 'attachment; filename=\"%s\"' % os.path.basename(f))\n",
    "    msg.attach(part)"
   ]
  },
  {
   "cell_type": "markdown",
   "metadata": {},
   "source": [
    "작성한 메시지를 SMTP 서버를 사용하여 발송한다. 다음과 같이 SMTP_SSL 객체를 생성한다."
   ]
  },
  {
   "cell_type": "code",
   "execution_count": 11,
   "metadata": {},
   "outputs": [],
   "source": [
    "context = ssl.create_default_context()\n",
    "\n",
    "with smtplib.SMTP_SSL(smtp_server, port, context=context) as server:\n",
    "    server.login(sender_email, password)\n",
    "    server.sendmail(sender_email, receiver_email, msg.as_string())   \n",
    "    server.quit()"
   ]
  },
  {
   "cell_type": "markdown",
   "metadata": {},
   "source": [
    "## 위에서 작성한 내용을 하나의 함수로 결합"
   ]
  },
  {
   "cell_type": "code",
   "execution_count": 15,
   "metadata": {},
   "outputs": [
    {
     "name": "stdout",
     "output_type": "stream",
     "text": [
      "Overwriting email_sender.py\n"
     ]
    }
   ],
   "source": [
    "%%writefile email_sender.py\n",
    "def send_email(subject, body, files=[]):\n",
    "    import datetime\n",
    "    import re\n",
    "    import pandas as pd\n",
    "    import smtplib, ssl\n",
    "\n",
    "    from email.utils import formatdate\n",
    "    from email.mime.multipart import MIMEMultipart\n",
    "    from email.header import Header\n",
    "    # 메일 제목과 내용을 설정하는 모듈\n",
    "    from email.mime.text import MIMEText\n",
    "    import os\n",
    "    from email.mime.base import MIMEBase\n",
    "    from email.encoders import encode_base64\n",
    "    \n",
    "    msg = MIMEMultipart()\n",
    "\n",
    "    port = 465  # For SSL\n",
    "    smtp_server = \"smtp.gmail.com\"\n",
    "    sender_email = \"ironmanciti@gmail.com\"  # Enter your address\n",
    "    receiver_email = \"trimurti@naver.com\"  # Enter receiver address\n",
    "    with open(\"password.txt\", \"r\") as pswd:\n",
    "        password = pswd.read()\n",
    "\n",
    "    msg['From'] = sender_email \n",
    "    msg['To'] = receiver_email \n",
    "    msg['Date'] = formatdate(localtime=True)\n",
    "\n",
    "    msg['Subject'] = Header(s=subject, charset='utf-8')\n",
    "    body = MIMEText(body, _charset='utf-8')\n",
    "    msg.attach(body)\n",
    "    \n",
    "    for f in files:\n",
    "        part = MIMEBase('application', \"octet-stream\")\n",
    "        part.set_payload(open(f,\"rb\").read())\n",
    "        encode_base64(part)\n",
    "        part.add_header('Content-Disposition', 'attachment; filename=\"%s\"' % os.path.basename(f))\n",
    "        msg.attach(part)\n",
    "        \n",
    "    context = ssl.create_default_context()\n",
    "    with smtplib.SMTP_SSL(smtp_server, port, context=context) as server:\n",
    "        server.login(sender_email, password)\n",
    "        server.sendmail(sender_email, receiver_email, msg.as_string())   \n",
    "        server.quit()\n",
    "        \n",
    "    print(\"성공적으로 메일 발송\")"
   ]
  },
  {
   "cell_type": "code",
   "execution_count": 13,
   "metadata": {},
   "outputs": [
    {
     "name": "stdout",
     "output_type": "stream",
     "text": [
      "성공적으로 메일 발송\n"
     ]
    }
   ],
   "source": [
    "from email_sender import send_email\n",
    "\n",
    "subject = '파일첨부 메일송신 테스트'\n",
    "body = '첨부된 파일 2개를 확인해 주세요.\\n다음 주에 식사 같이 하십시다.'\n",
    "files = list()\n",
    "files.append('winequality-red.csv')\n",
    "files.append('16_index.html')\n",
    "\n",
    "send_email(subject, body, files)"
   ]
  },
  {
   "cell_type": "markdown",
   "metadata": {},
   "source": [
    "<div>\n",
    "\n",
    "\n",
    "\n",
    "\n",
    "\n",
    "\n",
    "\n",
    "\n",
    "\n",
    "\n",
    "\n",
    "</div>"
   ]
  },
  {
   "cell_type": "markdown",
   "metadata": {},
   "source": [
    "&nbsp;<br>\n",
    "&nbsp;<br>\n",
    "&nbsp;<br>\n",
    "&nbsp;<br>\n",
    "&nbsp;<br>\n",
    "&nbsp;<br>\n",
    "&nbsp;<br>\n",
    "&nbsp;<br>\n",
    "&nbsp;<br>\n",
    "&nbsp;<br>\n",
    "&nbsp;<br>"
   ]
  },
  {
   "cell_type": "markdown",
   "metadata": {
    "colab_type": "text",
    "id": "5WNm0Jm7Sg_B"
   },
   "source": [
    "# Capstone Project 1 - pandas를 활용한 Data Web Scraping\n",
    "\n",
    "- pandas read_html() 함수를 사용하여 데이터를 쉽게 웹 스크래핑  \n",
    "\n",
    "- html에 있는 table속성에 해당하는 값을 가져올 수 있다. 이는 웹페이지에 있는 표를 불러오겠다는 의미이다."
   ]
  },
  {
   "cell_type": "code",
   "execution_count": 1,
   "metadata": {},
   "outputs": [],
   "source": [
    "import pandas as pd\n",
    "import urllib.request as req\n",
    "from IPython.display import display_html\n",
    "\n",
    "import numpy as np\n",
    "from matplotlib import pyplot as plt\n",
    "\n",
    "from matplotlib.backends.backend_pdf import PdfPages\n",
    "\n",
    "#한글 폰트 사용\n",
    "import platform\n",
    "from matplotlib import font_manager\n",
    " \n",
    "if platform.system() == \"Darwin\":  #Mac\n",
    "    plt.rc('font', family='AppleGothic')\n",
    "else:\n",
    "    font_path = 'C:/Windows/Fonts/malgun.ttf' # For Windows \n",
    "    font_name = font_manager.FontProperties(fname=font_path).get_name()  \n",
    "    plt.rc('font', family=font_name)                           \n",
    "\n",
    "plt.rcParams['axes.unicode_minus'] = False  #한글사용시 마이너스 사인 깨짐 방지"
   ]
  },
  {
   "cell_type": "markdown",
   "metadata": {},
   "source": [
    "## 1. string 으로부터 HTML table 읽어 들이기\n",
    "\n",
    "<img src=\"https://miro.medium.com/max/875/1*NtL7NT395fXaCfq8_lNhjg.png\" width=600/>"
   ]
  },
  {
   "cell_type": "code",
   "execution_count": 2,
   "metadata": {},
   "outputs": [
    {
     "data": {
      "text/html": [
       "\n",
       "<table>\n",
       "  <thead>\n",
       "    <tr>\n",
       "      <th>date</th>\n",
       "      <th>name</th>\n",
       "      <th>year</th>\n",
       "      <th>cost</th>\n",
       "      <th>region</th>\n",
       "    </tr>\n",
       "  </thead>\n",
       "  <tbody>\n",
       "    <tr>\n",
       "      <td>2020-01-01</td>\n",
       "      <td>Jenny</td>\n",
       "      <td>1998</td>\n",
       "      <td>0.2</td>\n",
       "      <td>South</td>\n",
       "    </tr>\n",
       "    <tr>\n",
       "      <td>2020-01-02</td>\n",
       "      <td>Alice</td>\n",
       "      <td>1992</td>\n",
       "      <td>-1.34</td>\n",
       "      <td>East</td>\n",
       "    </tr>\n",
       "    <tr>\n",
       "      <td>2020-01-03</td>\n",
       "      <td>Tomas</td>\n",
       "      <td>1982</td>\n",
       "      <td>1.00023</td>\n",
       "      <td>South</td>\n",
       "    </tr>\n",
       "  </tbody>\n",
       "</table>\n"
      ]
     },
     "metadata": {},
     "output_type": "display_data"
    }
   ],
   "source": [
    "html_string = \"\"\"\n",
    "<table>\n",
    "  <thead>\n",
    "    <tr>\n",
    "      <th>date</th>\n",
    "      <th>name</th>\n",
    "      <th>year</th>\n",
    "      <th>cost</th>\n",
    "      <th>region</th>\n",
    "    </tr>\n",
    "  </thead>\n",
    "  <tbody>\n",
    "    <tr>\n",
    "      <td>2020-01-01</td>\n",
    "      <td>Jenny</td>\n",
    "      <td>1998</td>\n",
    "      <td>0.2</td>\n",
    "      <td>South</td>\n",
    "    </tr>\n",
    "    <tr>\n",
    "      <td>2020-01-02</td>\n",
    "      <td>Alice</td>\n",
    "      <td>1992</td>\n",
    "      <td>-1.34</td>\n",
    "      <td>East</td>\n",
    "    </tr>\n",
    "    <tr>\n",
    "      <td>2020-01-03</td>\n",
    "      <td>Tomas</td>\n",
    "      <td>1982</td>\n",
    "      <td>1.00023</td>\n",
    "      <td>South</td>\n",
    "    </tr>\n",
    "  </tbody>\n",
    "</table>\n",
    "\"\"\"\n",
    "\n",
    "# Display the HTML representation\n",
    "display_html(html_string, raw=True)"
   ]
  },
  {
   "cell_type": "markdown",
   "metadata": {},
   "source": [
    "string으로부터 table 정보 읽기"
   ]
  },
  {
   "cell_type": "code",
   "execution_count": 3,
   "metadata": {},
   "outputs": [
    {
     "data": {
      "text/plain": [
       "[         date   name  year     cost region\n",
       " 0  2020-01-01  Jenny  1998  0.20000  South\n",
       " 1  2020-01-02  Alice  1992 -1.34000   East\n",
       " 2  2020-01-03  Tomas  1982  1.00023  South]"
      ]
     },
     "execution_count": 3,
     "metadata": {},
     "output_type": "execute_result"
    }
   ],
   "source": [
    "dfs = pd.read_html(html_string)\n",
    "dfs"
   ]
  },
  {
   "cell_type": "code",
   "execution_count": 4,
   "metadata": {},
   "outputs": [
    {
     "data": {
      "text/plain": [
       "(list, 1)"
      ]
     },
     "execution_count": 4,
     "metadata": {},
     "output_type": "execute_result"
    }
   ],
   "source": [
    "type(dfs), len(dfs)"
   ]
  },
  {
   "cell_type": "code",
   "execution_count": 5,
   "metadata": {},
   "outputs": [
    {
     "data": {
      "text/html": [
       "<div>\n",
       "<style scoped>\n",
       "    .dataframe tbody tr th:only-of-type {\n",
       "        vertical-align: middle;\n",
       "    }\n",
       "\n",
       "    .dataframe tbody tr th {\n",
       "        vertical-align: top;\n",
       "    }\n",
       "\n",
       "    .dataframe thead th {\n",
       "        text-align: right;\n",
       "    }\n",
       "</style>\n",
       "<table border=\"1\" class=\"dataframe\">\n",
       "  <thead>\n",
       "    <tr style=\"text-align: right;\">\n",
       "      <th></th>\n",
       "      <th>date</th>\n",
       "      <th>name</th>\n",
       "      <th>year</th>\n",
       "      <th>cost</th>\n",
       "      <th>region</th>\n",
       "    </tr>\n",
       "  </thead>\n",
       "  <tbody>\n",
       "    <tr>\n",
       "      <th>0</th>\n",
       "      <td>2020-01-01</td>\n",
       "      <td>Jenny</td>\n",
       "      <td>1998</td>\n",
       "      <td>0.20000</td>\n",
       "      <td>South</td>\n",
       "    </tr>\n",
       "    <tr>\n",
       "      <th>1</th>\n",
       "      <td>2020-01-02</td>\n",
       "      <td>Alice</td>\n",
       "      <td>1992</td>\n",
       "      <td>-1.34000</td>\n",
       "      <td>East</td>\n",
       "    </tr>\n",
       "    <tr>\n",
       "      <th>2</th>\n",
       "      <td>2020-01-03</td>\n",
       "      <td>Tomas</td>\n",
       "      <td>1982</td>\n",
       "      <td>1.00023</td>\n",
       "      <td>South</td>\n",
       "    </tr>\n",
       "  </tbody>\n",
       "</table>\n",
       "</div>"
      ],
      "text/plain": [
       "         date   name  year     cost region\n",
       "0  2020-01-01  Jenny  1998  0.20000  South\n",
       "1  2020-01-02  Alice  1992 -1.34000   East\n",
       "2  2020-01-03  Tomas  1982  1.00023  South"
      ]
     },
     "execution_count": 5,
     "metadata": {},
     "output_type": "execute_result"
    }
   ],
   "source": [
    "dfs[0]"
   ]
  },
  {
   "cell_type": "code",
   "execution_count": 6,
   "metadata": {},
   "outputs": [
    {
     "data": {
      "text/plain": [
       "pandas.core.frame.DataFrame"
      ]
     },
     "execution_count": 6,
     "metadata": {},
     "output_type": "execute_result"
    }
   ],
   "source": [
    "type(dfs[0])"
   ]
  },
  {
   "cell_type": "code",
   "execution_count": 7,
   "metadata": {},
   "outputs": [
    {
     "name": "stdout",
     "output_type": "stream",
     "text": [
      "<class 'pandas.core.frame.DataFrame'>\n",
      "RangeIndex: 3 entries, 0 to 2\n",
      "Data columns (total 5 columns):\n",
      " #   Column  Non-Null Count  Dtype  \n",
      "---  ------  --------------  -----  \n",
      " 0   date    3 non-null      object \n",
      " 1   name    3 non-null      object \n",
      " 2   year    3 non-null      int64  \n",
      " 3   cost    3 non-null      float64\n",
      " 4   region  3 non-null      object \n",
      "dtypes: float64(1), int64(1), object(3)\n",
      "memory usage: 248.0+ bytes\n"
     ]
    }
   ],
   "source": [
    "dfs[0].info()"
   ]
  },
  {
   "cell_type": "markdown",
   "metadata": {},
   "source": [
    "## 2. URL로 부터 table 읽어들이기"
   ]
  },
  {
   "cell_type": "code",
   "execution_count": 8,
   "metadata": {},
   "outputs": [],
   "source": [
    "url = \"http://127.0.0.1:8887/babynames/baby1990.html\"\n",
    "res = req.urlopen(url)\n",
    "\n",
    "dfs = pd.read_html(res.read().decode('utf-8'))"
   ]
  },
  {
   "cell_type": "code",
   "execution_count": 9,
   "metadata": {},
   "outputs": [
    {
     "name": "stdout",
     "output_type": "stream",
     "text": [
      "읽어들인 총 tables: 4\n"
     ]
    }
   ],
   "source": [
    "print(f'읽어들인 총 tables: {len(dfs)}')"
   ]
  },
  {
   "cell_type": "code",
   "execution_count": 10,
   "metadata": {},
   "outputs": [
    {
     "data": {
      "text/html": [
       "<div>\n",
       "<style scoped>\n",
       "    .dataframe tbody tr th:only-of-type {\n",
       "        vertical-align: middle;\n",
       "    }\n",
       "\n",
       "    .dataframe tbody tr th {\n",
       "        vertical-align: top;\n",
       "    }\n",
       "\n",
       "    .dataframe thead th {\n",
       "        text-align: right;\n",
       "    }\n",
       "</style>\n",
       "<table border=\"1\" class=\"dataframe\">\n",
       "  <thead>\n",
       "    <tr style=\"text-align: right;\">\n",
       "      <th></th>\n",
       "      <th>Rank</th>\n",
       "      <th>Male name</th>\n",
       "      <th>Female name</th>\n",
       "    </tr>\n",
       "  </thead>\n",
       "  <tbody>\n",
       "    <tr>\n",
       "      <th>0</th>\n",
       "      <td>1</td>\n",
       "      <td>Michael</td>\n",
       "      <td>Jessica</td>\n",
       "    </tr>\n",
       "    <tr>\n",
       "      <th>1</th>\n",
       "      <td>2</td>\n",
       "      <td>Christopher</td>\n",
       "      <td>Ashley</td>\n",
       "    </tr>\n",
       "    <tr>\n",
       "      <th>2</th>\n",
       "      <td>3</td>\n",
       "      <td>Matthew</td>\n",
       "      <td>Brittany</td>\n",
       "    </tr>\n",
       "    <tr>\n",
       "      <th>3</th>\n",
       "      <td>4</td>\n",
       "      <td>Joshua</td>\n",
       "      <td>Amanda</td>\n",
       "    </tr>\n",
       "    <tr>\n",
       "      <th>4</th>\n",
       "      <td>5</td>\n",
       "      <td>Daniel</td>\n",
       "      <td>Samantha</td>\n",
       "    </tr>\n",
       "    <tr>\n",
       "      <th>...</th>\n",
       "      <td>...</td>\n",
       "      <td>...</td>\n",
       "      <td>...</td>\n",
       "    </tr>\n",
       "    <tr>\n",
       "      <th>996</th>\n",
       "      <td>997</td>\n",
       "      <td>Eliezer</td>\n",
       "      <td>Asha</td>\n",
       "    </tr>\n",
       "    <tr>\n",
       "      <th>997</th>\n",
       "      <td>998</td>\n",
       "      <td>Jory</td>\n",
       "      <td>Jada</td>\n",
       "    </tr>\n",
       "    <tr>\n",
       "      <th>998</th>\n",
       "      <td>999</td>\n",
       "      <td>Misael</td>\n",
       "      <td>Leila</td>\n",
       "    </tr>\n",
       "    <tr>\n",
       "      <th>999</th>\n",
       "      <td>1000</td>\n",
       "      <td>Tate</td>\n",
       "      <td>Peggy</td>\n",
       "    </tr>\n",
       "    <tr>\n",
       "      <th>1000</th>\n",
       "      <td>Note: Rank 1 is the most popular, rank 2 is th...</td>\n",
       "      <td>Note: Rank 1 is the most popular, rank 2 is th...</td>\n",
       "      <td>Note: Rank 1 is the most popular, rank 2 is th...</td>\n",
       "    </tr>\n",
       "  </tbody>\n",
       "</table>\n",
       "<p>1001 rows × 3 columns</p>\n",
       "</div>"
      ],
      "text/plain": [
       "                                                   Rank  \\\n",
       "0                                                     1   \n",
       "1                                                     2   \n",
       "2                                                     3   \n",
       "3                                                     4   \n",
       "4                                                     5   \n",
       "...                                                 ...   \n",
       "996                                                 997   \n",
       "997                                                 998   \n",
       "998                                                 999   \n",
       "999                                                1000   \n",
       "1000  Note: Rank 1 is the most popular, rank 2 is th...   \n",
       "\n",
       "                                              Male name  \\\n",
       "0                                               Michael   \n",
       "1                                           Christopher   \n",
       "2                                               Matthew   \n",
       "3                                                Joshua   \n",
       "4                                                Daniel   \n",
       "...                                                 ...   \n",
       "996                                             Eliezer   \n",
       "997                                                Jory   \n",
       "998                                              Misael   \n",
       "999                                                Tate   \n",
       "1000  Note: Rank 1 is the most popular, rank 2 is th...   \n",
       "\n",
       "                                            Female name  \n",
       "0                                               Jessica  \n",
       "1                                                Ashley  \n",
       "2                                              Brittany  \n",
       "3                                                Amanda  \n",
       "4                                              Samantha  \n",
       "...                                                 ...  \n",
       "996                                                Asha  \n",
       "997                                                Jada  \n",
       "998                                               Leila  \n",
       "999                                               Peggy  \n",
       "1000  Note: Rank 1 is the most popular, rank 2 is th...  \n",
       "\n",
       "[1001 rows x 3 columns]"
      ]
     },
     "execution_count": 10,
     "metadata": {},
     "output_type": "execute_result"
    }
   ],
   "source": [
    "dfs[2]"
   ]
  },
  {
   "cell_type": "markdown",
   "metadata": {},
   "source": [
    "## 3. file 로부터 table 읽기"
   ]
  },
  {
   "cell_type": "code",
   "execution_count": 11,
   "metadata": {},
   "outputs": [],
   "source": [
    "file_path = '../babynames/baby1990.html'\n",
    "with open(file_path, 'r') as f:\n",
    "    dfs = pd.read_html(f.read())"
   ]
  },
  {
   "cell_type": "code",
   "execution_count": 12,
   "metadata": {},
   "outputs": [
    {
     "data": {
      "text/html": [
       "<div>\n",
       "<style scoped>\n",
       "    .dataframe tbody tr th:only-of-type {\n",
       "        vertical-align: middle;\n",
       "    }\n",
       "\n",
       "    .dataframe tbody tr th {\n",
       "        vertical-align: top;\n",
       "    }\n",
       "\n",
       "    .dataframe thead th {\n",
       "        text-align: right;\n",
       "    }\n",
       "</style>\n",
       "<table border=\"1\" class=\"dataframe\">\n",
       "  <thead>\n",
       "    <tr style=\"text-align: right;\">\n",
       "      <th></th>\n",
       "      <th>Rank</th>\n",
       "      <th>Male name</th>\n",
       "      <th>Female name</th>\n",
       "    </tr>\n",
       "  </thead>\n",
       "  <tbody>\n",
       "    <tr>\n",
       "      <th>0</th>\n",
       "      <td>1</td>\n",
       "      <td>Michael</td>\n",
       "      <td>Jessica</td>\n",
       "    </tr>\n",
       "    <tr>\n",
       "      <th>1</th>\n",
       "      <td>2</td>\n",
       "      <td>Christopher</td>\n",
       "      <td>Ashley</td>\n",
       "    </tr>\n",
       "    <tr>\n",
       "      <th>2</th>\n",
       "      <td>3</td>\n",
       "      <td>Matthew</td>\n",
       "      <td>Brittany</td>\n",
       "    </tr>\n",
       "    <tr>\n",
       "      <th>3</th>\n",
       "      <td>4</td>\n",
       "      <td>Joshua</td>\n",
       "      <td>Amanda</td>\n",
       "    </tr>\n",
       "    <tr>\n",
       "      <th>4</th>\n",
       "      <td>5</td>\n",
       "      <td>Daniel</td>\n",
       "      <td>Samantha</td>\n",
       "    </tr>\n",
       "    <tr>\n",
       "      <th>...</th>\n",
       "      <td>...</td>\n",
       "      <td>...</td>\n",
       "      <td>...</td>\n",
       "    </tr>\n",
       "    <tr>\n",
       "      <th>996</th>\n",
       "      <td>997</td>\n",
       "      <td>Eliezer</td>\n",
       "      <td>Asha</td>\n",
       "    </tr>\n",
       "    <tr>\n",
       "      <th>997</th>\n",
       "      <td>998</td>\n",
       "      <td>Jory</td>\n",
       "      <td>Jada</td>\n",
       "    </tr>\n",
       "    <tr>\n",
       "      <th>998</th>\n",
       "      <td>999</td>\n",
       "      <td>Misael</td>\n",
       "      <td>Leila</td>\n",
       "    </tr>\n",
       "    <tr>\n",
       "      <th>999</th>\n",
       "      <td>1000</td>\n",
       "      <td>Tate</td>\n",
       "      <td>Peggy</td>\n",
       "    </tr>\n",
       "    <tr>\n",
       "      <th>1000</th>\n",
       "      <td>Note: Rank 1 is the most popular, rank 2 is th...</td>\n",
       "      <td>Note: Rank 1 is the most popular, rank 2 is th...</td>\n",
       "      <td>Note: Rank 1 is the most popular, rank 2 is th...</td>\n",
       "    </tr>\n",
       "  </tbody>\n",
       "</table>\n",
       "<p>1001 rows × 3 columns</p>\n",
       "</div>"
      ],
      "text/plain": [
       "                                                   Rank  \\\n",
       "0                                                     1   \n",
       "1                                                     2   \n",
       "2                                                     3   \n",
       "3                                                     4   \n",
       "4                                                     5   \n",
       "...                                                 ...   \n",
       "996                                                 997   \n",
       "997                                                 998   \n",
       "998                                                 999   \n",
       "999                                                1000   \n",
       "1000  Note: Rank 1 is the most popular, rank 2 is th...   \n",
       "\n",
       "                                              Male name  \\\n",
       "0                                               Michael   \n",
       "1                                           Christopher   \n",
       "2                                               Matthew   \n",
       "3                                                Joshua   \n",
       "4                                                Daniel   \n",
       "...                                                 ...   \n",
       "996                                             Eliezer   \n",
       "997                                                Jory   \n",
       "998                                              Misael   \n",
       "999                                                Tate   \n",
       "1000  Note: Rank 1 is the most popular, rank 2 is th...   \n",
       "\n",
       "                                            Female name  \n",
       "0                                               Jessica  \n",
       "1                                                Ashley  \n",
       "2                                              Brittany  \n",
       "3                                                Amanda  \n",
       "4                                              Samantha  \n",
       "...                                                 ...  \n",
       "996                                                Asha  \n",
       "997                                                Jada  \n",
       "998                                               Leila  \n",
       "999                                               Peggy  \n",
       "1000  Note: Rank 1 is the most popular, rank 2 is th...  \n",
       "\n",
       "[1001 rows x 3 columns]"
      ]
     },
     "execution_count": 12,
     "metadata": {},
     "output_type": "execute_result"
    }
   ],
   "source": [
    "dfs[2]"
   ]
  },
  {
   "cell_type": "code",
   "execution_count": 13,
   "metadata": {},
   "outputs": [],
   "source": [
    "dfs[2] = dfs[2].iloc[:-1, :]"
   ]
  },
  {
   "cell_type": "code",
   "execution_count": 14,
   "metadata": {},
   "outputs": [
    {
     "data": {
      "text/html": [
       "<div>\n",
       "<style scoped>\n",
       "    .dataframe tbody tr th:only-of-type {\n",
       "        vertical-align: middle;\n",
       "    }\n",
       "\n",
       "    .dataframe tbody tr th {\n",
       "        vertical-align: top;\n",
       "    }\n",
       "\n",
       "    .dataframe thead th {\n",
       "        text-align: right;\n",
       "    }\n",
       "</style>\n",
       "<table border=\"1\" class=\"dataframe\">\n",
       "  <thead>\n",
       "    <tr style=\"text-align: right;\">\n",
       "      <th></th>\n",
       "      <th>Rank</th>\n",
       "      <th>Male name</th>\n",
       "      <th>Female name</th>\n",
       "    </tr>\n",
       "  </thead>\n",
       "  <tbody>\n",
       "    <tr>\n",
       "      <th>0</th>\n",
       "      <td>1</td>\n",
       "      <td>Michael</td>\n",
       "      <td>Jessica</td>\n",
       "    </tr>\n",
       "    <tr>\n",
       "      <th>1</th>\n",
       "      <td>2</td>\n",
       "      <td>Christopher</td>\n",
       "      <td>Ashley</td>\n",
       "    </tr>\n",
       "    <tr>\n",
       "      <th>2</th>\n",
       "      <td>3</td>\n",
       "      <td>Matthew</td>\n",
       "      <td>Brittany</td>\n",
       "    </tr>\n",
       "    <tr>\n",
       "      <th>3</th>\n",
       "      <td>4</td>\n",
       "      <td>Joshua</td>\n",
       "      <td>Amanda</td>\n",
       "    </tr>\n",
       "    <tr>\n",
       "      <th>4</th>\n",
       "      <td>5</td>\n",
       "      <td>Daniel</td>\n",
       "      <td>Samantha</td>\n",
       "    </tr>\n",
       "    <tr>\n",
       "      <th>...</th>\n",
       "      <td>...</td>\n",
       "      <td>...</td>\n",
       "      <td>...</td>\n",
       "    </tr>\n",
       "    <tr>\n",
       "      <th>995</th>\n",
       "      <td>996</td>\n",
       "      <td>Brittany</td>\n",
       "      <td>Annemarie</td>\n",
       "    </tr>\n",
       "    <tr>\n",
       "      <th>996</th>\n",
       "      <td>997</td>\n",
       "      <td>Eliezer</td>\n",
       "      <td>Asha</td>\n",
       "    </tr>\n",
       "    <tr>\n",
       "      <th>997</th>\n",
       "      <td>998</td>\n",
       "      <td>Jory</td>\n",
       "      <td>Jada</td>\n",
       "    </tr>\n",
       "    <tr>\n",
       "      <th>998</th>\n",
       "      <td>999</td>\n",
       "      <td>Misael</td>\n",
       "      <td>Leila</td>\n",
       "    </tr>\n",
       "    <tr>\n",
       "      <th>999</th>\n",
       "      <td>1000</td>\n",
       "      <td>Tate</td>\n",
       "      <td>Peggy</td>\n",
       "    </tr>\n",
       "  </tbody>\n",
       "</table>\n",
       "<p>1000 rows × 3 columns</p>\n",
       "</div>"
      ],
      "text/plain": [
       "     Rank    Male name Female name\n",
       "0       1      Michael     Jessica\n",
       "1       2  Christopher      Ashley\n",
       "2       3      Matthew    Brittany\n",
       "3       4       Joshua      Amanda\n",
       "4       5       Daniel    Samantha\n",
       "..    ...          ...         ...\n",
       "995   996     Brittany   Annemarie\n",
       "996   997      Eliezer        Asha\n",
       "997   998         Jory        Jada\n",
       "998   999       Misael       Leila\n",
       "999  1000         Tate       Peggy\n",
       "\n",
       "[1000 rows x 3 columns]"
      ]
     },
     "execution_count": 14,
     "metadata": {},
     "output_type": "execute_result"
    }
   ],
   "source": [
    "dfs[2]"
   ]
  },
  {
   "cell_type": "markdown",
   "metadata": {},
   "source": [
    "## Naver 재무 자료 불러오기 \n",
    "\n",
    "- csv file 저장"
   ]
  },
  {
   "cell_type": "code",
   "execution_count": 15,
   "metadata": {},
   "outputs": [
    {
     "data": {
      "text/plain": [
       "13"
      ]
     },
     "execution_count": 15,
     "metadata": {},
     "output_type": "execute_result"
    }
   ],
   "source": [
    "url = 'https://finance.naver.com/item/main.nhn?code=035720'\n",
    "\n",
    "dfs = pd.read_html(url, encoding='euc-kr')  \n",
    "len(dfs)"
   ]
  },
  {
   "cell_type": "code",
   "execution_count": 16,
   "metadata": {},
   "outputs": [
    {
     "data": {
      "text/html": [
       "<div>\n",
       "<style scoped>\n",
       "    .dataframe tbody tr th:only-of-type {\n",
       "        vertical-align: middle;\n",
       "    }\n",
       "\n",
       "    .dataframe tbody tr th {\n",
       "        vertical-align: top;\n",
       "    }\n",
       "\n",
       "    .dataframe thead tr th {\n",
       "        text-align: left;\n",
       "    }\n",
       "</style>\n",
       "<table border=\"1\" class=\"dataframe\">\n",
       "  <thead>\n",
       "    <tr>\n",
       "      <th></th>\n",
       "      <th>주요재무정보</th>\n",
       "      <th colspan=\"4\" halign=\"left\">최근 연간 실적</th>\n",
       "      <th colspan=\"6\" halign=\"left\">최근 분기 실적</th>\n",
       "    </tr>\n",
       "    <tr>\n",
       "      <th></th>\n",
       "      <th>주요재무정보</th>\n",
       "      <th>2019.12</th>\n",
       "      <th>2020.12</th>\n",
       "      <th>2021.12</th>\n",
       "      <th>2022.12(E)</th>\n",
       "      <th>2020.12</th>\n",
       "      <th>2021.03</th>\n",
       "      <th>2021.06</th>\n",
       "      <th>2021.09</th>\n",
       "      <th>2021.12</th>\n",
       "      <th>2022.03(E)</th>\n",
       "    </tr>\n",
       "    <tr>\n",
       "      <th></th>\n",
       "      <th>주요재무정보</th>\n",
       "      <th>IFRS연결</th>\n",
       "      <th>IFRS연결</th>\n",
       "      <th>IFRS연결</th>\n",
       "      <th>IFRS연결</th>\n",
       "      <th>IFRS연결</th>\n",
       "      <th>IFRS연결</th>\n",
       "      <th>IFRS연결</th>\n",
       "      <th>IFRS연결</th>\n",
       "      <th>IFRS연결</th>\n",
       "      <th>IFRS연결</th>\n",
       "    </tr>\n",
       "  </thead>\n",
       "  <tbody>\n",
       "    <tr>\n",
       "      <th>0</th>\n",
       "      <td>매출액</td>\n",
       "      <td>30701.00</td>\n",
       "      <td>41568.00</td>\n",
       "      <td>61367.00</td>\n",
       "      <td>78330.00</td>\n",
       "      <td>12351.00</td>\n",
       "      <td>12580.00</td>\n",
       "      <td>13522.00</td>\n",
       "      <td>17408.00</td>\n",
       "      <td>17857.00</td>\n",
       "      <td>17403.00</td>\n",
       "    </tr>\n",
       "    <tr>\n",
       "      <th>1</th>\n",
       "      <td>영업이익</td>\n",
       "      <td>2068.00</td>\n",
       "      <td>4559.00</td>\n",
       "      <td>5949.00</td>\n",
       "      <td>8457.00</td>\n",
       "      <td>1497.00</td>\n",
       "      <td>1575.00</td>\n",
       "      <td>1626.00</td>\n",
       "      <td>1682.00</td>\n",
       "      <td>1066.00</td>\n",
       "      <td>1616.00</td>\n",
       "    </tr>\n",
       "    <tr>\n",
       "      <th>2</th>\n",
       "      <td>당기순이익</td>\n",
       "      <td>-3419.00</td>\n",
       "      <td>1734.00</td>\n",
       "      <td>16462.00</td>\n",
       "      <td>17285.00</td>\n",
       "      <td>-1955.00</td>\n",
       "      <td>2399.00</td>\n",
       "      <td>3159.00</td>\n",
       "      <td>8663.00</td>\n",
       "      <td>2241.00</td>\n",
       "      <td>1925.00</td>\n",
       "    </tr>\n",
       "    <tr>\n",
       "      <th>3</th>\n",
       "      <td>영업이익률</td>\n",
       "      <td>6.73</td>\n",
       "      <td>10.97</td>\n",
       "      <td>9.69</td>\n",
       "      <td>10.80</td>\n",
       "      <td>12.12</td>\n",
       "      <td>12.52</td>\n",
       "      <td>12.03</td>\n",
       "      <td>9.66</td>\n",
       "      <td>5.97</td>\n",
       "      <td>9.29</td>\n",
       "    </tr>\n",
       "    <tr>\n",
       "      <th>4</th>\n",
       "      <td>순이익률</td>\n",
       "      <td>-11.14</td>\n",
       "      <td>4.17</td>\n",
       "      <td>26.82</td>\n",
       "      <td>22.07</td>\n",
       "      <td>-15.83</td>\n",
       "      <td>19.07</td>\n",
       "      <td>23.36</td>\n",
       "      <td>49.76</td>\n",
       "      <td>12.55</td>\n",
       "      <td>11.06</td>\n",
       "    </tr>\n",
       "    <tr>\n",
       "      <th>5</th>\n",
       "      <td>ROE(지배주주)</td>\n",
       "      <td>-5.81</td>\n",
       "      <td>2.70</td>\n",
       "      <td>17.10</td>\n",
       "      <td>15.05</td>\n",
       "      <td>2.70</td>\n",
       "      <td>5.00</td>\n",
       "      <td>6.90</td>\n",
       "      <td>14.84</td>\n",
       "      <td>17.10</td>\n",
       "      <td>NaN</td>\n",
       "    </tr>\n",
       "    <tr>\n",
       "      <th>6</th>\n",
       "      <td>부채비율</td>\n",
       "      <td>52.21</td>\n",
       "      <td>60.94</td>\n",
       "      <td>67.62</td>\n",
       "      <td>NaN</td>\n",
       "      <td>60.94</td>\n",
       "      <td>71.56</td>\n",
       "      <td>61.86</td>\n",
       "      <td>67.18</td>\n",
       "      <td>67.62</td>\n",
       "      <td>NaN</td>\n",
       "    </tr>\n",
       "    <tr>\n",
       "      <th>7</th>\n",
       "      <td>당좌비율</td>\n",
       "      <td>127.98</td>\n",
       "      <td>162.77</td>\n",
       "      <td>146.88</td>\n",
       "      <td>NaN</td>\n",
       "      <td>162.77</td>\n",
       "      <td>163.55</td>\n",
       "      <td>180.06</td>\n",
       "      <td>136.30</td>\n",
       "      <td>146.88</td>\n",
       "      <td>NaN</td>\n",
       "    </tr>\n",
       "    <tr>\n",
       "      <th>8</th>\n",
       "      <td>유보율</td>\n",
       "      <td>12027.79</td>\n",
       "      <td>13881.01</td>\n",
       "      <td>21260.57</td>\n",
       "      <td>NaN</td>\n",
       "      <td>13881.01</td>\n",
       "      <td>14508.10</td>\n",
       "      <td>16585.55</td>\n",
       "      <td>18562.21</td>\n",
       "      <td>21260.57</td>\n",
       "      <td>NaN</td>\n",
       "    </tr>\n",
       "    <tr>\n",
       "      <th>9</th>\n",
       "      <td>EPS(원)</td>\n",
       "      <td>-717.00</td>\n",
       "      <td>355.00</td>\n",
       "      <td>3132.00</td>\n",
       "      <td>3563.00</td>\n",
       "      <td>-428.00</td>\n",
       "      <td>506.00</td>\n",
       "      <td>702.00</td>\n",
       "      <td>1752.00</td>\n",
       "      <td>172.00</td>\n",
       "      <td>408.00</td>\n",
       "    </tr>\n",
       "    <tr>\n",
       "      <th>10</th>\n",
       "      <td>PER(배)</td>\n",
       "      <td>-42.82</td>\n",
       "      <td>219.25</td>\n",
       "      <td>35.92</td>\n",
       "      <td>23.60</td>\n",
       "      <td>219.25</td>\n",
       "      <td>144.96</td>\n",
       "      <td>151.91</td>\n",
       "      <td>46.46</td>\n",
       "      <td>35.92</td>\n",
       "      <td>220.17</td>\n",
       "    </tr>\n",
       "    <tr>\n",
       "      <th>11</th>\n",
       "      <td>BPS(원)</td>\n",
       "      <td>12746.00</td>\n",
       "      <td>14647.00</td>\n",
       "      <td>23018.00</td>\n",
       "      <td>25668.00</td>\n",
       "      <td>14647.00</td>\n",
       "      <td>15428.00</td>\n",
       "      <td>17937.00</td>\n",
       "      <td>20271.00</td>\n",
       "      <td>23018.00</td>\n",
       "      <td>NaN</td>\n",
       "    </tr>\n",
       "    <tr>\n",
       "      <th>12</th>\n",
       "      <td>PBR(배)</td>\n",
       "      <td>2.41</td>\n",
       "      <td>5.32</td>\n",
       "      <td>4.89</td>\n",
       "      <td>3.28</td>\n",
       "      <td>5.32</td>\n",
       "      <td>6.46</td>\n",
       "      <td>9.09</td>\n",
       "      <td>5.82</td>\n",
       "      <td>4.89</td>\n",
       "      <td>NaN</td>\n",
       "    </tr>\n",
       "    <tr>\n",
       "      <th>13</th>\n",
       "      <td>주당배당금(원)</td>\n",
       "      <td>25.00</td>\n",
       "      <td>30.00</td>\n",
       "      <td>53.00</td>\n",
       "      <td>62.00</td>\n",
       "      <td>NaN</td>\n",
       "      <td>NaN</td>\n",
       "      <td>NaN</td>\n",
       "      <td>NaN</td>\n",
       "      <td>NaN</td>\n",
       "      <td>NaN</td>\n",
       "    </tr>\n",
       "    <tr>\n",
       "      <th>14</th>\n",
       "      <td>시가배당률(%)</td>\n",
       "      <td>0.08</td>\n",
       "      <td>0.04</td>\n",
       "      <td>0.05</td>\n",
       "      <td>NaN</td>\n",
       "      <td>NaN</td>\n",
       "      <td>NaN</td>\n",
       "      <td>NaN</td>\n",
       "      <td>NaN</td>\n",
       "      <td>NaN</td>\n",
       "      <td>NaN</td>\n",
       "    </tr>\n",
       "    <tr>\n",
       "      <th>15</th>\n",
       "      <td>배당성향(%)</td>\n",
       "      <td>-3.46</td>\n",
       "      <td>8.29</td>\n",
       "      <td>1.65</td>\n",
       "      <td>NaN</td>\n",
       "      <td>NaN</td>\n",
       "      <td>NaN</td>\n",
       "      <td>NaN</td>\n",
       "      <td>NaN</td>\n",
       "      <td>NaN</td>\n",
       "      <td>NaN</td>\n",
       "    </tr>\n",
       "  </tbody>\n",
       "</table>\n",
       "</div>"
      ],
      "text/plain": [
       "       주요재무정보  최근 연간 실적                                 최근 분기 실적            \\\n",
       "       주요재무정보   2019.12   2020.12   2021.12 2022.12(E)   2020.12   2021.03   \n",
       "       주요재무정보    IFRS연결    IFRS연결    IFRS연결     IFRS연결    IFRS연결    IFRS연결   \n",
       "0         매출액  30701.00  41568.00  61367.00   78330.00  12351.00  12580.00   \n",
       "1        영업이익   2068.00   4559.00   5949.00    8457.00   1497.00   1575.00   \n",
       "2       당기순이익  -3419.00   1734.00  16462.00   17285.00  -1955.00   2399.00   \n",
       "3       영업이익률      6.73     10.97      9.69      10.80     12.12     12.52   \n",
       "4        순이익률    -11.14      4.17     26.82      22.07    -15.83     19.07   \n",
       "5   ROE(지배주주)     -5.81      2.70     17.10      15.05      2.70      5.00   \n",
       "6        부채비율     52.21     60.94     67.62        NaN     60.94     71.56   \n",
       "7        당좌비율    127.98    162.77    146.88        NaN    162.77    163.55   \n",
       "8         유보율  12027.79  13881.01  21260.57        NaN  13881.01  14508.10   \n",
       "9      EPS(원)   -717.00    355.00   3132.00    3563.00   -428.00    506.00   \n",
       "10     PER(배)    -42.82    219.25     35.92      23.60    219.25    144.96   \n",
       "11     BPS(원)  12746.00  14647.00  23018.00   25668.00  14647.00  15428.00   \n",
       "12     PBR(배)      2.41      5.32      4.89       3.28      5.32      6.46   \n",
       "13   주당배당금(원)     25.00     30.00     53.00      62.00       NaN       NaN   \n",
       "14   시가배당률(%)      0.08      0.04      0.05        NaN       NaN       NaN   \n",
       "15    배당성향(%)     -3.46      8.29      1.65        NaN       NaN       NaN   \n",
       "\n",
       "                                             \n",
       "     2021.06   2021.09   2021.12 2022.03(E)  \n",
       "      IFRS연결    IFRS연결    IFRS연결     IFRS연결  \n",
       "0   13522.00  17408.00  17857.00   17403.00  \n",
       "1    1626.00   1682.00   1066.00    1616.00  \n",
       "2    3159.00   8663.00   2241.00    1925.00  \n",
       "3      12.03      9.66      5.97       9.29  \n",
       "4      23.36     49.76     12.55      11.06  \n",
       "5       6.90     14.84     17.10        NaN  \n",
       "6      61.86     67.18     67.62        NaN  \n",
       "7     180.06    136.30    146.88        NaN  \n",
       "8   16585.55  18562.21  21260.57        NaN  \n",
       "9     702.00   1752.00    172.00     408.00  \n",
       "10    151.91     46.46     35.92     220.17  \n",
       "11  17937.00  20271.00  23018.00        NaN  \n",
       "12      9.09      5.82      4.89        NaN  \n",
       "13       NaN       NaN       NaN        NaN  \n",
       "14       NaN       NaN       NaN        NaN  \n",
       "15       NaN       NaN       NaN        NaN  "
      ]
     },
     "execution_count": 16,
     "metadata": {},
     "output_type": "execute_result"
    }
   ],
   "source": [
    "df = dfs[3] \n",
    "df"
   ]
  },
  {
   "cell_type": "markdown",
   "metadata": {},
   "source": [
    "읽어들인 table data 를 file 로 저장"
   ]
  },
  {
   "cell_type": "code",
   "execution_count": 17,
   "metadata": {},
   "outputs": [],
   "source": [
    "df.to_csv('naver_finance.csv', encoding='euc-kr')"
   ]
  },
  {
   "cell_type": "markdown",
   "metadata": {},
   "source": [
    "## Panda 를 이용한 간단한 통계 정보 작성 및 시각화\n",
    "- 2015-2022 시즌의 프로야구 **연도별 순위표** 작성"
   ]
  },
  {
   "cell_type": "code",
   "execution_count": 18,
   "metadata": {},
   "outputs": [
    {
     "data": {
      "text/plain": [
       "[   순위    팀  경기수   승   패  무     승률   게임차  연속    출루율    장타율   최근 10경기\n",
       " 0   1  SSG   32  23   8  1  0.742   0.0  2승  0.325  0.365  6승-4패-0무\n",
       " 1   2   LG   32  18  14  0  0.563   5.5  3승  0.316  0.359  5승-5패-0무\n",
       " 2   3   두산   31  17  14  0  0.548   6.0  1패  0.315  0.326  4승-6패-0무\n",
       " 3   4   롯데   31  16  14  1  0.533   6.5  4패  0.311  0.366  5승-5패-0무\n",
       " 4   5   키움   32  17  15  0  0.531   6.5  2패  0.299  0.343  5승-5패-0무\n",
       " 5   6   삼성   32  16  16  0  0.500   7.5  5승  0.323  0.363  8승-2패-0무\n",
       " 6   7   KT   31  15  16  0  0.484   8.0  1승  0.334  0.361  6승-4패-0무\n",
       " 7   7  KIA   31  15  16  0  0.484   8.0  5승  0.347  0.393  5승-5패-0무\n",
       " 8   9   한화   32  11  21  0  0.344  12.5  4패  0.311  0.326  3승-7패-0무\n",
       " 9  10   NC   32   9  23  0  0.281  14.5  5패  0.309  0.329  3승-7패-0무,\n",
       "                                                다승 순위  \\\n",
       " 0  1  김광현  SSG  5승  1  반즈  롯데  5승  3  소형준  KT  4승...   \n",
       " \n",
       "                                              평균자책 순위  \\\n",
       " 0  1  김광현  SSG  0.47  2  반즈  롯데  1.40  3  박세웅  롯데...   \n",
       " \n",
       "                                               탈삼진 순위  \\\n",
       " 0  1  안우진  키움  54  2  반즈  롯데  50  3  루친스키  NC  47...   \n",
       " \n",
       "                                               세이브 순위  \n",
       " 0  1  김택형  SSG  13  2  김강률  두산  9  2  고우석  LG  9 ...  ,\n",
       "                                                타율 순위  \\\n",
       " 0  1  피렐라  삼성  0.398  2  문성주  LG  0.381  3  한동희  ...   \n",
       " \n",
       "                                                타점 순위  \\\n",
       " 0  1  한유섬  SSG  33  2  박병호  KT  26  3  황대인  KIA  ...   \n",
       " \n",
       "                                                홈런 순위  \\\n",
       " 0  1  박병호  KT  10  2  김현수  LG  7  2  한동희  롯데  7  ...   \n",
       " \n",
       "                                                도루 순위  \n",
       " 0  1  터크먼  한화  9  2  심우준  KT  8  2  김지찬  삼성  8  2...  ,\n",
       "                                              WHIP 순위  \\\n",
       " 0  1  김광현  SSG  0.71  2  고영표  KT  0.81  3  폰트  SS...   \n",
       " \n",
       "                                               OPS 순위  \\\n",
       " 0  1  한유섬  SSG  1.106  2  한동희  롯데  1.076  3  문성주 ...   \n",
       " \n",
       "                                            투수 WAR 순위  \\\n",
       " 0  1  김광현  SSG  2.09  2  반즈  롯데  1.78  3  고영표  KT...   \n",
       " \n",
       "                                            타자 WAR 순위  \n",
       " 0  1  나성범  KIA  2.10  2  피렐라  삼성  2.03  3  한유섬  S...  ,\n",
       " Empty DataFrame\n",
       " Columns: [순위, 선수, 평균자책점, 경기수, 이닝, 승, 패, 세이브, 홀드, 삼진, 피안타, 피홈런, 실점, 볼넷, 사구, 승률]\n",
       " Index: [],\n",
       " Empty DataFrame\n",
       " Columns: [순위, 선수, 타율, 경기수, 타수, 안타, 2루타, 3루타, 홈런, 타점, 득점, 도루, 볼넷, 삼진, 출루율, 장타율]\n",
       " Index: []]"
      ]
     },
     "execution_count": 18,
     "metadata": {},
     "output_type": "execute_result"
    }
   ],
   "source": [
    "url = \"https://sports.news.naver.com/kbaseball/record/index?category=kbo\"\n",
    "dfs = pd.read_html(url)\n",
    "dfs"
   ]
  },
  {
   "cell_type": "code",
   "execution_count": 19,
   "metadata": {},
   "outputs": [
    {
     "data": {
      "text/html": [
       "<div>\n",
       "<style scoped>\n",
       "    .dataframe tbody tr th:only-of-type {\n",
       "        vertical-align: middle;\n",
       "    }\n",
       "\n",
       "    .dataframe tbody tr th {\n",
       "        vertical-align: top;\n",
       "    }\n",
       "\n",
       "    .dataframe thead th {\n",
       "        text-align: right;\n",
       "    }\n",
       "</style>\n",
       "<table border=\"1\" class=\"dataframe\">\n",
       "  <thead>\n",
       "    <tr style=\"text-align: right;\">\n",
       "      <th></th>\n",
       "      <th>순위</th>\n",
       "      <th>팀</th>\n",
       "      <th>경기수</th>\n",
       "      <th>승</th>\n",
       "      <th>패</th>\n",
       "      <th>무</th>\n",
       "      <th>승률</th>\n",
       "      <th>게임차</th>\n",
       "      <th>연속</th>\n",
       "      <th>출루율</th>\n",
       "      <th>장타율</th>\n",
       "      <th>최근 10경기</th>\n",
       "    </tr>\n",
       "  </thead>\n",
       "  <tbody>\n",
       "    <tr>\n",
       "      <th>0</th>\n",
       "      <td>1</td>\n",
       "      <td>SSG</td>\n",
       "      <td>32</td>\n",
       "      <td>23</td>\n",
       "      <td>8</td>\n",
       "      <td>1</td>\n",
       "      <td>0.742</td>\n",
       "      <td>0.0</td>\n",
       "      <td>2승</td>\n",
       "      <td>0.325</td>\n",
       "      <td>0.365</td>\n",
       "      <td>6승-4패-0무</td>\n",
       "    </tr>\n",
       "    <tr>\n",
       "      <th>1</th>\n",
       "      <td>2</td>\n",
       "      <td>LG</td>\n",
       "      <td>32</td>\n",
       "      <td>18</td>\n",
       "      <td>14</td>\n",
       "      <td>0</td>\n",
       "      <td>0.563</td>\n",
       "      <td>5.5</td>\n",
       "      <td>3승</td>\n",
       "      <td>0.316</td>\n",
       "      <td>0.359</td>\n",
       "      <td>5승-5패-0무</td>\n",
       "    </tr>\n",
       "    <tr>\n",
       "      <th>2</th>\n",
       "      <td>3</td>\n",
       "      <td>두산</td>\n",
       "      <td>31</td>\n",
       "      <td>17</td>\n",
       "      <td>14</td>\n",
       "      <td>0</td>\n",
       "      <td>0.548</td>\n",
       "      <td>6.0</td>\n",
       "      <td>1패</td>\n",
       "      <td>0.315</td>\n",
       "      <td>0.326</td>\n",
       "      <td>4승-6패-0무</td>\n",
       "    </tr>\n",
       "    <tr>\n",
       "      <th>3</th>\n",
       "      <td>4</td>\n",
       "      <td>롯데</td>\n",
       "      <td>31</td>\n",
       "      <td>16</td>\n",
       "      <td>14</td>\n",
       "      <td>1</td>\n",
       "      <td>0.533</td>\n",
       "      <td>6.5</td>\n",
       "      <td>4패</td>\n",
       "      <td>0.311</td>\n",
       "      <td>0.366</td>\n",
       "      <td>5승-5패-0무</td>\n",
       "    </tr>\n",
       "    <tr>\n",
       "      <th>4</th>\n",
       "      <td>5</td>\n",
       "      <td>키움</td>\n",
       "      <td>32</td>\n",
       "      <td>17</td>\n",
       "      <td>15</td>\n",
       "      <td>0</td>\n",
       "      <td>0.531</td>\n",
       "      <td>6.5</td>\n",
       "      <td>2패</td>\n",
       "      <td>0.299</td>\n",
       "      <td>0.343</td>\n",
       "      <td>5승-5패-0무</td>\n",
       "    </tr>\n",
       "    <tr>\n",
       "      <th>5</th>\n",
       "      <td>6</td>\n",
       "      <td>삼성</td>\n",
       "      <td>32</td>\n",
       "      <td>16</td>\n",
       "      <td>16</td>\n",
       "      <td>0</td>\n",
       "      <td>0.500</td>\n",
       "      <td>7.5</td>\n",
       "      <td>5승</td>\n",
       "      <td>0.323</td>\n",
       "      <td>0.363</td>\n",
       "      <td>8승-2패-0무</td>\n",
       "    </tr>\n",
       "    <tr>\n",
       "      <th>6</th>\n",
       "      <td>7</td>\n",
       "      <td>KT</td>\n",
       "      <td>31</td>\n",
       "      <td>15</td>\n",
       "      <td>16</td>\n",
       "      <td>0</td>\n",
       "      <td>0.484</td>\n",
       "      <td>8.0</td>\n",
       "      <td>1승</td>\n",
       "      <td>0.334</td>\n",
       "      <td>0.361</td>\n",
       "      <td>6승-4패-0무</td>\n",
       "    </tr>\n",
       "    <tr>\n",
       "      <th>7</th>\n",
       "      <td>7</td>\n",
       "      <td>KIA</td>\n",
       "      <td>31</td>\n",
       "      <td>15</td>\n",
       "      <td>16</td>\n",
       "      <td>0</td>\n",
       "      <td>0.484</td>\n",
       "      <td>8.0</td>\n",
       "      <td>5승</td>\n",
       "      <td>0.347</td>\n",
       "      <td>0.393</td>\n",
       "      <td>5승-5패-0무</td>\n",
       "    </tr>\n",
       "    <tr>\n",
       "      <th>8</th>\n",
       "      <td>9</td>\n",
       "      <td>한화</td>\n",
       "      <td>32</td>\n",
       "      <td>11</td>\n",
       "      <td>21</td>\n",
       "      <td>0</td>\n",
       "      <td>0.344</td>\n",
       "      <td>12.5</td>\n",
       "      <td>4패</td>\n",
       "      <td>0.311</td>\n",
       "      <td>0.326</td>\n",
       "      <td>3승-7패-0무</td>\n",
       "    </tr>\n",
       "    <tr>\n",
       "      <th>9</th>\n",
       "      <td>10</td>\n",
       "      <td>NC</td>\n",
       "      <td>32</td>\n",
       "      <td>9</td>\n",
       "      <td>23</td>\n",
       "      <td>0</td>\n",
       "      <td>0.281</td>\n",
       "      <td>14.5</td>\n",
       "      <td>5패</td>\n",
       "      <td>0.309</td>\n",
       "      <td>0.329</td>\n",
       "      <td>3승-7패-0무</td>\n",
       "    </tr>\n",
       "  </tbody>\n",
       "</table>\n",
       "</div>"
      ],
      "text/plain": [
       "   순위    팀  경기수   승   패  무     승률   게임차  연속    출루율    장타율   최근 10경기\n",
       "0   1  SSG   32  23   8  1  0.742   0.0  2승  0.325  0.365  6승-4패-0무\n",
       "1   2   LG   32  18  14  0  0.563   5.5  3승  0.316  0.359  5승-5패-0무\n",
       "2   3   두산   31  17  14  0  0.548   6.0  1패  0.315  0.326  4승-6패-0무\n",
       "3   4   롯데   31  16  14  1  0.533   6.5  4패  0.311  0.366  5승-5패-0무\n",
       "4   5   키움   32  17  15  0  0.531   6.5  2패  0.299  0.343  5승-5패-0무\n",
       "5   6   삼성   32  16  16  0  0.500   7.5  5승  0.323  0.363  8승-2패-0무\n",
       "6   7   KT   31  15  16  0  0.484   8.0  1승  0.334  0.361  6승-4패-0무\n",
       "7   7  KIA   31  15  16  0  0.484   8.0  5승  0.347  0.393  5승-5패-0무\n",
       "8   9   한화   32  11  21  0  0.344  12.5  4패  0.311  0.326  3승-7패-0무\n",
       "9  10   NC   32   9  23  0  0.281  14.5  5패  0.309  0.329  3승-7패-0무"
      ]
     },
     "execution_count": 19,
     "metadata": {},
     "output_type": "execute_result"
    }
   ],
   "source": [
    "dfs[0]"
   ]
  },
  {
   "cell_type": "code",
   "execution_count": 20,
   "metadata": {},
   "outputs": [],
   "source": [
    "# 연도를 제외한 공통 url부분을 변수로 선언\n",
    "url = \"https://sports.news.naver.com/kbaseball/record/index?category=kbo&year=\""
   ]
  },
  {
   "cell_type": "code",
   "execution_count": 21,
   "metadata": {},
   "outputs": [],
   "source": [
    "for i in range(2015, 2022):\n",
    "    pd.read_html(url + str(i))[0]"
   ]
  },
  {
   "cell_type": "code",
   "execution_count": 22,
   "metadata": {},
   "outputs": [
    {
     "data": {
      "text/plain": [
       "(70, 13)"
      ]
     },
     "execution_count": 22,
     "metadata": {},
     "output_type": "execute_result"
    }
   ],
   "source": [
    "# for문의 결과물을 담을 빈 데이터프레임\n",
    "baseball_df = pd.DataFrame([]) \n",
    "\n",
    "# 2015 - 2022 \n",
    "for i in range(2015, 2022): \n",
    "    df1 = pd.read_html(url + str(i))[0] \n",
    "    df1[\"연도\"] = str(i) # 연도 column 추가 \n",
    "    baseball_df = pd.concat([baseball_df, df1])\n",
    "    \n",
    "baseball_df.shape"
   ]
  },
  {
   "cell_type": "code",
   "execution_count": 23,
   "metadata": {},
   "outputs": [
    {
     "data": {
      "text/html": [
       "<div>\n",
       "<style scoped>\n",
       "    .dataframe tbody tr th:only-of-type {\n",
       "        vertical-align: middle;\n",
       "    }\n",
       "\n",
       "    .dataframe tbody tr th {\n",
       "        vertical-align: top;\n",
       "    }\n",
       "\n",
       "    .dataframe thead th {\n",
       "        text-align: right;\n",
       "    }\n",
       "</style>\n",
       "<table border=\"1\" class=\"dataframe\">\n",
       "  <thead>\n",
       "    <tr style=\"text-align: right;\">\n",
       "      <th></th>\n",
       "      <th>순위</th>\n",
       "      <th>팀</th>\n",
       "      <th>경기수</th>\n",
       "      <th>승</th>\n",
       "      <th>패</th>\n",
       "      <th>무</th>\n",
       "      <th>승률</th>\n",
       "      <th>게임차</th>\n",
       "      <th>연속</th>\n",
       "      <th>출루율</th>\n",
       "      <th>장타율</th>\n",
       "      <th>최근 10경기</th>\n",
       "      <th>연도</th>\n",
       "    </tr>\n",
       "  </thead>\n",
       "  <tbody>\n",
       "    <tr>\n",
       "      <th>0</th>\n",
       "      <td>1</td>\n",
       "      <td>두산</td>\n",
       "      <td>144</td>\n",
       "      <td>79</td>\n",
       "      <td>65</td>\n",
       "      <td>0</td>\n",
       "      <td>0.549</td>\n",
       "      <td>0.0</td>\n",
       "      <td>2승</td>\n",
       "      <td>0.370</td>\n",
       "      <td>0.435</td>\n",
       "      <td>7승-3패-0무</td>\n",
       "      <td>2015</td>\n",
       "    </tr>\n",
       "    <tr>\n",
       "      <th>1</th>\n",
       "      <td>2</td>\n",
       "      <td>삼성</td>\n",
       "      <td>144</td>\n",
       "      <td>88</td>\n",
       "      <td>56</td>\n",
       "      <td>0</td>\n",
       "      <td>0.611</td>\n",
       "      <td>-9.0</td>\n",
       "      <td>3승</td>\n",
       "      <td>0.378</td>\n",
       "      <td>0.469</td>\n",
       "      <td>4승-6패-0무</td>\n",
       "      <td>2015</td>\n",
       "    </tr>\n",
       "    <tr>\n",
       "      <th>2</th>\n",
       "      <td>3</td>\n",
       "      <td>NC</td>\n",
       "      <td>144</td>\n",
       "      <td>84</td>\n",
       "      <td>57</td>\n",
       "      <td>3</td>\n",
       "      <td>0.596</td>\n",
       "      <td>-6.5</td>\n",
       "      <td>1패</td>\n",
       "      <td>0.367</td>\n",
       "      <td>0.455</td>\n",
       "      <td>5승-4패-1무</td>\n",
       "      <td>2015</td>\n",
       "    </tr>\n",
       "    <tr>\n",
       "      <th>3</th>\n",
       "      <td>4</td>\n",
       "      <td>넥센</td>\n",
       "      <td>144</td>\n",
       "      <td>78</td>\n",
       "      <td>65</td>\n",
       "      <td>1</td>\n",
       "      <td>0.545</td>\n",
       "      <td>0.5</td>\n",
       "      <td>1패</td>\n",
       "      <td>0.372</td>\n",
       "      <td>0.486</td>\n",
       "      <td>4승-6패-0무</td>\n",
       "      <td>2015</td>\n",
       "    </tr>\n",
       "    <tr>\n",
       "      <th>4</th>\n",
       "      <td>5</td>\n",
       "      <td>SK</td>\n",
       "      <td>144</td>\n",
       "      <td>69</td>\n",
       "      <td>73</td>\n",
       "      <td>2</td>\n",
       "      <td>0.486</td>\n",
       "      <td>9.0</td>\n",
       "      <td>1승</td>\n",
       "      <td>0.349</td>\n",
       "      <td>0.410</td>\n",
       "      <td>6승-4패-0무</td>\n",
       "      <td>2015</td>\n",
       "    </tr>\n",
       "    <tr>\n",
       "      <th>...</th>\n",
       "      <td>...</td>\n",
       "      <td>...</td>\n",
       "      <td>...</td>\n",
       "      <td>...</td>\n",
       "      <td>...</td>\n",
       "      <td>...</td>\n",
       "      <td>...</td>\n",
       "      <td>...</td>\n",
       "      <td>...</td>\n",
       "      <td>...</td>\n",
       "      <td>...</td>\n",
       "      <td>...</td>\n",
       "      <td>...</td>\n",
       "    </tr>\n",
       "    <tr>\n",
       "      <th>5</th>\n",
       "      <td>6</td>\n",
       "      <td>SSG</td>\n",
       "      <td>144</td>\n",
       "      <td>66</td>\n",
       "      <td>64</td>\n",
       "      <td>14</td>\n",
       "      <td>0.508</td>\n",
       "      <td>7.5</td>\n",
       "      <td>1패</td>\n",
       "      <td>0.353</td>\n",
       "      <td>0.421</td>\n",
       "      <td>4승-4패-2무</td>\n",
       "      <td>2021</td>\n",
       "    </tr>\n",
       "    <tr>\n",
       "      <th>6</th>\n",
       "      <td>7</td>\n",
       "      <td>NC</td>\n",
       "      <td>144</td>\n",
       "      <td>67</td>\n",
       "      <td>68</td>\n",
       "      <td>9</td>\n",
       "      <td>0.496</td>\n",
       "      <td>9.0</td>\n",
       "      <td>1패</td>\n",
       "      <td>0.343</td>\n",
       "      <td>0.416</td>\n",
       "      <td>4승-5패-1무</td>\n",
       "      <td>2021</td>\n",
       "    </tr>\n",
       "    <tr>\n",
       "      <th>7</th>\n",
       "      <td>8</td>\n",
       "      <td>롯데</td>\n",
       "      <td>144</td>\n",
       "      <td>65</td>\n",
       "      <td>71</td>\n",
       "      <td>8</td>\n",
       "      <td>0.478</td>\n",
       "      <td>11.5</td>\n",
       "      <td>1승</td>\n",
       "      <td>0.356</td>\n",
       "      <td>0.399</td>\n",
       "      <td>4승-4패-2무</td>\n",
       "      <td>2021</td>\n",
       "    </tr>\n",
       "    <tr>\n",
       "      <th>8</th>\n",
       "      <td>9</td>\n",
       "      <td>KIA</td>\n",
       "      <td>144</td>\n",
       "      <td>58</td>\n",
       "      <td>76</td>\n",
       "      <td>10</td>\n",
       "      <td>0.433</td>\n",
       "      <td>17.5</td>\n",
       "      <td>2패</td>\n",
       "      <td>0.337</td>\n",
       "      <td>0.336</td>\n",
       "      <td>5승-5패-0무</td>\n",
       "      <td>2021</td>\n",
       "    </tr>\n",
       "    <tr>\n",
       "      <th>9</th>\n",
       "      <td>10</td>\n",
       "      <td>한화</td>\n",
       "      <td>144</td>\n",
       "      <td>49</td>\n",
       "      <td>83</td>\n",
       "      <td>12</td>\n",
       "      <td>0.371</td>\n",
       "      <td>25.5</td>\n",
       "      <td>6패</td>\n",
       "      <td>0.334</td>\n",
       "      <td>0.341</td>\n",
       "      <td>2승-6패-2무</td>\n",
       "      <td>2021</td>\n",
       "    </tr>\n",
       "  </tbody>\n",
       "</table>\n",
       "<p>70 rows × 13 columns</p>\n",
       "</div>"
      ],
      "text/plain": [
       "    순위    팀  경기수   승   패   무     승률   게임차  연속    출루율    장타율   최근 10경기    연도\n",
       "0    1   두산  144  79  65   0  0.549   0.0  2승  0.370  0.435  7승-3패-0무  2015\n",
       "1    2   삼성  144  88  56   0  0.611  -9.0  3승  0.378  0.469  4승-6패-0무  2015\n",
       "2    3   NC  144  84  57   3  0.596  -6.5  1패  0.367  0.455  5승-4패-1무  2015\n",
       "3    4   넥센  144  78  65   1  0.545   0.5  1패  0.372  0.486  4승-6패-0무  2015\n",
       "4    5   SK  144  69  73   2  0.486   9.0  1승  0.349  0.410  6승-4패-0무  2015\n",
       "..  ..  ...  ...  ..  ..  ..    ...   ...  ..    ...    ...       ...   ...\n",
       "5    6  SSG  144  66  64  14  0.508   7.5  1패  0.353  0.421  4승-4패-2무  2021\n",
       "6    7   NC  144  67  68   9  0.496   9.0  1패  0.343  0.416  4승-5패-1무  2021\n",
       "7    8   롯데  144  65  71   8  0.478  11.5  1승  0.356  0.399  4승-4패-2무  2021\n",
       "8    9  KIA  144  58  76  10  0.433  17.5  2패  0.337  0.336  5승-5패-0무  2021\n",
       "9   10   한화  144  49  83  12  0.371  25.5  6패  0.334  0.341  2승-6패-2무  2021\n",
       "\n",
       "[70 rows x 13 columns]"
      ]
     },
     "execution_count": 23,
     "metadata": {},
     "output_type": "execute_result"
    }
   ],
   "source": [
    "baseball_df"
   ]
  },
  {
   "cell_type": "markdown",
   "metadata": {},
   "source": [
    "- 2015-2022 사이에 팀명이 바뀐 팀들의 팀명 수정"
   ]
  },
  {
   "cell_type": "code",
   "execution_count": 24,
   "metadata": {},
   "outputs": [
    {
     "data": {
      "text/html": [
       "<div>\n",
       "<style scoped>\n",
       "    .dataframe tbody tr th:only-of-type {\n",
       "        vertical-align: middle;\n",
       "    }\n",
       "\n",
       "    .dataframe tbody tr th {\n",
       "        vertical-align: top;\n",
       "    }\n",
       "\n",
       "    .dataframe thead th {\n",
       "        text-align: right;\n",
       "    }\n",
       "</style>\n",
       "<table border=\"1\" class=\"dataframe\">\n",
       "  <thead>\n",
       "    <tr style=\"text-align: right;\">\n",
       "      <th>팀</th>\n",
       "      <th>KIA</th>\n",
       "      <th>KT</th>\n",
       "      <th>LG</th>\n",
       "      <th>NC</th>\n",
       "      <th>SSG</th>\n",
       "      <th>두산</th>\n",
       "      <th>롯데</th>\n",
       "      <th>삼성</th>\n",
       "      <th>키움</th>\n",
       "      <th>한화</th>\n",
       "    </tr>\n",
       "    <tr>\n",
       "      <th>연도</th>\n",
       "      <th></th>\n",
       "      <th></th>\n",
       "      <th></th>\n",
       "      <th></th>\n",
       "      <th></th>\n",
       "      <th></th>\n",
       "      <th></th>\n",
       "      <th></th>\n",
       "      <th></th>\n",
       "      <th></th>\n",
       "    </tr>\n",
       "  </thead>\n",
       "  <tbody>\n",
       "    <tr>\n",
       "      <th>2015</th>\n",
       "      <td>7</td>\n",
       "      <td>10</td>\n",
       "      <td>9</td>\n",
       "      <td>3</td>\n",
       "      <td>5</td>\n",
       "      <td>1</td>\n",
       "      <td>8</td>\n",
       "      <td>2</td>\n",
       "      <td>4</td>\n",
       "      <td>6</td>\n",
       "    </tr>\n",
       "    <tr>\n",
       "      <th>2016</th>\n",
       "      <td>5</td>\n",
       "      <td>10</td>\n",
       "      <td>4</td>\n",
       "      <td>2</td>\n",
       "      <td>6</td>\n",
       "      <td>1</td>\n",
       "      <td>8</td>\n",
       "      <td>9</td>\n",
       "      <td>3</td>\n",
       "      <td>7</td>\n",
       "    </tr>\n",
       "    <tr>\n",
       "      <th>2017</th>\n",
       "      <td>1</td>\n",
       "      <td>10</td>\n",
       "      <td>6</td>\n",
       "      <td>4</td>\n",
       "      <td>5</td>\n",
       "      <td>2</td>\n",
       "      <td>3</td>\n",
       "      <td>9</td>\n",
       "      <td>7</td>\n",
       "      <td>8</td>\n",
       "    </tr>\n",
       "    <tr>\n",
       "      <th>2018</th>\n",
       "      <td>5</td>\n",
       "      <td>9</td>\n",
       "      <td>8</td>\n",
       "      <td>10</td>\n",
       "      <td>1</td>\n",
       "      <td>2</td>\n",
       "      <td>7</td>\n",
       "      <td>6</td>\n",
       "      <td>4</td>\n",
       "      <td>3</td>\n",
       "    </tr>\n",
       "    <tr>\n",
       "      <th>2019</th>\n",
       "      <td>7</td>\n",
       "      <td>6</td>\n",
       "      <td>4</td>\n",
       "      <td>5</td>\n",
       "      <td>3</td>\n",
       "      <td>1</td>\n",
       "      <td>10</td>\n",
       "      <td>8</td>\n",
       "      <td>2</td>\n",
       "      <td>9</td>\n",
       "    </tr>\n",
       "    <tr>\n",
       "      <th>2020</th>\n",
       "      <td>6</td>\n",
       "      <td>3</td>\n",
       "      <td>4</td>\n",
       "      <td>1</td>\n",
       "      <td>9</td>\n",
       "      <td>2</td>\n",
       "      <td>7</td>\n",
       "      <td>8</td>\n",
       "      <td>5</td>\n",
       "      <td>10</td>\n",
       "    </tr>\n",
       "    <tr>\n",
       "      <th>2021</th>\n",
       "      <td>9</td>\n",
       "      <td>1</td>\n",
       "      <td>4</td>\n",
       "      <td>7</td>\n",
       "      <td>6</td>\n",
       "      <td>2</td>\n",
       "      <td>8</td>\n",
       "      <td>3</td>\n",
       "      <td>5</td>\n",
       "      <td>10</td>\n",
       "    </tr>\n",
       "  </tbody>\n",
       "</table>\n",
       "</div>"
      ],
      "text/plain": [
       "팀     KIA  KT  LG  NC  SSG  두산  롯데  삼성  키움  한화\n",
       "연도                                            \n",
       "2015    7  10   9   3    5   1   8   2   4   6\n",
       "2016    5  10   4   2    6   1   8   9   3   7\n",
       "2017    1  10   6   4    5   2   3   9   7   8\n",
       "2018    5   9   8  10    1   2   7   6   4   3\n",
       "2019    7   6   4   5    3   1  10   8   2   9\n",
       "2020    6   3   4   1    9   2   7   8   5  10\n",
       "2021    9   1   4   7    6   2   8   3   5  10"
      ]
     },
     "execution_count": 24,
     "metadata": {},
     "output_type": "execute_result"
    }
   ],
   "source": [
    "baseball_df = baseball_df.replace({\"kt\":\"KT\", \"SK\":\"SSG\", \"넥센\":\"키움\"}) \n",
    "annual_rank = baseball_df.pivot(index=\"연도\", columns=\"팀\", values=\"순위\")\n",
    "annual_rank"
   ]
  },
  {
   "cell_type": "code",
   "execution_count": 25,
   "metadata": {},
   "outputs": [
    {
     "data": {
      "text/plain": [
       "<AxesSubplot:xlabel='연도'>"
      ]
     },
     "execution_count": 25,
     "metadata": {},
     "output_type": "execute_result"
    },
    {
     "data": {
      "image/png": "[encoded data removed]",
      "text/plain": [
       "<Figure size 1152x288 with 1 Axes>"
      ]
     },
     "metadata": {
      "needs_background": "light"
     },
     "output_type": "display_data"
    }
   ],
   "source": [
    "annual_rank.plot(figsize=(16, 4))"
   ]
  },
  {
   "cell_type": "markdown",
   "metadata": {},
   "source": [
    "순위별로 팀명 정리"
   ]
  },
  {
   "cell_type": "code",
   "execution_count": 26,
   "metadata": {},
   "outputs": [
    {
     "data": {
      "text/html": [
       "<div>\n",
       "<style scoped>\n",
       "    .dataframe tbody tr th:only-of-type {\n",
       "        vertical-align: middle;\n",
       "    }\n",
       "\n",
       "    .dataframe tbody tr th {\n",
       "        vertical-align: top;\n",
       "    }\n",
       "\n",
       "    .dataframe thead th {\n",
       "        text-align: right;\n",
       "    }\n",
       "</style>\n",
       "<table border=\"1\" class=\"dataframe\">\n",
       "  <thead>\n",
       "    <tr style=\"text-align: right;\">\n",
       "      <th>순위</th>\n",
       "      <th>1</th>\n",
       "      <th>2</th>\n",
       "      <th>3</th>\n",
       "      <th>4</th>\n",
       "      <th>5</th>\n",
       "      <th>6</th>\n",
       "      <th>7</th>\n",
       "      <th>8</th>\n",
       "      <th>9</th>\n",
       "      <th>10</th>\n",
       "    </tr>\n",
       "    <tr>\n",
       "      <th>연도</th>\n",
       "      <th></th>\n",
       "      <th></th>\n",
       "      <th></th>\n",
       "      <th></th>\n",
       "      <th></th>\n",
       "      <th></th>\n",
       "      <th></th>\n",
       "      <th></th>\n",
       "      <th></th>\n",
       "      <th></th>\n",
       "    </tr>\n",
       "  </thead>\n",
       "  <tbody>\n",
       "    <tr>\n",
       "      <th>2015</th>\n",
       "      <td>두산</td>\n",
       "      <td>삼성</td>\n",
       "      <td>NC</td>\n",
       "      <td>키움</td>\n",
       "      <td>SSG</td>\n",
       "      <td>한화</td>\n",
       "      <td>KIA</td>\n",
       "      <td>롯데</td>\n",
       "      <td>LG</td>\n",
       "      <td>KT</td>\n",
       "    </tr>\n",
       "    <tr>\n",
       "      <th>2016</th>\n",
       "      <td>두산</td>\n",
       "      <td>NC</td>\n",
       "      <td>키움</td>\n",
       "      <td>LG</td>\n",
       "      <td>KIA</td>\n",
       "      <td>SSG</td>\n",
       "      <td>한화</td>\n",
       "      <td>롯데</td>\n",
       "      <td>삼성</td>\n",
       "      <td>KT</td>\n",
       "    </tr>\n",
       "    <tr>\n",
       "      <th>2017</th>\n",
       "      <td>KIA</td>\n",
       "      <td>두산</td>\n",
       "      <td>롯데</td>\n",
       "      <td>NC</td>\n",
       "      <td>SSG</td>\n",
       "      <td>LG</td>\n",
       "      <td>키움</td>\n",
       "      <td>한화</td>\n",
       "      <td>삼성</td>\n",
       "      <td>KT</td>\n",
       "    </tr>\n",
       "    <tr>\n",
       "      <th>2018</th>\n",
       "      <td>SSG</td>\n",
       "      <td>두산</td>\n",
       "      <td>한화</td>\n",
       "      <td>키움</td>\n",
       "      <td>KIA</td>\n",
       "      <td>삼성</td>\n",
       "      <td>롯데</td>\n",
       "      <td>LG</td>\n",
       "      <td>KT</td>\n",
       "      <td>NC</td>\n",
       "    </tr>\n",
       "    <tr>\n",
       "      <th>2019</th>\n",
       "      <td>두산</td>\n",
       "      <td>키움</td>\n",
       "      <td>SSG</td>\n",
       "      <td>LG</td>\n",
       "      <td>NC</td>\n",
       "      <td>KT</td>\n",
       "      <td>KIA</td>\n",
       "      <td>삼성</td>\n",
       "      <td>한화</td>\n",
       "      <td>롯데</td>\n",
       "    </tr>\n",
       "    <tr>\n",
       "      <th>2020</th>\n",
       "      <td>NC</td>\n",
       "      <td>두산</td>\n",
       "      <td>KT</td>\n",
       "      <td>LG</td>\n",
       "      <td>키움</td>\n",
       "      <td>KIA</td>\n",
       "      <td>롯데</td>\n",
       "      <td>삼성</td>\n",
       "      <td>SSG</td>\n",
       "      <td>한화</td>\n",
       "    </tr>\n",
       "    <tr>\n",
       "      <th>2021</th>\n",
       "      <td>KT</td>\n",
       "      <td>두산</td>\n",
       "      <td>삼성</td>\n",
       "      <td>LG</td>\n",
       "      <td>키움</td>\n",
       "      <td>SSG</td>\n",
       "      <td>NC</td>\n",
       "      <td>롯데</td>\n",
       "      <td>KIA</td>\n",
       "      <td>한화</td>\n",
       "    </tr>\n",
       "  </tbody>\n",
       "</table>\n",
       "</div>"
      ],
      "text/plain": [
       "순위     1   2    3   4    5    6    7   8    9   10\n",
       "연도                                                \n",
       "2015   두산  삼성   NC  키움  SSG   한화  KIA  롯데   LG  KT\n",
       "2016   두산  NC   키움  LG  KIA  SSG   한화  롯데   삼성  KT\n",
       "2017  KIA  두산   롯데  NC  SSG   LG   키움  한화   삼성  KT\n",
       "2018  SSG  두산   한화  키움  KIA   삼성   롯데  LG   KT  NC\n",
       "2019   두산  키움  SSG  LG   NC   KT  KIA  삼성   한화  롯데\n",
       "2020   NC  두산   KT  LG   키움  KIA   롯데  삼성  SSG  한화\n",
       "2021   KT  두산   삼성  LG   키움  SSG   NC  롯데  KIA  한화"
      ]
     },
     "execution_count": 26,
     "metadata": {},
     "output_type": "execute_result"
    }
   ],
   "source": [
    "yearly_baseball_rank = baseball_df.pivot(index=\"연도\", columns=\"순위\", values=\"팀\")\n",
    "yearly_baseball_rank"
   ]
  },
  {
   "cell_type": "markdown",
   "metadata": {},
   "source": [
    "2015-2021 시즌 사이에 3 위 이내에 가장 많이 들어간 팀 순위"
   ]
  },
  {
   "cell_type": "code",
   "execution_count": 27,
   "metadata": {},
   "outputs": [
    {
     "data": {
      "text/plain": [
       "[('두산', 7),\n",
       " ('NC', 3),\n",
       " ('삼성', 2),\n",
       " ('키움', 2),\n",
       " ('SSG', 2),\n",
       " ('KT', 2),\n",
       " ('KIA', 1),\n",
       " ('롯데', 1),\n",
       " ('한화', 1)]"
      ]
     },
     "execution_count": 27,
     "metadata": {},
     "output_type": "execute_result"
    }
   ],
   "source": [
    "count = dict()\n",
    "for teams in yearly_baseball_rank.loc[:, :3].values:\n",
    "    for team in teams:\n",
    "        if team in count:\n",
    "            count[team] += 1\n",
    "        else:\n",
    "            count[team] = 1      \n",
    "\n",
    "sorted(count.items(), key=lambda kv: kv[1], reverse=True)"
   ]
  },
  {
   "cell_type": "markdown",
   "metadata": {},
   "source": [
    "## DataFrame을 pdf 로 저장"
   ]
  },
  {
   "cell_type": "code",
   "execution_count": 28,
   "metadata": {},
   "outputs": [
    {
     "data": {
      "image/png": "[encoded data removed]",
      "text/plain": [
       "<Figure size 864x288 with 1 Axes>"
      ]
     },
     "metadata": {
      "needs_background": "light"
     },
     "output_type": "display_data"
    }
   ],
   "source": [
    "yearly_baseball_rank.reset_index(inplace=True)\n",
    "\n",
    "fig, ax =plt.subplots(figsize=(12,4))\n",
    "ax.axis('tight')\n",
    "ax.axis('off')\n",
    "the_table = ax.table(cellText=yearly_baseball_rank.values, colLabels=yearly_baseball_rank.columns, loc='center')\n",
    "\n",
    "pp = PdfPages(\"foo.pdf\")\n",
    "pp.savefig(fig, bbox_inches='tight')\n",
    "pp.close()"
   ]
  },
  {
   "cell_type": "markdown",
   "metadata": {},
   "source": [
    "### SMTP mail sender 를 이용하여 첨부 파일로 발송"
   ]
  },
  {
   "cell_type": "code",
   "execution_count": 29,
   "metadata": {},
   "outputs": [
    {
     "name": "stdout",
     "output_type": "stream",
     "text": [
      "성공적으로 메일 발송\n"
     ]
    }
   ],
   "source": [
    "from email_sender import send_email\n",
    "\n",
    "subject = '연도별 우승팀 현황'\n",
    "body = '첨부된 파일을 확인해 주세요.\\n다음 주에 식사 같이 하십시다.'\n",
    "files = list()\n",
    "files.append('foo.pdf')\n",
    "\n",
    "send_email(subject, body, files)"
   ]
  },
  {
   "cell_type": "markdown",
   "metadata": {},
   "source": [
    "<div>\n",
    "\n",
    "\n",
    "\n",
    "\n",
    "\n",
    "\n",
    "\n",
    "\n",
    "\n",
    "\n",
    "\n",
    "</div>"
   ]
  },
  {
   "cell_type": "markdown",
   "metadata": {},
   "source": [
    "&nbsp;<br>\n",
    "&nbsp;<br>\n",
    "&nbsp;<br>\n",
    "&nbsp;<br>\n",
    "&nbsp;<br>\n",
    "&nbsp;<br>\n",
    "&nbsp;<br>\n",
    "&nbsp;<br>\n",
    "&nbsp;<br>\n",
    "&nbsp;<br>\n",
    "&nbsp;<br>"
   ]
  },
  {
   "cell_type": "markdown",
   "metadata": {},
   "source": [
    "# Capstone Project 2 - 주식 가격 가져오기"
   ]
  },
  {
   "cell_type": "code",
   "execution_count": 1,
   "metadata": {},
   "outputs": [],
   "source": [
    "import pandas as pd\n",
    "import numpy as np\n",
    "import matplotlib.pyplot as plt\n",
    "import pandas_datareader as data_reader"
   ]
  },
  {
   "cell_type": "markdown",
   "metadata": {},
   "source": [
    "## 삼성전자 주식 가격"
   ]
  },
  {
   "cell_type": "code",
   "execution_count": 2,
   "metadata": {},
   "outputs": [
    {
     "data": {
      "text/html": [
       "<div>\n",
       "<style scoped>\n",
       "    .dataframe tbody tr th:only-of-type {\n",
       "        vertical-align: middle;\n",
       "    }\n",
       "\n",
       "    .dataframe tbody tr th {\n",
       "        vertical-align: top;\n",
       "    }\n",
       "\n",
       "    .dataframe thead th {\n",
       "        text-align: right;\n",
       "    }\n",
       "</style>\n",
       "<table border=\"1\" class=\"dataframe\">\n",
       "  <thead>\n",
       "    <tr style=\"text-align: right;\">\n",
       "      <th></th>\n",
       "      <th>High</th>\n",
       "      <th>Low</th>\n",
       "      <th>Open</th>\n",
       "      <th>Close</th>\n",
       "      <th>Volume</th>\n",
       "      <th>Adj Close</th>\n",
       "    </tr>\n",
       "    <tr>\n",
       "      <th>Date</th>\n",
       "      <th></th>\n",
       "      <th></th>\n",
       "      <th></th>\n",
       "      <th></th>\n",
       "      <th></th>\n",
       "      <th></th>\n",
       "    </tr>\n",
       "  </thead>\n",
       "  <tbody>\n",
       "    <tr>\n",
       "      <th>2017-05-11</th>\n",
       "      <td>46180.0</td>\n",
       "      <td>45220.0</td>\n",
       "      <td>45420.0</td>\n",
       "      <td>45500.0</td>\n",
       "      <td>21277850.0</td>\n",
       "      <td>39413.785156</td>\n",
       "    </tr>\n",
       "    <tr>\n",
       "      <th>2017-05-12</th>\n",
       "      <td>46160.0</td>\n",
       "      <td>45660.0</td>\n",
       "      <td>45760.0</td>\n",
       "      <td>45820.0</td>\n",
       "      <td>9422900.0</td>\n",
       "      <td>39690.976562</td>\n",
       "    </tr>\n",
       "    <tr>\n",
       "      <th>2017-05-15</th>\n",
       "      <td>46280.0</td>\n",
       "      <td>45620.0</td>\n",
       "      <td>45620.0</td>\n",
       "      <td>46100.0</td>\n",
       "      <td>8001400.0</td>\n",
       "      <td>39933.539062</td>\n",
       "    </tr>\n",
       "    <tr>\n",
       "      <th>2017-05-16</th>\n",
       "      <td>46800.0</td>\n",
       "      <td>46100.0</td>\n",
       "      <td>46660.0</td>\n",
       "      <td>46380.0</td>\n",
       "      <td>8803750.0</td>\n",
       "      <td>40176.070312</td>\n",
       "    </tr>\n",
       "    <tr>\n",
       "      <th>2017-05-17</th>\n",
       "      <td>46640.0</td>\n",
       "      <td>46100.0</td>\n",
       "      <td>46120.0</td>\n",
       "      <td>46340.0</td>\n",
       "      <td>7424450.0</td>\n",
       "      <td>40141.433594</td>\n",
       "    </tr>\n",
       "  </tbody>\n",
       "</table>\n",
       "</div>"
      ],
      "text/plain": [
       "               High      Low     Open    Close      Volume     Adj Close\n",
       "Date                                                                    \n",
       "2017-05-11  46180.0  45220.0  45420.0  45500.0  21277850.0  39413.785156\n",
       "2017-05-12  46160.0  45660.0  45760.0  45820.0   9422900.0  39690.976562\n",
       "2017-05-15  46280.0  45620.0  45620.0  46100.0   8001400.0  39933.539062\n",
       "2017-05-16  46800.0  46100.0  46660.0  46380.0   8803750.0  40176.070312\n",
       "2017-05-17  46640.0  46100.0  46120.0  46340.0   7424450.0  40141.433594"
      ]
     },
     "execution_count": 2,
     "metadata": {},
     "output_type": "execute_result"
    }
   ],
   "source": [
    "SAMSUNG = data_reader.DataReader(\"005930.KS\", data_source=\"yahoo\")\n",
    "SAMSUNG.head()"
   ]
  },
  {
   "cell_type": "code",
   "execution_count": 3,
   "metadata": {},
   "outputs": [
    {
     "data": {
      "text/html": [
       "<div>\n",
       "<style scoped>\n",
       "    .dataframe tbody tr th:only-of-type {\n",
       "        vertical-align: middle;\n",
       "    }\n",
       "\n",
       "    .dataframe tbody tr th {\n",
       "        vertical-align: top;\n",
       "    }\n",
       "\n",
       "    .dataframe thead th {\n",
       "        text-align: right;\n",
       "    }\n",
       "</style>\n",
       "<table border=\"1\" class=\"dataframe\">\n",
       "  <thead>\n",
       "    <tr style=\"text-align: right;\">\n",
       "      <th></th>\n",
       "      <th>High</th>\n",
       "      <th>Low</th>\n",
       "      <th>Open</th>\n",
       "      <th>Close</th>\n",
       "      <th>Volume</th>\n",
       "      <th>Adj Close</th>\n",
       "    </tr>\n",
       "    <tr>\n",
       "      <th>Date</th>\n",
       "      <th></th>\n",
       "      <th></th>\n",
       "      <th></th>\n",
       "      <th></th>\n",
       "      <th></th>\n",
       "      <th></th>\n",
       "    </tr>\n",
       "  </thead>\n",
       "  <tbody>\n",
       "    <tr>\n",
       "      <th>2022-05-02</th>\n",
       "      <td>67600.0</td>\n",
       "      <td>66500.0</td>\n",
       "      <td>66600.0</td>\n",
       "      <td>67300.0</td>\n",
       "      <td>14106184.0</td>\n",
       "      <td>67300.0</td>\n",
       "    </tr>\n",
       "    <tr>\n",
       "      <th>2022-05-03</th>\n",
       "      <td>68400.0</td>\n",
       "      <td>67300.0</td>\n",
       "      <td>67400.0</td>\n",
       "      <td>67500.0</td>\n",
       "      <td>14168875.0</td>\n",
       "      <td>67500.0</td>\n",
       "    </tr>\n",
       "    <tr>\n",
       "      <th>2022-05-04</th>\n",
       "      <td>68400.0</td>\n",
       "      <td>67500.0</td>\n",
       "      <td>68000.0</td>\n",
       "      <td>67900.0</td>\n",
       "      <td>11505248.0</td>\n",
       "      <td>67900.0</td>\n",
       "    </tr>\n",
       "    <tr>\n",
       "      <th>2022-05-06</th>\n",
       "      <td>67100.0</td>\n",
       "      <td>66500.0</td>\n",
       "      <td>67000.0</td>\n",
       "      <td>66500.0</td>\n",
       "      <td>14356156.0</td>\n",
       "      <td>66500.0</td>\n",
       "    </tr>\n",
       "    <tr>\n",
       "      <th>2022-05-10</th>\n",
       "      <td>66300.0</td>\n",
       "      <td>65300.0</td>\n",
       "      <td>65900.0</td>\n",
       "      <td>65700.0</td>\n",
       "      <td>17152974.0</td>\n",
       "      <td>65700.0</td>\n",
       "    </tr>\n",
       "  </tbody>\n",
       "</table>\n",
       "</div>"
      ],
      "text/plain": [
       "               High      Low     Open    Close      Volume  Adj Close\n",
       "Date                                                                 \n",
       "2022-05-02  67600.0  66500.0  66600.0  67300.0  14106184.0    67300.0\n",
       "2022-05-03  68400.0  67300.0  67400.0  67500.0  14168875.0    67500.0\n",
       "2022-05-04  68400.0  67500.0  68000.0  67900.0  11505248.0    67900.0\n",
       "2022-05-06  67100.0  66500.0  67000.0  66500.0  14356156.0    66500.0\n",
       "2022-05-10  66300.0  65300.0  65900.0  65700.0  17152974.0    65700.0"
      ]
     },
     "execution_count": 3,
     "metadata": {},
     "output_type": "execute_result"
    }
   ],
   "source": [
    "SAMSUNG.tail()"
   ]
  },
  {
   "cell_type": "code",
   "execution_count": 4,
   "metadata": {},
   "outputs": [
    {
     "data": {
      "text/plain": [
       "<AxesSubplot:xlabel='Date'>"
      ]
     },
     "execution_count": 4,
     "metadata": {},
     "output_type": "execute_result"
    },
    {
     "data": {
      "image/png": "[encoded data removed]",
      "text/plain": [
       "<Figure size 432x288 with 1 Axes>"
      ]
     },
     "metadata": {
      "needs_background": "light"
     },
     "output_type": "display_data"
    }
   ],
   "source": [
    "SAMSUNG['Close'].plot()"
   ]
  },
  {
   "cell_type": "code",
   "execution_count": 5,
   "metadata": {},
   "outputs": [],
   "source": [
    "SAMSUNG.to_csv(\"SAMSUNG.csv\")"
   ]
  },
  {
   "cell_type": "markdown",
   "metadata": {},
   "source": [
    "## 일반 함수화"
   ]
  },
  {
   "cell_type": "code",
   "execution_count": 6,
   "metadata": {},
   "outputs": [],
   "source": [
    "def get_stock_price(country, ticker):\n",
    "    if country == \"KR\":\n",
    "        df = data_reader.DataReader(ticker + \".KS\", data_source=\"yahoo\")\n",
    "    elif country == \"US\":\n",
    "        df = data_reader.DataReader(ticker, data_source=\"yahoo\")\n",
    "    return df"
   ]
  },
  {
   "cell_type": "code",
   "execution_count": 7,
   "metadata": {},
   "outputs": [
    {
     "data": {
      "text/html": [
       "<div>\n",
       "<style scoped>\n",
       "    .dataframe tbody tr th:only-of-type {\n",
       "        vertical-align: middle;\n",
       "    }\n",
       "\n",
       "    .dataframe tbody tr th {\n",
       "        vertical-align: top;\n",
       "    }\n",
       "\n",
       "    .dataframe thead th {\n",
       "        text-align: right;\n",
       "    }\n",
       "</style>\n",
       "<table border=\"1\" class=\"dataframe\">\n",
       "  <thead>\n",
       "    <tr style=\"text-align: right;\">\n",
       "      <th></th>\n",
       "      <th>High</th>\n",
       "      <th>Low</th>\n",
       "      <th>Open</th>\n",
       "      <th>Close</th>\n",
       "      <th>Volume</th>\n",
       "      <th>Adj Close</th>\n",
       "    </tr>\n",
       "    <tr>\n",
       "      <th>Date</th>\n",
       "      <th></th>\n",
       "      <th></th>\n",
       "      <th></th>\n",
       "      <th></th>\n",
       "      <th></th>\n",
       "      <th></th>\n",
       "    </tr>\n",
       "  </thead>\n",
       "  <tbody>\n",
       "    <tr>\n",
       "      <th>2017-05-10</th>\n",
       "      <td>65.099998</td>\n",
       "      <td>63.624001</td>\n",
       "      <td>64.311996</td>\n",
       "      <td>65.043999</td>\n",
       "      <td>28708000.0</td>\n",
       "      <td>65.043999</td>\n",
       "    </tr>\n",
       "    <tr>\n",
       "      <th>2017-05-11</th>\n",
       "      <td>65.199997</td>\n",
       "      <td>63.919998</td>\n",
       "      <td>64.680000</td>\n",
       "      <td>64.620003</td>\n",
       "      <td>23769000.0</td>\n",
       "      <td>64.620003</td>\n",
       "    </tr>\n",
       "    <tr>\n",
       "      <th>2017-05-12</th>\n",
       "      <td>65.400002</td>\n",
       "      <td>64.306000</td>\n",
       "      <td>65.096001</td>\n",
       "      <td>64.961998</td>\n",
       "      <td>20608000.0</td>\n",
       "      <td>64.961998</td>\n",
       "    </tr>\n",
       "    <tr>\n",
       "      <th>2017-05-15</th>\n",
       "      <td>64.040001</td>\n",
       "      <td>62.506001</td>\n",
       "      <td>63.675999</td>\n",
       "      <td>63.175999</td>\n",
       "      <td>38110000.0</td>\n",
       "      <td>63.175999</td>\n",
       "    </tr>\n",
       "    <tr>\n",
       "      <th>2017-05-16</th>\n",
       "      <td>64.012001</td>\n",
       "      <td>63.028000</td>\n",
       "      <td>63.518002</td>\n",
       "      <td>63.402000</td>\n",
       "      <td>20762500.0</td>\n",
       "      <td>63.402000</td>\n",
       "    </tr>\n",
       "  </tbody>\n",
       "</table>\n",
       "</div>"
      ],
      "text/plain": [
       "                 High        Low       Open      Close      Volume  Adj Close\n",
       "Date                                                                         \n",
       "2017-05-10  65.099998  63.624001  64.311996  65.043999  28708000.0  65.043999\n",
       "2017-05-11  65.199997  63.919998  64.680000  64.620003  23769000.0  64.620003\n",
       "2017-05-12  65.400002  64.306000  65.096001  64.961998  20608000.0  64.961998\n",
       "2017-05-15  64.040001  62.506001  63.675999  63.175999  38110000.0  63.175999\n",
       "2017-05-16  64.012001  63.028000  63.518002  63.402000  20762500.0  63.402000"
      ]
     },
     "execution_count": 7,
     "metadata": {},
     "output_type": "execute_result"
    }
   ],
   "source": [
    "df = get_stock_price(\"US\", \"TSLA\")\n",
    "df.head()"
   ]
  },
  {
   "cell_type": "code",
   "execution_count": 8,
   "metadata": {},
   "outputs": [
    {
     "data": {
      "text/plain": [
       "<AxesSubplot:xlabel='Date'>"
      ]
     },
     "execution_count": 8,
     "metadata": {},
     "output_type": "execute_result"
    },
    {
     "data": {
      "image/png": "[encoded data removed]",
      "text/plain": [
       "<Figure size 432x288 with 1 Axes>"
      ]
     },
     "metadata": {
      "needs_background": "light"
     },
     "output_type": "display_data"
    }
   ],
   "source": [
    "df['Close'].plot()"
   ]
  },
  {
   "cell_type": "code",
   "execution_count": 9,
   "metadata": {},
   "outputs": [
    {
     "data": {
      "text/html": [
       "<div>\n",
       "<style scoped>\n",
       "    .dataframe tbody tr th:only-of-type {\n",
       "        vertical-align: middle;\n",
       "    }\n",
       "\n",
       "    .dataframe tbody tr th {\n",
       "        vertical-align: top;\n",
       "    }\n",
       "\n",
       "    .dataframe thead th {\n",
       "        text-align: right;\n",
       "    }\n",
       "</style>\n",
       "<table border=\"1\" class=\"dataframe\">\n",
       "  <thead>\n",
       "    <tr style=\"text-align: right;\">\n",
       "      <th></th>\n",
       "      <th>High</th>\n",
       "      <th>Low</th>\n",
       "      <th>Open</th>\n",
       "      <th>Close</th>\n",
       "      <th>Volume</th>\n",
       "      <th>Adj Close</th>\n",
       "    </tr>\n",
       "    <tr>\n",
       "      <th>Date</th>\n",
       "      <th></th>\n",
       "      <th></th>\n",
       "      <th></th>\n",
       "      <th></th>\n",
       "      <th></th>\n",
       "      <th></th>\n",
       "    </tr>\n",
       "  </thead>\n",
       "  <tbody>\n",
       "    <tr>\n",
       "      <th>2017-05-11</th>\n",
       "      <td>273500.0</td>\n",
       "      <td>269000.0</td>\n",
       "      <td>269000.0</td>\n",
       "      <td>270500.0</td>\n",
       "      <td>302914.0</td>\n",
       "      <td>224159.890625</td>\n",
       "    </tr>\n",
       "    <tr>\n",
       "      <th>2017-05-12</th>\n",
       "      <td>273500.0</td>\n",
       "      <td>270500.0</td>\n",
       "      <td>271500.0</td>\n",
       "      <td>272500.0</td>\n",
       "      <td>240894.0</td>\n",
       "      <td>225817.296875</td>\n",
       "    </tr>\n",
       "    <tr>\n",
       "      <th>2017-05-15</th>\n",
       "      <td>273000.0</td>\n",
       "      <td>268500.0</td>\n",
       "      <td>272500.0</td>\n",
       "      <td>271000.0</td>\n",
       "      <td>212739.0</td>\n",
       "      <td>224574.187500</td>\n",
       "    </tr>\n",
       "    <tr>\n",
       "      <th>2017-05-16</th>\n",
       "      <td>273500.0</td>\n",
       "      <td>269000.0</td>\n",
       "      <td>273000.0</td>\n",
       "      <td>273000.0</td>\n",
       "      <td>224169.0</td>\n",
       "      <td>226231.609375</td>\n",
       "    </tr>\n",
       "    <tr>\n",
       "      <th>2017-05-17</th>\n",
       "      <td>272500.0</td>\n",
       "      <td>268000.0</td>\n",
       "      <td>272000.0</td>\n",
       "      <td>270500.0</td>\n",
       "      <td>253721.0</td>\n",
       "      <td>224159.890625</td>\n",
       "    </tr>\n",
       "  </tbody>\n",
       "</table>\n",
       "</div>"
      ],
      "text/plain": [
       "                High       Low      Open     Close    Volume      Adj Close\n",
       "Date                                                                       \n",
       "2017-05-11  273500.0  269000.0  269000.0  270500.0  302914.0  224159.890625\n",
       "2017-05-12  273500.0  270500.0  271500.0  272500.0  240894.0  225817.296875\n",
       "2017-05-15  273000.0  268500.0  272500.0  271000.0  212739.0  224574.187500\n",
       "2017-05-16  273500.0  269000.0  273000.0  273000.0  224169.0  226231.609375\n",
       "2017-05-17  272500.0  268000.0  272000.0  270500.0  253721.0  224159.890625"
      ]
     },
     "execution_count": 9,
     "metadata": {},
     "output_type": "execute_result"
    }
   ],
   "source": [
    "df = get_stock_price(\"KR\", \"005490\") #포항제철\n",
    "df.head()"
   ]
  },
  {
   "cell_type": "markdown",
   "metadata": {},
   "source": [
    "## 여러 주식 종목의 가격 비교"
   ]
  },
  {
   "cell_type": "code",
   "execution_count": 10,
   "metadata": {},
   "outputs": [],
   "source": [
    "tesla = get_stock_price(\"US\", \"TSLA\")\n",
    "ford = get_stock_price(\"US\", \"FORD\")\n",
    "apple = get_stock_price(\"US\", \"AAPL\")\n",
    "google = get_stock_price(\"US\", \"GOOGL\")\n",
    "sec = get_stock_price(\"KR\", \"005930\")"
   ]
  },
  {
   "cell_type": "markdown",
   "metadata": {},
   "source": [
    "### Normalized Price\n",
    "\n",
    "- 시초가를 1 로 맞추어 놓고 변화된 상대 가격 비교"
   ]
  },
  {
   "cell_type": "code",
   "execution_count": 11,
   "metadata": {},
   "outputs": [],
   "source": [
    "tesla['normed Close'] = tesla['Close']/tesla['Close'][0]\n",
    "ford['normed Close'] = ford['Close']/ford['Close'][0]\n",
    "apple['normed Close'] = apple['Close']/apple['Close'][0]\n",
    "google['normed Close'] = google['Close']/google['Close'][0]\n",
    "sec['normed Close'] = sec['Close']/sec['Close'][0]"
   ]
  },
  {
   "cell_type": "code",
   "execution_count": 12,
   "metadata": {},
   "outputs": [
    {
     "data": {
      "text/plain": [
       "<matplotlib.legend.Legend at 0x26d950396d0>"
      ]
     },
     "execution_count": 12,
     "metadata": {},
     "output_type": "execute_result"
    },
    {
     "data": {
      "image/png": "[encoded data removed]",
      "text/plain": [
       "<Figure size 720x720 with 1 Axes>"
      ]
     },
     "metadata": {
      "needs_background": "light"
     },
     "output_type": "display_data"
    }
   ],
   "source": [
    "plt.figure(figsize=(10, 10))\n",
    "tesla['normed Close'].plot(label='TESLA')\n",
    "ford['normed Close'].plot(label='FORD')\n",
    "apple['normed Close'].plot(label='APPLE')\n",
    "google['normed Close'].plot(label='GOOGLE')\n",
    "sec['normed Close'].plot(label='SEC')\n",
    "plt.legend()"
   ]
  },
  {
   "cell_type": "markdown",
   "metadata": {},
   "source": [
    "<div>\n",
    "\n",
    "\n",
    "\n",
    "\n",
    "\n",
    "\n",
    "\n",
    "\n",
    "\n",
    "\n",
    "\n",
    "</div>"
   ]
  },
  {
   "cell_type": "markdown",
   "metadata": {},
   "source": [
    "&nbsp;<br>\n",
    "&nbsp;<br>\n",
    "&nbsp;<br>\n",
    "&nbsp;<br>\n",
    "&nbsp;<br>\n",
    "&nbsp;<br>\n",
    "&nbsp;<br>\n",
    "&nbsp;<br>\n",
    "&nbsp;<br>\n",
    "&nbsp;<br>\n",
    "&nbsp;<br>"
   ]
  },
  {
   "cell_type": "markdown",
   "metadata": {},
   "source": [
    "# Capstone Project 3 - Email Log Alarm"
   ]
  },
  {
   "cell_type": "code",
   "execution_count": 1,
   "metadata": {},
   "outputs": [
    {
     "data": {
      "text/plain": [
       "('2022-05-10', 18, 12)"
      ]
     },
     "execution_count": 1,
     "metadata": {},
     "output_type": "execute_result"
    }
   ],
   "source": [
    "import datetime\n",
    "import re\n",
    "import pandas as pd\n",
    "import time\n",
    "\n",
    "now = datetime.datetime.now()\n",
    "now.strftime('%Y-%m-%d'), now.hour, now.minute"
   ]
  },
  {
   "cell_type": "code",
   "execution_count": 34,
   "metadata": {},
   "outputs": [],
   "source": [
    "def send_email(msg):\n",
    "    import smtplib, ssl\n",
    "    from email.mime.text import MIMEText\n",
    "\n",
    "    port = 465  # For SSL\n",
    "    smtp_server = \"smtp.gmail.com\"\n",
    "    sender_email = \"ironmanciti@gmail.com\"  # Enter your address\n",
    "    receiver_email = \"trimurti@naver.com\"  # Enter receiver address\n",
    "    with open(\"password.txt\", \"r\") as pswd:\n",
    "        password = pswd.read()\n",
    "\n",
    "\n",
    "    msg = MIMEText('로그에서 문제가 감지되었습니다 --> ' + msg)\n",
    "    msg['Subject'] = '문제 발생'\n",
    "    msg['From'] = receiver_email\n",
    "    msg['To'] = receiver_email\n",
    "\n",
    "    context = ssl.create_default_context()\n",
    "    with smtplib.SMTP_SSL(smtp_server, port, context=context) as server:\n",
    "        server.login(sender_email, password)\n",
    "        server.sendmail(sender_email, receiver_email, msg.as_string())   \n",
    "        server.quit()"
   ]
  },
  {
   "cell_type": "markdown",
   "metadata": {},
   "source": [
    "### 주기적 bitcoin price notice"
   ]
  },
  {
   "cell_type": "code",
   "execution_count": 2,
   "metadata": {},
   "outputs": [],
   "source": [
    "def bitcoin_price():   \n",
    "    from urllib.request import Request, urlopen\n",
    "    from bs4 import BeautifulSoup\n",
    "    URL = \"https://kr.investing.com/crypto/bitcoin/\"\n",
    "    hdr = {'User-Agent': 'Mozilla/5.0'}\n",
    "    #비트코인 site 접속\n",
    "    req = Request(URL, headers=hdr)\n",
    "    page = urlopen(req)\n",
    "    #웹페이지 파싱\n",
    "    html = BeautifulSoup(page, \"html.parser\")\n",
    "    found = html.find(class_=\"newInput inputTextBox alertValue\")\n",
    "    found = re.search(\"[0-9,.]+\", str(found))\n",
    "    price = found.group()\n",
    "    return price"
   ]
  },
  {
   "cell_type": "code",
   "execution_count": 3,
   "metadata": {},
   "outputs": [
    {
     "data": {
      "text/plain": [
       "'31,831.4'"
      ]
     },
     "execution_count": 3,
     "metadata": {},
     "output_type": "execute_result"
    }
   ],
   "source": [
    "bitcoin_price()"
   ]
  },
  {
   "cell_type": "code",
   "execution_count": 4,
   "metadata": {},
   "outputs": [
    {
     "name": "stdout",
     "output_type": "stream",
     "text": [
      "성공적으로 메일 발송\n"
     ]
    }
   ],
   "source": [
    "from email_sender import send_email\n",
    "\n",
    "subject = 'bitcoin 가격'\n",
    "body = f'현재 bitcoin 가격은 {bitcoin_price()} 입니다.'\n",
    "\n",
    "send_email(subject, body)"
   ]
  },
  {
   "cell_type": "code",
   "execution_count": 7,
   "metadata": {},
   "outputs": [],
   "source": [
    "def log_check(ymd, hour, minute):\n",
    "    f = open('emailbox-short.txt', 'r')\n",
    "\n",
    "    for line in f:\n",
    "        result = re.search('\\d \\d\\d:\\d\\d:\\d\\d \\d{4}|\\d+ \\w+ \\d{4} \\d\\d:\\d\\d:\\d\\d', line)\n",
    "        if result:\n",
    "            str_time = result.group()\n",
    "            log_time = pd.to_datetime(str_time)\n",
    "            if log_time.strftime('%Y-%m-%d') == ymd and \\\n",
    "               log_time.hour == hour and \\\n",
    "               log_time.minute == minute:\n",
    "                subject = \"침입 발견 warning !!\"\n",
    "                body = str(log_time) + \"\\n\" + \"해당 일자의 log 가 검출되었습니다.\"\n",
    "                print(\"email sent...\", subject)\n",
    "                send_email(subject, body)\n",
    "                break"
   ]
  },
  {
   "cell_type": "code",
   "execution_count": 8,
   "metadata": {},
   "outputs": [
    {
     "name": "stdout",
     "output_type": "stream",
     "text": [
      "log checked at  2008-01-04 11:11:03\n",
      "email sent... 침입 발견 warning !!\n",
      "성공적으로 메일 발송\n",
      "log checked at  2008-01-04 11:11:03\n",
      "email sent... 침입 발견 warning !!\n",
      "성공적으로 메일 발송\n",
      "log checked at  2008-01-04 11:11:03\n",
      "email sent... 침입 발견 warning !!\n",
      "성공적으로 메일 발송\n",
      "log checked at  2008-01-04 11:11:03\n",
      "email sent... 침입 발견 warning !!\n",
      "성공적으로 메일 발송\n"
     ]
    }
   ],
   "source": [
    "i = 1\n",
    "while True:\n",
    "    if i > 3:\n",
    "        break\n",
    "    now = pd.to_datetime(\"2008-01-04 11:11:03\")\n",
    "    ymd = now.strftime('%Y-%m-%d')\n",
    "    hour = now.hour\n",
    "    minute = now.minute\n",
    "    print(\"log checked at \", now)\n",
    "    log_check(ymd, hour, minute)\n",
    "    time.sleep(5)\n",
    "    i += 1"
   ]
  },
  {
   "cell_type": "markdown",
   "metadata": {},
   "source": [
    "<div>\n",
    "\n",
    "\n",
    "\n",
    "\n",
    "\n",
    "\n",
    "\n",
    "\n",
    "\n",
    "\n",
    "\n",
    "</div>"
   ]
  },
  {
   "cell_type": "markdown",
   "metadata": {},
   "source": [
    "&nbsp;<br>\n",
    "&nbsp;<br>\n",
    "&nbsp;<br>\n",
    "&nbsp;<br>\n",
    "&nbsp;<br>\n",
    "&nbsp;<br>\n",
    "&nbsp;<br>\n",
    "&nbsp;<br>\n",
    "&nbsp;<br>\n",
    "&nbsp;<br>\n",
    "&nbsp;<br>"
   ]
  }
 ],
 "metadata": {
  "kernelspec": {
   "display_name": "Python 3 (ipykernel)",
   "language": "python",
   "name": "python3"
  },
  "language_info": {
   "codemirror_mode": {
    "name": "ipython",
    "version": 3
   },
   "file_extension": ".py",
   "mimetype": "text/x-python",
   "name": "python",
   "nbconvert_exporter": "python",
   "pygments_lexer": "ipython3",
   "version": "3.8.12"
  }
 },
 "nbformat": 4,
 "nbformat_minor": 2
}
