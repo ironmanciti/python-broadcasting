{
 "cells": [
  {
   "cell_type": "markdown",
   "metadata": {},
   "source": [
    "# 19. 클라스(Class)\n",
    "\n",
    "## 클라스와 메소드 (Class 와 Method)\n",
    "\n",
    "### Python 의 class 와 method 는 C++, Java 등의 객체지향 프로그래밍의 개념과 동일\n",
    "\n",
    "### 객체지향개발(OOP - Object Oriented Programming) 4가지 특성\n",
    "- 객체지향개발(Object Oriented Programming)의 특성은 크게 추상화, 캡슐화, 상속성, 다형성이 있다.\n",
    "\n",
    "#### 1. 추상화(Abstraciton)\n",
    "- 공통의 속성이나 기능을 묶어 이름을 붙이는 것\n",
    "- OOP 에서 클래스를 정의하는 것을 추상화라고 할 수 있다.\n",
    "\n",
    "#### 2. 은닉화 (Encapsulation)\n",
    "- 변수와 함수를 하나로 묶어서 외부에서의 접근을 막고, 함수를 통해서만 접근 가능하도록 하는 것\n",
    "\n",
    "#### 3. 상속 (Inheritance)\n",
    "- 상위 개념의 특징과 메소드를 하위 개념이 물려 받아 재사용  \n",
    "\n",
    "#### 4. 다형성 (Polymorphism)\n",
    "- 부모 클래스로부터 물려받은 가상 함수를 자식 클래스 내에서 오버라이딩 하여 사용하는 것\n",
    "\n",
    "### Python 에서는 모든 것을 object 라고 부름\n",
    "    data (string, integer, float), function, built-in function\n",
    "    \n",
    "### Python 에서 모든 object 는 특정 class 에 속함\n",
    "\n",
    "### class 란 객체 (object) 를 정의하는 틀 혹은 설계도와 같은 의미\n",
    "\n",
    "- Class : 속성(attribute) 과 method 로 구성\n",
    "    \n",
    "    class Classname:\n",
    "        def __init__(self, *args):\n",
    "            self.변수명 (속성 정의)\n",
    "            \n",
    "        def methods(self, *args):\n",
    "            메소드 정의\n",
    "       \n",
    "- Constructor (생성자)  : __init__()  \n",
    "\n",
    "\n",
    "    class 의 instance 생성 시 자동으로 호출되어 object 를 초기화 하는 method\n",
    "    \n",
    "    \n",
    "            \n",
    "- Inheritance (상속)\n",
    "\n",
    "    class Subclass(superclass):\n",
    "    \n",
    "        \n",
    "- Encapsulation (은닉화)  \n",
    "\n",
    "    self._변수명"
   ]
  },
  {
   "cell_type": "markdown",
   "metadata": {},
   "source": [
    "### Class example"
   ]
  },
  {
   "cell_type": "markdown",
   "metadata": {},
   "source": [
    "### class 변수와 instance 변수"
   ]
  },
  {
   "cell_type": "markdown",
   "metadata": {},
   "source": [
    "### Inheritance (상속)"
   ]
  },
  {
   "cell_type": "markdown",
   "metadata": {},
   "source": [
    "## 다형성 (polymorphism) 구현\n",
    "\n",
    "**super()**\n",
    "\n",
    "- 자식클래스에서 부모클래스의 내용을 사용하고 싶은 경우\n",
    "- super().부모클래스내용"
   ]
  },
  {
   "cell_type": "markdown",
   "metadata": {},
   "source": [
    "## Class 내의 method 종류\n",
    "\n",
    "### instance method \n",
    "    - 인스턴스를 첫번째 인자로 받음\n",
    "    - 관습적으로 self 로 표시\n",
    "\n",
    "\n",
    "### class method \n",
    "    - 클래스를 첫번째 인자로 받음  \n",
    "    - 관습적으로 cls  로 표시\n",
    "    - 모든 인스턴스가 공유하는 클래스 변수와 같은 데이터를 생성, 변경 또는 참조하기 위한 메소드\n",
    "    \n",
    "    \n",
    "### static method\n",
    "    - 첫번째 인자(self) 자동 생성 되지 않음 - class 내의 일반 함수  \n",
    "    - class 내의 utility 성격의 method 로 사용  \n",
    "    - class, instance 에서 모두 접근 가능 "
   ]
  }
 ],
 "metadata": {
  "kernelspec": {
   "display_name": "Python 3 (ipykernel)",
   "language": "python",
   "name": "python3"
  },
  "language_info": {
   "codemirror_mode": {
    "name": "ipython",
    "version": 3
   },
   "file_extension": ".py",
   "mimetype": "text/x-python",
   "name": "python",
   "nbconvert_exporter": "python",
   "pygments_lexer": "ipython3",
   "version": "3.8.12"
  }
 },
 "nbformat": 4,
 "nbformat_minor": 2
}
