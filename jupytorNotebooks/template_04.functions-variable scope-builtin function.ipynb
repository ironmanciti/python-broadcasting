{
 "cells": [
  {
   "cell_type": "markdown",
   "metadata": {},
   "source": [
    "# 4. 함수(function)\n",
    "\n",
    "## 함수의 정의 및 호출\n",
    "\n",
    "**함수는 프로그램의 기능을 작은 task 단위로 나누어 재사용 가능한 독립적 형태로 나눈 것**\n",
    "\n",
    "**함수는 결과값(return value)을 반환하는 함수와 결과값을 반환하지 않는 함수로 구분된다.**\n",
    "\n",
    "    - 결과값을 반환하지 않는 파이썬 함수의 예 : print(&nbsp;)\n",
    "    - 결과값을 반환하는 파이썬 함수의 예 : type(&nbsp;)\n",
    "\n",
    "### 함수의 작성 방법:\n",
    "\n",
    "**1. def keyword 로 시작한다.**\n",
    "\n",
    "\n",
    "**2. 함수의 이름은 변수의 이름과 작성 규칙이 동일하다.**\n",
    "\n",
    "        문자와 숫자, _ (underscore) 로 구성되며, 문자 (a~z, A~Z) 혹은 _ (underscore) 로만 시작 가능.  \n",
    "        \n",
    "**3. 함수 이름 다음에 ( ) 로 둘러싸여진 인수 (parameter, argument) 전달 가능**\n",
    "\n",
    "**4. 들여쓰기 (indentation) 에 의해 함수의 body 임을 표시한다.**\n",
    " \n",
    "**5. Python 이 기본적으로 제공하는 함수를 내장함수 (built-in function) 이라고 한다.**\n",
    "\n",
    "    print(), sum(), abs(), help(), str(), round(), type() 등 약 70 가지"
   ]
  },
  {
   "cell_type": "markdown",
   "metadata": {},
   "source": [
    "## Scope of Variable (변수 영역)\n",
    "\n",
    "#### variable 에는 global variable (전역변수) 과 local variable (지역변수) 의 두가지 종류가 있음\n",
    "\n",
    "#### global variable - 함수의 바깥에 정의하고 프로그램 전체에서 접근 가능\n",
    "#### local variable - 함수의 안쪽에 정의하고 함수 내에서만 접근 가능\n",
    "#### gobal variable 과 local variable 이 같은 이름을 가질 경우는 local variable 이 우선함\n",
    "\n",
    "#### 함수의 영역(Scope of Function) 도 변수의 영역과 동일함."
   ]
  },
  {
   "cell_type": "markdown",
   "metadata": {},
   "source": [
    "### 전역변수를 함수 내에서 update\n",
    "\n",
    "- not recommendable  \n",
    "- global keyword 사용"
   ]
  },
  {
   "cell_type": "markdown",
   "metadata": {},
   "source": [
    "## Python 의 익명 함수 lambda\n",
    "\n",
    "- Python 의 함수 생성 방법은 def 와 lambda 두 가지가 있다.\n",
    "- lambda 는 익명 (anonymous) 함수 이다.\n",
    "- 한번 사용할 간단한 함수인 경우 사용"
   ]
  },
  {
   "cell_type": "markdown",
   "metadata": {},
   "source": [
    "### lambda 를 변수에 assign"
   ]
  },
  {
   "cell_type": "markdown",
   "metadata": {},
   "source": [
    "## 연습문제"
   ]
  },
  {
   "cell_type": "markdown",
   "metadata": {},
   "source": [
    "다음 함수가 수행된 후 print 되는 값은 ?\n",
    "\n",
    "    def f(x):\n",
    "        return x + 1, x * x\n",
    "\n",
    "    x, y = f(3)\n",
    "    print(x, y)"
   ]
  }
 ],
 "metadata": {
  "kernelspec": {
   "display_name": "Python 3",
   "language": "python",
   "name": "python3"
  },
  "language_info": {
   "codemirror_mode": {
    "name": "ipython",
    "version": 3
   },
   "file_extension": ".py",
   "mimetype": "text/x-python",
   "name": "python",
   "nbconvert_exporter": "python",
   "pygments_lexer": "ipython3",
   "version": "3.7.10"
  }
 },
 "nbformat": 4,
 "nbformat_minor": 2
}
